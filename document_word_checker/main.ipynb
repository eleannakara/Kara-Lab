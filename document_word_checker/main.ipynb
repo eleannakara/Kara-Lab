{
 "cells": [
  {
   "cell_type": "code",
   "execution_count": 35,
   "metadata": {},
   "outputs": [],
   "source": [
    "import json\n",
    "from spire.doc import *\n",
    "from spire.doc.common import *"
   ]
  },
  {
   "cell_type": "code",
   "execution_count": 36,
   "metadata": {},
   "outputs": [],
   "source": [
    "input_file = \"text.docx\"\n",
    "output_file = \"new_text.docx\""
   ]
  },
  {
   "cell_type": "code",
   "execution_count": 37,
   "metadata": {},
   "outputs": [],
   "source": [
    "with open('list.txt', 'r') as file:\n",
    "    # Read the contents of the file\n",
    "    data = file.read()\n",
    "data = data.splitlines()\n",
    "document = Document()\n",
    "document.LoadFromFile(input_file)\n",
    "font_color = Color.get_Red()\n",
    "for text in data:\n",
    "    text_selections = document.FindAllString(text, False, True)\n",
    "    for selection in text_selections:\n",
    "        text_range = selection.GetAsOneRange()\n",
    "        text_range.CharacterFormat.TextColor = font_color\n",
    "document.SaveToFile(output_file)\n",
    "document.Close()\n"
   ]
  }
 ],
 "metadata": {
  "kernelspec": {
   "display_name": "Python 3",
   "language": "python",
   "name": "python3"
  },
  "language_info": {
   "codemirror_mode": {
    "name": "ipython",
    "version": 3
   },
   "file_extension": ".py",
   "mimetype": "text/x-python",
   "name": "python",
   "nbconvert_exporter": "python",
   "pygments_lexer": "ipython3",
   "version": "3.12.8"
  }
 },
 "nbformat": 4,
 "nbformat_minor": 2
}
