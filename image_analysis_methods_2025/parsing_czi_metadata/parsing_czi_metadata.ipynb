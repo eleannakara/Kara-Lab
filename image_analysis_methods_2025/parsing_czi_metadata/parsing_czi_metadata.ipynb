{
 "cells": [
  {
   "cell_type": "markdown",
   "metadata": {},
   "source": [
    "Parse CZI file metadata as XML Tree"
   ]
  },
  {
   "cell_type": "code",
   "execution_count": 2,
   "metadata": {},
   "outputs": [
    {
     "name": "stdout",
     "output_type": "stream",
     "text": [
      "[274.93751989862915, 161.8981397535626, 35.82531369510575, 40.087299808981626]\n"
     ]
    }
   ],
   "source": [
    "import xml.etree.ElementTree as ET\n",
    "import czifile\n",
    "\n",
    "file_path = 'images/Dox_FRAP_24.czi'\n",
    "\n",
    "def parse_graphic_annotation_czi(file_path):\n",
    "    '''\n",
    "    parse_graphic_annotation_czi(file_path)\n",
    "    Take in a file path to a czi file\n",
    "    Uses the package cziFile to read in czi file and then parses metadata xml tree to find the first graphic annotation.\n",
    "    Returns the data for the annotation's location as a tuple of lists\n",
    "    '''\n",
    "    czi2 = czifile.CziFile(file_path)\n",
    "    # pull out metadata xml tree as a string\n",
    "    xml_mdata = czi2.metadata()\n",
    "    # convert to an xml tree object\n",
    "    root = ET.fromstring(xml_mdata)\n",
    "    # get the first location of graphic annotations and the list of elements\n",
    "    ann_layer = root.find(\".//*[@Name='Annotation']\")\n",
    "    elems = ann_layer.find(\"Elements\")\n",
    "\n",
    "    # check if the annotation is a circle or an ellipse and locate annotation\n",
    "    # This will favor whichever annotation is listed last, which should be ok since their is only one\n",
    "    ellipse = True\n",
    "    for child in elems.findall(\"*\"):\n",
    "        if child.tag == \"Circle\":\n",
    "            ellipse = False\n",
    "            elem = child\n",
    "        elif child.tag == \"Ellipse\":\n",
    "            ellipse = True\n",
    "            elem = child\n",
    "\n",
    "    # organize location information into a list\n",
    "    geom_data = []\n",
    "    geom_name = [] # stores the names for each number\n",
    "    # pull out location information from element\n",
    "    elem_geom = elem.find(\"Geometry\")\n",
    "    count = 0\n",
    "    for child in elem_geom.findall(\"*\"):\n",
    "        # if circle, grab first four children\n",
    "        if (ellipse and count < 4):\n",
    "            geom_data.append(float(child.text))\n",
    "            geom_name.append(child.tag)\n",
    "        elif (count < 3): # if it is ellipse, grab first four children\n",
    "            geom_data.append(float(child.text))\n",
    "            geom_name.append(child.tag)\n",
    "        count+=1\n",
    "    # return a tuple of lists\n",
    "    return (geom_data, geom_name)\n",
    "\n",
    "parsed_annotations = parse_graphic_annotation_czi(file_path=file_path)\n",
    "print(parsed_annotations[0])"
   ]
  }
 ],
 "metadata": {
  "kernelspec": {
   "display_name": "Python 3",
   "language": "python",
   "name": "python3"
  },
  "language_info": {
   "codemirror_mode": {
    "name": "ipython",
    "version": 3
   },
   "file_extension": ".py",
   "mimetype": "text/x-python",
   "name": "python",
   "nbconvert_exporter": "python",
   "pygments_lexer": "ipython3",
   "version": "3.13.5"
  }
 },
 "nbformat": 4,
 "nbformat_minor": 2
}
