{
 "cells": [
  {
   "cell_type": "code",
   "execution_count": 15,
   "id": "c26b349c",
   "metadata": {},
   "outputs": [],
   "source": [
    "import os"
   ]
  },
  {
   "cell_type": "code",
   "execution_count": 16,
   "id": "1742b238",
   "metadata": {},
   "outputs": [],
   "source": [
    "def rename_remove_test_set(folder_path):\n",
    "    for filename in os.listdir(folder_path):\n",
    "        old_path = os.path.join(folder_path, filename)\n",
    "\n",
    "        if not os.path.isfile(old_path):\n",
    "            continue\n",
    "\n",
    "        if \"_test_set\" in filename:\n",
    "            # 🗑️ Remove \"_test_set\"\n",
    "            new_name = filename.replace(\"_test_set_new\", \"\")\n",
    "            new_path = os.path.join(folder_path, new_name)\n",
    "\n",
    "            print(f\"Renaming: {filename} -> {new_name}\")\n",
    "            os.rename(old_path, new_path)"
   ]
  },
  {
   "cell_type": "code",
   "execution_count": 17,
   "id": "eb0f1578",
   "metadata": {},
   "outputs": [
    {
     "name": "stdout",
     "output_type": "stream",
     "text": [
      "Renaming: lA_1200uM_image_01_test_set_new.png -> lA_1200uM_image_01.png\n",
      "Renaming: LA_1200uM_image_02_test_set_new.png -> LA_1200uM_image_02.png\n",
      "Renaming: LA_1200uM_image_03_test_set_new.png -> LA_1200uM_image_03.png\n",
      "Renaming: LA_150uM_image_01_test_set_new.png -> LA_150uM_image_01.png\n",
      "Renaming: LA_150uM_image_02_test_set_new.png -> LA_150uM_image_02.png\n",
      "Renaming: LA_150uM_image_03_test_set_new.png -> LA_150uM_image_03.png\n",
      "Renaming: LA_18.75uM_image_01_test_set_new.png -> LA_18.75uM_image_01.png\n",
      "Renaming: LA_18.75uM_image_02_test_set_new.png -> LA_18.75uM_image_02.png\n",
      "Renaming: LA_18.75uM_image_03_test_set_new.png -> LA_18.75uM_image_03.png\n",
      "Renaming: LA_300uM_image_01_test_set_new.png -> LA_300uM_image_01.png\n",
      "Renaming: LA_300uM_image_02_test_set_new.png -> LA_300uM_image_02.png\n",
      "Renaming: LA_300uM_image_03_test_set_new.png -> LA_300uM_image_03.png\n",
      "Renaming: LA_37.5uM_image_01_test_set_new.png -> LA_37.5uM_image_01.png\n",
      "Renaming: LA_37.5uM_image_02_test_set_new.png -> LA_37.5uM_image_02.png\n",
      "Renaming: LA_37.5uM_image_03_test_set_new.png -> LA_37.5uM_image_03.png\n",
      "Renaming: LA_600uM_image_01_test_set_new.png -> LA_600uM_image_01.png\n",
      "Renaming: LA_600uM_image_02_test_set_new.png -> LA_600uM_image_02.png\n",
      "Renaming: LA_600uM_image_03_test_set_new.png -> LA_600uM_image_03.png\n",
      "Renaming: lA_75uM_image_01_test_set_new.png -> lA_75uM_image_01.png\n",
      "Renaming: LA_75uM_image_02_test_set_new.png -> LA_75uM_image_02.png\n",
      "Renaming: LA_75uM_image_03_test_set_new.png -> LA_75uM_image_03.png\n",
      "Renaming: LA_UT_image_01_test_set_new.png -> LA_UT_image_01.png\n",
      "Renaming: LA_UT_image_02_test_set_new.png -> LA_UT_image_02.png\n",
      "Renaming: LA_UT_image_03_test_set_new.png -> LA_UT_image_03.png\n",
      "Renaming: OA_1200uM_image_01_test_set_new.png -> OA_1200uM_image_01.png\n",
      "Renaming: OA_1200uM_image_02_test_set_new.png -> OA_1200uM_image_02.png\n",
      "Renaming: OA_1200uM_image_03_test_set_new.png -> OA_1200uM_image_03.png\n",
      "Renaming: OA_150uM_image_01_test_set_new.png -> OA_150uM_image_01.png\n",
      "Renaming: OA_150uM_image_02_test_set_new.png -> OA_150uM_image_02.png\n",
      "Renaming: OA_150uM_image_03_test_set_new.png -> OA_150uM_image_03.png\n",
      "Renaming: OA_18.75uM_image_01_test_set_new.png -> OA_18.75uM_image_01.png\n",
      "Renaming: OA_18.75uM_image_02_test_set_new.png -> OA_18.75uM_image_02.png\n",
      "Renaming: OA_18.75uM_image_03_test_set_new.png -> OA_18.75uM_image_03.png\n",
      "Renaming: OA_300uM_image_01_test_set_new.png -> OA_300uM_image_01.png\n",
      "Renaming: OA_300uM_image_02_test_set_new.png -> OA_300uM_image_02.png\n",
      "Renaming: OA_300uM_image_03_test_set_new.png -> OA_300uM_image_03.png\n",
      "Renaming: OA_37.5uM_image_01_test_set_new.png -> OA_37.5uM_image_01.png\n",
      "Renaming: OA_37.5uM_image_02_test_set_new.png -> OA_37.5uM_image_02.png\n",
      "Renaming: OA_37.5uM_image_03_test_set_new.png -> OA_37.5uM_image_03.png\n",
      "Renaming: OA_600uM_image_01_test_set_new.png -> OA_600uM_image_01.png\n",
      "Renaming: OA_600uM_image_02_test_set_new.png -> OA_600uM_image_02.png\n",
      "Renaming: OA_600uM_image_03_test_set_new.png -> OA_600uM_image_03.png\n",
      "Renaming: OA_75uM_image_01_test_set_new.png -> OA_75uM_image_01.png\n",
      "Renaming: OA_75uM_image_02_test_set_new.png -> OA_75uM_image_02.png\n",
      "Renaming: OA_75uM_image_03_test_set_new.png -> OA_75uM_image_03.png\n",
      "Renaming: OA_UT_image_01_test_set_new.png -> OA_UT_image_01.png\n",
      "Renaming: OA_UT_image_02_test_set_new.png -> OA_UT_image_02.png\n",
      "Renaming: OA_UT_image_03_test_set_new.png -> OA_UT_image_03.png\n"
     ]
    }
   ],
   "source": [
    "if __name__ == \"__main__\":\n",
    "    folder = \"../images/test_images_masks\"\n",
    "    rename_remove_test_set(folder)"
   ]
  }
 ],
 "metadata": {
  "kernelspec": {
   "display_name": "base",
   "language": "python",
   "name": "python3"
  },
  "language_info": {
   "codemirror_mode": {
    "name": "ipython",
    "version": 3
   },
   "file_extension": ".py",
   "mimetype": "text/x-python",
   "name": "python",
   "nbconvert_exporter": "python",
   "pygments_lexer": "ipython3",
   "version": "3.13.2"
  }
 },
 "nbformat": 4,
 "nbformat_minor": 5
}
