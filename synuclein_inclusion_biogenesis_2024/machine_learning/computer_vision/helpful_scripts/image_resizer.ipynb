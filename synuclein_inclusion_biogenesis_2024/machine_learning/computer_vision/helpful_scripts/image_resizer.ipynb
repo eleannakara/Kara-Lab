{
 "cells": [
  {
   "cell_type": "code",
   "execution_count": 38,
   "id": "68c357b1",
   "metadata": {},
   "outputs": [],
   "source": [
    "\n",
    "import os\n",
    "import numpy as np\n",
    "import pandas as pd\n",
    "import matplotlib.pyplot as plt\n",
    "from skimage.filters import gaussian, threshold_otsu, threshold_multiotsu, sobel, threshold_sauvola\n",
    "from skimage.morphology import remove_small_objects, disk, binary_closing\n",
    "from scipy.ndimage import zoom, binary_dilation, binary_erosion, distance_transform_edt\n",
    "from skimage.measure import label, regionprops\n",
    "from skimage import io, exposure, color\n",
    "from skimage import measure, morphology\n",
    "from skimage import exposure\n",
    "from czifile import imread\n",
    "import cv2\n",
    "import re\n",
    "from matplotlib.ticker import MaxNLocator\n",
    "import imageio.v2 as imageio  # or use `from imageio import imwrite` if you prefer\n",
    "from PIL import Image"
   ]
  },
  {
   "cell_type": "code",
   "execution_count": 39,
   "id": "7580cf91",
   "metadata": {},
   "outputs": [],
   "source": [
    "def extract_image_paths(folder):\n",
    "    \"\"\"Extract all image file paths from the specified folder.\"\"\"\n",
    "    return [os.path.join(folder, f) for f in os.listdir(folder) if os.path.isfile(os.path.join(folder, f))]\n",
    "\n",
    "def read_image(image_path):\n",
    "    \"\"\"Read the LSM image from the specified path.\"\"\"\n",
    "    return imread(image_path)\n",
    "\n",
    "def extract_channels(image: np.ndarray) -> tuple[np.ndarray, np.ndarray]:\n",
    "    \"\"\"Extract green and red channels from the squeezed image (shape: [Z, C, H, W]).\"\"\" \n",
    "    return image[0], image[1]"
   ]
  },
  {
   "cell_type": "code",
   "execution_count": null,
   "id": "ee396c59",
   "metadata": {},
   "outputs": [],
   "source": [
    "def main(image_folder):\n",
    "    base_dir = os.getcwd()\n",
    "    input_dir = os.path.join(base_dir, image_folder)\n",
    "    output_dir = os.path.join(base_dir, \"images/converted_solid_inclusions\")\n",
    "    os.makedirs(output_dir, exist_ok=True)\n",
    "\n",
    "    images_to_analyze = extract_image_paths(input_dir)\n",
    "\n",
    "    for path in images_to_analyze:\n",
    "        image = read_image(path)\n",
    "        image_squeezed = np.squeeze(image)\n",
    "        green, blue = extract_channels(image_squeezed)\n",
    "\n",
    "        # Resize to target dimensions\n",
    "        resized_green = cv2.resize(green, (656, 656), interpolation=cv2.INTER_CUBIC)\n",
    "        # Save to output folder\n",
    "        filename = os.path.splitext(os.path.basename(path))[0]\n",
    "        save_path = os.path.join(output_dir, f\"{filename}_101124.png\")\n",
    "        Image.fromarray(resized_green).save(save_path)\n",
    "\n",
    "\n",
    "if __name__ == \"__main__\":\n",
    "    main(\"images/inclusion_images\")"
   ]
  }
 ],
 "metadata": {
  "kernelspec": {
   "display_name": "base",
   "language": "python",
   "name": "python3"
  },
  "language_info": {
   "codemirror_mode": {
    "name": "ipython",
    "version": 3
   },
   "file_extension": ".py",
   "mimetype": "text/x-python",
   "name": "python",
   "nbconvert_exporter": "python",
   "pygments_lexer": "ipython3",
   "version": "3.13.2"
  }
 },
 "nbformat": 4,
 "nbformat_minor": 5
}
