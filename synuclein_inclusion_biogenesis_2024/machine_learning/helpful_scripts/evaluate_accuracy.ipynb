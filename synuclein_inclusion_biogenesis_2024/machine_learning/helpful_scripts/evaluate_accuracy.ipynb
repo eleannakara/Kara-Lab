{
 "cells": [
  {
   "cell_type": "code",
   "execution_count": 1,
   "metadata": {},
   "outputs": [],
   "source": [
    "import os\n",
    "import numpy as np\n",
    "from sklearn.metrics import cohen_kappa_score, confusion_matrix\n",
    "from skimage.io import imread"
   ]
  },
  {
   "cell_type": "code",
   "execution_count": 2,
   "metadata": {},
   "outputs": [
    {
     "name": "stdout",
     "output_type": "stream",
     "text": [
      "\n",
      "Compared 186 masks:\n",
      "Average Pixel Accuracy: 0.9973\n",
      "Average Cohen’s Kappa:  0.7329\n",
      "Average Mean IoU:       0.4128\n"
     ]
    }
   ],
   "source": [
    "def compute_metrics(mask1, mask2, num_classes=3):\n",
    "    mask1_flat = mask1.flatten()\n",
    "    mask2_flat = mask2.flatten()\n",
    "\n",
    "    # Overall pixel accuracy\n",
    "    accuracy = np.mean(mask1_flat == mask2_flat)\n",
    "\n",
    "    # Cohen’s Kappa\n",
    "    kappa = cohen_kappa_score(mask1_flat, mask2_flat, labels=list(range(num_classes + 1)))\n",
    "\n",
    "    # Confusion matrix\n",
    "    cm = confusion_matrix(mask1_flat, mask2_flat, labels=list(range(num_classes + 1)))\n",
    "\n",
    "    # Mean IoU\n",
    "    intersection = np.diag(cm)\n",
    "    union = np.sum(cm, axis=0) + np.sum(cm, axis=1) - intersection\n",
    "    mean_iou = np.mean(intersection / (union + 1e-6))\n",
    "\n",
    "    return accuracy, kappa, mean_iou\n",
    "\n",
    "def compare_mask_folders(folder1, folder2, num_classes=3):\n",
    "    files = sorted(os.listdir(folder1))\n",
    "\n",
    "    total_accuracy, total_kappa, total_iou = 0, 0, 0\n",
    "    n = 0\n",
    "\n",
    "    for fname in files:\n",
    "        path1 = os.path.join(folder1, fname)\n",
    "        path2 = os.path.join(folder2, fname)\n",
    "        if not os.path.exists(path2):\n",
    "            print(f\"Skipping {fname}, not in both folders.\")\n",
    "            continue\n",
    "\n",
    "        mask1 = imread(path1)\n",
    "        mask2 = imread(path2)\n",
    "        if mask1.shape != mask2.shape:\n",
    "            print(f\"Skipping {fname}, shape mismatch.\")\n",
    "            continue\n",
    "\n",
    "        acc, kappa, iou = compute_metrics(mask1, mask2, num_classes)\n",
    "        total_accuracy += acc\n",
    "        total_kappa += kappa\n",
    "        total_iou += iou\n",
    "        n += 1\n",
    "\n",
    "    print(f\"\\nCompared {n} masks:\")\n",
    "    print(f\"Average Pixel Accuracy: {total_accuracy / n:.4f}\")\n",
    "    print(f\"Average Cohen’s Kappa:  {total_kappa / n:.4f}\")\n",
    "    print(f\"Average Mean IoU:       {total_iou / n:.4f}\")\n",
    "\n",
    "compare_mask_folders(\"masks-elyse\", \"masks-neeharika\", num_classes=3)"
   ]
  }
 ],
 "metadata": {
  "kernelspec": {
   "display_name": "base",
   "language": "python",
   "name": "python3"
  },
  "language_info": {
   "codemirror_mode": {
    "name": "ipython",
    "version": 3
   },
   "file_extension": ".py",
   "mimetype": "text/x-python",
   "name": "python",
   "nbconvert_exporter": "python",
   "pygments_lexer": "ipython3",
   "version": "3.13.2"
  }
 },
 "nbformat": 4,
 "nbformat_minor": 2
}
