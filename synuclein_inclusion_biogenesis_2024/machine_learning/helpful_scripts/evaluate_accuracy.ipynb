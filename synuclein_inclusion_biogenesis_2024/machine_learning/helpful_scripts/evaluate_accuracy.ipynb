{
 "cells": [
  {
   "cell_type": "code",
   "execution_count": 61,
   "metadata": {},
   "outputs": [],
   "source": [
    "import numpy as np\n",
    "import imageio.v2 as imageio  # or cv2\n",
    "import os\n",
    "import numpy as np \n",
    "from sklearn.metrics import cohen_kappa_score, confusion_matrix"
   ]
  },
  {
   "cell_type": "code",
   "execution_count": 62,
   "metadata": {},
   "outputs": [],
   "source": [
    "def load_mask(path):\n",
    "    \"\"\"Load a mask image and binarize it.\"\"\"\n",
    "    mask = imageio.imread(path)\n",
    "    mask = (mask > 0).astype(np.uint8)\n",
    "    return mask\n",
    "\n",
    "def evaluate_mask(pred_mask, gt_mask):\n",
    "    \"\"\"Compute accuracy, confusion matrix, and Cohen's Kappa.\"\"\"\n",
    "\n",
    "    #print(f\"Evaluating masks with shapes: pred_mask={pred_mask.shape}, gt_mask={gt_mask.shape}\")\n",
    "    assert pred_mask.shape == gt_mask.shape, \"Shapes must match!\"\n",
    "\n",
    "    # Flatten to 1D arrays for sklearn\n",
    "    y_true = gt_mask.flatten()\n",
    "    y_pred = pred_mask.flatten()\n",
    "\n",
    "    # Accuracy\n",
    "    accuracy = np.mean(y_true == y_pred)\n",
    "\n",
    "    # Confusion matrix: TN, FP, FN, TP for binary masks\n",
    "    cm = confusion_matrix(y_true, y_pred, labels=[0, 1])\n",
    "\n",
    "    # Cohen’s Kappa\n",
    "    kappa = cohen_kappa_score(y_true, y_pred)\n",
    "\n",
    "    return accuracy, cm, kappa"
   ]
  },
  {
   "cell_type": "code",
   "execution_count": 63,
   "metadata": {},
   "outputs": [
    {
     "name": "stdout",
     "output_type": "stream",
     "text": [
      "Average Cohen’s Kappa: 0.8349\n"
     ]
    }
   ],
   "source": [
    "def main(predicted_mask_dir, ground_truth_dir):\n",
    "    mask_files = [f for f in os.listdir(predicted_mask_dir) if f.endswith('.png')]\n",
    "\n",
    "    accuracies = []\n",
    "    kappas = []\n",
    "\n",
    "    for mask_file in mask_files:\n",
    "        pred_mask_path = os.path.join(predicted_mask_dir, mask_file)\n",
    "        gt_mask_path = os.path.join(ground_truth_dir, mask_file)  # assumes same filename\n",
    "\n",
    "        #print(f\"Evaluating {mask_file}...\")\n",
    "\n",
    "        if not os.path.exists(gt_mask_path):\n",
    "            print(f\"Ground truth for {mask_file} not found! Skipping.\")\n",
    "            continue\n",
    "\n",
    "        pred_mask = load_mask(pred_mask_path)\n",
    "        gt_mask = load_mask(gt_mask_path)\n",
    "\n",
    "        accuracy, cm, kappa = evaluate_mask(pred_mask, gt_mask)\n",
    "\n",
    "        accuracies.append(accuracy)\n",
    "        kappas.append(kappa)\n",
    "\n",
    "        #print(f\"Mask: {mask_file}\")\n",
    "        #print(f\"  Accuracy: {accuracy:.4f}\")\n",
    "        #print(f\"  Confusion Matrix (TN, FP, FN, TP):\\n{cm}\")\n",
    "        #print(f\"  Cohen’s Kappa: {kappa:.4f}\\n\")\n",
    "\n",
    "    # ✅ Compute averages\n",
    "    if accuracies:\n",
    "        avg_acc = np.mean(accuracies)\n",
    "        avg_kappa = np.mean(kappas)\n",
    "        #print(f\"Average Accuracy: {avg_acc:.4f}\")\n",
    "        print(f\"Average Cohen’s Kappa: {avg_kappa:.4f}\")\n",
    "    else:\n",
    "        print(\"No masks evaluated!\")\n",
    "\n",
    "if __name__ == \"__main__\":\n",
    "    predicted_mask_dir = \"../images/micro_sam_pred\"\n",
    "    ground_truth_dir = \"../images/test_images_masks\"\n",
    "    main(predicted_mask_dir, ground_truth_dir)"
   ]
  }
 ],
 "metadata": {
  "kernelspec": {
   "display_name": "base",
   "language": "python",
   "name": "python3"
  },
  "language_info": {
   "codemirror_mode": {
    "name": "ipython",
    "version": 3
   },
   "file_extension": ".py",
   "mimetype": "text/x-python",
   "name": "python",
   "nbconvert_exporter": "python",
   "pygments_lexer": "ipython3",
   "version": "3.13.2"
  }
 },
 "nbformat": 4,
 "nbformat_minor": 2
}
