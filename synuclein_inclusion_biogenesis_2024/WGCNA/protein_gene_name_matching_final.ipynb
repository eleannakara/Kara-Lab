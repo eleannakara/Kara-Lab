{
 "cells": [
  {
   "cell_type": "markdown",
   "metadata": {},
   "source": [
    "Match list of inherently disordered proteins to official gene symbols"
   ]
  },
  {
   "cell_type": "code",
   "execution_count": 8,
   "metadata": {},
   "outputs": [],
   "source": [
    "# Uniprot for protein name and gene name matching\n",
    "# youtbe tutorial: https://www.youtube.com/watch?v=AisOJydPxpE\n",
    "import pandas as pd\n",
    "import requests\n",
    "import sys\n",
    "import re\n",
    "import strsimpy\n",
    "from strsimpy.damerau import Damerau\n",
    "\n",
    "\n",
    "website_api = \"https://rest.uniprot.org/\"\n",
    "\n",
    "# helper function to download data\n",
    "def get_url(url, **kwargs):\n",
    "    response = requests.get(url, **kwargs)\n",
    "    \n",
    "    if not response.ok:\n",
    "        print(response.text)\n",
    "        response.raise_for_status()\n",
    "        sys.exit()\n",
    "    \n",
    "    return response\n"
   ]
  },
  {
   "cell_type": "code",
   "execution_count": 2,
   "metadata": {},
   "outputs": [
    {
     "name": "stdout",
     "output_type": "stream",
     "text": [
      "Number of results: 25\n",
      "\n",
      "Vary: accept,accept-encoding,x-uniprot-release,x-api-deployment-date, User-Agent\n",
      "Cache-Control: public, max-age=43200\n",
      "x-cache: miss cached\n",
      "Content-Type: application/json\n",
      "Content-Encoding: gzip\n",
      "Access-Control-Allow-Credentials: true\n",
      "Access-Control-Expose-Headers: Link, X-Total-Results, X-UniProt-Release, X-UniProt-Release-Date, X-API-Deployment-Date\n",
      "X-API-Deployment-Date: 24-July-2024\n",
      "Strict-Transport-Security: max-age=31536000; includeSubDomains\n",
      "Date: Tue, 30 Jul 2024 17:47:19 GMT\n",
      "Access-Control-Max-Age: 1728000\n",
      "X-UniProt-Release: 2024_04\n",
      "Link: <https://rest.uniprot.org/uniprotkb/search?query=%2A&cursor=1mkycb2xwxboutz8d45gm98ungtu7jgs6b01&size=25>; rel=\"next\"\n",
      "X-Total-Results: 245896766\n",
      "Transfer-Encoding: chunked\n",
      "Access-Control-Allow-Origin: *\n",
      "Accept-Ranges: bytes\n",
      "Connection: keep-alive\n",
      "Access-Control-Allow-Methods: GET, PUT, POST, DELETE, PATCH, OPTIONS\n",
      "Access-Control-Allow-Headers: DNT,Keep-Alive,User-Agent,X-Requested-With,If-Modified-Since,Cache-Control,Content-Type,Range,Authorization\n",
      "X-UniProt-Release-Date: 24-July-2024\n"
     ]
    }
   ],
   "source": [
    "# test by querying the whole database\n",
    "r = get_url(f\"{website_api}/uniprotkb/search?query=*\")\n",
    "data = r.json()\n",
    "# get the number of results in the payload\n",
    "n_results = len(data[\"results\"])\n",
    "print(f\"Number of results: {n_results}\\n\")\n",
    "\n",
    "for (key, value) in r.headers.items():\n",
    "    print(f\"{key}: {value}\")"
   ]
  },
  {
   "cell_type": "code",
   "execution_count": 4,
   "metadata": {},
   "outputs": [
    {
     "name": "stdout",
     "output_type": "stream",
     "text": [
      "24\n"
     ]
    },
    {
     "ename": "TypeError",
     "evalue": "unsupported operand type(s) for -: 'str' and 'int'",
     "output_type": "error",
     "traceback": [
      "\u001b[1;31m---------------------------------------------------------------------------\u001b[0m",
      "\u001b[1;31mTypeError\u001b[0m                                 Traceback (most recent call last)",
      "Cell \u001b[1;32mIn[4], line 15\u001b[0m\n\u001b[0;32m     13\u001b[0m \u001b[38;5;66;03m# !!! - Can run through pages here, but it seems like the search algo would handle finding the best matches to start\u001b[39;00m\n\u001b[0;32m     14\u001b[0m \u001b[38;5;28;01mif\u001b[39;00m page_total \u001b[38;5;241m!=\u001b[39m overall_total:\n\u001b[1;32m---> 15\u001b[0m     \u001b[38;5;28mprint\u001b[39m(\u001b[43moverall_total\u001b[49m\u001b[43m \u001b[49m\u001b[38;5;241;43m-\u001b[39;49m\u001b[43m \u001b[49m\u001b[43mpage_total\u001b[49m)\n",
      "\u001b[1;31mTypeError\u001b[0m: unsupported operand type(s) for -: 'str' and 'int'"
     ]
    }
   ],
   "source": [
    "# test by quereing for alpha-synuclein in homo sapiens\n",
    "syn_r = get_url(f\"{website_api}/uniprotkb/search?query=(protein_name:Alpha-synuclein) AND (organism_id:9606)\")\n",
    "syn_data = syn_r.json()\n",
    "\n",
    "\n",
    "# get the number of results on the first page\n",
    "page_total = len(syn_data['results'])\n",
    "print(page_total)\n",
    "\n",
    "# get the total number of results\n",
    "overall_total = r.headers.get('x-total-results')\n",
    "\n",
    "# !!! - Can run through pages here, but it seems like the search algo would handle finding the best matches to start\n",
    "if page_total != overall_total:\n",
    "    print(overall_total - page_total)\n"
   ]
  },
  {
   "cell_type": "code",
   "execution_count": 5,
   "metadata": {},
   "outputs": [
    {
     "name": "stdout",
     "output_type": "stream",
     "text": [
      "Entry\tEntry Name\tReviewed\tProtein names\tGene Names\tOrganism\tLength\n",
      "Q9Y6H5\tSNCAP_HUMAN\treviewed\tSynphilin-1 (Sph1) (Alpha-synuclein-interacting protein)\tSNCAIP\tHomo sapiens (Human)\t919\n",
      "P37840\tSYUA_HUMAN\treviewed\tAlpha-synuclein (Non-A beta component of AD amyloid) (Non-A4 component of amyloid precursor) (NACP)\tSNCA NACP PARK1\tHomo sapiens (Human)\t140\n",
      "Q8ND56\tLS14A_HUMAN\treviewed\tProtein LSM14 homolog A (Protein FAM61A) (Protein SCD6 homolog) (Putative alpha-synuclein-binding protein) (AlphaSNBP) (RNA-associated protein 55A) (hRAP55) (hRAP55A)\tLSM14A C19orf13 FAM61A RAP55 RAP55A\tHomo sapiens (Human)\t463\n",
      "\n"
     ]
    }
   ],
   "source": [
    "# another more complex query\n",
    "syn_r2 = get_url(f\"{website_api}/uniprotkb/search?query=(protein_name:Alpha-synuclein) AND (organism_id:9606) AND (reviewed:true)&format=tsv\")\n",
    "\n",
    "print(syn_r2.text)\n",
    "\n",
    "#syn_data2 = syn_r2.json()"
   ]
  },
  {
   "cell_type": "markdown",
   "metadata": {},
   "source": [
    "Above is testing for UniProt querying\n",
    "Below is the function and cleaning used to match gene and protein names"
   ]
  },
  {
   "cell_type": "code",
   "execution_count": 12,
   "metadata": {},
   "outputs": [],
   "source": [
    "# function to reference uniprot on protein names and then compare the results to the given name, choosing the most similar\n",
    "def protein_lookup(given_name):\n",
    "    website_api = \"https://rest.uniprot.org/\"\n",
    "\n",
    "    # helper function for querying\n",
    "    def get_url(url, **kwargs):\n",
    "        response = requests.get(url, **kwargs)\n",
    "        # if query fails, print a message\n",
    "        if not response.ok:\n",
    "            print(response.text)\n",
    "            response.raise_for_status()\n",
    "            sys.exit()\n",
    "        return response\n",
    "    \n",
    "    # query uniprot via its website API specifying protein name, homo sapien, and manually review proteins\n",
    "    query = get_url(f\"{website_api}/uniprotkb/search?query=(protein_name:{given_name}) AND (organism_id:9606) AND (reviewed:true)&format=tsv\")\n",
    "    data = query.text\n",
    "    # split the results into a list of lists by row\n",
    "    row_split = data.split('\\n')\n",
    "    data_split = [row.split('\\t') for row in row_split]\n",
    "    # remove rows that are not equal in length to the column names of results\n",
    "    data_clean = [row  for row in data_split if len(row) == len(data_split[0])]\n",
    "    # assign the first list as column names and remove it from the response\n",
    "    colnames = data_clean[0]\n",
    "    data_clean.pop(0)\n",
    "\n",
    "    df = pd.DataFrame(data=data_clean, columns=colnames)\n",
    "  \n",
    "    # if there are no results (df length 0) then clean then organize the data in the same way and fill with None\n",
    "    if len(df) == 0:\n",
    "\n",
    "        df = df.drop(['Reviewed', 'Organism'], axis = 1)\n",
    "        df = df.rename(columns={'Protein names' : 'UniProt Name'})\n",
    "        df = df[['UniProt Name', 'Gene Names', 'Entry', 'Entry Name', 'Length']]\n",
    "        # set each column as no match or zero for length\n",
    "        df.loc[0, ['UniProt Name', 'Gene Names', 'Entry', 'Entry Name']] = 'No match'\n",
    "        df.loc[0, 'Length'] = 0\n",
    "        # set distance very high to recognize later\n",
    "        df['Distance'] = 100\n",
    "        # add the given protein name to the data frame\n",
    "        df.insert(loc=0, column='Protein Name', value=given_name)\n",
    "        df.reset_index()\n",
    "\n",
    "        print(f\"No UniProt results for {given_name}.\")\n",
    "        return df\n",
    "\n",
    "    # split the protein names to just include the first entry\n",
    "    if any([\"(\" in names for names in df['Protein names']]):\n",
    "        df[['Protein names', 'Other protein names']] = df['Protein names'].str.split('(', n=1, expand=True)\n",
    "    else:\n",
    "        df['Other protein names'] = None\n",
    "    # add delimiter back onto the front of other names\n",
    "    #df['Other protein names'] = [\"(\"+names for names in df['Other protein names']]\n",
    "\n",
    "    # compute the optimal string alignment (Demerau-Levenshtein distance) between given protein name and each result\n",
    "    damerau = Damerau()\n",
    "    df['Distance'] = [damerau.distance(given_name, result__name, ) for result__name in df['Protein names']]\n",
    "\n",
    "    # take just the row of information with the lowest similarity score and set index to 0\n",
    "    most_similar = df.loc[df['Distance'] == min(df['Distance'])]\n",
    "    most_similar = most_similar.reset_index()\n",
    "    # if multiple results have the same distance, select the first\n",
    "    if len(most_similar) > 1:\n",
    "        most_similar = most_similar.head(1)\n",
    "\n",
    "    # delete reviewed, other names, and distance columns that are no longer needed\n",
    "    most_similar_clean = most_similar.drop(['Reviewed', 'Other protein names', 'Organism'], axis = 1)\n",
    "    most_similar_clean = most_similar_clean.rename(columns={'Protein names' : 'UniProt Name'})\n",
    "    # reorder columns\n",
    "    most_similar_clean = most_similar_clean[['UniProt Name', 'Gene Names', 'Entry', 'Entry Name', 'Length', 'Distance']]\n",
    "    # add column with the given name of the protein\n",
    "    most_similar_clean.insert(loc=0, column='Protein Name', value=given_name)\n",
    "    # print the distance and the two matched protein names to print as a sanity check\n",
    "    to_test_match = most_similar_clean.loc[0, 'UniProt Name']\n",
    "    to_test_distance = most_similar_clean.loc[0, 'Distance']\n",
    "    print(f\"{given_name} matched with {to_test_match} by {to_test_distance}\", end='\\n')\n",
    "\n",
    "    return most_similar_clean\n",
    "\n"
   ]
  },
  {
   "cell_type": "code",
   "execution_count": 13,
   "metadata": {},
   "outputs": [
    {
     "name": "stdout",
     "output_type": "stream",
     "text": [
      "G2/mitotic-specific cyclin-B1 matched with G2/mitotic-specific cyclin-B1 by 0.0\n"
     ]
    },
    {
     "data": {
      "text/html": [
       "<div>\n",
       "<style scoped>\n",
       "    .dataframe tbody tr th:only-of-type {\n",
       "        vertical-align: middle;\n",
       "    }\n",
       "\n",
       "    .dataframe tbody tr th {\n",
       "        vertical-align: top;\n",
       "    }\n",
       "\n",
       "    .dataframe thead th {\n",
       "        text-align: right;\n",
       "    }\n",
       "</style>\n",
       "<table border=\"1\" class=\"dataframe\">\n",
       "  <thead>\n",
       "    <tr style=\"text-align: right;\">\n",
       "      <th></th>\n",
       "      <th>Protein Name</th>\n",
       "      <th>UniProt Name</th>\n",
       "      <th>Gene Names</th>\n",
       "      <th>Entry</th>\n",
       "      <th>Entry Name</th>\n",
       "      <th>Length</th>\n",
       "      <th>Distance</th>\n",
       "    </tr>\n",
       "  </thead>\n",
       "  <tbody>\n",
       "    <tr>\n",
       "      <th>0</th>\n",
       "      <td>G2/mitotic-specific cyclin-B1</td>\n",
       "      <td>G2/mitotic-specific cyclin-B1</td>\n",
       "      <td>CCNB1 CCNB</td>\n",
       "      <td>P14635</td>\n",
       "      <td>CCNB1_HUMAN</td>\n",
       "      <td>433</td>\n",
       "      <td>0.0</td>\n",
       "    </tr>\n",
       "  </tbody>\n",
       "</table>\n",
       "</div>"
      ],
      "text/plain": [
       "                    Protein Name                   UniProt Name  Gene Names  \\\n",
       "0  G2/mitotic-specific cyclin-B1  G2/mitotic-specific cyclin-B1  CCNB1 CCNB   \n",
       "\n",
       "    Entry   Entry Name Length  Distance  \n",
       "0  P14635  CCNB1_HUMAN    433       0.0  "
      ]
     },
     "metadata": {},
     "output_type": "display_data"
    }
   ],
   "source": [
    "test_query = protein_lookup(\"G2/mitotic-specific cyclin-B1\")\n",
    "display(test_query)"
   ]
  },
  {
   "cell_type": "code",
   "execution_count": 15,
   "metadata": {},
   "outputs": [
    {
     "ename": "FileNotFoundError",
     "evalue": "[Errno 2] No such file or directory: 'C:/Users/bs1250/Box/LAB/Lab Folder/WGCNA_Ben/IDP homo sapiens final list.csv'",
     "output_type": "error",
     "traceback": [
      "\u001b[1;31m---------------------------------------------------------------------------\u001b[0m",
      "\u001b[1;31mFileNotFoundError\u001b[0m                         Traceback (most recent call last)",
      "Cell \u001b[1;32mIn[15], line 2\u001b[0m\n\u001b[0;32m      1\u001b[0m \u001b[38;5;66;03m# load the protein list csv file\u001b[39;00m\n\u001b[1;32m----> 2\u001b[0m proteins \u001b[38;5;241m=\u001b[39m \u001b[43mpd\u001b[49m\u001b[38;5;241;43m.\u001b[39;49m\u001b[43mread_csv\u001b[49m\u001b[43m(\u001b[49m\u001b[38;5;124;43m\"\u001b[39;49m\u001b[38;5;124;43mC:/Users/bs1250/Box/LAB/Lab Folder/WGCNA_Ben/IDP homo sapiens final list.csv\u001b[39;49m\u001b[38;5;124;43m\"\u001b[39;49m\u001b[43m)\u001b[49m\n\u001b[0;32m      3\u001b[0m \u001b[38;5;66;03m# remove any square brackets or parentheses from the protein names, they interrupt querying UniProt\u001b[39;00m\n\u001b[0;32m      4\u001b[0m proteins[\u001b[38;5;124m'\u001b[39m\u001b[38;5;124mname\u001b[39m\u001b[38;5;124m'\u001b[39m] \u001b[38;5;241m=\u001b[39m proteins[\u001b[38;5;124m'\u001b[39m\u001b[38;5;124mname\u001b[39m\u001b[38;5;124m'\u001b[39m]\u001b[38;5;241m.\u001b[39mstr\u001b[38;5;241m.\u001b[39mreplace(\u001b[38;5;124m'\u001b[39m\u001b[38;5;124m[\u001b[39m\u001b[38;5;124m'\u001b[39m, \u001b[38;5;124m'\u001b[39m\u001b[38;5;124m'\u001b[39m)\n",
      "File \u001b[1;32mc:\\Users\\bs1250\\AppData\\Local\\Programs\\Python\\Python312\\Lib\\site-packages\\pandas\\io\\parsers\\readers.py:1026\u001b[0m, in \u001b[0;36mread_csv\u001b[1;34m(filepath_or_buffer, sep, delimiter, header, names, index_col, usecols, dtype, engine, converters, true_values, false_values, skipinitialspace, skiprows, skipfooter, nrows, na_values, keep_default_na, na_filter, verbose, skip_blank_lines, parse_dates, infer_datetime_format, keep_date_col, date_parser, date_format, dayfirst, cache_dates, iterator, chunksize, compression, thousands, decimal, lineterminator, quotechar, quoting, doublequote, escapechar, comment, encoding, encoding_errors, dialect, on_bad_lines, delim_whitespace, low_memory, memory_map, float_precision, storage_options, dtype_backend)\u001b[0m\n\u001b[0;32m   1013\u001b[0m kwds_defaults \u001b[38;5;241m=\u001b[39m _refine_defaults_read(\n\u001b[0;32m   1014\u001b[0m     dialect,\n\u001b[0;32m   1015\u001b[0m     delimiter,\n\u001b[1;32m   (...)\u001b[0m\n\u001b[0;32m   1022\u001b[0m     dtype_backend\u001b[38;5;241m=\u001b[39mdtype_backend,\n\u001b[0;32m   1023\u001b[0m )\n\u001b[0;32m   1024\u001b[0m kwds\u001b[38;5;241m.\u001b[39mupdate(kwds_defaults)\n\u001b[1;32m-> 1026\u001b[0m \u001b[38;5;28;01mreturn\u001b[39;00m \u001b[43m_read\u001b[49m\u001b[43m(\u001b[49m\u001b[43mfilepath_or_buffer\u001b[49m\u001b[43m,\u001b[49m\u001b[43m \u001b[49m\u001b[43mkwds\u001b[49m\u001b[43m)\u001b[49m\n",
      "File \u001b[1;32mc:\\Users\\bs1250\\AppData\\Local\\Programs\\Python\\Python312\\Lib\\site-packages\\pandas\\io\\parsers\\readers.py:620\u001b[0m, in \u001b[0;36m_read\u001b[1;34m(filepath_or_buffer, kwds)\u001b[0m\n\u001b[0;32m    617\u001b[0m _validate_names(kwds\u001b[38;5;241m.\u001b[39mget(\u001b[38;5;124m\"\u001b[39m\u001b[38;5;124mnames\u001b[39m\u001b[38;5;124m\"\u001b[39m, \u001b[38;5;28;01mNone\u001b[39;00m))\n\u001b[0;32m    619\u001b[0m \u001b[38;5;66;03m# Create the parser.\u001b[39;00m\n\u001b[1;32m--> 620\u001b[0m parser \u001b[38;5;241m=\u001b[39m \u001b[43mTextFileReader\u001b[49m\u001b[43m(\u001b[49m\u001b[43mfilepath_or_buffer\u001b[49m\u001b[43m,\u001b[49m\u001b[43m \u001b[49m\u001b[38;5;241;43m*\u001b[39;49m\u001b[38;5;241;43m*\u001b[39;49m\u001b[43mkwds\u001b[49m\u001b[43m)\u001b[49m\n\u001b[0;32m    622\u001b[0m \u001b[38;5;28;01mif\u001b[39;00m chunksize \u001b[38;5;129;01mor\u001b[39;00m iterator:\n\u001b[0;32m    623\u001b[0m     \u001b[38;5;28;01mreturn\u001b[39;00m parser\n",
      "File \u001b[1;32mc:\\Users\\bs1250\\AppData\\Local\\Programs\\Python\\Python312\\Lib\\site-packages\\pandas\\io\\parsers\\readers.py:1620\u001b[0m, in \u001b[0;36mTextFileReader.__init__\u001b[1;34m(self, f, engine, **kwds)\u001b[0m\n\u001b[0;32m   1617\u001b[0m     \u001b[38;5;28mself\u001b[39m\u001b[38;5;241m.\u001b[39moptions[\u001b[38;5;124m\"\u001b[39m\u001b[38;5;124mhas_index_names\u001b[39m\u001b[38;5;124m\"\u001b[39m] \u001b[38;5;241m=\u001b[39m kwds[\u001b[38;5;124m\"\u001b[39m\u001b[38;5;124mhas_index_names\u001b[39m\u001b[38;5;124m\"\u001b[39m]\n\u001b[0;32m   1619\u001b[0m \u001b[38;5;28mself\u001b[39m\u001b[38;5;241m.\u001b[39mhandles: IOHandles \u001b[38;5;241m|\u001b[39m \u001b[38;5;28;01mNone\u001b[39;00m \u001b[38;5;241m=\u001b[39m \u001b[38;5;28;01mNone\u001b[39;00m\n\u001b[1;32m-> 1620\u001b[0m \u001b[38;5;28mself\u001b[39m\u001b[38;5;241m.\u001b[39m_engine \u001b[38;5;241m=\u001b[39m \u001b[38;5;28;43mself\u001b[39;49m\u001b[38;5;241;43m.\u001b[39;49m\u001b[43m_make_engine\u001b[49m\u001b[43m(\u001b[49m\u001b[43mf\u001b[49m\u001b[43m,\u001b[49m\u001b[43m \u001b[49m\u001b[38;5;28;43mself\u001b[39;49m\u001b[38;5;241;43m.\u001b[39;49m\u001b[43mengine\u001b[49m\u001b[43m)\u001b[49m\n",
      "File \u001b[1;32mc:\\Users\\bs1250\\AppData\\Local\\Programs\\Python\\Python312\\Lib\\site-packages\\pandas\\io\\parsers\\readers.py:1880\u001b[0m, in \u001b[0;36mTextFileReader._make_engine\u001b[1;34m(self, f, engine)\u001b[0m\n\u001b[0;32m   1878\u001b[0m     \u001b[38;5;28;01mif\u001b[39;00m \u001b[38;5;124m\"\u001b[39m\u001b[38;5;124mb\u001b[39m\u001b[38;5;124m\"\u001b[39m \u001b[38;5;129;01mnot\u001b[39;00m \u001b[38;5;129;01min\u001b[39;00m mode:\n\u001b[0;32m   1879\u001b[0m         mode \u001b[38;5;241m+\u001b[39m\u001b[38;5;241m=\u001b[39m \u001b[38;5;124m\"\u001b[39m\u001b[38;5;124mb\u001b[39m\u001b[38;5;124m\"\u001b[39m\n\u001b[1;32m-> 1880\u001b[0m \u001b[38;5;28mself\u001b[39m\u001b[38;5;241m.\u001b[39mhandles \u001b[38;5;241m=\u001b[39m \u001b[43mget_handle\u001b[49m\u001b[43m(\u001b[49m\n\u001b[0;32m   1881\u001b[0m \u001b[43m    \u001b[49m\u001b[43mf\u001b[49m\u001b[43m,\u001b[49m\n\u001b[0;32m   1882\u001b[0m \u001b[43m    \u001b[49m\u001b[43mmode\u001b[49m\u001b[43m,\u001b[49m\n\u001b[0;32m   1883\u001b[0m \u001b[43m    \u001b[49m\u001b[43mencoding\u001b[49m\u001b[38;5;241;43m=\u001b[39;49m\u001b[38;5;28;43mself\u001b[39;49m\u001b[38;5;241;43m.\u001b[39;49m\u001b[43moptions\u001b[49m\u001b[38;5;241;43m.\u001b[39;49m\u001b[43mget\u001b[49m\u001b[43m(\u001b[49m\u001b[38;5;124;43m\"\u001b[39;49m\u001b[38;5;124;43mencoding\u001b[39;49m\u001b[38;5;124;43m\"\u001b[39;49m\u001b[43m,\u001b[49m\u001b[43m \u001b[49m\u001b[38;5;28;43;01mNone\u001b[39;49;00m\u001b[43m)\u001b[49m\u001b[43m,\u001b[49m\n\u001b[0;32m   1884\u001b[0m \u001b[43m    \u001b[49m\u001b[43mcompression\u001b[49m\u001b[38;5;241;43m=\u001b[39;49m\u001b[38;5;28;43mself\u001b[39;49m\u001b[38;5;241;43m.\u001b[39;49m\u001b[43moptions\u001b[49m\u001b[38;5;241;43m.\u001b[39;49m\u001b[43mget\u001b[49m\u001b[43m(\u001b[49m\u001b[38;5;124;43m\"\u001b[39;49m\u001b[38;5;124;43mcompression\u001b[39;49m\u001b[38;5;124;43m\"\u001b[39;49m\u001b[43m,\u001b[49m\u001b[43m \u001b[49m\u001b[38;5;28;43;01mNone\u001b[39;49;00m\u001b[43m)\u001b[49m\u001b[43m,\u001b[49m\n\u001b[0;32m   1885\u001b[0m \u001b[43m    \u001b[49m\u001b[43mmemory_map\u001b[49m\u001b[38;5;241;43m=\u001b[39;49m\u001b[38;5;28;43mself\u001b[39;49m\u001b[38;5;241;43m.\u001b[39;49m\u001b[43moptions\u001b[49m\u001b[38;5;241;43m.\u001b[39;49m\u001b[43mget\u001b[49m\u001b[43m(\u001b[49m\u001b[38;5;124;43m\"\u001b[39;49m\u001b[38;5;124;43mmemory_map\u001b[39;49m\u001b[38;5;124;43m\"\u001b[39;49m\u001b[43m,\u001b[49m\u001b[43m \u001b[49m\u001b[38;5;28;43;01mFalse\u001b[39;49;00m\u001b[43m)\u001b[49m\u001b[43m,\u001b[49m\n\u001b[0;32m   1886\u001b[0m \u001b[43m    \u001b[49m\u001b[43mis_text\u001b[49m\u001b[38;5;241;43m=\u001b[39;49m\u001b[43mis_text\u001b[49m\u001b[43m,\u001b[49m\n\u001b[0;32m   1887\u001b[0m \u001b[43m    \u001b[49m\u001b[43merrors\u001b[49m\u001b[38;5;241;43m=\u001b[39;49m\u001b[38;5;28;43mself\u001b[39;49m\u001b[38;5;241;43m.\u001b[39;49m\u001b[43moptions\u001b[49m\u001b[38;5;241;43m.\u001b[39;49m\u001b[43mget\u001b[49m\u001b[43m(\u001b[49m\u001b[38;5;124;43m\"\u001b[39;49m\u001b[38;5;124;43mencoding_errors\u001b[39;49m\u001b[38;5;124;43m\"\u001b[39;49m\u001b[43m,\u001b[49m\u001b[43m \u001b[49m\u001b[38;5;124;43m\"\u001b[39;49m\u001b[38;5;124;43mstrict\u001b[39;49m\u001b[38;5;124;43m\"\u001b[39;49m\u001b[43m)\u001b[49m\u001b[43m,\u001b[49m\n\u001b[0;32m   1888\u001b[0m \u001b[43m    \u001b[49m\u001b[43mstorage_options\u001b[49m\u001b[38;5;241;43m=\u001b[39;49m\u001b[38;5;28;43mself\u001b[39;49m\u001b[38;5;241;43m.\u001b[39;49m\u001b[43moptions\u001b[49m\u001b[38;5;241;43m.\u001b[39;49m\u001b[43mget\u001b[49m\u001b[43m(\u001b[49m\u001b[38;5;124;43m\"\u001b[39;49m\u001b[38;5;124;43mstorage_options\u001b[39;49m\u001b[38;5;124;43m\"\u001b[39;49m\u001b[43m,\u001b[49m\u001b[43m \u001b[49m\u001b[38;5;28;43;01mNone\u001b[39;49;00m\u001b[43m)\u001b[49m\u001b[43m,\u001b[49m\n\u001b[0;32m   1889\u001b[0m \u001b[43m\u001b[49m\u001b[43m)\u001b[49m\n\u001b[0;32m   1890\u001b[0m \u001b[38;5;28;01massert\u001b[39;00m \u001b[38;5;28mself\u001b[39m\u001b[38;5;241m.\u001b[39mhandles \u001b[38;5;129;01mis\u001b[39;00m \u001b[38;5;129;01mnot\u001b[39;00m \u001b[38;5;28;01mNone\u001b[39;00m\n\u001b[0;32m   1891\u001b[0m f \u001b[38;5;241m=\u001b[39m \u001b[38;5;28mself\u001b[39m\u001b[38;5;241m.\u001b[39mhandles\u001b[38;5;241m.\u001b[39mhandle\n",
      "File \u001b[1;32mc:\\Users\\bs1250\\AppData\\Local\\Programs\\Python\\Python312\\Lib\\site-packages\\pandas\\io\\common.py:873\u001b[0m, in \u001b[0;36mget_handle\u001b[1;34m(path_or_buf, mode, encoding, compression, memory_map, is_text, errors, storage_options)\u001b[0m\n\u001b[0;32m    868\u001b[0m \u001b[38;5;28;01melif\u001b[39;00m \u001b[38;5;28misinstance\u001b[39m(handle, \u001b[38;5;28mstr\u001b[39m):\n\u001b[0;32m    869\u001b[0m     \u001b[38;5;66;03m# Check whether the filename is to be opened in binary mode.\u001b[39;00m\n\u001b[0;32m    870\u001b[0m     \u001b[38;5;66;03m# Binary mode does not support 'encoding' and 'newline'.\u001b[39;00m\n\u001b[0;32m    871\u001b[0m     \u001b[38;5;28;01mif\u001b[39;00m ioargs\u001b[38;5;241m.\u001b[39mencoding \u001b[38;5;129;01mand\u001b[39;00m \u001b[38;5;124m\"\u001b[39m\u001b[38;5;124mb\u001b[39m\u001b[38;5;124m\"\u001b[39m \u001b[38;5;129;01mnot\u001b[39;00m \u001b[38;5;129;01min\u001b[39;00m ioargs\u001b[38;5;241m.\u001b[39mmode:\n\u001b[0;32m    872\u001b[0m         \u001b[38;5;66;03m# Encoding\u001b[39;00m\n\u001b[1;32m--> 873\u001b[0m         handle \u001b[38;5;241m=\u001b[39m \u001b[38;5;28;43mopen\u001b[39;49m\u001b[43m(\u001b[49m\n\u001b[0;32m    874\u001b[0m \u001b[43m            \u001b[49m\u001b[43mhandle\u001b[49m\u001b[43m,\u001b[49m\n\u001b[0;32m    875\u001b[0m \u001b[43m            \u001b[49m\u001b[43mioargs\u001b[49m\u001b[38;5;241;43m.\u001b[39;49m\u001b[43mmode\u001b[49m\u001b[43m,\u001b[49m\n\u001b[0;32m    876\u001b[0m \u001b[43m            \u001b[49m\u001b[43mencoding\u001b[49m\u001b[38;5;241;43m=\u001b[39;49m\u001b[43mioargs\u001b[49m\u001b[38;5;241;43m.\u001b[39;49m\u001b[43mencoding\u001b[49m\u001b[43m,\u001b[49m\n\u001b[0;32m    877\u001b[0m \u001b[43m            \u001b[49m\u001b[43merrors\u001b[49m\u001b[38;5;241;43m=\u001b[39;49m\u001b[43merrors\u001b[49m\u001b[43m,\u001b[49m\n\u001b[0;32m    878\u001b[0m \u001b[43m            \u001b[49m\u001b[43mnewline\u001b[49m\u001b[38;5;241;43m=\u001b[39;49m\u001b[38;5;124;43m\"\u001b[39;49m\u001b[38;5;124;43m\"\u001b[39;49m\u001b[43m,\u001b[49m\n\u001b[0;32m    879\u001b[0m \u001b[43m        \u001b[49m\u001b[43m)\u001b[49m\n\u001b[0;32m    880\u001b[0m     \u001b[38;5;28;01melse\u001b[39;00m:\n\u001b[0;32m    881\u001b[0m         \u001b[38;5;66;03m# Binary mode\u001b[39;00m\n\u001b[0;32m    882\u001b[0m         handle \u001b[38;5;241m=\u001b[39m \u001b[38;5;28mopen\u001b[39m(handle, ioargs\u001b[38;5;241m.\u001b[39mmode)\n",
      "\u001b[1;31mFileNotFoundError\u001b[0m: [Errno 2] No such file or directory: 'C:/Users/bs1250/Box/LAB/Lab Folder/WGCNA_Ben/IDP homo sapiens final list.csv'"
     ]
    }
   ],
   "source": [
    "# load the protein list csv file\n",
    "proteins = pd.read_csv(\"WGCNA_gene_lists/\")\n",
    "# remove any square brackets or parentheses from the protein names, they interrupt querying UniProt\n",
    "proteins['name'] = proteins['name'].str.replace('[', '')\n",
    "proteins['name'] = proteins['name'].str.replace(']', '')\n",
    "proteins['name'] = proteins['name'].str.replace('(', '')\n",
    "proteins['name'] = proteins['name'].str.replace(')', '')\n",
    "\n",
    "#display(proteins.loc[490:495, 'name'])\n"
   ]
  },
  {
   "cell_type": "code",
   "execution_count": 14,
   "metadata": {},
   "outputs": [
    {
     "ename": "NameError",
     "evalue": "name 'proteins' is not defined",
     "output_type": "error",
     "traceback": [
      "\u001b[1;31m---------------------------------------------------------------------------\u001b[0m",
      "\u001b[1;31mNameError\u001b[0m                                 Traceback (most recent call last)",
      "Cell \u001b[1;32mIn[14], line 4\u001b[0m\n\u001b[0;32m      2\u001b[0m results_list \u001b[38;5;241m=\u001b[39m []\n\u001b[0;32m      3\u001b[0m count \u001b[38;5;241m=\u001b[39m \u001b[38;5;241m0\u001b[39m\n\u001b[1;32m----> 4\u001b[0m \u001b[38;5;28;01mfor\u001b[39;00m protein \u001b[38;5;129;01min\u001b[39;00m \u001b[43mproteins\u001b[49m[\u001b[38;5;124m'\u001b[39m\u001b[38;5;124mname\u001b[39m\u001b[38;5;124m'\u001b[39m]:\n\u001b[0;32m      5\u001b[0m     count \u001b[38;5;241m+\u001b[39m\u001b[38;5;241m=\u001b[39m \u001b[38;5;241m1\u001b[39m\n\u001b[0;32m      6\u001b[0m     \u001b[38;5;28mprint\u001b[39m(count, end\u001b[38;5;241m=\u001b[39m\u001b[38;5;124m'\u001b[39m\u001b[38;5;124m: \u001b[39m\u001b[38;5;124m'\u001b[39m)\n",
      "\u001b[1;31mNameError\u001b[0m: name 'proteins' is not defined"
     ]
    }
   ],
   "source": [
    "#results_list = [protein_lookup(protein) for protein in proteins.loc[0:55, 'name']]\n",
    "results_list = []\n",
    "count = 0\n",
    "for protein in proteins['name']:\n",
    "    count += 1\n",
    "    print(count, end=': ')\n",
    "    results = protein_lookup(protein)\n",
    "    results_list.append(results)\n",
    "\n",
    "uniprot_df = pd.concat(results_list)\n"
   ]
  },
  {
   "cell_type": "code",
   "execution_count": 139,
   "metadata": {},
   "outputs": [
    {
     "name": "stdout",
     "output_type": "stream",
     "text": [
      "1216\n",
      "1216\n",
      "9.950657894736842\n"
     ]
    }
   ],
   "source": [
    "# assign the UniProt results to a seperate variable\n",
    "df_backup = uniprot_df \n",
    "df_backup = df_backup.reset_index()\n",
    "\n",
    "# check the lengths of both to make sure they match\n",
    "print(len(df_backup))\n",
    "print(len(proteins))\n",
    "\n",
    "# remove the index column\n",
    "df_backup = df_backup.drop('index', axis=1)\n",
    "\n",
    "# check how many of the results had a distance larger than 1 - which should be manually checked\n",
    "need2check = df_backup[df_backup['Distance'] >= 2]\n",
    "print(len(need2check) / len(df_backup) * 100)\n",
    "# ~10% of the results should be checked\n",
    "\n",
    "# save the final formatted df as a csv file to work on by hand\n",
    "df_backup.to_csv('protein_gene_matches_V1.csv', index=False) \n",
    "\n"
   ]
  },
  {
   "cell_type": "code",
   "execution_count": 14,
   "metadata": {},
   "outputs": [
    {
     "name": "stdout",
     "output_type": "stream",
     "text": [
      "FMR1, CACYBP, CRK, CSTB, DDX4, MAX, UAP1, SULT2B1, PTMA, SEPTIN4, DLP1a, RTN4, NHERF1, COL7A1, ABCC9, RCOR3, PUS10, PAICS, MASP1, COL4A2, COL4A4, ABL1, COL10A1, DUT, COL17A1, COL9A1, PIN4, PIN4, UNG, PTEN, ARPP19, QKI6, FHIT, MAPT, CPEB3, MMACHC, FGF2, OGT, CLPB, CHKA, RAP1GDS1, LAT, PTMA, FGF12, RASSF1, PLOD3, MAPT, HBEGF, EIF4G1, BAALC, GPHN, CDKN2A, NUFIP1, MDM2, UPF1, QKI, MBP, CMTR2, GPC1, SERBP1, LDB3, OGG1, WRN, CDKN1B, PTPN2, DNMT3A, API5, IGHG1 , PPP3CA, WAS, LMNA, CSN1S1, SMG7, BLM, ALOX5, WASF1, FUT8, RANBP3, SDC4, SLC25A24, DIABLO, SMG5, TAF-1beta, Vinculin, RPLP2, RPLP1, SMO, NCK1, NRG1, RPL4, ATP2B1, NUPR1 , RPL10L, IBSP, EPB41, NUPR2, RPL24, UBTD2, FOS, CAD, CYBRD1, MAP4K3, GNAQ, TTC8, FGA, SOD1, MICAL3, SOD3, DAG1, GMPS, CPS1, MAOA, ALDH1A3, GPR179, HSD17B1, KCNE1, TGFB1, MSL3, KCNE3, SFTPC, SLC12A2, CAMP, SULT1A3, CFTR, CGB3, CDKN1A, CDKN1C, CDKN1B, EIF4EBP1, NR3C1, GHR, HMGA1, PIP4K2B, RPA1, RXRA, VAMP2, SNCA, TTN, TYMS, ESR1, TOP1, ESR2, MAX, RELA, TP53, KCNAB1, GATM, PRB4, CD4, SPRR2E, PTHLH, ZFYVE9, XRCC4, HRAS, RAD23A, SNN, TNNI3, PNPO, RAF1, DFFA, TCF7L2, CTDP1, VDR, CAST, CD247, SPP1, PPP1R11, SSB, GRB14, POU2F1, MBP, BRCA1, ADD1, ADD2, XPA, MYC, HIF1A, ATP7A, VHL, BCL2L1, AKT2, CD69, CCNH, UROD, EGFR, ETF1, FCAR, GGA1, HTRA2, TP73, SERPINE1, PADI4, PIM1, NR1I2, HNRNPA1, PHYH, CALR, MDM2, ABO, NCOA3, CITED2, TMSB4X, PTGES3, UAP1, RHEB, TCIM, AHR, GSK3B, NCBP1, NCBP2, SULT2B1, JAG1, SECISBP2, PLK1, CRYAB, FHOD1, FIS1, SMAD4, PRNP, NFKBIA, PEX5, SAE1, UBA2, AR, CD3D, CD3E, CD3G, FCER1G, MYOM1, APC, NKD2, PTTG1, SEPTIN4, MECP2, HYPK, ZNF593, NPPB, NLGN3, NLRP1, FNTA, TRAPPC4, PPP3R1, SRP19, ATXN3, RALA, PCP4, FXN, SNW1, WEE1, LTF, SEM1, C1R, DDIT3, ACP3, SNCG, EP300, CCL11, L1CAM, MICA, NEUROG1, NKX3-1, RYBP, CCL26, YAP1, GADD45A, CDSN, DAXX, CBY1, KDM5B, PPARG, TDG, AGO2, NPPA, CRK, CCL21, EZR, TOB1, TCAP, PPP1R2, ADRM1, MAP2K7, CUTA, NABP2, DNAJC24, ACTR8, PTN, SRPRA, EIF1AX, EIF1, CHCHD4, KITLG, BASP1, PKIA, PPP1R8, USP7, UPF2, GAP43, UBE2Z, AXIN1, STAT2, STAT1, PAX5, INSM1, EMILIN1, DDX4, MBD2, MLLT3, FUS, CACNA1S, NOTCH1, PRLR, TARDBP, HNRNPA2B1, UBQLN2, SQSTM1, PIK3R1, NFE2L2, KMT2A, BUB1B, CDC20, CTNNB1, ZAP70, FOXA2, NUMB, HSPB6, FOXO1, GLI3, CIAPIN1, BECN1, H1-0, H2AC4, H2BC11, PRPF19, DCLRE1C, PPP1R12A, TP53BP2, NMNAT1, SLC4A1, TAF4, WIPF1, KISS1, KLF4, NOLC1, PAK4, PSMD4, PPP1R15A, SMAD1, MTSS1, SEC13, MX1, CDC23, SLC9A1, PDE5A, VAPB, CXCR4, XRCC6, XRCC5, CETN2, TAF6, DCLRE1B, KNL1, MAPRE1, ATF7IP, MSL1, APP, RBBP7, CHMP3, POLR2A, ATMIN, PSEN1, EIF4EBP2, CDK2AP1, TAP1, PQBP1, CDK9, FBLIM1, SUFU, HCN4, SMAD2, ATG4B, GPIHBP1, AMBRA1, ELK4, LGALS3, KRIT1, DKK1, UBE2W, MAP2K6, NFATC2, ING1, RPA2, RAN, STON2, LDLR, MAP2K4, FGF13, CDC37, PCLAF, RB1, E2F1, SDC4, PAGE4, CASK, ETS1, ANAPC5, CDC27, NOD1, SF1, FBXO4, NXF1, CDC16, CDC26, ANAPC15, ANAPC16, U2AF1, TNPO1, SF3B6, STK3, AFF4, APLF, PAGE5, NPM1, DSG1, ANAPC4, ANAPC7, NEIL1, ERBB2, CD79A, CD79B, PPARGC1A, DLL4, HMGB1, GSTA1, GAB2, RPS6KA1, FZR1, ANAPC2, WBP4, SOS1, PGR, BLNK, AHCTF1, SORT1, S100A5, RPS6KB1, ZNF274, DDX19B, NR3C2, ILF2, SRC, LCK, EFNB2, KHSRP, PDX1, VPS25, PTBP1, STING1, PAWR, FERMT2, IRF3, HNF1A, RAD51, XPC, GTF2E1, MCFD2, KLF1, SRSF1, HSBP1, FGF2, PTPN7, RORC, SMAD3, UHRF1, BID, HARS1, PIAS2, SPTA1, CARMIL1, SNRPD3, KHDRBS1, ATG3, NFATC1, ATG9A, HNRNPF, S100B, IYD, TNNI2, ITGB1, RBX1, PRPF4, PRDM2, TGFBR2, ESRRB, TRPV5, TRPV6, TIRAP, SLC22A17, CRADD, TNK2, XIAP, PDLIM3, FERMT3, FOXO4, MUC1, PAXX, CHEK2, NUP153, SUB1, PEX19, POLD2, EZH2, TRIAP1, ITGB1BP1, ITGA2B, ITGB3, FKBP5, ITGB2, PRKN, SNRPA, KNG1, SF3B1, BRCA2, STAMBP, SNUPN, HMGA2, EME1, NCOA2, APOC2, TCERG1, BRD4, IRF5, NR1H4, UPF1, MEF2A, HSPA5, ASCL1, INIP, FLNA, ANXA1, TPT1, FEN1, CBS, MCM2, DOT1L, SLBP, BMPR1A, CREB1, CREBBP, TK1, ZNF106, CCL28, HNRNPM, SMPD1, RAB11FIP2, EIF4A3, ORC5, LOX, CDC34, MZF1, UBE2G2, NUP98, CDC25C, ATG16L1, GOPC, NUP133, CASC3, SNRNP70, ERP44, UBE2E1, DDX3X, HTN3, TAP2, KDM5A, CCND1, FOXC2, HDAC1, INHBA, KIT, TUBA1B, EDC3, NCF1, STAT4, MT-RNR2, IKBKG, COPS5, NEDD4L, SUMO1, H2AZ2, NEDD8, SNX9, UBA3, SNX18, ADAM10, PITPNA, MAPK1, DDX23, UGDH, TAF15, RAMAC, AFF1, HSPA1B, SRRM1, CPLX1, BAG4, ROCK1, LMOD1, FRAT1, SPEN, KARS1, HCK, ABI2, AURKB, RBM7, KMT2E, EIF4G1, EIF4E, TEPSIN, RNF168, ANP32E, FOXM1, MYCN, HOXB1, TERF1, VEGFB, IRS1, ATAT1, PRAG1, PHF20, ARTN, CD19, TGS1, IFNLR1, TGIF1, DTD1, NUP50, CD2BP2, IFNAR1, DROSHA, CENPB, IRAK1, UBTF, BSCL2, TRIP10, TLK2, PLCB3, OGA, ALCAM, RCOR3, CNOT10, KLC1, KCNQ4, CA9, BAK1, BAX, LYN, CD44, DYNC1LI1, PCSK9, KIR3DL1, SLC39A4, AGER, OSBP2, SNAP25, ELAVL1, TG, MAP3K9, RRAD, GDNF, PTGIS, PTPRM, ZWILCH, RCHY1, SRPK2, GORASP2, EIF5A, YY1, SNF8, VPS36, FLT4, ANKRD27, KRT14, KRT5, ADAMTS5, SIAH1, FMNL2, ARFGEF1, POP7, RPP25, CRMP1, PCOLCE, CEP192, CEP152, CASQ2, B4GALT7, P4HB, PSPH, EML4, EPM2A, A2M, S100A16, SUV39H2, HJV, ANGPTL3, ARSB, ODC1, OAZ1, AZIN1, BCL2L10, BBOX1, CA6, PLS3, PLAAT3, RICTOR, MAPKAP1, ID2, BCAT1, DPP8, TSN, NR1D2, POLRMT, EIF2D, TNNT2, HMGCR, TREX2, NELFA, NELFE, SH2D1A, UBR5, DDX39B, PIN1, TMPO, CHFR, LLGL2, RASIP1, RAB6A, ANXA2, PLAAT2, MET, ITGAV, TSC1, IL6, PGM1, CUL2, MCOLN1, PKD2, POLA2, PRDX4, PDGFB, DICER1, FANCF, ALDH9A1, GLB1, OLAH, TCN1, GATA3, CLEC3B, TRNT1, RND3, LILRA5, ARF6, TJP1, PRND, MAT2A, BAG6, MAPK7, MEPCE, FARP1, SUGT1, STARD3, CAPN3, NBN, BCL2L11, SH3BP5, ESCO1, MLLT10, ACE, SLC2A1, CBX1, CASP9, RBM8A, CPSF6, SH2D3C, GFER, CGAS, ABCC8, BST2, RMI2, DRAXIN, VTN, RXRG, CAPRIN1, SPI1, U2AF2, CGA, EPN1, PANX1, TP53BP1, XCL1, PITRM1, FCER2, DNM1, TRIO, CCM2, VWF, SESN2, GUCA1C, ZC3H12A, KCNQ1, USP8, PPP1R3A, PPP1R3B, BCR, GTF2F1, MASTL, NFKB2, DBF4, BAZ2A, BRDT, BRD3, MLH1, TRIM56, GEMIN5, DDX1, PFKFB2, TXNIP, SAA1, RNF126, WWP2, GC, TRIM25, MID1, PML, UCHL3, HYCC1, RNF111, TTC7B, NFRKB, UBE4B, GCH1, CENPJ, GINS1, GINS3, LATS1, AURKA, MARK2, FUBP1, CD320, HNF1B, NIFK, CDKN3, FASN, PTK2, EPHA2, XYLT1, NAA10, NAA15, TSNAX, CTBP1, CASP3, STEAP3, AGT, USP14, UPB1, CANT1, CLIC5, CLIC2, CLIC4, ABL1, CYLD, UXS1, UPP1, AASDHPPT, APAF1, SCN2A, SLU7, GEN1, CSF3, GGCT, CST5, GRK6, LMAN1, MANF, MAD2L1BP, XPO5, THEM5, PLAU, OPTN, CASP7, SRSF7, BRD1, SUPV3L1, IZUMO1, IZUMO1R, GINS4, CDC40, RNF125, ADAR, STAM, PI3, S100A4, REG1A, PABPC1, SND1, MALT1, ASPSCR1, VCP, EIF4B, SPTY2D1, SRRM2, PSIP1, CDK12, TNFRSF13C, BIN3, SVBP, NDST1, TIMP2, MMP2, MMP1, P4HA1, SERPINA1, TNFAIP3, OTUD7B, LOXL2, RABEP1, IGFBP2, TGM3, ITIH1, RSPO1, SERPINA10, F10, SPOP, AMBP, SEMA4D, PTEN, CST3, RAC1, F2, AKT1, MMP7, SERPINA12, SERPINB5, NRG1, ROBO3, PLXNC1, F9, CTSA, F13A1, REG3A, DMP1, SPON1, SERPINF1, LGALS8, THEM4, ITPKA, SERPIND1, HTRA1, TGFBI, G0S2, MAPK1, YY2, PRM2, LTBP1, HTRA3, TNFAIP6, STAG1, MX2, DKK4, SNX3, SMARCAD1, ARPP19, DAP, IAPP, NUCB2, CXCR1, STAT4, PAK1, EHMT1, PHF8, ASH1L, PAK2, HDAC4, TAF1, TAF2, NOVA1, SPAST, AP4M1, TAF5, UBA5, GDF5, BMP7, MAPK3, ACOT2, SDC1, SDC2, SDC3, MYOZ1, DUSP29, DUSP14, IPO13, NUDT5, PPM1A, DCPS, QARS1, METAP2, AHSP, TAF10, KDM7A, KDM6B, KDM6A, KIF11, NEFM, DCD, PA2G4, ANK2, YWHAZ, FKBP8, HDAC8, ARID4B, RB1CC1, RTN3, CDH6, STK4, CALCOCO2, IPO5, ATL3, AVPR2, GHSR, ADRB2, CD8A, MCL1, TRPV4, NBPF15, GAB1, APBA3, PIK3C3, MAP1LC3C, PHB2, BIRC5, HADHA, ULK2, DYRK1A, TRPV1, TRPV2, TRPV3, AKAP5, MAGI1, FLT3, SCN9A, A2ML1, MAT1A, VRK1, DPP6, DDX6, AGO1, ADARB1, BRAF, CDK6, CERT1, CLPP, COG4, CRPPA, DARS1, DARS2, DHPS, DLL1, DPF2, EPRS1, FDFT1, GALT, GLS, HPRT1, SNRPB, HSD17B10, IDUA, IGF1, KRAS, LONP1, MAP3K7, MAPK1, MLYCD, MMAA, MMADHC, MMUT, MPDZ, MTHFR, MTOR, MTRR, NARS1, NONO, NPC1, NRAS, NSD2, NT5C2, OCRL, OGT, PAH, PHF2, PTCH1, RNASEH2C, CIRBP, MDM4, DLG4, GPSM2, STRADA, EIF2AK2, NTRK2, GRIN2B, PAFAH1B1, ABCD1, ABCD4, ACTB, ACTL6A, ADGRG1, ADK, ADPRS, ADSL, AIFM1, ALDH4A1, ALDH7A1, ALKBH8, AMPD2, ANAPC1, ANO10, AP1B1, GABRA1, GABRB3, GABRG2, G3BP2, MORC2, KLHL20, CHKA, SHOC2, MED23, PLXNA1, P4HTM, DPYSL5, YARS1, SLC6A1, CA8, RGS6, RGS7, RNASET2, SLC17A5, AP1G1, SGPL1, ZMYND11, PYCR2, BBS9, BBS5, BBIP1, GNB5, TMEM67, HTT, EZH1, CCNB1, BCL2, SP1, RAD52, CRY2, COX17, SNCB, CHCHD5, GMNN, SOST, CCNE1, TNRC6C, CCND3, OSBP, PAX8, ADORA2A, EMD, FBXO4, TRGC1, SURF6, CALM1, H4C1, ATG2A, STATH, FCHO2, PRC1, PRKAR2A, NKAP, INCENP, VIL1, ITGB6, TMEM106B, AMBN, PRKAR1B, ADORA1, PDILT, DOCK2, KCTD5, HIKESHI, DMC1, ROGDI, COTL1, VIM, SYNPO, PRKRIP1, VAV1, DAAM1, BNIP3, STX17, PXN, AMOTL1, DBNDD1, CXorf51A, TOLLIP, KIF7, OCLN, H3-3A, STIM1, DISP1, SMG9, BBS4, BBS5\n"
     ]
    }
   ],
   "source": [
    "import pandas as pd\n",
    "# read in the hand-edited csv file to remove commas from gene lists\n",
    "# pandas is not working so will read in without it\n",
    "import csv\n",
    "with open('C:/Users/bs1250/Box/LAB/Lab Folder/WGCNA_Ben/IDP Gene List/protein_gene_matches_V2_names_split.csv', mode ='r')as file:\n",
    "  csv_file = csv.reader(file)\n",
    "  file_data = [line for line in csv_file]\n",
    "\n",
    "csv_df = pd.DataFrame(file_data[-(len(file_data) - 1):], columns=file_data[0])\n",
    "# pull just the gene names from the file\n",
    "idp_gene_list = csv_df['Gene Names'].tolist()\n",
    "idp_gene_list_formatted = ', '.join(idp_gene_list)\n",
    "print(idp_gene_list_formatted)\n",
    "# create a txt file with all of the formatted gene names\n",
    "output = open('IDP Gene List', 'w')\n",
    "output.write(idp_gene_list_formatted)\n",
    "output.close()"
   ]
  }
 ],
 "metadata": {
  "kernelspec": {
   "display_name": "Python 3",
   "language": "python",
   "name": "python3"
  },
  "language_info": {
   "codemirror_mode": {
    "name": "ipython",
    "version": 3
   },
   "file_extension": ".py",
   "mimetype": "text/x-python",
   "name": "python",
   "nbconvert_exporter": "python",
   "pygments_lexer": "ipython3",
   "version": "3.12.3"
  }
 },
 "nbformat": 4,
 "nbformat_minor": 2
}
