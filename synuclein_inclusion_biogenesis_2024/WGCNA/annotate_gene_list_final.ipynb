{
 "cells": [
  {
   "cell_type": "markdown",
   "metadata": {},
   "source": [
    "Annotate gene list with OMIM Gene-phenotype mapping and matches to provided gene lists\n",
    "\n",
    "Used to annotate lists of differentially expressed genes in TAX1BP1 and ADAMTS19 KD\n",
    "Takes a data frame with a list of official gene symbols, as well as the name of the column, a lists of gene lists, and the name of each list in matching order\n",
    "\n",
    "Makes use of the OMIM API, and if gene symbols is not matched exactly it will select and print the closest result for verification\n",
    "To use. register for the OMIM API and provide API Key"
   ]
  },
  {
   "cell_type": "code",
   "execution_count": 7,
   "metadata": {},
   "outputs": [
    {
     "name": "stdout",
     "output_type": "stream",
     "text": [
      "1136\n",
      "1136\n"
     ]
    }
   ],
   "source": [
    "\n",
    "# Clean mitoCarta gene list and concatonate into a single list\n",
    "mitoData = pd.read_excel(\"WGCNA_gene_lists/Human.MitoCarta3.0.xls\", sheet_name=None)\n",
    "mitoCartaGenes = mitoData['A Human MitoCarta3.0'].loc[:, 'Symbol'].tolist()\n",
    "print(len(mitoCartaGenes))\n",
    "# the mitocarta gene list unique is the same as the pathways genes when all duplicates are removed"
   ]
  },
  {
   "cell_type": "code",
   "execution_count": 8,
   "metadata": {},
   "outputs": [
    {
     "name": "stdout",
     "output_type": "stream",
     "text": [
      "123\n",
      "565\n",
      "1216\n",
      "['AGT', 'ALAD', 'ALS2', 'ALS3', 'ALS7', 'ANG', 'ANXA11', 'APEX1', 'APOE', 'AR', 'ARHGEF28', 'ARPP21', 'ATXN1', 'ATXN2', 'B4GALT6', 'BCL11B', 'BCL6', 'C9orf72', 'CAMTA1', 'CAV1', 'CAV2', 'CCNF', 'CCS', 'CDH13', 'CDH22', 'CFAP410', 'CHCHD10', 'CHGB', 'CHMP2B', 'CNTF', 'CNTN4', 'CNTN6', 'CRIM1', 'CRYM', 'CSNK1G3', 'CST3', 'CX3CR1', 'CYP2D6', 'DAO', 'DCTN1', 'DIAPH3', 'DISC1', 'DNAJC7', 'DNMT3A', 'DNMT3B', 'DOC2B', 'DPP6', 'DYNC1H1', 'EFEMP1', 'ELP3', 'ENAH', 'EphA3', 'EPHA4', 'ERBB4', 'ERLIN1', 'EWSR1', 'FEZF2', 'FGGY', 'FIG4', 'FUS', 'GARS', 'GLE1', 'GLT8D1', 'GPX3', 'GRB14', 'GRN', 'HEXA', 'HFE', 'HNRNPA1', 'HNRNPA2B1', 'ITPR2', 'KDR', 'KIF5A', 'KIFAP3', 'LIF', 'LIPC', 'LMNB1', 'LOX', 'LUM', 'MAOB', 'MAPT', 'MATR3', 'MOBP', 'MTND2P1', 'NAIP', 'NEFH', 'NEFL', 'NEK1', 'NETO1', 'NIPA1', 'NT5C1A', 'ODR4', 'OGG1', 'OMA1', 'OPTN', 'PARK7', 'PCP4', 'PFN1', 'PLEKHG5', 'PNPLA6', 'PON1', 'PON2', 'PON3', 'PRPH', 'PSEN1', 'PVR', 'RAMP3', 'RBMS1', 'RFTN1', 'RNASE2', 'RNF19A', 'SARM1', 'SCFD1', 'SCN7A', 'SELL', 'SEMA6A', 'SETX', 'SIGMAR1', 'SLC1A2', 'SLC39A11', 'SLC52A3', 'SMN1', 'SMN2', 'SNCG', 'SOD1', 'SOD2', 'SOX5', 'SPAST', 'SPG11', 'SPG7', 'SQSTM1', 'SS18L1', 'SUSD1', 'SYNE1', 'SYT9', 'TAF15', 'TARDBP', 'TBK1', 'TIA1', 'TNIP1', 'TRPM7', 'TUBA4A', 'UBQLN1', 'UBQLN2', 'UNC13A', 'VAPB', 'VCP', 'VDR', 'VEGFA', 'VPS54', 'VRK1', 'ZFP64', 'ZNF512B', 'ZNF746']\n",
      "76\n"
     ]
    }
   ],
   "source": [
    "# initialize the gene lists of interest as lists\n",
    "pdGenes = 'ATP13A2, ATP1A3, C19orf12, CSF1R, DCTN1, DNAJC6, FBXO7, FTL, GBA, GCH1, PRKN, PLA2G6, PINK, PARK7, PANK2, OPA3, MAPT, LYST, LRRK2, GRN, TH, SYNJ1, SPR, SPG11, SNC, SLC6A3, SLC39A14, SLC30A10, RAB39, PRKRA, TUBB4A, VPS13A, VPS35, WDR45, PMVK, KRTCAP2, GBAP1, FCGR2A, VAMP4, NUCKS1, LINC00693, SATB1, STK39, TMEM163, MAP4K4, KCNIP3, KCNS3, SIPA1L2, ITPK, RAB29, IP6K2, KPNA1, MED12L, SPTSSB, MCCC1, GAK, TMEM175, BST1, LCORL, SCARB2, TRIM40, LOC100131289, PAM, ELOVL7, CLCN3, CAMK2D, C5orf24, SNCA, FAM47E-STBD1, FAM47E, HLA-DRB5, RIMS1, FYN, RPS12, GPNMB, GS1-124K5.11, CTSB, FGF20, BIN3, FAM49B, SH3GL2, SH3GL2, UBAP2, ITGA8, GBF1, BAG3, INPP5F, RNF141, DLG2, IGSF9B, GALC, RPS6KL, GCH1, MIPOL1, MBNL2, CAB39L, FBRSL1, HIP1R, SCAF11, LRRK2, VPS13C, SYT17, CD19, SETD1A, NOD2, CASC16, CHD9, CHRNB1, RETREG3, UBTF, FAM171A2, CRHR1, WNT3, BRIP1, DNAH17, ASXL3, RIT2, MEX3C, SPPL2B, CRLS1, DYRK1A, PSMF1, RAB32'.split(', ')\n",
    "print(len(pdGenes))\n",
    "lipidGenes = 'MED12, HMGCL, AKR1C3, MBTPS1, SACM1L, MTMR4, LCAT, PI4K2A, PMVK, MTMR1, NFYA, SUMF1, ACADVL, SLC44A5, PLA2G3, CH25H, MED6, HSD17B4, SQLE, CYP4F8, SEC24B, TEAD1, HSPG2, CYP11A1, DHCR7, NPC1L1, ACACB, BDH1, LSS, CROT, SLC44A4, MAPKAPK2, SLC10A2, SLC10A1, MED20, SCP2, ARNTL, PLA2G4A, GK, LPGAT1, SRD5A3, CERK, PLA2G4B, PRKAB2, ACSL6, MTMR7, FHL2, NCOA6, CD36, GBA2, MED13, INPPL1, RORA, LDLRAP1, PPP1CB, MUT, AGPAT4, G0S2, PHOSPHO1, SC5D, PLD1, SEC24D, HSD3B7, SLC27A1, WWTR1, INPP5E, PRKAG2, CYP2C9, ARSK, MGLL, GALC, ABCG8, GK3P, COQ3, PLD4, ACADL, SGPL1, ABCC1, GM2A, HPGD, PLIN2, MED25, CPT1B, GBA3, ACLY, TEAD2, RXRA, ABCB4, FADS1, HEXA, CHKA, MED19, NCOR2, SPTLC2, CCNC, FAM213B, NPAS2, SEC24C, TBXAS1, NCOA1, PRKACG, SLCO1A2, GPX1, PTGS2, NFYB, PTGES3, CERS1, MBOAT7, ARSE, CBR1, PDSS2, GPD1, TNFRSF21, CEPT1, VAC14, CERS4, INSIG1, TECRL, APOE, CREBBP, PLA2G5, ARSG, MED29, HSD17B12, SGPP1, GPD1L, HDAC3, GRHL1, COQ5, PLIN1, DEGS1, MTMR14, IDI1, KDSR, BMP1, AMN, CERS3, SLC25A17, CYP2U1, CYP51A1, MTMR2, PLA2G4C, SEC24A, APOC3, DPEP3, TBL1XR1, ACSL3, MED1, PIP5K1A, ALB, CERS5, LCLAT1, ACAT1, PLA2G12A, CHKB, SRD5A2, PLA2G2A, HMGCS1, GPAM, PTPMT1, NCOA2, FABP6, LBR, ARSA, PPAP2A, VAPB, ALOX12B, ACOX1, ARSI, VAPA, NCOR1, SLC25A1, ABCD1, MVD, ABHD5, A2M, PLA2G4F, PITPNB, PIK3C3, TM7SF2, HPGDS, IDH1, PPP1CC, GLIPR1, P4HB, OCRL, SP1, MED18, SLC27A2, MED7, EBP, SLC44A3, CYP11B2, LTC4S, NEU1, AKR1D1, ACSL5, INPP5K, ACSL4, HEXB, MED26, CYP8B1, PPM1L, AKR1C1, PIP5K1C, HSD11B1, AGPS, CEL, ELOVL4, ALOX5AP, HSD3B1, CPT1A, SIN3A, CYP19A1, PISD, APOA2, LRP2, CYP4B1, ECHS1, PLA2G6, APOB, PPARG, MED4, PPP1CA, CDS2, CLPS, KPNB1, ABCB11, SMPD1, HSD17B3, TPTE, TPTE2, PIK3R4, AMACR, PIP5K1B, HSD3B2, CDIPT, SULT2A1, SLCO1B3, CGA, AGPAT5, GLB1L, PRKAA2, CYP4F22, CYP27A1, APOC2, TXNRD1, TAZ, PLD6, ARSB, OXCT1, CERS6, PLA2G16, NR1H4, HSD17B1, LPCAT2, MED8, PCYT2, GPD2, MED23, APOF, APOA5, SMPD4, CYP7B1, NR1D1, PIP4K2A, FAR2, CYP4F2, LGMN, NSDHL, LPCAT1, INPP5D, SCARB1, DGAT1, AGPAT1, CYP1A2, MCEE, MLYCD, GGPS1, POMC, PSAP, COL4A3BP, PIK3R3, CERS2, CUBN, MTMR6, PIKFYVE, DECR1, MED16, CSNK1G2, CYP1B1, PTGR1, CDK8, MED22, PTEN, LPL, ME1, EPT1, SLC25A20, PI4K2B, ACOX2, GNPAT, CYP39A1, STARD6, SMARCD3, NEU2, NRF1, LPIN3, MED9, ANKRD1, CYP24A1, SYNJ2, ACADS, STARD5, CYP2C19, CYP17A1, LIPC, ARSD, PCCB, PIK3CG, LPIN2, MSMO1, CARM1, MED15, PCYT1B, SLC27A5, PPARGC1B, ESRRA, PLD3, TRIB3, NFYC, TECR, PCYT1A, HACL1, SPHK2, FDFT1, GLA, ECI1, PNPLA2, PEX11A, SPHK1, CDS1, PLA2G4E, DPEP1, CRAT, ACER1, ABCG5, SAR1B, HELZ2, LIPE, ARSH, COQ2, CETP, FABP1, LPCAT4, APOA1, INPP4B, PRKACA, ALOX15B, SGMS2, FDX1L, MED17, ALOX12, PRKD1, COQ7, HADHA, AGPAT6, ACSL1, FDPS, PIK3R1, PLA2G2E, DGAT2, GPAT2, PRKACB, PIK3R2, PIK3CA, ELOVL1, ELOVL7, PDSS1, ALAS1, ABCC3, ENPP7, PI4KA, STAR, HSD17B7, RGL1, MED30, HMGCR, PTGS1, CYP2R1, LDLR, LPCAT3, MED31, DHCR24, PNLIP, CYP2J2, FADS2, PLTP, EP300, HADH, MED27, COQ6, OSBP, AKR1C2, CPT2, BCHE, CTSA, MED11, CYP4A22, CYP21A2, ETNK2, ALOX5, GPCPD1, CYP46A1, PTGDS, SGPP2, ACHE, PIP4K2B, SPTLC3, MTMR3, PIK3CB, MMAA, DPEP2, GGT5, GPX2, ASAH1, ARSF, PPAP2C, PHYH, PLA2G1B, SLC44A2, ALOX15, AGT, SGMS1, PTGES, ELOVL2, PLBD1, PCCA, MTM1, AGPAT9, ELOVL3, FABP4, APOA4, MVK, LPA, MED13L, MBOAT1, SIN3B, PNPLA3, ACOX3, PLB1, GBA, MED21, ABCG1, LPIN1, CYP1A1, HMGCS2, PGS1, PLA2G10, FASN, PLD2, FDXR, GC, NEU3, YAP1, GPX4, INSIG2, CYP4A11, ARF1, BAAT, MBOAT2, CTGF, PTDSS1, EPHX2, CRLS1, RAN, SMPD2, ETNK1, CYP27B1, CDK19, AKR1B1, SREBF1, PIK3CD, SLC44A1, SDC1, STS, NEU4, MED24, SCAP, ANGPTL4, PLA2G2F, ABCA1, CYP4F11, CYP2C8, PPAP2B, IDI2, SLCO1B1, PTDSS2, AKR1C4, ARF3, MED14, FAR1, FDX1, TIAM2, UGT1A9, PTGIS, SMPD3, PLA2G2D, SRD5A1, PPARD, CYP11B1, GGT1, ACER3, FIG4, TEAD3, INPP4A, MTTP, GK2, CLOCK, PEMT, SUMF2, CYP7A1, CAV1, ACER2, INPP5J, GLB1, PPARGC1A, PNPLA8, PNLIPRP1, MED10, DEGS2, TGS1, CHD9, PI4KB, PNPLA2, ACAA1, AGPAT2, PIK3R6, ARSJ, AGPAT3, ACADM, PIK3C2B, SREBF2, ACOT8, TEAD4, LHB, CHPT1, PIK3R5, ELOVL5, ELOVL6, LTA4H, SPTLC1, ASAH2, MBTPS2, CYP4F3, PLA2G4D, SYNJ1, CHAT, TBL1X, STARD4, SEC23A, PPARA, HADHB, NCOA3, PIK3C2A'.split(', ')\n",
    "print(len(lipidGenes))\n",
    "IDPs = 'FMR1, CACYBP, CRK, CSTB, DDX4, MAX, UAP1, SULT2B1, PTMA, SEPTIN4, DLP1a, RTN4, NHERF1, COL7A1, ABCC9, RCOR3, PUS10, PAICS, MASP1, COL4A2, COL4A4, ABL1, COL10A1, DUT, COL17A1, COL9A1, PIN4, PIN4, UNG, PTEN, ARPP19, QKI6, FHIT, MAPT, CPEB3, MMACHC, FGF2, OGT, CLPB, CHKA, RAP1GDS1, LAT, PTMA, FGF12, RASSF1, PLOD3, MAPT, HBEGF, EIF4G1, BAALC, GPHN, CDKN2A, NUFIP1, MDM2, UPF1, QKI, MBP, CMTR2, GPC1, SERBP1, LDB3, OGG1, WRN, CDKN1B, PTPN2, DNMT3A, API5, IGHG1 , PPP3CA, WAS, LMNA, CSN1S1, SMG7, BLM, ALOX5, WASF1, FUT8, RANBP3, SDC4, SLC25A24, DIABLO, SMG5, TAF-1beta, Vinculin, RPLP2, RPLP1, SMO, NCK1, NRG1, RPL4, ATP2B1, NUPR1 , RPL10L, IBSP, EPB41, NUPR2, RPL24, UBTD2, FOS, CAD, CYBRD1, MAP4K3, GNAQ, TTC8, FGA, SOD1, MICAL3, SOD3, DAG1, GMPS, CPS1, MAOA, ALDH1A3, GPR179, HSD17B1, KCNE1, TGFB1, MSL3, KCNE3, SFTPC, SLC12A2, CAMP, SULT1A3, CFTR, CGB3, CDKN1A, CDKN1C, CDKN1B, EIF4EBP1, NR3C1, GHR, HMGA1, PIP4K2B, RPA1, RXRA, VAMP2, SNCA, TTN, TYMS, ESR1, TOP1, ESR2, MAX, RELA, TP53, KCNAB1, GATM, PRB4, CD4, SPRR2E, PTHLH, ZFYVE9, XRCC4, HRAS, RAD23A, SNN, TNNI3, PNPO, RAF1, DFFA, TCF7L2, CTDP1, VDR, CAST, CD247, SPP1, PPP1R11, SSB, GRB14, POU2F1, MBP, BRCA1, ADD1, ADD2, XPA, MYC, HIF1A, ATP7A, VHL, BCL2L1, AKT2, CD69, CCNH, UROD, EGFR, ETF1, FCAR, GGA1, HTRA2, TP73, SERPINE1, PADI4, PIM1, NR1I2, HNRNPA1, PHYH, CALR, MDM2, ABO, NCOA3, CITED2, TMSB4X, PTGES3, UAP1, RHEB, TCIM, AHR, GSK3B, NCBP1, NCBP2, SULT2B1, JAG1, SECISBP2, PLK1, CRYAB, FHOD1, FIS1, SMAD4, PRNP, NFKBIA, PEX5, SAE1, UBA2, AR, CD3D, CD3E, CD3G, FCER1G, MYOM1, APC, NKD2, PTTG1, SEPTIN4, MECP2, HYPK, ZNF593, NPPB, NLGN3, NLRP1, FNTA, TRAPPC4, PPP3R1, SRP19, ATXN3, RALA, PCP4, FXN, SNW1, WEE1, LTF, SEM1, C1R, DDIT3, ACP3, SNCG, EP300, CCL11, L1CAM, MICA, NEUROG1, NKX3-1, RYBP, CCL26, YAP1, GADD45A, CDSN, DAXX, CBY1, KDM5B, PPARG, TDG, AGO2, NPPA, CRK, CCL21, EZR, TOB1, TCAP, PPP1R2, ADRM1, MAP2K7, CUTA, NABP2, DNAJC24, ACTR8, PTN, SRPRA, EIF1AX, EIF1, CHCHD4, KITLG, BASP1, PKIA, PPP1R8, USP7, UPF2, GAP43, UBE2Z, AXIN1, STAT2, STAT1, PAX5, INSM1, EMILIN1, DDX4, MBD2, MLLT3, FUS, CACNA1S, NOTCH1, PRLR, TARDBP, HNRNPA2B1, UBQLN2, SQSTM1, PIK3R1, NFE2L2, KMT2A, BUB1B, CDC20, CTNNB1, ZAP70, FOXA2, NUMB, HSPB6, FOXO1, GLI3, CIAPIN1, BECN1, H1-0, H2AC4, H2BC11, PRPF19, DCLRE1C, PPP1R12A, TP53BP2, NMNAT1, SLC4A1, TAF4, WIPF1, KISS1, KLF4, NOLC1, PAK4, PSMD4, PPP1R15A, SMAD1, MTSS1, SEC13, MX1, CDC23, SLC9A1, PDE5A, VAPB, CXCR4, XRCC6, XRCC5, CETN2, TAF6, DCLRE1B, KNL1, MAPRE1, ATF7IP, MSL1, APP, RBBP7, CHMP3, POLR2A, ATMIN, PSEN1, EIF4EBP2, CDK2AP1, TAP1, PQBP1, CDK9, FBLIM1, SUFU, HCN4, SMAD2, ATG4B, GPIHBP1, AMBRA1, ELK4, LGALS3, KRIT1, DKK1, UBE2W, MAP2K6, NFATC2, ING1, RPA2, RAN, STON2, LDLR, MAP2K4, FGF13, CDC37, PCLAF, RB1, E2F1, SDC4, PAGE4, CASK, ETS1, ANAPC5, CDC27, NOD1, SF1, FBXO4, NXF1, CDC16, CDC26, ANAPC15, ANAPC16, U2AF1, TNPO1, SF3B6, STK3, AFF4, APLF, PAGE5, NPM1, DSG1, ANAPC4, ANAPC7, NEIL1, ERBB2, CD79A, CD79B, PPARGC1A, DLL4, HMGB1, GSTA1, GAB2, RPS6KA1, FZR1, ANAPC2, WBP4, SOS1, PGR, BLNK, AHCTF1, SORT1, S100A5, RPS6KB1, ZNF274, DDX19B, NR3C2, ILF2, SRC, LCK, EFNB2, KHSRP, PDX1, VPS25, PTBP1, STING1, PAWR, FERMT2, IRF3, HNF1A, RAD51, XPC, GTF2E1, MCFD2, KLF1, SRSF1, HSBP1, FGF2, PTPN7, RORC, SMAD3, UHRF1, BID, HARS1, PIAS2, SPTA1, CARMIL1, SNRPD3, KHDRBS1, ATG3, NFATC1, ATG9A, HNRNPF, S100B, IYD, TNNI2, ITGB1, RBX1, PRPF4, PRDM2, TGFBR2, ESRRB, TRPV5, TRPV6, TIRAP, SLC22A17, CRADD, TNK2, XIAP, PDLIM3, FERMT3, FOXO4, MUC1, PAXX, CHEK2, NUP153, SUB1, PEX19, POLD2, EZH2, TRIAP1, ITGB1BP1, ITGA2B, ITGB3, FKBP5, ITGB2, PRKN, SNRPA, KNG1, SF3B1, BRCA2, STAMBP, SNUPN, HMGA2, EME1, NCOA2, APOC2, TCERG1, BRD4, IRF5, NR1H4, UPF1, MEF2A, HSPA5, ASCL1, INIP, FLNA, ANXA1, TPT1, FEN1, CBS, MCM2, DOT1L, SLBP, BMPR1A, CREB1, CREBBP, TK1, ZNF106, CCL28, HNRNPM, SMPD1, RAB11FIP2, EIF4A3, ORC5, LOX, CDC34, MZF1, UBE2G2, NUP98, CDC25C, ATG16L1, GOPC, NUP133, CASC3, SNRNP70, ERP44, UBE2E1, DDX3X, HTN3, TAP2, KDM5A, CCND1, FOXC2, HDAC1, INHBA, KIT, TUBA1B, EDC3, NCF1, STAT4, MT-RNR2, IKBKG, COPS5, NEDD4L, SUMO1, H2AZ2, NEDD8, SNX9, UBA3, SNX18, ADAM10, PITPNA, MAPK1, DDX23, UGDH, TAF15, RAMAC, AFF1, HSPA1B, SRRM1, CPLX1, BAG4, ROCK1, LMOD1, FRAT1, SPEN, KARS1, HCK, ABI2, AURKB, RBM7, KMT2E, EIF4G1, EIF4E, TEPSIN, RNF168, ANP32E, FOXM1, MYCN, HOXB1, TERF1, VEGFB, IRS1, ATAT1, PRAG1, PHF20, ARTN, CD19, TGS1, IFNLR1, TGIF1, DTD1, NUP50, CD2BP2, IFNAR1, DROSHA, CENPB, IRAK1, UBTF, BSCL2, TRIP10, TLK2, PLCB3, OGA, ALCAM, RCOR3, CNOT10, KLC1, KCNQ4, CA9, BAK1, BAX, LYN, CD44, DYNC1LI1, PCSK9, KIR3DL1, SLC39A4, AGER, OSBP2, SNAP25, ELAVL1, TG, MAP3K9, RRAD, GDNF, PTGIS, PTPRM, ZWILCH, RCHY1, SRPK2, GORASP2, EIF5A, YY1, SNF8, VPS36, FLT4, ANKRD27, KRT14, KRT5, ADAMTS5, SIAH1, FMNL2, ARFGEF1, POP7, RPP25, CRMP1, PCOLCE, CEP192, CEP152, CASQ2, B4GALT7, P4HB, PSPH, EML4, EPM2A, A2M, S100A16, SUV39H2, HJV, ANGPTL3, ARSB, ODC1, OAZ1, AZIN1, BCL2L10, BBOX1, CA6, PLS3, PLAAT3, RICTOR, MAPKAP1, ID2, BCAT1, DPP8, TSN, NR1D2, POLRMT, EIF2D, TNNT2, HMGCR, TREX2, NELFA, NELFE, SH2D1A, UBR5, DDX39B, PIN1, TMPO, CHFR, LLGL2, RASIP1, RAB6A, ANXA2, PLAAT2, MET, ITGAV, TSC1, IL6, PGM1, CUL2, MCOLN1, PKD2, POLA2, PRDX4, PDGFB, DICER1, FANCF, ALDH9A1, GLB1, OLAH, TCN1, GATA3, CLEC3B, TRNT1, RND3, LILRA5, ARF6, TJP1, PRND, MAT2A, BAG6, MAPK7, MEPCE, FARP1, SUGT1, STARD3, CAPN3, NBN, BCL2L11, SH3BP5, ESCO1, MLLT10, ACE, SLC2A1, CBX1, CASP9, RBM8A, CPSF6, SH2D3C, GFER, CGAS, ABCC8, BST2, RMI2, DRAXIN, VTN, RXRG, CAPRIN1, SPI1, U2AF2, CGA, EPN1, PANX1, TP53BP1, XCL1, PITRM1, FCER2, DNM1, TRIO, CCM2, VWF, SESN2, GUCA1C, ZC3H12A, KCNQ1, USP8, PPP1R3A, PPP1R3B, BCR, GTF2F1, MASTL, NFKB2, DBF4, BAZ2A, BRDT, BRD3, MLH1, TRIM56, GEMIN5, DDX1, PFKFB2, TXNIP, SAA1, RNF126, WWP2, GC, TRIM25, MID1, PML, UCHL3, HYCC1, RNF111, TTC7B, NFRKB, UBE4B, GCH1, CENPJ, GINS1, GINS3, LATS1, AURKA, MARK2, FUBP1, CD320, HNF1B, NIFK, CDKN3, FASN, PTK2, EPHA2, XYLT1, NAA10, NAA15, TSNAX, CTBP1, CASP3, STEAP3, AGT, USP14, UPB1, CANT1, CLIC5, CLIC2, CLIC4, ABL1, CYLD, UXS1, UPP1, AASDHPPT, APAF1, SCN2A, SLU7, GEN1, CSF3, GGCT, CST5, GRK6, LMAN1, MANF, MAD2L1BP, XPO5, THEM5, PLAU, OPTN, CASP7, SRSF7, BRD1, SUPV3L1, IZUMO1, IZUMO1R, GINS4, CDC40, RNF125, ADAR, STAM, PI3, S100A4, REG1A, PABPC1, SND1, MALT1, ASPSCR1, VCP, EIF4B, SPTY2D1, SRRM2, PSIP1, CDK12, TNFRSF13C, BIN3, SVBP, NDST1, TIMP2, MMP2, MMP1, P4HA1, SERPINA1, TNFAIP3, OTUD7B, LOXL2, RABEP1, IGFBP2, TGM3, ITIH1, RSPO1, SERPINA10, F10, SPOP, AMBP, SEMA4D, PTEN, CST3, RAC1, F2, AKT1, MMP7, SERPINA12, SERPINB5, NRG1, ROBO3, PLXNC1, F9, CTSA, F13A1, REG3A, DMP1, SPON1, SERPINF1, LGALS8, THEM4, ITPKA, SERPIND1, HTRA1, TGFBI, G0S2, MAPK1, YY2, PRM2, LTBP1, HTRA3, TNFAIP6, STAG1, MX2, DKK4, SNX3, SMARCAD1, ARPP19, DAP, IAPP, NUCB2, CXCR1, STAT4, PAK1, EHMT1, PHF8, ASH1L, PAK2, HDAC4, TAF1, TAF2, NOVA1, SPAST, AP4M1, TAF5, UBA5, GDF5, BMP7, MAPK3, ACOT2, SDC1, SDC2, SDC3, MYOZ1, DUSP29, DUSP14, IPO13, NUDT5, PPM1A, DCPS, QARS1, METAP2, AHSP, TAF10, KDM7A, KDM6B, KDM6A, KIF11, NEFM, DCD, PA2G4, ANK2, YWHAZ, FKBP8, HDAC8, ARID4B, RB1CC1, RTN3, CDH6, STK4, CALCOCO2, IPO5, ATL3, AVPR2, GHSR, ADRB2, CD8A, MCL1, TRPV4, NBPF15, GAB1, APBA3, PIK3C3, MAP1LC3C, PHB2, BIRC5, HADHA, ULK2, DYRK1A, TRPV1, TRPV2, TRPV3, AKAP5, MAGI1, FLT3, SCN9A, A2ML1, MAT1A, VRK1, DPP6, DDX6, AGO1, ADARB1, BRAF, CDK6, CERT1, CLPP, COG4, CRPPA, DARS1, DARS2, DHPS, DLL1, DPF2, EPRS1, FDFT1, GALT, GLS, HPRT1, SNRPB, HSD17B10, IDUA, IGF1, KRAS, LONP1, MAP3K7, MAPK1, MLYCD, MMAA, MMADHC, MMUT, MPDZ, MTHFR, MTOR, MTRR, NARS1, NONO, NPC1, NRAS, NSD2, NT5C2, OCRL, OGT, PAH, PHF2, PTCH1, RNASEH2C, CIRBP, MDM4, DLG4, GPSM2, STRADA, EIF2AK2, NTRK2, GRIN2B, PAFAH1B1, ABCD1, ABCD4, ACTB, ACTL6A, ADGRG1, ADK, ADPRS, ADSL, AIFM1, ALDH4A1, ALDH7A1, ALKBH8, AMPD2, ANAPC1, ANO10, AP1B1, GABRA1, GABRB3, GABRG2, G3BP2, MORC2, KLHL20, CHKA, SHOC2, MED23, PLXNA1, P4HTM, DPYSL5, YARS1, SLC6A1, CA8, RGS6, RGS7, RNASET2, SLC17A5, AP1G1, SGPL1, ZMYND11, PYCR2, BBS9, BBS5, BBIP1, GNB5, TMEM67, HTT, EZH1, CCNB1, BCL2, SP1, RAD52, CRY2, COX17, SNCB, CHCHD5, GMNN, SOST, CCNE1, TNRC6C, CCND3, OSBP, PAX8, ADORA2A, EMD, FBXO4, TRGC1, SURF6, CALM1, H4C1, ATG2A, STATH, FCHO2, PRC1, PRKAR2A, NKAP, INCENP, VIL1, ITGB6, TMEM106B, AMBN, PRKAR1B, ADORA1, PDILT, DOCK2, KCTD5, HIKESHI, DMC1, ROGDI, COTL1, VIM, SYNPO, PRKRIP1, VAV1, DAAM1, BNIP3, STX17, PXN, AMOTL1, DBNDD1, CXorf51A, TOLLIP, KIF7, OCLN, H3-3A, STIM1, DISP1, SMG9, BBS4, BBS5'.split(', ')\n",
    "print(len(IDPs))\n",
    "\n",
    "# define the AD and ALS gene lists from their excel files\n",
    "alsGenes = pd.read_excel(r\"WGCNA_gene_lists\\als_genes.xlsx\")['Gene symbol'].tolist()\n",
    "print(len(alsGenes))\n",
    "\n",
    "adGenes = pd.read_excel(r\"WGCNA_gene_lists\\AD genes.xlsx\").iloc[1:, 4].tolist()\n",
    "\n",
    "print(len(adGenes))\n",
    "# initialze two lists to iterate over - one for matching and then filling in a name\n",
    "totalGeneList = [pdGenes, adGenes, alsGenes, lipidGenes, mitoCartaGenes, IDPs]\n",
    "totalGeneListNames = ['Known PD Gene', 'Known AD Gene', 'Known ALS Gene', 'Lipid Gene', 'Mitochondria Gene', 'IDP']"
   ]
  },
  {
   "cell_type": "code",
   "execution_count": 14,
   "metadata": {},
   "outputs": [],
   "source": [
    "import json\n",
    "import re\n",
    "def checkWithOMIMandGeneLists(rawDf, colname, geneLists, geneListNames):\n",
    "    '''\n",
    "    Query OMIM for gene-phenotype mapping and then check the given gene list for matches with supplied list of lists\n",
    "    Args:\n",
    "    filepath: The absolute filepath leading to an excel spreadsheet with a column of gene names\n",
    "    colname: The name of the column in the excel file that contains the gene name\n",
    "    geneLists: A list of lists containing each of the gene lists that the genes should be compared to\n",
    "    geneListNames: A list of the names of each of the gene lists supplied in the previous argument.\n",
    "\n",
    "    Output: a pandas data frame containing the OMIM gene-phenotype mapping results and a boolean column for matching to each of the gene lists.\n",
    "\n",
    "    '''\n",
    "\n",
    "    def getPhenotypes(geneName):\n",
    "    # send request to the api based on the gene and check the response\n",
    "        def sendReq(geneName):\n",
    "            myKey = ''\n",
    "            baseUrl = f'https://api.omim.org/api/entry/search?search={geneName}&include=geneMap&format=json&format=clinicalSynopsis&start=0&limit=10&apiKey={myKey}'\n",
    "            response = requests.get(baseUrl)\n",
    "            # if request is good return the request as json\n",
    "            if response.status_code == 200:\n",
    "                return response.json()\n",
    "            else:\n",
    "                print('Response: ' +  str(response.status_code))\n",
    "                return 'Response: ' +  str(response.status_code)\n",
    "\n",
    "        print(geneName)\n",
    "        results = sendReq(geneName)\n",
    "        #print(results['omim']['searchResponse']['entryList'])\n",
    "        #phenList = []\n",
    "        count = 0\n",
    "        if len(results['omim']['searchResponse']['entryList']) == 0:\n",
    "            #phenList.append(\"No OMIM Gene Matches\")\n",
    "            return 'No OMIM Gene Matches'\n",
    "        else:\n",
    "            for entry in results['omim']['searchResponse']['entryList']:\n",
    "                count += 1\n",
    "                # grab the full and abbreviated name of the gene\n",
    "                names = entry['entry']['titles']['preferredTitle']#.split('; ')\n",
    "                # only proceed if names match\n",
    "                #if names[1] == geneName:\n",
    "                if geneName in names:\n",
    "                    entryMatch = entry\n",
    "                    break\n",
    "                # if there are no exact matches select the first result, but print it to verify\n",
    "                if count == len(results['omim']['searchResponse']['entryList']):\n",
    "                    print(f'Went throuhgh all the results: matching {results['omim']['searchResponse']['entryList'][0]['entry']['titles']['preferredTitle']} to {geneName}.')\n",
    "                    entryMatch = results['omim']['searchResponse']['entryList'][0]\n",
    "                    print(entryMatch)\n",
    "\n",
    "            # check if the gene has an associated pheotype list - if not add that to the list\n",
    "            if 'geneMap' in entryMatch['entry'].keys():\n",
    "                #print(geneName + ' has gene map')\n",
    "                #print()\n",
    "                geneMap = entryMatch['entry']['geneMap']\n",
    "                if 'phenotypeMapList' in geneMap.keys():\n",
    "                    # grab the list of phenotypes associated with the gene\n",
    "                    phenMapList = entryMatch['entry']['geneMap']['phenotypeMapList']\n",
    "                    phens = [phen['phenotypeMap']['phenotype'] for phen in phenMapList]\n",
    "                    # concatonate phenotypes into single string\n",
    "                    phensConc = '; '.join(phens)\n",
    "                    phensConcClean = phensConc.replace('?', '')\n",
    "                    return phensConcClean\n",
    "                else: \n",
    "                    #phenList.append('No Gene Phenotype Mapping')\n",
    "                    return 'No Gene Phenotype Mapping'\n",
    "            elif 'phenotypeMapList' in entryMatch['entry'].keys():\n",
    "                    print(geneName + 'has phenotype map no geneMap')\n",
    "                    phenMapList = entryMatch['entry']['phenotypeMapList']\n",
    "                    phens = [phen['phenotypeMap']['phenotype'] for phen in phenMapList]\n",
    "                    # concatonate phenotypes into single string\n",
    "                    phensConc = '; '.join(phens)\n",
    "                    phensConcClean = phensConc.replace('?', '')\n",
    "                    return phensConcClean\n",
    "            else:\n",
    "                return 'No OMIM match'\n",
    "       \n",
    "\n",
    "    #rawDf = pd.read_excel(filepath)\n",
    "    # run the OMIM API query for each gene name and append the phenotype results to a list\n",
    "    phenList = [getPhenotypes(geneName=rawDf.loc[rowInd, colname]) for rowInd in range(len(rawDf))]\n",
    "\n",
    "    # compare the gene neighbor lists to the known gene lists\n",
    "    def compareToKnownGenes(df, geneLists, geneListNames):\n",
    "        # iterate over the lists of genes, make a column for each, and add whether each gene matches\n",
    "        for listInd in range(len(geneLists)):\n",
    "            df[geneListNames[listInd]] = [df.loc[rowInd, colname] in geneLists[listInd] for rowInd in range(len(df))]\n",
    "        \n",
    "        return df\n",
    "    # match gene neighbor symbols to lists of known genes\n",
    "    geneMatchDf = compareToKnownGenes(rawDf, geneLists, geneListNames)\n",
    "    # add the phenotypes from OMIM as a column \n",
    "    geneMatchDf['OMIM Gene Phenotype Mapping'] = phenList\n",
    "\n",
    "    return geneMatchDf"
   ]
  },
  {
   "cell_type": "markdown",
   "metadata": {},
   "source": [
    "Example - annotating a list of 30 low variation genes"
   ]
  },
  {
   "cell_type": "code",
   "execution_count": 15,
   "metadata": {},
   "outputs": [
    {
     "name": "stdout",
     "output_type": "stream",
     "text": [
      "TAS2R45\n",
      "Response: 400\n"
     ]
    },
    {
     "ename": "TypeError",
     "evalue": "string indices must be integers, not 'str'",
     "output_type": "error",
     "traceback": [
      "\u001b[1;31m---------------------------------------------------------------------------\u001b[0m",
      "\u001b[1;31mTypeError\u001b[0m                                 Traceback (most recent call last)",
      "Cell \u001b[1;32mIn[15], line 4\u001b[0m\n\u001b[0;32m      1\u001b[0m \u001b[38;5;66;03m# run the top and bottom thirty SNP genes through the annotation function\u001b[39;00m\n\u001b[0;32m      2\u001b[0m bottom_30_df \u001b[38;5;241m=\u001b[39m pd\u001b[38;5;241m.\u001b[39mread_excel(\u001b[38;5;124mr\u001b[39m\u001b[38;5;124m\"\u001b[39m\u001b[38;5;124mC:\u001b[39m\u001b[38;5;124m\\\u001b[39m\u001b[38;5;124mUsers\u001b[39m\u001b[38;5;124m\\\u001b[39m\u001b[38;5;124mbs1250\u001b[39m\u001b[38;5;124m\\\u001b[39m\u001b[38;5;124mBox\u001b[39m\u001b[38;5;124m\\\u001b[39m\u001b[38;5;124mLAB\u001b[39m\u001b[38;5;124m\\\u001b[39m\u001b[38;5;124mLab Folder\u001b[39m\u001b[38;5;124m\\\u001b[39m\u001b[38;5;124mWGCNA_Ben\u001b[39m\u001b[38;5;124m\\\u001b[39m\u001b[38;5;124mAnalysis\u001b[39m\u001b[38;5;124m\\\u001b[39m\u001b[38;5;124mcount snps\u001b[39m\u001b[38;5;124m\\\u001b[39m\u001b[38;5;124mtop and bottom 30\u001b[39m\u001b[38;5;124m\\\u001b[39m\u001b[38;5;124mbottom_30_snp_genes.xlsx\u001b[39m\u001b[38;5;124m\"\u001b[39m)\n\u001b[1;32m----> 4\u001b[0m bottom_30_ann \u001b[38;5;241m=\u001b[39m \u001b[43mcheckWithOMIMandGeneLists\u001b[49m\u001b[43m(\u001b[49m\u001b[43mrawDf\u001b[49m\u001b[38;5;241;43m=\u001b[39;49m\u001b[43mbottom_30_df\u001b[49m\u001b[43m,\u001b[49m\u001b[43m \u001b[49m\u001b[43mcolname\u001b[49m\u001b[38;5;241;43m=\u001b[39;49m\u001b[38;5;124;43m'\u001b[39;49m\u001b[38;5;124;43mgene symbol\u001b[39;49m\u001b[38;5;124;43m'\u001b[39;49m\u001b[43m,\u001b[49m\u001b[43m \u001b[49m\u001b[43mgeneLists\u001b[49m\u001b[38;5;241;43m=\u001b[39;49m\u001b[43mtotalGeneList\u001b[49m\u001b[43m,\u001b[49m\u001b[43m \u001b[49m\u001b[43mgeneListNames\u001b[49m\u001b[38;5;241;43m=\u001b[39;49m\u001b[43mtotalGeneListNames\u001b[49m\u001b[43m)\u001b[49m\n\u001b[0;32m      6\u001b[0m display(bottom_30_ann)\n\u001b[0;32m      8\u001b[0m bottom_30_ann\u001b[38;5;241m.\u001b[39mto_excel(\u001b[38;5;124m'\u001b[39m\u001b[38;5;124mbottom_30_snp_genes_annotated.xlsx\u001b[39m\u001b[38;5;124m'\u001b[39m)\n",
      "Cell \u001b[1;32mIn[14], line 84\u001b[0m, in \u001b[0;36mcheckWithOMIMandGeneLists\u001b[1;34m(rawDf, colname, geneLists, geneListNames)\u001b[0m\n\u001b[0;32m     79\u001b[0m             \u001b[38;5;28;01mreturn\u001b[39;00m \u001b[38;5;124m'\u001b[39m\u001b[38;5;124mNo OMIM match\u001b[39m\u001b[38;5;124m'\u001b[39m\n\u001b[0;32m     82\u001b[0m \u001b[38;5;66;03m#rawDf = pd.read_excel(filepath)\u001b[39;00m\n\u001b[0;32m     83\u001b[0m \u001b[38;5;66;03m# run the OMIM API query for each gene name and append the phenotype results to a list\u001b[39;00m\n\u001b[1;32m---> 84\u001b[0m phenList \u001b[38;5;241m=\u001b[39m [\u001b[43mgetPhenotypes\u001b[49m\u001b[43m(\u001b[49m\u001b[43mgeneName\u001b[49m\u001b[38;5;241;43m=\u001b[39;49m\u001b[43mrawDf\u001b[49m\u001b[38;5;241;43m.\u001b[39;49m\u001b[43mloc\u001b[49m\u001b[43m[\u001b[49m\u001b[43mrowInd\u001b[49m\u001b[43m,\u001b[49m\u001b[43m \u001b[49m\u001b[43mcolname\u001b[49m\u001b[43m]\u001b[49m\u001b[43m)\u001b[49m \u001b[38;5;28;01mfor\u001b[39;00m rowInd \u001b[38;5;129;01min\u001b[39;00m \u001b[38;5;28mrange\u001b[39m(\u001b[38;5;28mlen\u001b[39m(rawDf))]\n\u001b[0;32m     86\u001b[0m \u001b[38;5;66;03m# compare the gene neighbor lists to the known gene lists\u001b[39;00m\n\u001b[0;32m     87\u001b[0m \u001b[38;5;28;01mdef\u001b[39;00m \u001b[38;5;21mcompareToKnownGenes\u001b[39m(df, geneLists, geneListNames):\n\u001b[0;32m     88\u001b[0m     \u001b[38;5;66;03m# iterate over the lists of genes, make a column for each, and add whether each gene matches\u001b[39;00m\n",
      "Cell \u001b[1;32mIn[14], line 35\u001b[0m, in \u001b[0;36mcheckWithOMIMandGeneLists.<locals>.getPhenotypes\u001b[1;34m(geneName)\u001b[0m\n\u001b[0;32m     32\u001b[0m \u001b[38;5;66;03m#print(results['omim']['searchResponse']['entryList'])\u001b[39;00m\n\u001b[0;32m     33\u001b[0m \u001b[38;5;66;03m#phenList = []\u001b[39;00m\n\u001b[0;32m     34\u001b[0m count \u001b[38;5;241m=\u001b[39m \u001b[38;5;241m0\u001b[39m\n\u001b[1;32m---> 35\u001b[0m \u001b[38;5;28;01mif\u001b[39;00m \u001b[38;5;28mlen\u001b[39m(\u001b[43mresults\u001b[49m\u001b[43m[\u001b[49m\u001b[38;5;124;43m'\u001b[39;49m\u001b[38;5;124;43momim\u001b[39;49m\u001b[38;5;124;43m'\u001b[39;49m\u001b[43m]\u001b[49m[\u001b[38;5;124m'\u001b[39m\u001b[38;5;124msearchResponse\u001b[39m\u001b[38;5;124m'\u001b[39m][\u001b[38;5;124m'\u001b[39m\u001b[38;5;124mentryList\u001b[39m\u001b[38;5;124m'\u001b[39m]) \u001b[38;5;241m==\u001b[39m \u001b[38;5;241m0\u001b[39m:\n\u001b[0;32m     36\u001b[0m     \u001b[38;5;66;03m#phenList.append(\"No OMIM Gene Matches\")\u001b[39;00m\n\u001b[0;32m     37\u001b[0m     \u001b[38;5;28;01mreturn\u001b[39;00m \u001b[38;5;124m'\u001b[39m\u001b[38;5;124mNo OMIM Gene Matches\u001b[39m\u001b[38;5;124m'\u001b[39m\n\u001b[0;32m     38\u001b[0m \u001b[38;5;28;01melse\u001b[39;00m:\n",
      "\u001b[1;31mTypeError\u001b[0m: string indices must be integers, not 'str'"
     ]
    }
   ],
   "source": [
    "# run the top and bottom thirty SNP genes through the annotation function\n",
    "bottom_30_df = pd.read_excel(r\"WGCNA_gene_lists\\annotation_example\\bottom_30_snp_genes.xlsx\")\n",
    "\n",
    "bottom_30_ann = checkWithOMIMandGeneLists(rawDf=bottom_30_df, colname='gene symbol', geneLists=totalGeneList, geneListNames=totalGeneListNames)\n",
    "\n",
    "display(bottom_30_ann)\n",
    "\n",
    "bottom_30_ann.to_excel('bottom_30_snp_genes_annotated.xlsx')\n"
   ]
  }
 ],
 "metadata": {
  "kernelspec": {
   "display_name": "Python 3",
   "language": "python",
   "name": "python3"
  },
  "language_info": {
   "codemirror_mode": {
    "name": "ipython",
    "version": 3
   },
   "file_extension": ".py",
   "mimetype": "text/x-python",
   "name": "python",
   "nbconvert_exporter": "python",
   "pygments_lexer": "ipython3",
   "version": "3.12.3"
  }
 },
 "nbformat": 4,
 "nbformat_minor": 2
}
