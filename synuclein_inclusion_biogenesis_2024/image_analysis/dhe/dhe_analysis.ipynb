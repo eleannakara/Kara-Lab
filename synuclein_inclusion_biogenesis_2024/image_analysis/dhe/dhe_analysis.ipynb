{
 "cells": [
  {
   "cell_type": "markdown",
   "metadata": {},
   "source": [
    "This code measures DHE flourescence; the rate of which signals the rate of cytosolic reactive oxygen species production. Here, we compare the rate of cytosolic ROS produced with the knockdown of TAX1BP1 or ADAMTS19 to the SCR control."
   ]
  },
  {
   "cell_type": "markdown",
   "metadata": {},
   "source": [
    "Import Libraries"
   ]
  },
  {
   "cell_type": "code",
   "execution_count": 3,
   "metadata": {},
   "outputs": [],
   "source": [
    "import os\n",
    "import numpy as np\n",
    "import matplotlib.pyplot as plt\n",
    "import pandas as pd\n",
    "from scipy import stats\n",
    "from skimage.filters import gaussian\n",
    "import czifile"
   ]
  },
  {
   "cell_type": "markdown",
   "metadata": {},
   "source": [
    "Define Sub Functions"
   ]
  },
  {
   "cell_type": "code",
   "execution_count": 4,
   "metadata": {},
   "outputs": [],
   "source": [
    "def analyze_time_course_image_mask_saturation(image_path):\n",
    "    \"\"\"\n",
    "    Analyze the mean fluorescence intensity over time for an image, applying a mask \n",
    "    to exclude saturated and blank areas.\n",
    "\n",
    "    Parameters:\n",
    "    image_path (str): Path to the .czi image file.\n",
    "\n",
    "    Returns:\n",
    "    intensity_list (list): List of mean intensities over time.\n",
    "    times (list): List of time points corresponding to each intensity measurement.\n",
    "    \"\"\"\n",
    "    czi_file = czifile.CziFile(image_path)\n",
    "    czi_data = czi_file.asarray()\n",
    "    green_channel_data = np.squeeze(czi_data[:, :, 0, :, :, :])\n",
    "    last_frame = green_channel_data[-1, :, :]\n",
    "    filtered_frame = gaussian(last_frame)\n",
    "    last_frame_mask = filtered_frame > 0.02\n",
    "\n",
    "    intensity_list = []\n",
    "    times = []\n",
    "    for frame_index in range(green_channel_data.shape[0]):\n",
    "        green_channel = green_channel_data[frame_index, :, :]\n",
    "        times.append(frame_index)\n",
    "        mean_intensity = np.mean(green_channel[last_frame_mask > 0])\n",
    "        intensity_list.append(mean_intensity)\n",
    "\n",
    "    return intensity_list, times\n"
   ]
  },
  {
   "cell_type": "markdown",
   "metadata": {},
   "source": [
    "Define Main Function"
   ]
  },
  {
   "cell_type": "code",
   "execution_count": 5,
   "metadata": {},
   "outputs": [],
   "source": [
    "def main():\n",
    "    \"\"\"\n",
    "    Main function to analyze time-course images of the green channel, plot results, \n",
    "    and save the data to an Excel file.\n",
    "    \"\"\"\n",
    "    folder_path = r\"test_images\"\n",
    "    all_data = []\n",
    "\n",
    "    for well_image in os.listdir(folder_path):\n",
    "        if well_image.lower().endswith(\".czi\"):  # Filter for CZI files\n",
    "            well_image_path = os.path.join(folder_path, well_image)\n",
    "            well_image_base_name = os.path.basename(well_image)[:-4]\n",
    "\n",
    "            # Analyze the image and calculate the slope of normalized MFI over time\n",
    "            intensity_list, times = analyze_time_course_image_mask_saturation(well_image_path)\n",
    "\n",
    "            df = pd.DataFrame({\n",
    "                \"Filename\": [well_image_base_name] * len(intensity_list),\n",
    "                \"Time\": times,\n",
    "                \"MFI\": intensity_list,\n",
    "            })\n",
    "            all_data.append(df)\n",
    "\n",
    "    combined_df = pd.concat(all_data, ignore_index=True)\n",
    "    combined_csv_path = os.path.join(\"DHE.xlsx\")\n",
    "    combined_df.to_excel(combined_csv_path, index=False)\n",
    "\n",
    "# Run the main function\n",
    "if __name__ == \"__main__\":\n",
    "    main()"
   ]
  }
 ],
 "metadata": {
  "kernelspec": {
   "display_name": "Python 3",
   "language": "python",
   "name": "python3"
  },
  "language_info": {
   "codemirror_mode": {
    "name": "ipython",
    "version": 3
   },
   "file_extension": ".py",
   "mimetype": "text/x-python",
   "name": "python",
   "nbconvert_exporter": "python",
   "pygments_lexer": "ipython3",
   "version": "3.12.5"
  }
 },
 "nbformat": 4,
 "nbformat_minor": 2
}
