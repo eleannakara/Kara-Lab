{
 "cells": [
  {
   "cell_type": "code",
   "execution_count": 5,
   "id": "673d924d",
   "metadata": {},
   "outputs": [],
   "source": [
    "import pandas as pd\n",
    "import os"
   ]
  },
  {
   "cell_type": "code",
   "execution_count": 6,
   "id": "83c09553",
   "metadata": {},
   "outputs": [],
   "source": [
    "input_dir  = \".\"\n",
    "output_dir = \"./3K_New_Analysis\""
   ]
  },
  {
   "cell_type": "code",
   "execution_count": 7,
   "id": "d4680fd8",
   "metadata": {},
   "outputs": [],
   "source": [
    "columns_to_copy = [\n",
    "    \"Number of all Red Total LDS in inclusion\",\n",
    "    \"Number of all Red Total LDS not in inclusion\",\n",
    "    \"Number of Red-only Total LDS in inclusion\",\n",
    "    \"Number of Red-only Total LDS not in inclusion\",\n",
    "]\n",
    "\n",
    "files_to_process = [\n",
    "    \"12225_SUMMARY.xlsx\",\n",
    "    \"012925_SUMMARY.xlsx\",\n",
    "    \"020525_SUMMARY.xlsx\",\n",
    "    \"021225_SUMMARY.xlsx\",\n",
    "    \"021925_SUMMARY.xlsx\"\n",
    "]"
   ]
  },
  {
   "cell_type": "code",
   "execution_count": 8,
   "id": "94424a50",
   "metadata": {},
   "outputs": [
    {
     "name": "stdout",
     "output_type": "stream",
     "text": [
      "→ Reading 012925_SUMMARY.xlsx…\n",
      "✅  Wrote 012925_SUMMARY_important_columns.xlsx\n",
      "→ Reading 020525_SUMMARY.xlsx…\n",
      "✅  Wrote 020525_SUMMARY_important_columns.xlsx\n",
      "→ Reading 021225_SUMMARY.xlsx…\n",
      "✅  Wrote 021225_SUMMARY_important_columns.xlsx\n",
      "→ Reading 021925_SUMMARY.xlsx…\n",
      "✅  Wrote 021925_SUMMARY_important_columns.xlsx\n",
      "→ Reading 12225_SUMMARY.xlsx…\n",
      "✅  Wrote 12225_SUMMARY_important_columns.xlsx\n",
      "🎉 All files processed.\n"
     ]
    }
   ],
   "source": [
    "def safe_div(numer, denom):\n",
    "    \"\"\"Return numer/denom, or 0 if denom is zero or invalid.\"\"\"\n",
    "    try:\n",
    "        return numer / denom if denom and denom != 0 else 0\n",
    "    except Exception:\n",
    "        return 0\n",
    "\n",
    "# %%\n",
    "# Build list of candidate Excel filenames:\n",
    "all_excels = [\n",
    "    f for f in os.listdir(input_dir)\n",
    "    if f.lower().endswith((\".xls\", \".xlsx\"))\n",
    "]\n",
    "\n",
    "# Apply whitelist if provided:\n",
    "if files_to_process:\n",
    "    to_loop = [f for f in all_excels if f in files_to_process]\n",
    "else:\n",
    "    to_loop = all_excels\n",
    "\n",
    "# Process each file\n",
    "for fname in to_loop:\n",
    "    in_path = os.path.join(input_dir, fname)\n",
    "    print(f\"→ Reading {fname}…\")\n",
    "    df = pd.read_excel(in_path)\n",
    "\n",
    "    # Identify which of our key columns are present\n",
    "    present = [c for c in columns_to_copy if c in df.columns]\n",
    "    missing = set(columns_to_copy) - set(present)\n",
    "    if missing:\n",
    "        print(f\"⚠️  Warning: {fname} is missing columns {missing}\")\n",
    "\n",
    "    # Build the new DataFrame\n",
    "    new_df = df[present].copy()\n",
    "\n",
    "    # Insert Filename pulled from the sheet (or fallback to the file’s name)\n",
    "    if \"Filename\" in df.columns:\n",
    "        new_df.insert(0, \"Filename\", df[\"Filename\"])\n",
    "    else:\n",
    "        new_df.insert(0, \"Filename\", fname)\n",
    "\n",
    "    # Compute the two ratio columns\n",
    "    new_df[\"Red-only/All Red Total (in inclusion)\"] = new_df.apply(\n",
    "        lambda r: safe_div(\n",
    "            r.get(\"Number of Red-only Total LDS in inclusion\", 0),\n",
    "            r.get(\"Number of all Red Total LDS in inclusion\", 0),\n",
    "        ),\n",
    "        axis=1\n",
    "    )\n",
    "    new_df[\"Red-only/All Red Total (outside inclusion)\"] = new_df.apply(\n",
    "        lambda r: safe_div(\n",
    "            r.get(\"Number of Red-only Total LDS not in inclusion\", 0),\n",
    "            r.get(\"Number of all Red Total LDS not in inclusion\", 0),\n",
    "        ),\n",
    "        axis=1\n",
    "    )\n",
    "\n",
    "    # Write out the processed file\n",
    "    out_name = os.path.splitext(fname)[0] + \"_important_columns.xlsx\"\n",
    "    out_path = os.path.join(output_dir, out_name)\n",
    "    new_df.to_excel(out_path, index=False)\n",
    "    print(f\"✅  Wrote {out_name}\")\n",
    "\n",
    "# %%\n",
    "print(\"🎉 All files processed.\")"
   ]
  }
 ],
 "metadata": {
  "kernelspec": {
   "display_name": "base",
   "language": "python",
   "name": "python3"
  },
  "language_info": {
   "codemirror_mode": {
    "name": "ipython",
    "version": 3
   },
   "file_extension": ".py",
   "mimetype": "text/x-python",
   "name": "python",
   "nbconvert_exporter": "python",
   "pygments_lexer": "ipython3",
   "version": "3.13.2"
  }
 },
 "nbformat": 4,
 "nbformat_minor": 5
}
