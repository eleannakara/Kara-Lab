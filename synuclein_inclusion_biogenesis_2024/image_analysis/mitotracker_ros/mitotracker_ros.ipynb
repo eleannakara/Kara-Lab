{
 "cells": [
  {
   "cell_type": "markdown",
   "metadata": {},
   "source": [
    "This code analyzes the mean flourescence intensity of the red channel at each time point, to calculate the rate of increase in the red fluorescence of the dye, which signals the rate of mitochondrial ROS production."
   ]
  },
  {
   "cell_type": "markdown",
   "metadata": {},
   "source": [
    "Import Libraries"
   ]
  },
  {
   "cell_type": "code",
   "execution_count": 1,
   "metadata": {},
   "outputs": [],
   "source": [
    "import czifile\n",
    "import numpy as np\n",
    "from skimage.filters import gaussian, threshold_otsu\n",
    "from skimage.measure import label, regionprops\n",
    "import matplotlib.pyplot as plt\n",
    "import cv2\n",
    "from IPython.display import Image, display\n",
    "from skimage.color import label2rgb\n",
    "from skimage.filters import gaussian, sobel\n",
    "from skimage.measure import label, regionprops\n",
    "from skimage.morphology import binary_erosion, binary_dilation, disk\n",
    "from scipy.ndimage import binary_fill_holes\n",
    "from matplotlib.colors import LogNorm\n",
    "from skimage import exposure, filters, measure\n",
    "import scipy.ndimage as ndi\n",
    "import pandas as pd\n",
    "import os\n",
    "from scipy import stats"
   ]
  },
  {
   "cell_type": "markdown",
   "metadata": {},
   "source": [
    "Define Sub Functions"
   ]
  },
  {
   "cell_type": "code",
   "execution_count": 2,
   "metadata": {},
   "outputs": [],
   "source": [
    "def analyze_time_course_image(image_path):\n",
    "    czi_file = czifile.CziFile(image_path)\n",
    "    czi_data = czi_file.asarray()\n",
    "    all_timepoints = slice(None)\n",
    "    green_channel_data = czi_data[all_timepoints, :, :, :, :]\n",
    "    green_channel_data = np.squeeze(green_channel_data)\n",
    "    intensity_list = []\n",
    "    times = []\n",
    "    for frame_index in range(green_channel_data.shape[0]):\n",
    "        green_channel = green_channel_data[frame_index, :, :]\n",
    "        times.append(frame_index)\n",
    "        mean_intensity_channel1 = np.mean(green_channel)\n",
    "        intensity_list.append(mean_intensity_channel1)\n",
    "    return intensity_list, times"
   ]
  },
  {
   "cell_type": "markdown",
   "metadata": {},
   "source": [
    "Define Main Function"
   ]
  },
  {
   "cell_type": "code",
   "execution_count": 3,
   "metadata": {},
   "outputs": [],
   "source": [
    "all_data = []\n",
    "\n",
    "folder_path = \"test_images\"\n",
    "for well_image in os.listdir(folder_path):\n",
    "    if well_image.lower().endswith(\".czi\"):  # Filter for CZI files\n",
    "        well_image_path = os.path.join(folder_path, well_image)\n",
    "        well_image_base_name = os.path.basename(well_image)[:-4]\n",
    "        intensity_list, times = analyze_time_course_image(well_image_path)\n",
    "        df = pd.DataFrame({\n",
    "            \"Filename\": [well_image_base_name] * len(intensity_list),\n",
    "            \"Time\": times,\n",
    "            \"MFI\": intensity_list\n",
    "            })\n",
    "        \n",
    "        all_data.append(df)\n",
    "\n",
    "combined_df = pd.concat(all_data, ignore_index=True)\n",
    "\n",
    "# Save the combined DataFrame to a single CSV\n",
    "combined_csv_path = os.path.join(\"MITOTRACKER_ROS.xlsx\")\n",
    "combined_df.to_excel(combined_csv_path, index=False)"
   ]
  }
 ],
 "metadata": {
  "kernelspec": {
   "display_name": "Python 3",
   "language": "python",
   "name": "python3"
  },
  "language_info": {
   "codemirror_mode": {
    "name": "ipython",
    "version": 3
   },
   "file_extension": ".py",
   "mimetype": "text/x-python",
   "name": "python",
   "nbconvert_exporter": "python",
   "pygments_lexer": "ipython3",
   "version": "3.12.5"
  }
 },
 "nbformat": 4,
 "nbformat_minor": 2
}
