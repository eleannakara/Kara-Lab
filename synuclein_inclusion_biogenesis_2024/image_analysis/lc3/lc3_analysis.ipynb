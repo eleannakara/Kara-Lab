{
 "cells": [
  {
   "cell_type": "markdown",
   "metadata": {},
   "source": [
    "This code measures the GFP/RFP ratio, which is a measure of autophagy activation, with a lower ratio representing a higher autophagy rate as well as the number of inclusions in cells to compare chloroquine treatment with the untreated condition."
   ]
  },
  {
   "cell_type": "markdown",
   "metadata": {},
   "source": [
    "Import Libraries"
   ]
  },
  {
   "cell_type": "code",
   "execution_count": 12,
   "metadata": {},
   "outputs": [],
   "source": [
    "import czifile\n",
    "import numpy as np\n",
    "from skimage.filters import gaussian, sobel, threshold_otsu\n",
    "from skimage.measure import label, regionprops\n",
    "from skimage.morphology import binary_erosion, binary_dilation, disk\n",
    "from scipy.ndimage import binary_fill_holes\n",
    "from skimage.color import label2rgb\n",
    "import matplotlib.pyplot as plt\n",
    "import pandas as pd\n",
    "import os"
   ]
  },
  {
   "cell_type": "markdown",
   "metadata": {},
   "source": [
    "Define Sub Functions"
   ]
  },
  {
   "cell_type": "code",
   "execution_count": 17,
   "metadata": {},
   "outputs": [],
   "source": [
    "def mask_near_border(mask, distance=5):\n",
    "    \"\"\"Checks if a binary mask comes within a specified distance of the image borders.\n",
    "\n",
    "    Args:\n",
    "        mask: A numpy array representing the binary mask (0s and 1s).\n",
    "        distance: The distance from the border to check (default: 5 pixels).\n",
    "\n",
    "    Returns:\n",
    "        True if the mask comes within the specified distance of any border, False otherwise.\n",
    "    \"\"\"\n",
    "    \n",
    "    # Check if there are any True values in the specified range from the border\n",
    "    if np.any(mask[:distance, :]) or np.any(mask[-distance:, :]): # Check if there are any Trues within distance from the top or bottom edge\n",
    "        return True\n",
    "    if np.any(mask[:, :distance]) or np.any(mask[:, -distance:]): # Check if there are any Trues within distance from the left or right edge\n",
    "        return True\n",
    "    \n",
    "    # Otherwise, there are no Trues within 'distance' of the border\n",
    "    return False\n",
    "\n",
    "def process_file(file_path, basename):\n",
    "    image = czifile.imread(file_path)\n",
    "    image_squeezed = np.squeeze(image)\n",
    "    first_frame = image_squeezed[0,:,:] #green channel\n",
    "    second_frame = image_squeezed[1,:,:] #red channel\n",
    "    red_channel = gaussian(first_frame, sigma=2)\n",
    "    green_channel = gaussian(second_frame, sigma=2)\n",
    "    initial_threshold = threshold_otsu(green_channel)\n",
    "    cells_thresholded = green_channel > initial_threshold\n",
    "    cells_edges = sobel(cells_thresholded)  # Using Sobel edge detection to highlight edges\n",
    "    cells_edges = binary_dilation(cells_edges, disk(2))  # Increase border thickness\n",
    "    cells_edges = binary_erosion(cells_edges, disk(1))  # Ensure borders are well-defined\n",
    "    labeled_image = label(cells_edges)\n",
    "    \n",
    "    #initialize lists to store values\n",
    "    red_wholecell_mfi = []\n",
    "    green_wholecell_mfi = []\n",
    "    num_inclusions = []\n",
    "    cell_sizes = []\n",
    "    \n",
    "    i = 0 #counter to store regions\n",
    "    # Iterate over regions\n",
    "    for region in regionprops(labeled_image):\n",
    "        # Check if region area is above the threshold\n",
    "        cell_size = region.area\n",
    "        if region.area < 1000:\n",
    "            continue\n",
    "        selem = disk(radius=3)\n",
    "        # Create a mask for the current region\n",
    "        mask = labeled_image == region.label\n",
    "        if mask_near_border(mask):\n",
    "            continue\n",
    "        i = i + 1\n",
    "        whole_cell = mask\n",
    "        channel1_masked = green_channel * whole_cell\n",
    "        channel2_masked = red_channel * whole_cell\n",
    "        \n",
    "        threshold = threshold_otsu(green_channel[whole_cell > 0])\n",
    "\n",
    "        mask_inclusion = channel1_masked > threshold\n",
    "        \n",
    "        inclusion_edges = binary_dilation(mask_inclusion, disk(1))  # Increase border thickness\n",
    "        labeled_inclusions = label(inclusion_edges) # Label Inclusions\n",
    "        inclusion_counter = 0 # Initialize an inclusion counter\n",
    "        for region in regionprops(labeled_inclusions):\n",
    "            if region.area/cell_size > 0.3: # to account for segmentation issues\n",
    "                continue\n",
    "            inclusion_counter +=1\n",
    "            \n",
    "        # Calculate mean fluorescence intensity for each channel\n",
    "        mean_intensity_channel1 = np.mean(channel1_masked[whole_cell])\n",
    "        mean_intensity_channel2 = np.mean(channel2_masked[whole_cell])\n",
    "\n",
    "        red_wholecell_mfi.append(mean_intensity_channel2)\n",
    "        green_wholecell_mfi.append(mean_intensity_channel1)\n",
    "        num_inclusions.append(inclusion_counter)\n",
    "        cell_sizes.append(cell_size)\n",
    "\n",
    "    # Create DataFrame to store values for the image\n",
    "    df = pd.DataFrame({\n",
    "        \"Filename\": [basename] * len(cell_sizes),\n",
    "        \"Cell\": range(0, len(cell_sizes)),\n",
    "        \"red_wholecell_mfi\": red_wholecell_mfi,\n",
    "        \"green_wholecell_mfi\": green_wholecell_mfi,\n",
    "        \"num_inclusions\": num_inclusions,\n",
    "        'cell_size': cell_sizes,\n",
    "        })\n",
    "    return df\n"
   ]
  },
  {
   "cell_type": "markdown",
   "metadata": {},
   "source": [
    "Define Main Function"
   ]
  },
  {
   "cell_type": "code",
   "execution_count": 18,
   "metadata": {},
   "outputs": [],
   "source": [
    "all_data = []\n",
    "discarded_images = []\n",
    "\n",
    "folder_path = r\"test_images\"\n",
    "for well_image in os.listdir(folder_path):\n",
    "    if well_image.lower().endswith(\".czi\"):  # Filter for CZI files\n",
    "        well_image_path = os.path.join(folder_path, well_image)\n",
    "        well_image_base_name = os.path.basename(well_image)[:-4]\n",
    "        cwd = os.getcwd()\n",
    "        well_image_dir = os.path.join(cwd, well_image_base_name)\n",
    "        df = process_file(well_image_path, well_image_base_name)\n",
    "        if df is not None:\n",
    "            all_data.append(df)\n",
    "        else:\n",
    "            discarded_images.append(well_image_base_name)\n",
    "\n",
    "# Concatenate all DataFrames into one\n",
    "combined_df = pd.concat(all_data, ignore_index=True)\n",
    "\n",
    "# Save the combined DataFrame to a single CSV\n",
    "combined_csv_path = os.path.join(cwd, \"LC3.xlsx\")\n",
    "combined_df.to_excel(combined_csv_path, index=False)\n"
   ]
  }
 ],
 "metadata": {
  "kernelspec": {
   "display_name": "Python 3",
   "language": "python",
   "name": "python3"
  },
  "language_info": {
   "codemirror_mode": {
    "name": "ipython",
    "version": 3
   },
   "file_extension": ".py",
   "mimetype": "text/x-python",
   "name": "python",
   "nbconvert_exporter": "python",
   "pygments_lexer": "ipython3",
   "version": "3.12.5"
  }
 },
 "nbformat": 4,
 "nbformat_minor": 2
}
