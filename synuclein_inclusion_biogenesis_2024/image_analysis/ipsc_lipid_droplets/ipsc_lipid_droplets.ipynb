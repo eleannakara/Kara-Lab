{
 "cells": [
  {
   "cell_type": "markdown",
   "metadata": {},
   "source": [
    "Count the number of lipid droplets per cell in iPSC neurons to determine how various genetic and treatment conditions affect lipid morphology."
   ]
  },
  {
   "cell_type": "markdown",
   "metadata": {},
   "source": [
    "Import Libraries"
   ]
  },
  {
   "cell_type": "code",
   "execution_count": 1,
   "metadata": {},
   "outputs": [],
   "source": [
    "import czifile\n",
    "import numpy as np\n",
    "from skimage.filters import gaussian, threshold_otsu\n",
    "from skimage.measure import label, regionprops\n",
    "import matplotlib.pyplot as plt\n",
    "import cv2\n",
    "from IPython.display import Image, display\n",
    "from skimage.color import label2rgb, rgb2hsv\n",
    "from skimage.filters import gaussian, sobel\n",
    "from skimage.measure import label, regionprops\n",
    "from skimage.morphology import binary_erosion, binary_dilation, disk, local_maxima\n",
    "from scipy.ndimage import binary_fill_holes\n",
    "from skimage.feature import blob_log\n",
    "from skimage.color import rgb2gray\n",
    "from skimage.io import imshow\n",
    "from skimage.draw import circle_perimeter\n",
    "from matplotlib.colors import LogNorm\n",
    "import scipy.ndimage as ndi\n",
    "import pandas as pd\n",
    "import os\n",
    "from IPython.display import clear_output\n",
    "from cellpose import models, io, plot\n",
    "model = models.Cellpose(model_type='cyto3')\n",
    "import time"
   ]
  },
  {
   "cell_type": "markdown",
   "metadata": {},
   "source": [
    "Define Sub Functions"
   ]
  },
  {
   "cell_type": "code",
   "execution_count": 2,
   "metadata": {},
   "outputs": [],
   "source": [
    "def process_file_noseg(file_path, basename):\n",
    "    \"\"\"\n",
    "    Processes a .czi file, segments and identifies nuclei and lipid droplets without segmentation,\n",
    "    and visualizes the results.\n",
    "\n",
    "    Args:\n",
    "        file_path (str): The path to the .czi file.\n",
    "        basename (str): The base name of the file.\n",
    "\n",
    "    Returns:\n",
    "        tuple: Number of nuclei and lipid droplets identified in the image.\n",
    "    \"\"\"\n",
    "    image = czifile.imread(file_path)\n",
    "    image_squeezed = np.squeeze(image)\n",
    "    first_frame = image_squeezed[0, :, :]\n",
    "    second_frame = image_squeezed[1, :, :]\n",
    "\n",
    "    red_channel = gaussian(first_frame, sigma=2)\n",
    "    blue_channel = gaussian(second_frame, sigma=2) > 0.2\n",
    "\n",
    "    labeled_image = label(blue_channel)\n",
    "    nuclei = [region.area for region in regionprops(labeled_image)]\n",
    "    nuclei = [x for x in nuclei if x > 500]\n",
    "\n",
    "    threshold = np.percentile(red_channel, 95) + 0.1\n",
    "    inclusions = red_channel > threshold\n",
    "\n",
    "    labeled_image = label(inclusions)\n",
    "    lipids_list = [region.area for region in regionprops(labeled_image)]\n",
    "\n",
    "    return len(nuclei), len(lipids_list)\n",
    "\n"
   ]
  },
  {
   "cell_type": "markdown",
   "metadata": {},
   "source": [
    "Main Function"
   ]
  },
  {
   "cell_type": "code",
   "execution_count": 3,
   "metadata": {},
   "outputs": [],
   "source": [
    "def main():\n",
    "    \"\"\"\n",
    "    Main function to process multiple .czi files in a folder, identify nuclei and lipid droplets,\n",
    "    and save the results to an Excel file.\n",
    "    \"\"\"\n",
    "    folder_path = r\"test_images\"\n",
    "    basenames = []\n",
    "    nuclei = []\n",
    "    inclusions = []\n",
    "\n",
    "    for well_image in os.listdir(folder_path):\n",
    "        if well_image.lower().endswith(\".czi\"):  # Filter for CZI files\n",
    "            well_image_path = os.path.join(folder_path, well_image)\n",
    "            well_image_base_name = os.path.basename(well_image)[:-4]\n",
    "            num_nuclei, num_inclusions = process_file_noseg(well_image_path, well_image_base_name)\n",
    "            if num_nuclei == 0: #if there are no nuclei, skip the image\n",
    "                continue\n",
    "            nuclei.append(num_nuclei)\n",
    "            inclusions.append(num_inclusions)\n",
    "            basenames.append(well_image_base_name)\n",
    "\n",
    "    # Save results to Excel\n",
    "    df = pd.DataFrame({\n",
    "        \"Filename\": basenames,\n",
    "        \"Nuclei\": nuclei,\n",
    "        \"Lipid Droplets\": inclusions\n",
    "    })\n",
    "\n",
    "    combined_csv_path = os.path.join(\"NEURONS.xlsx\")\n",
    "    df.to_excel(combined_csv_path, index=False)\n",
    "\n",
    "if __name__ == \"__main__\":\n",
    "    main()"
   ]
  }
 ],
 "metadata": {
  "kernelspec": {
   "display_name": "Python 3",
   "language": "python",
   "name": "python3"
  },
  "language_info": {
   "codemirror_mode": {
    "name": "ipython",
    "version": 3
   },
   "file_extension": ".py",
   "mimetype": "text/x-python",
   "name": "python",
   "nbconvert_exporter": "python",
   "pygments_lexer": "ipython3",
   "version": "3.12.5"
  }
 },
 "nbformat": 4,
 "nbformat_minor": 2
}
