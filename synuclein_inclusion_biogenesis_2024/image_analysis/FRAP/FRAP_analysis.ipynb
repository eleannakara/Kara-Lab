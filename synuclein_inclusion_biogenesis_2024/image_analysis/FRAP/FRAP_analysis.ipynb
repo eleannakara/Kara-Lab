{
 "cells": [
  {
   "cell_type": "code",
   "execution_count": 616,
   "id": "d5c8a10f",
   "metadata": {},
   "outputs": [],
   "source": [
    "import pandas as pd\n",
    "import numpy as np\n",
    "import math\n",
    "from openpyxl import load_workbook\n",
    "from openpyxl.utils import get_column_letter\n",
    "from openpyxl.styles import PatternFill, Alignment\n",
    "import statistics\n",
    "from scipy.optimize import curve_fit\n",
    "import matplotlib.pyplot as plt"
   ]
  },
  {
   "cell_type": "markdown",
   "id": "90e8b0be",
   "metadata": {},
   "source": [
    "Settings"
   ]
  },
  {
   "cell_type": "code",
   "execution_count": 617,
   "id": "653aabc4",
   "metadata": {},
   "outputs": [],
   "source": [
    "FILE_NAME = \"data.xlsx\"\n",
    "TIME_INCREMENT = 5.08\n",
    "SIZE_OF_INCLUSION = 1.351\n",
    "IMAGE_NAME = \"3K_02\""
   ]
  },
  {
   "cell_type": "markdown",
   "id": "ae37d8b8",
   "metadata": {},
   "source": [
    "Sub Functions"
   ]
  },
  {
   "cell_type": "code",
   "execution_count": 618,
   "id": "5fb07378",
   "metadata": {},
   "outputs": [],
   "source": [
    "def truncate(x, decimals):\n",
    "    if isinstance(x, float):\n",
    "        factor = 10 ** decimals\n",
    "        return math.trunc(x * factor) / factor\n",
    "    return x\n",
    "\n",
    "def avg(ws, col, start_row, end_row):\n",
    "    values = [ws[f\"{col}{row}\"].value for row in range(start_row, end_row + 1)]\n",
    "    values = [v for v in values if isinstance(v, (int, float))]\n",
    "    return statistics.mean(values) if values else None"
   ]
  },
  {
   "cell_type": "markdown",
   "id": "560240ee",
   "metadata": {},
   "source": [
    "Clean Data"
   ]
  },
  {
   "cell_type": "code",
   "execution_count": 619,
   "id": "4bcdc97f",
   "metadata": {},
   "outputs": [
    {
     "name": "stdout",
     "output_type": "stream",
     "text": [
      "    Intensity Mean Value 1  Intensity Mean Value 2  Intensity Mean Value 3\n",
      "0                   51.346                   11.84                    0.00\n",
      "1                   51.427                   11.87                    0.00\n",
      "2                   51.729                   12.05                    0.00\n",
      "3                   56.204                   12.00                    0.00\n",
      "4                   57.743                   11.68                    0.00\n",
      "5                   34.074                   11.56                    0.00\n",
      "6                   44.237                   11.30                    0.00\n",
      "7                   46.663                   11.31                    0.00\n",
      "8                   48.675                   11.35                    0.00\n",
      "9                   47.560                   11.33                    0.00\n",
      "10                  47.875                   11.11                    0.00\n",
      "11                  52.115                   11.08                    0.01\n",
      "12                  53.868                   10.93                    0.00\n",
      "13                  55.276                   10.84                    0.00\n",
      "14                  57.035                   10.65                    0.01\n",
      "15                  57.500                   10.84                    0.00\n",
      "16                  57.127                   10.81                    0.00\n",
      "17                  55.892                   10.74                    0.00\n",
      "18                  55.211                   10.74                    0.00\n",
      "19                  56.278                   10.74                    0.00\n",
      "20                  55.979                   10.52                    0.00\n",
      "21                  55.528                   10.63                    0.00\n",
      "22                  57.390                   10.60                    0.00\n",
      "23                  57.429                   10.70                    0.00\n",
      "24                  56.954                   10.60                    0.00\n"
     ]
    }
   ],
   "source": [
    "df = pd.read_excel(FILE_NAME)\n",
    "\n",
    "analysis = df.iloc[:, :3].copy()\n",
    "\n",
    "analysis.iloc[:, 0] = analysis.iloc[:, 0].apply(lambda x: truncate(x, 3))\n",
    "analysis.iloc[:, 1] = analysis.iloc[:, 1].apply(lambda x: truncate(x, 2))\n",
    "analysis.iloc[:, 2] = analysis.iloc[:, 2].apply(lambda x: truncate(x, 2))\n",
    "\n",
    "print(analysis)"
   ]
  },
  {
   "cell_type": "code",
   "execution_count": 620,
   "id": "c9094c2d",
   "metadata": {},
   "outputs": [],
   "source": [
    "# Step 3 (safe version): Add or replace cycle column\n",
    "analysis['cycle'] = list(range(1, len(analysis) + 1))\n",
    "\n",
    "# Reorder so 'cycle' is the first column\n",
    "analysis = analysis[['cycle'] + [col for col in analysis.columns if col != 'cycle']]\n",
    "\n",
    "cols = analysis.columns.tolist()\n",
    "\n",
    "cols[1] = 'ROI1'\n",
    "cols[2] = 'ROI2'\n",
    "cols[3] = 'ROI3'\n",
    "\n",
    "analysis.columns = cols\n",
    "\n",
    "num_rows = len(analysis)\n",
    "time_column = [round((i + 1) * TIME_INCREMENT, 2) for i in range(num_rows)]\n",
    "\n",
    "analysis[\"TIME (sec)\"] = time_column\n",
    "\n",
    "analysis.insert(5, 'ROI1 ', [None] * num_rows)\n",
    "analysis.insert(6, 'ROI2 ', [None] * num_rows)\n",
    "analysis.insert(7, 'ROI3 ', [None] * num_rows)\n",
    "\n",
    "analysis.to_excel(\"analysis.xlsx\", index=False)\n",
    "\n"
   ]
  },
  {
   "cell_type": "code",
   "execution_count": 621,
   "id": "7f574ee4",
   "metadata": {},
   "outputs": [],
   "source": [
    "# Load the existing workbook and worksheet\n",
    "wb = load_workbook(\"analysis.xlsx\")\n",
    "ws = wb.active  # or wb['SheetName'] if named\n",
    "\n",
    "red_accent_fill = PatternFill(start_color=\"F4CCCC\", end_color=\"F4CCCC\", fill_type=\"solid\")\n",
    "orange_accent_fill = PatternFill(start_color=\"FCE5CD\", end_color=\"FCE5CD\", fill_type=\"solid\")\n",
    "aqua_accent_fill = PatternFill(start_color=\"B7DEE8\", end_color=\"B7DEE8\", fill_type=\"solid\")\n",
    "dark_blue_accent_fill = PatternFill(start_color=\"00B0F0\", end_color=\"00B0F0\", fill_type=\"solid\")\n",
    "purple_accent_fill = PatternFill(start_color=\"CCC0DA\", end_color=\"CCC0DA\", fill_type=\"solid\")\n",
    "light_pink_accent_fill = PatternFill(start_color=\"DA9694\", end_color=\"DA9694\", fill_type=\"solid\")\n",
    "light_brown_accent_fill = PatternFill(start_color=\"C4BD97\", end_color=\"C4BD97\", fill_type=\"solid\")\n",
    "light_green_accent_fill = PatternFill(start_color=\"EBF1DE\", end_color=\"EBF1DE\", fill_type=\"solid\")\n",
    "blue_accent_fill = PatternFill(start_color=\"538DD5\", end_color=\"538DD5\", fill_type=\"solid\")\n",
    "\n",
    "\n",
    "# Manual calculations\n",
    "f6 = avg(ws, \"B\", 2, 6)\n",
    "g6 = avg(ws, \"C\", 2, 6)\n",
    "h6 = avg(ws, \"D\", 2, 6)\n",
    "g7 = avg(ws, \"C\", 7, 41)\n",
    "j7 = g7 / g6 if g6 else None\n",
    "\n",
    "# Assign static labels\n",
    "ws[\"I6\"] = \"AVERAGE 5 images before bleaching\"\n",
    "ws[\"I7\"] = \"AVERAGE all images after bleaching\"\n",
    "ws[\"J6\"] = \"r RO2\"\n",
    "ws[\"K1\"] = \"normalized F ROI1\"\n",
    "ws[\"L6\"] = \"plateau best fit value (prism)\"\n",
    "ws[\"M6\"] = \"mobile fraction Fm\"\n",
    "ws[\"N6\"] = \"immobile fraction Fi\"\n",
    "ws[\"O6\"] = \"size of inclusion\"\n",
    "ws[\"P6\"] = \"average normalized F ROI1 before bleaching\"\n",
    "\n",
    "# Assign computed values\n",
    "ws[\"F6\"] = f6\n",
    "ws[\"G6\"] = g6\n",
    "ws[\"H6\"] = h6\n",
    "ws[\"G7\"] = g7\n",
    "ws[\"J7\"] = j7\n",
    "ws[\"O7\"] = SIZE_OF_INCLUSION\n",
    "\n",
    "# Compute normalized F ROI1 manually in K2:K{end}\n",
    "for row in range(2, ws.max_row + 1):\n",
    "    b = ws[f\"B{row}\"].value\n",
    "    d = ws[f\"D{row}\"].value\n",
    "    if isinstance(b, (int, float)) and isinstance(d, (int, float)) and j7:\n",
    "        ws[f\"K{row}\"] = (b - d) / j7\n",
    "    else:\n",
    "        ws[f\"K{row}\"] = None\n",
    "\n",
    "p7 = avg(ws, \"K\", 2, 6)\n",
    "ws[\"P7\"] = p7\n",
    "\n",
    "\n",
    "for cell in [\"F6\", \"G6\", \"H6\", \"I6\"]:\n",
    "    ws[cell].fill = red_accent_fill\n",
    "\n",
    "for cell in [\"G7\", \"H7\", \"I7\"]:\n",
    "    ws[cell].fill = orange_accent_fill  \n",
    "\n",
    "for cell in [\"J6\", \"J7\"]:\n",
    "    ws[cell].fill = aqua_accent_fill\n",
    "\n",
    "for cell in [\"L6\", \"L7\"]:\n",
    "    ws[cell].fill = purple_accent_fill\n",
    "\n",
    "for cell in [\"M6\", \"M7\"]:\n",
    "    ws[cell].fill = light_pink_accent_fill\n",
    "\n",
    "for cell in [\"N6\", \"N7\"]:\n",
    "    ws[cell].fill = light_brown_accent_fill\n",
    "\n",
    "for cell in [\"O6\", \"O7\"]:\n",
    "    ws[cell].fill = light_green_accent_fill\n",
    "\n",
    "for cell in [\"P6\", \"P7\"]:\n",
    "    ws[cell].fill = blue_accent_fill\n",
    "\n",
    "for row in range(1, ws.max_row + 1):\n",
    "    ws[f\"K{row}\"].fill = dark_blue_accent_fill\n",
    "    \n",
    "ws.row_dimensions[6].height = 57\n",
    "ws.column_dimensions[\"I\"].width = 16\n",
    "ws.column_dimensions[\"L\"].width = 12.57\n",
    "ws.column_dimensions[\"P\"].width = 11.14\n",
    "\n",
    "\n",
    "ws[\"I6\"].alignment = Alignment(wrap_text=True)\n",
    "ws[\"I7\"].alignment = Alignment(wrap_text=True)\n",
    "ws[\"L6\"].alignment = Alignment(wrap_text=True)\n",
    "ws[\"M6\"].alignment = Alignment(wrap_text=True)\n",
    "ws[\"N6\"].alignment = Alignment(wrap_text=True)\n",
    "ws[\"O6\"].alignment = Alignment(wrap_text=True)\n",
    "ws[\"P6\"].alignment = Alignment(wrap_text=True)\n",
    "\n",
    "column_indices = [1, 2, 3, 4, 5, 11]\n",
    "\n",
    "for col_idx in column_indices:\n",
    "    col_letter = get_column_letter(col_idx)\n",
    "    max_length = 0\n",
    "    for cell in ws[col_letter]:\n",
    "        if cell.value:\n",
    "            max_length = max(max_length, len(str(cell.value)))\n",
    "    \n",
    "    ws.column_dimensions[col_letter].width = max_length + 2  # Add some padding\n",
    "\n",
    "wb.save(\"analysis.xlsx\")"
   ]
  },
  {
   "cell_type": "markdown",
   "id": "e648f9cb",
   "metadata": {},
   "source": [
    "Fit Exponential Model"
   ]
  },
  {
   "cell_type": "code",
   "execution_count": 622,
   "id": "f8221f26",
   "metadata": {},
   "outputs": [
    {
     "name": "stdout",
     "output_type": "stream",
     "text": [
      "Plateau value (YM): 63.45\n"
     ]
    }
   ],
   "source": [
    "# Read the Excel file (assumes values already calculated in Excel)\n",
    "df = pd.read_excel(\"analysis.xlsx\")\n",
    "\n",
    "# Get values from E7 down (Excel row 7 → index 6)\n",
    "x = df.iloc[5:, 4].values   # Column E is index 4\n",
    "y = df.iloc[5:, 10].values  # Column K is index 10\n",
    "\n",
    "def exp_plateau_fixed_y0(x, YM, k):\n",
    "    return YM * (1 - np.exp(-k * x))\n",
    "\n",
    "# Fit the model\n",
    "popt, _ = curve_fit(exp_plateau_fixed_y0, x, y, p0=[max(y), 0.01], bounds=([0, 1e-8], [np.inf, np.inf]))\n",
    "YM, k = popt\n",
    "\n",
    "# Generate fit line\n",
    "x_fit = np.linspace(min(x), max(x), 200)\n",
    "y_fit = exp_plateau_fixed_y0(x_fit, *popt)\n",
    "\n",
    "plateu = YM\n",
    "plateu = round(plateu, 2)\n",
    "print(f\"Plateau value (YM): {plateu}\")"
   ]
  },
  {
   "cell_type": "code",
   "execution_count": 623,
   "id": "36f7bf71",
   "metadata": {},
   "outputs": [],
   "source": [
    "wb = load_workbook(\"analysis.xlsx\")\n",
    "ws = wb.active \n",
    "\n",
    "# Write the plateau value to the worksheet\n",
    "ws[\"L7\"] = plateu\n",
    "m7 = plateu / p7 \n",
    "n7 = 1 - m7 \n",
    "ws[\"M7\"] = m7\n",
    "ws[\"N7\"] = n7\n",
    "\n",
    "wb.save(\"analysis.xlsx\")\n",
    "\n",
    "column_e = df.iloc[:, 4].dropna()\n",
    "\n",
    "time_frame = column_e.iloc[-1]"
   ]
  },
  {
   "cell_type": "markdown",
   "id": "1ac6a570",
   "metadata": {},
   "source": [
    "Fit Curve Excel"
   ]
  },
  {
   "cell_type": "code",
   "execution_count": 624,
   "id": "3414da1e",
   "metadata": {},
   "outputs": [],
   "source": [
    "x_generated = np.linspace(0, time_frame, 1000)\n",
    "y_generated = exp_plateau_fixed_y0(x_generated, YM, k)\n",
    "\n",
    "# Create DataFrame and write to Excel\n",
    "fit_df = pd.DataFrame({\n",
    "    \"Time (sec)\": x_generated,\n",
    "    \"Fluorescence intensity\": y_generated, \n",
    "    \"Fluorescence intensity (percentage)\": (y_generated * 100) / p7\n",
    "})\n",
    "\n",
    "\n",
    "fit_df.to_excel(\"Fit curve.xlsx\", index=False)"
   ]
  },
  {
   "cell_type": "markdown",
   "id": "237acf59",
   "metadata": {},
   "source": [
    "Generate Graphs"
   ]
  },
  {
   "cell_type": "code",
   "execution_count": 625,
   "id": "f71bcff3",
   "metadata": {},
   "outputs": [
    {
     "data": {
      "image/png": "[encoded data removed]",
      "text/plain": [
       "<Figure size 600x400 with 1 Axes>"
      ]
     },
     "metadata": {},
     "output_type": "display_data"
    }
   ],
   "source": [
    "df = pd.read_excel(\"analysis.xlsx\")\n",
    "\n",
    "\n",
    "# Get all rows from the first 4 columns\n",
    "df = df.iloc[:, :4]\n",
    "df.columns = [\"cycle\", \"ROI1\", \"ROI2\", \"ROI3\"]\n",
    "\n",
    "# Create plot\n",
    "plt.figure(figsize=(6, 4))\n",
    "\n",
    "# Plot each ROI with matching color, marker, and size\n",
    "plt.plot(df[\"cycle\"], df[\"ROI1\"], marker='o', markersize=5, color='red', label='ROI1', linewidth=1)\n",
    "plt.plot(df[\"cycle\"], df[\"ROI2\"], marker='o', markersize=5, color='blue', label='ROI2', linewidth=1)\n",
    "plt.plot(df[\"cycle\"], df[\"ROI3\"], marker='o', markersize=5, color='green', label='ROI3', linewidth=1)\n",
    "\n",
    "# Axis labels and title\n",
    "plt.xlabel(\"cycle\", fontsize=10)\n",
    "plt.ylabel(\"Fluorescence Intensity (a.u.)\", fontsize=10)\n",
    "plt.title(f\"{IMAGE_NAME} RAW DATA\", fontsize=12)\n",
    "\n",
    "# Axes limits and ticks\n",
    "plt.xlim(0, df[\"cycle\"].max() + 2)\n",
    "plt.ylim(-0.7, df[[\"ROI1\", \"ROI2\", \"ROI3\"]].max().max() * 1.15)\n",
    "plt.xticks(fontsize=8)\n",
    "plt.yticks(fontsize=8)\n",
    "\n",
    "# Legend styling\n",
    "plt.legend(loc='center left', bbox_to_anchor=(1, 0.5), fontsize=9, frameon=True)\n",
    "\n",
    "# Remove grid, apply tight layout\n",
    "plt.grid(False)\n",
    "plt.tight_layout()\n",
    "plt.show()"
   ]
  },
  {
   "cell_type": "code",
   "execution_count": 626,
   "id": "8ccf555a",
   "metadata": {},
   "outputs": [
    {
     "data": {
      "image/png": "[encoded data removed]",
      "text/plain": [
       "<Figure size 600x400 with 1 Axes>"
      ]
     },
     "metadata": {},
     "output_type": "display_data"
    }
   ],
   "source": [
    "plt.figure(figsize=(6, 4))\n",
    "plt.plot(x, y, '-', color='black', linewidth=1)\n",
    "\n",
    "# Plot red dots on top\n",
    "plt.plot(x, y, 'o', color='red', markersize=5)\n",
    "plt.plot(x_generated, y_generated, '-', color='red', label='Fit curve')\n",
    "\n",
    "\n",
    "# Axis labels and title\n",
    "plt.xlabel(\"Time (sec)\", fontsize=10)\n",
    "plt.ylabel(\"Normalized Fluorescence Intensity (a.u.)\", fontsize=10)\n",
    "plt.title(f\"{IMAGE_NAME} NORMALIZED DATA\", fontsize=12)\n",
    "\n",
    "# Format ticks and legend\n",
    "plt.xticks(fontsize=8)\n",
    "plt.yticks(fontsize=8)\n",
    "\n",
    "# Clean layout\n",
    "plt.grid(False)\n",
    "plt.tight_layout()\n",
    "plt.xlim(left=0)\n",
    "plt.ylim(bottom=0)\n",
    "plt.show()"
   ]
  },
  {
   "cell_type": "code",
   "execution_count": 627,
   "id": "cf6377dc",
   "metadata": {},
   "outputs": [
    {
     "data": {
      "image/png": "[encoded data removed]",
      "text/plain": [
       "<Figure size 600x400 with 1 Axes>"
      ]
     },
     "metadata": {},
     "output_type": "display_data"
    }
   ],
   "source": [
    "plt.figure(figsize=(6, 4))\n",
    "\n",
    "plt.plot(x_generated, fit_df[\"Fluorescence intensity (percentage)\"], '-', color='black', label='Fit curve', linewidth=3)\n",
    "\n",
    "\n",
    "# Axis labels and title\n",
    "plt.xlabel(\"Time (sec)\", fontsize=10)\n",
    "plt.ylabel(\"Normalized Fluorescence Intensity (%)\", fontsize=10)\n",
    "plt.title(f\"{IMAGE_NAME} FIT CURVE PERCENTAGE\", fontsize=12)\n",
    "\n",
    "# Format ticks and legend\n",
    "plt.xticks(fontsize=8)\n",
    "plt.yticks(fontsize=8)\n",
    "\n",
    "# Clean layout\n",
    "plt.grid(False)\n",
    "plt.tight_layout()\n",
    "plt.xlim(left=0)\n",
    "plt.ylim(bottom=0)\n",
    "plt.show()"
   ]
  }
 ],
 "metadata": {
  "kernelspec": {
   "display_name": "Python 3",
   "language": "python",
   "name": "python3"
  },
  "language_info": {
   "codemirror_mode": {
    "name": "ipython",
    "version": 3
   },
   "file_extension": ".py",
   "mimetype": "text/x-python",
   "name": "python",
   "nbconvert_exporter": "python",
   "pygments_lexer": "ipython3",
   "version": "3.12.8"
  }
 },
 "nbformat": 4,
 "nbformat_minor": 5
}
