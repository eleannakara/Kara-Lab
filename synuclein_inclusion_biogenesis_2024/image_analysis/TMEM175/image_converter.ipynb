{
 "cells": [
  {
   "cell_type": "code",
   "execution_count": 20,
   "id": "ff95ea29",
   "metadata": {},
   "outputs": [],
   "source": [
    "import os\n",
    "import numpy as np\n",
    "import pandas as pd\n",
    "import matplotlib.pyplot as plt\n",
    "from skimage.filters import gaussian, threshold_otsu, threshold_multiotsu, sobel, threshold_sauvola\n",
    "from skimage.morphology import remove_small_objects, disk, binary_closing\n",
    "from scipy.ndimage import zoom, binary_dilation, binary_erosion, distance_transform_edt\n",
    "from skimage.measure import label, regionprops\n",
    "from skimage import io, exposure, color\n",
    "from skimage import measure, morphology\n",
    "from skimage import exposure\n",
    "from czifile import imread\n",
    "import cv2\n",
    "import re\n",
    "from matplotlib.ticker import MaxNLocator\n",
    "import imageio.v2 as imageio"
   ]
  },
  {
   "cell_type": "code",
   "execution_count": 21,
   "id": "763ce307",
   "metadata": {},
   "outputs": [],
   "source": [
    "\n",
    "def display_image(image, path, type):\n",
    "    \"\"\"Display the image.\"\"\"\n",
    "    plt.imshow(image)\n",
    "    plt.axis('off')\n",
    "    plt.title(f\"{path} {type}\")\n",
    "    plt.show()\n",
    "\n",
    "def extract_image_paths(folder):\n",
    "    \"\"\"Extract all image file paths from the specified folder.\"\"\"\n",
    "    return [os.path.join(folder, f) for f in os.listdir(folder) if os.path.isfile(os.path.join(folder, f))]\n",
    "\n",
    "def read_image(image_path):\n",
    "    \"\"\"Read the LSM image from the specified path.\"\"\"\n",
    "    return imread(image_path)\n",
    "\n",
    "def extract_channels(image: np.ndarray):\n",
    "    \"\"\"\n",
    "    Extract green and red channels from an image.\n",
    "    Supports both (H, W) grayscale and (C, H, W) or (H, W, C) formats.\n",
    "    Always returns (green, red) where red can be None.\n",
    "    \"\"\"\n",
    "    shape = image.shape\n",
    "\n",
    "    # Case 1: grayscale (no channel dimension)\n",
    "    if len(shape) == 2:\n",
    "        return image, None\n",
    "\n",
    "    # Case 2: (C, H, W)\n",
    "    elif len(shape) == 3 and shape[0] <= 3:\n",
    "        if shape[0] == 2:\n",
    "            return image[0], image[1]\n",
    "        else:\n",
    "            return image[0], None\n",
    "\n",
    "    # Case 3: (H, W, C)\n",
    "    elif len(shape) == 3 and shape[2] <= 3:\n",
    "        if shape[2] == 2:\n",
    "            return image[..., 0], image[..., 1]\n",
    "        else:\n",
    "            return image[..., 0], None\n",
    "\n",
    "    else:\n",
    "        raise ValueError(f\"Unsupported image shape: {shape}\")\n",
    "    \n",
    "def extract_image_paths(root_folder):\n",
    "    \"\"\"Recursively collect all image file paths under root_folder.\"\"\"\n",
    "    image_paths = []\n",
    "    for dirpath, _, filenames in os.walk(root_folder):\n",
    "        for f in filenames:\n",
    "            image_paths.append(os.path.join(dirpath, f))\n",
    "    return image_paths"
   ]
  },
  {
   "cell_type": "code",
   "execution_count": 22,
   "id": "3dfe8c25",
   "metadata": {},
   "outputs": [
    {
     "name": "stdout",
     "output_type": "stream",
     "text": [
      "✅ Done! Processed 337 images into converted_images\n"
     ]
    }
   ],
   "source": [
    "def main(image_folder):\n",
    "    output_dir = \"converted_images\"\n",
    "    os.makedirs(output_dir, exist_ok=True)\n",
    "\n",
    "    images_to_analyze = extract_image_paths(image_folder)\n",
    "\n",
    "    for path in images_to_analyze:\n",
    "        image = read_image(path)\n",
    "        image_squeezed = np.squeeze(image) \n",
    "        green, _ =  extract_channels(image_squeezed)\n",
    "\n",
    "        # get subfolder name (relative to root)\n",
    "        rel_dir = os.path.dirname(os.path.relpath(path, image_folder))\n",
    "        folder_name = os.path.basename(rel_dir) or \"root\"\n",
    "\n",
    "        filename = os.path.splitext(os.path.basename(path))[0]\n",
    "        save_path = os.path.join(output_dir, f\"{folder_name}_{filename}.png\")\n",
    "\n",
    "        # save green (or single channel)\n",
    "        imageio.imwrite(save_path, green)\n",
    "\n",
    "    print(f\"✅ Done! Processed {len(images_to_analyze)} images into {output_dir}\")\n",
    "\n",
    "if __name__ == \"__main__\":\n",
    "    image_folder = \"images\"\n",
    "    main(image_folder)"
   ]
  }
 ],
 "metadata": {
  "kernelspec": {
   "display_name": "base",
   "language": "python",
   "name": "python3"
  },
  "language_info": {
   "codemirror_mode": {
    "name": "ipython",
    "version": 3
   },
   "file_extension": ".py",
   "mimetype": "text/x-python",
   "name": "python",
   "nbconvert_exporter": "python",
   "pygments_lexer": "ipython3",
   "version": "3.13.2"
  }
 },
 "nbformat": 4,
 "nbformat_minor": 5
}
