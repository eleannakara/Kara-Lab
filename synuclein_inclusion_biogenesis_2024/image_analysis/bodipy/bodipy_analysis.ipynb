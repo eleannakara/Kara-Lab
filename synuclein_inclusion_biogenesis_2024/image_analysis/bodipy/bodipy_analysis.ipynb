{
 "cells": [
  {
   "cell_type": "markdown",
   "metadata": {},
   "source": [
    "This code uses the ratiometric indicator Bodipy 581/591 C11 to look at how lipid peroxidation changes with the knockdown of ADAMTS19 and TAX1BP1 based on the observation that during oxidation, the flourescent properties of the indicator shift from red to green, allowing lipid peroxidation to be measured ratiometrically."
   ]
  },
  {
   "cell_type": "markdown",
   "metadata": {},
   "source": [
    "Import Libraries"
   ]
  },
  {
   "cell_type": "code",
   "execution_count": null,
   "metadata": {},
   "outputs": [],
   "source": [
    "import czifile\n",
    "import numpy as np\n",
    "from skimage.filters import gaussian, threshold_otsu\n",
    "from skimage.measure import label, regionprops\n",
    "import matplotlib.pyplot as plt\n",
    "import cv2\n",
    "from IPython.display import Image, display\n",
    "from skimage.color import label2rgb, rgb2hsv\n",
    "from skimage.filters import gaussian, sobel\n",
    "from skimage.measure import label, regionprops\n",
    "from skimage.morphology import binary_erosion, binary_dilation, disk, local_maxima\n",
    "from scipy.ndimage import binary_fill_holes\n",
    "from skimage.feature import blob_log\n",
    "from skimage.color import rgb2gray\n",
    "from skimage import exposure\n",
    "from skimage.io import imshow\n",
    "from skimage.draw import circle_perimeter\n",
    "from matplotlib.colors import LogNorm\n",
    "import scipy.ndimage as ndi\n",
    "import pandas as pd\n",
    "import os"
   ]
  },
  {
   "cell_type": "markdown",
   "metadata": {},
   "source": [
    "Define Sub Function"
   ]
  },
  {
   "cell_type": "code",
   "execution_count": null,
   "metadata": {},
   "outputs": [],
   "source": [
    "def process_file(image_path, basename):\n",
    "    image = czifile.imread(image_path)\n",
    "    image_squeezed = np.squeeze(image)\n",
    "    red_intensities = []\n",
    "    green_intensities = []\n",
    "    last_timepoint = image_squeezed[-1, 0, :,:]\n",
    "    mask = gaussian(last_timepoint) > 0.02 #Don't include blank space in between cells by segmenting out cells from brightest image, which is the last one\n",
    "    for slice in range(0,image_squeezed.shape[0]):\n",
    "        red_channel = image_squeezed[slice,0,:,:]\n",
    "        mean_intensity_red = np.mean(red_channel[mask > 0])\n",
    "        red_intensities.append(mean_intensity_red)\n",
    "        green_channel = image_squeezed[slice,1,:,:]\n",
    "        mean_intensity_green = np.mean(green_channel[mask > 0])\n",
    "        green_intensities.append(mean_intensity_green)\n",
    "    df = pd.DataFrame({\n",
    "        \"Filename\": [basename] * len(red_intensities),\n",
    "        \"MFI_Red\": red_intensities,\n",
    "        \"MFI_Green\": green_intensities,\n",
    "        \"Green_Red_Ratio\": [x/y for x,y in zip(green_intensities,red_intensities)]\n",
    "        })\n",
    "    \n",
    "    return df"
   ]
  },
  {
   "cell_type": "markdown",
   "metadata": {},
   "source": [
    "Main Function"
   ]
  },
  {
   "cell_type": "code",
   "execution_count": null,
   "metadata": {},
   "outputs": [],
   "source": [
    "all_data = []\n",
    "\n",
    "folder_path = r\"test_images\"\n",
    "for well_image in os.listdir(folder_path):\n",
    "    if well_image.lower().endswith(\".czi\"):  # Filter for CZI files\n",
    "        well_image_path = os.path.join(folder_path, well_image)\n",
    "        well_image_base_name = os.path.basename(well_image)[:-4]\n",
    "        df = process_file(well_image_path, well_image_base_name)\n",
    "        all_data.append(df)\n",
    "\n",
    "combined_df = pd.concat(all_data, ignore_index=True)\n",
    "\n",
    "# Save the combined DataFrame to a single CSV\n",
    "combined_csv_path = os.path.join(\"BODIPY.xlsx\")\n",
    "combined_df.to_excel(combined_csv_path, index=False)"
   ]
  }
 ],
 "metadata": {
  "kernelspec": {
   "display_name": "Python 3",
   "language": "python",
   "name": "python3"
  },
  "language_info": {
   "codemirror_mode": {
    "name": "ipython",
    "version": 3
   },
   "file_extension": ".py",
   "mimetype": "text/x-python",
   "name": "python",
   "nbconvert_exporter": "python",
   "pygments_lexer": "ipython3",
   "version": "3.12.4"
  }
 },
 "nbformat": 4,
 "nbformat_minor": 2
}
