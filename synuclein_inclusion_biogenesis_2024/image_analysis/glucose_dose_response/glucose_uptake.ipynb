{
 "cells": [
  {
   "cell_type": "markdown",
   "metadata": {},
   "source": [
    "The purpose of this code is to measure the flourescence intensity of cells, which represents an indicator of the glucose uptake of the cells, that have a knockdown of ADAMTS19 or TAX1BP1 against a SCR control."
   ]
  },
  {
   "cell_type": "markdown",
   "metadata": {},
   "source": [
    "Import Libraries"
   ]
  },
  {
   "cell_type": "code",
   "execution_count": null,
   "metadata": {},
   "outputs": [],
   "source": [
    "import czifile\n",
    "import numpy as np\n",
    "from skimage.filters import gaussian, threshold_otsu\n",
    "from skimage.measure import label, regionprops\n",
    "import matplotlib.pyplot as plt\n",
    "import cv2\n",
    "from IPython.display import Image, display\n",
    "from skimage.color import label2rgb, rgb2hsv\n",
    "from skimage.filters import gaussian, sobel\n",
    "from skimage.measure import label, regionprops\n",
    "from skimage.morphology import binary_erosion, binary_dilation, disk, local_maxima\n",
    "from scipy.ndimage import binary_fill_holes\n",
    "from skimage.feature import blob_log\n",
    "from skimage.color import rgb2gray\n",
    "from skimage.draw import circle_perimeter\n",
    "from matplotlib.colors import LogNorm\n",
    "import scipy.ndimage as ndi\n",
    "import pandas as pd\n",
    "import os\n",
    "from cellpose import models, io, plot\n",
    "from skimage import morphology, io\n",
    "from IPython.display import clear_output\n",
    "from scipy.ndimage import zoom\n",
    "import time\n",
    "model = models.Cellpose(model_type='cyto')"
   ]
  },
  {
   "cell_type": "markdown",
   "metadata": {},
   "source": [
    "Define Sub Function"
   ]
  },
  {
   "cell_type": "code",
   "execution_count": null,
   "metadata": {},
   "outputs": [],
   "source": [
    "target_shape = (1584, 1584)\n",
    "\n",
    "def analyze_image(image_path, basename):\n",
    "    \"\"\"\n",
    "    Analyzes an image to segment cells, calculate cell sizes, and mean fluorescence intensities (MFI).\n",
    "    \n",
    "    Args:\n",
    "        image_path (str): Path to the image file to be analyzed.\n",
    "        basename (str): Base name of the image file (used for labeling results).\n",
    "\n",
    "    Returns:\n",
    "        pd.DataFrame: A DataFrame containing the filename, cell numbers, cell sizes, and cell MFIs.\n",
    "    \"\"\"\n",
    "    # Load the image using czifile and remove singleton dimensions\n",
    "    image = czifile.imread(image_path)\n",
    "    image_squeezed = np.squeeze(image)\n",
    "    green_channel = image_squeezed  # Assume green_channel contains the relevant data\n",
    "\n",
    "    # Initialize lists to store results\n",
    "    cell_nums = []\n",
    "    cell_sizes = []\n",
    "    cell_mfi = []\n",
    "\n",
    "    # Display the green channel image\n",
    "    plt.figure(figsize=(6, 6))  # Adjust the figure size as needed\n",
    "    plt.imshow(green_channel)\n",
    "    plt.axis('off')  # Turn off axis labels and ticks for a cleaner image\n",
    "\n",
    "    # Save the figure with minimal white space\n",
    "    plt.tight_layout(pad=0)\n",
    "    plt.savefig('temp_img.png')  # Save the displayed image to a temporary file\n",
    "\n",
    "    time.sleep(2)  # Pause to ensure the image is saved (may be unnecessary)\n",
    "\n",
    "    # Read the saved image\n",
    "    img = io.imread('temp_img.png')\n",
    "\n",
    "    # Use the model to evaluate the image and obtain masks, flows, styles, and diameters\n",
    "    masks, flows, styles, diams = model.eval(img, diameter=None)\n",
    "    \n",
    "    # Label the connected regions in the mask\n",
    "    labeled_image = label(masks)\n",
    "\n",
    "    # Iterate over each labeled region to calculate cell size and MFI\n",
    "    for i, region in enumerate(regionprops(labeled_image)):\n",
    "        cell_size = region.area  # Calculate the area of the cell\n",
    "\n",
    "        if region.area < 1000:  # Filter out small regions (e.g., noise)\n",
    "            continue\n",
    "\n",
    "        # Create a binary mask for the current region (cell)\n",
    "        mask = labeled_image == region.label\n",
    "        \n",
    "        # Resize the mask to match a target shape using zoom (may alter mask binary values)\n",
    "        mask = zoom(mask, zoom=np.array(target_shape) / np.array(mask.shape), order=0)\n",
    "        \n",
    "        # Calculate the mean fluorescence intensity (MFI) for the region\n",
    "        interior_mean = np.mean(green_channel[mask > 0])\n",
    "        \n",
    "        # Append results to lists\n",
    "        cell_nums.append(i)\n",
    "        cell_sizes.append(cell_size)\n",
    "        cell_mfi.append(interior_mean)\n",
    "       \n",
    "    # Create a DataFrame with the results\n",
    "    df = pd.DataFrame({\n",
    "        \"Filename\": [basename] * len(cell_nums),  # Repeat basename for each cell\n",
    "        \"Cell\": cell_nums,                        # List of cell indices\n",
    "        \"Cell_Size\": cell_sizes,                  # List of cell sizes\n",
    "        \"cell_mfi\": cell_mfi                      # List of mean fluorescence intensities\n",
    "    })\n",
    "\n",
    "    return df  # Return the DataFrame with analysis results"
   ]
  },
  {
   "cell_type": "markdown",
   "metadata": {},
   "source": [
    "Define Main Function"
   ]
  },
  {
   "cell_type": "code",
   "execution_count": null,
   "metadata": {},
   "outputs": [],
   "source": [
    "all_data = []\n",
    "big_folder = r\"test_images\"\n",
    "\n",
    "for well_image in os.listdir(big_folder):\n",
    "    if well_image.lower().endswith(\".czi\"):  # Filter for CZI files\n",
    "        well_image_path = os.path.join(big_folder, well_image)\n",
    "        well_image_base_name = os.path.basename(well_image)[:-4]\n",
    "        df = analyze_image(well_image_path, well_image_base_name)\n",
    "        if df is not None:\n",
    "            all_data.append(df)\n",
    "        clear_output(wait=True)\n",
    "\n",
    "combined_df = pd.concat(all_data, ignore_index=True)\n",
    "\n",
    "# Save the combined DataFrame to a single CSV\n",
    "combined_csv_path = os.path.join(\"GLUCOSE.xlsx\")\n",
    "combined_df.to_excel(combined_csv_path, index=False)"
   ]
  }
 ],
 "metadata": {
  "kernelspec": {
   "display_name": "Python 3",
   "language": "python",
   "name": "python3"
  },
  "language_info": {
   "codemirror_mode": {
    "name": "ipython",
    "version": 3
   },
   "file_extension": ".py",
   "mimetype": "text/x-python",
   "name": "python",
   "nbconvert_exporter": "python",
   "pygments_lexer": "ipython3",
   "version": "3.12.4"
  }
 },
 "nbformat": 4,
 "nbformat_minor": 2
}
