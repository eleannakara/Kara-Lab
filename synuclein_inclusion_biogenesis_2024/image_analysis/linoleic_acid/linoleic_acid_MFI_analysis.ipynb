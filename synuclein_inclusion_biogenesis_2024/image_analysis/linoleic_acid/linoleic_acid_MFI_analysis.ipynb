{
 "cells": [
  {
   "cell_type": "code",
   "execution_count": 1,
   "id": "711583bb",
   "metadata": {},
   "outputs": [
    {
     "name": "stderr",
     "output_type": "stream",
     "text": [
      "c:\\Users\\sj1205\\AppData\\Local\\miniconda3\\Lib\\site-packages\\tqdm\\auto.py:21: TqdmWarning: IProgress not found. Please update jupyter and ipywidgets. See https://ipywidgets.readthedocs.io/en/stable/user_install.html\n",
      "  from .autonotebook import tqdm as notebook_tqdm\n",
      "c:\\Users\\sj1205\\AppData\\Local\\miniconda3\\Lib\\site-packages\\kornia\\feature\\lightglue.py:44: FutureWarning: `torch.cuda.amp.custom_fwd(args...)` is deprecated. Please use `torch.amp.custom_fwd(args..., device_type='cuda')` instead.\n",
      "  @torch.cuda.amp.custom_fwd(cast_inputs=torch.float32)\n"
     ]
    }
   ],
   "source": [
    "import os\n",
    "import numpy as np\n",
    "import pandas as pd\n",
    "import matplotlib.pyplot as plt\n",
    "from skimage.filters import gaussian, threshold_otsu, threshold_multiotsu\n",
    "from skimage.morphology import remove_small_objects, disk, binary_closing\n",
    "from scipy.ndimage import zoom, binary_dilation\n",
    "from skimage.measure import label, regionprops\n",
    "from skimage import io, exposure\n",
    "from skimage import measure\n",
    "from skimage import exposure\n",
    "from czifile import imread\n",
    "from cellpose import models, plot \n",
    "import re\n",
    "model_cellpose = models.Cellpose(model_type='cyto')\n",
    "import torch\n",
    "import torch.nn as nn\n",
    "import torch.nn.functional as F\n",
    "from torch.utils.data import Dataset, DataLoader\n",
    "from torchvision import transforms\n",
    "from huggingface_hub import hf_hub_download\n",
    "import torch\n",
    "\n",
    "from micro_sam.evaluation.model_comparison import _enhance_image\n",
    "from micro_sam.automatic_segmentation import get_predictor_and_segmenter, automatic_instance_segmentation\n",
    "from concurrent.futures import ThreadPoolExecutor, as_completed"
   ]
  },
  {
   "cell_type": "code",
   "execution_count": 2,
   "id": "f6a8b1fc",
   "metadata": {},
   "outputs": [],
   "source": [
    "MODEL_TYPE   = \"vit_b_lm\"\n",
    "CHECKPOINT = hf_hub_download(repo_id=\"sunny17347/machine_learning_models\", filename=\"SAM_finetuned.pt\")\n",
    "DEVICE       = torch.device(\"cuda\" if torch.cuda.is_available() else \"cpu\")"
   ]
  },
  {
   "cell_type": "code",
   "execution_count": 3,
   "id": "7e2b9f5f",
   "metadata": {},
   "outputs": [],
   "source": [
    "def display_image(image, path, type):\n",
    "    \"\"\"Display the image.\"\"\"\n",
    "    plt.imshow(image)\n",
    "    plt.axis('off')\n",
    "    plt.title(f\"{path} {type}\")\n",
    "    plt.show()\n",
    "\n",
    "def display_two_images(image1, image2, title1, title2, path):\n",
    "    \"\"\"Display two images side-by-side with smaller title font.\"\"\"\n",
    "    filename = os.path.basename(path)  # Extract final part of path\n",
    "\n",
    "    fig, axes = plt.subplots(1, 2, figsize=(10, 5))\n",
    "\n",
    "    axes[0].imshow(image1, cmap='gray' if image1.ndim == 2 else None)\n",
    "    axes[0].set_title(f\"{filename} {title1}\", fontsize=10)\n",
    "    axes[0].axis('off')\n",
    "\n",
    "    axes[1].imshow(image2, cmap='gray' if image2.ndim == 2 else None)\n",
    "    axes[1].set_title(f\"{filename} {title2}\", fontsize=10)\n",
    "    axes[1].axis('off')\n",
    "\n",
    "    plt.tight_layout()\n",
    "    plt.show()\n",
    "\n",
    "def extract_image_paths(folder):\n",
    "    \"\"\"Extract all image file paths from the specified folder.\"\"\"\n",
    "    return [os.path.join(folder, f) for f in os.listdir(folder) if os.path.isfile(os.path.join(folder, f))]\n",
    "\n",
    "def read_image(image_path):\n",
    "    \"\"\"Read the LSM image from the specified path.\"\"\"\n",
    "    return imread(image_path)\n",
    "\n",
    "def count(mask): \n",
    "    \"\"\"Count the number of unique labels in the mask.\"\"\"\n",
    "    return len(np.unique(label(mask))) - 1  # Exclude background label (0)\n",
    "\n",
    "def extract_channels(image: np.ndarray) -> tuple[np.ndarray, np.ndarray]:\n",
    "    \"\"\"Extract green and red channels from the squeezed image (shape: [Z, C, H, W]).\"\"\" \n",
    "    return image[0], image[1]\n",
    "\n",
    "def preprocess_green_channel(green_channel):\n",
    "    \"\"\"\n",
    "    Preprocess the green fluorescence channel for better segmentation and inclusion detection.\n",
    "    - Applies Gaussian blur to reduce noise.\n",
    "    - Enhances contrast using sigmoid adjustment.\n",
    "    - Normalizes intensities to [0, 1] for consistent processing.\n",
    "    \"\"\"\n",
    "    confocal_img = gaussian(green_channel, sigma=2)\n",
    "    confocal_img = exposure.adjust_sigmoid(green_channel, cutoff=0.25)\n",
    "    confocal_img = normalize_image(confocal_img)\n",
    "    return confocal_img\n",
    "\n",
    "    return circular_mask, non_circular_mask\n",
    "def normalize_image(image):\n",
    "    \"\"\"\n",
    "    Normalize the image to the range [0, 1].\n",
    "    This is useful for consistent processing across different images.\n",
    "    \"\"\"\n",
    "    return (image - np.min(image)) / (np.max(image) - np.min(image))\n",
    "\n",
    "def calculate_surface_area(labeled_image: np.ndarray) -> float:\n",
    "    \"\"\"Calculate the total surface area for labeled regions.\"\"\"\n",
    "    props = regionprops(labeled_image)\n",
    "    return sum(prop.area for prop in props)\n",
    "\n",
    "def segment_cells(green_channel):\n",
    "    \"\"\"\n",
    "    Segment whole cells in the green channel using Cellpose.\n",
    "    - Normalizes image intensity.\n",
    "    - Suppresses bright spots (e.g., inclusions) to better detect cell boundaries.\n",
    "    - Applies Gaussian blur for smoother segmentation input.\n",
    "    - Gradually increases segmentation diameter until at least one cell is detected.\n",
    "    \"\"\"\n",
    "    green_channel = normalize_image(green_channel)\n",
    "    percentile_99 = np.percentile(green_channel, 99)\n",
    "    \n",
    "    # Suppress very bright pixels (inclusions)\n",
    "    green_channel_remove_inclusions = np.where(green_channel < percentile_99, green_channel, percentile_99)\n",
    "    green_channel_remove_inclusions = gaussian(green_channel_remove_inclusions, sigma=5)\n",
    "\n",
    "    # Normalize again after processing\n",
    "    green_channel_remove_inclusions = normalize_image(green_channel_remove_inclusions)\n",
    "\n",
    "    # Try different diameters until cells are detected\n",
    "    diameter = 150\n",
    "    while diameter < 500:\n",
    "        masks, flows, styles, diams = model_cellpose.eval(green_channel_remove_inclusions, diameter=diameter, channels=[0, 0])\n",
    "        labeled_cells = label(masks)\n",
    "        if np.max(labeled_cells) > 0:\n",
    "            return labeled_cells\n",
    "        diameter += 25\n",
    "\n",
    "    # No cells found\n",
    "    return None\n",
    "\n",
    "def filter_objects_by_overlap(source_mask, target_mask):\n",
    "    \"\"\"\n",
    "    Keeps objects in `source_mask` that overlap with `target_mask`.\n",
    "\n",
    "    Parameters:\n",
    "        source_mask (ndarray): Binary mask with objects to test (e.g. clustered mitochondria).\n",
    "        target_mask (ndarray): Binary mask defining inclusion region.\n",
    "\n",
    "    Returns:\n",
    "        filtered_mask (ndarray): Binary mask of source objects overlapping with target.\n",
    "    \"\"\"\n",
    "    labeled_source = label(source_mask)\n",
    "    filtered_mask = np.zeros_like(source_mask, dtype=bool)\n",
    "\n",
    "    for region in regionprops(labeled_source):\n",
    "        coords = tuple(region.coords.T)\n",
    "        if np.any(target_mask[coords]):\n",
    "            filtered_mask[coords] = True\n",
    "\n",
    "    return filtered_mask\n",
    "\n",
    "def find_swiss_cheese_inclusions(inclusion_image, red_channel_thresholded, verbose=False):\n",
    "    swiss_chess_inclusions = np.zeros_like(inclusion_image)\n",
    "    regular_inclusions = np.zeros_like(inclusion_image)\n",
    "    labeled_inclusions = label(inclusion_image)\n",
    "    for i, inclusion in enumerate(regionprops(labeled_inclusions)):\n",
    "        mask = labeled_inclusions == inclusion.label\n",
    "        overlap = mask * red_channel_thresholded\n",
    "        if np.sum(overlap) > 0:\n",
    "            swiss_chess_inclusions += mask\n",
    "        else:\n",
    "            regular_inclusions += mask\n",
    "    return swiss_chess_inclusions, regular_inclusions\n",
    "\n",
    "def extract_touching_objects(mask1, mask2):\n",
    "    \"\"\"\n",
    "    Return a mask containing whole objects in mask1\n",
    "    that touch mask2.\n",
    "    \"\"\"\n",
    "    touching_objects = np.zeros_like(mask1, dtype=np.uint8)\n",
    "\n",
    "    labeled_mask = label(mask1)\n",
    "\n",
    "    for region in regionprops(labeled_mask):\n",
    "        region_mask = (labeled_mask == region.label)\n",
    "        overlap = region_mask * mask2\n",
    "\n",
    "        if np.sum(overlap) > 0:\n",
    "            touching_objects += region_mask\n",
    "\n",
    "    return touching_objects"
   ]
  },
  {
   "cell_type": "code",
   "execution_count": 4,
   "id": "94a6ffca",
   "metadata": {},
   "outputs": [],
   "source": [
    "@torch.no_grad()\n",
    "def analysis(red: np.ndarray, green:np.ndarray, path:str, predictor, segmenter) -> pd.DataFrame:\n",
    "    device = torch.device(\"cuda\" if torch.cuda.is_available() else \"cpu\")\n",
    "\n",
    "    data = []\n",
    "    df_cell_summary = pd.DataFrame()\n",
    "\n",
    "    print(\"Starting analysis on \", path)\n",
    "\n",
    "    inclusion_image_new = automatic_instance_segmentation(\n",
    "        predictor=predictor,\n",
    "        segmenter=segmenter,\n",
    "        input_path=green,\n",
    "        ndim=2,\n",
    "    ) > 0\n",
    "\n",
    "\n",
    "    # Preprocess the green channel\n",
    "    green_preprocssed = preprocess_green_channel(green)\n",
    "\n",
    "    \n",
    "    #display_image(green, path, \"Green Channel\")\n",
    "\n",
    "    #return green\n",
    "\n",
    "    labeled_cells = segment_cells(green_preprocssed)\n",
    "    #display_image(labeled_cells, path, \"Labeled Cells\")\n",
    "\n",
    "\n",
    "    #display_image(inclusion_image, path, \"Inclusion Image\")\n",
    "\n",
    "    #display_two_images(green, inclusion_image_new, \"Green Channel\", \"Inclusion Image\", path)\n",
    "\n",
    "\n",
    "    contrast_adjusted_red_normalized = (red - red.min()) / (red.max() - red.min())\n",
    "    threshold_value_mitochondria = np.mean(contrast_adjusted_red_normalized) + (np.std(contrast_adjusted_red_normalized) * 2) #1.75 works well\n",
    "    mitochondria_thresholded = contrast_adjusted_red_normalized > threshold_value_mitochondria\n",
    "    mitochondria_thresholded = remove_small_objects(mitochondria_thresholded, min_size=10)\n",
    "\n",
    "\n",
    "    #display_two_images(red, mitochondria_thresholded, \"Red Channel\", \"Mitochondria Thresholded\", path)\n",
    "\n",
    "\n",
    "    #display_image(single, path, \"Single Mitochondria\")\n",
    "    #display_image(clustered, path, \"Clustered Mitochondria\")\n",
    "    cell_count = 1\n",
    "    for i, cell in enumerate(regionprops(labeled_cells)):\n",
    "        if cell.area < 100:  # Skip tiny regions likely to be noise\n",
    "            continue\n",
    "\n",
    "                # Create a mask for the current cell\n",
    "        mask = labeled_cells == cell.label\n",
    "\n",
    "        inclusions_in_cell = extract_touching_objects(inclusion_image_new, mask)\n",
    "        mitochondria_in_cell = extract_touching_objects(mitochondria_thresholded, mask)\n",
    "        mitochondria_in_cell = mitochondria_in_cell > 0  # Ensure binary mask\n",
    "\n",
    "        swiss_cheese_inclusions_in_cell, regular_inclusions_in_cell = find_swiss_cheese_inclusions(inclusions_in_cell, mitochondria_in_cell)\n",
    "        lds_in_inclusions_in_cell, lds_not_in_inclusions_in_cell = find_swiss_cheese_inclusions(mitochondria_in_cell, inclusions_in_cell)\n",
    "\n",
    "        #display_two_images(lds_in_inclusions_in_cell, lds_not_in_inclusions_in_cell, \"LDS in Inclusions\", \"LDS not in Inclusions\", path)\n",
    "\n",
    "        lds_in_inclusions_in_cell_original = lds_in_inclusions_in_cell * red\n",
    "        lds_not_in_inclusions_in_cell_original = lds_not_in_inclusions_in_cell * red\n",
    "        lds_in_cell_total_original = mitochondria_in_cell * red\n",
    "\n",
    "        swiss_cheese_inclusions_in_cell_original = swiss_cheese_inclusions_in_cell * green\n",
    "        regular_inclusions_in_cell_original = regular_inclusions_in_cell * green\n",
    "        inclusions_total_original = inclusions_in_cell * green\n",
    "        #print(np.sum(swiss_cheese_inclusions_in_cell_original) / np.sum(swiss_cheese_inclusions_in_cell) if np.sum(swiss_cheese_inclusions_in_cell) > 0 else 0)\n",
    "        #print(np.sum(regular_inclusions_in_cell_original) / np.sum(regular_inclusions_in_cell) if np.sum(regular_inclusions_in_cell) > 0 else 0)\n",
    "        data.append({\n",
    "            'Image Path': path,\n",
    "            'Cell Number': cell_count,\n",
    "            'MFI Lipid tox inside inclusion': np.sum(lds_in_inclusions_in_cell_original) / np.sum(lds_in_inclusions_in_cell) if np.sum(lds_in_inclusions_in_cell) > 0 else 0,\n",
    "            'MFI Lipid tox outside inclusions': np.sum(lds_not_in_inclusions_in_cell_original) / np.sum(lds_not_in_inclusions_in_cell) if np.sum(lds_not_in_inclusions_in_cell) > 0 else 0,\n",
    "            'MFI of Lipid Tox Total': np.sum(lds_in_cell_total_original) / np.sum(mitochondria_in_cell) if np.sum(mitochondria_in_cell) > 0 else 0,\n",
    "            'MFI of Swiss Cheese Inclusions': np.sum(swiss_cheese_inclusions_in_cell_original) / np.sum(swiss_cheese_inclusions_in_cell) if np.sum(swiss_cheese_inclusions_in_cell) > 0 else 0,\n",
    "            'MFI of Regular Inclusions': np.sum(regular_inclusions_in_cell_original) / np.sum(regular_inclusions_in_cell) if np.sum(regular_inclusions_in_cell) > 0 else 0,\n",
    "            'MFI of Inclusions Total': np.sum(inclusions_total_original) / np.sum(inclusions_in_cell) if np.sum(inclusions_in_cell) > 0 else 0,\n",
    "        })\n",
    "        cell_count += 1\n",
    "\n",
    "    df_cell_summary = pd.DataFrame(data)\n",
    "    return df_cell_summary"
   ]
  },
  {
   "cell_type": "code",
   "execution_count": 5,
   "id": "5e1c7f7c",
   "metadata": {},
   "outputs": [
    {
     "name": "stdout",
     "output_type": "stream",
     "text": [
      "→ Starting 061725_images\n",
      "→ Starting 62425_images\n",
      "→ Starting 06052025_images\n"
     ]
    },
    {
     "name": "stderr",
     "output_type": "stream",
     "text": [
      "c:\\Users\\sj1205\\AppData\\Local\\miniconda3\\Lib\\site-packages\\torch_em\\data\\segmentation_dataset.py:274: UserWarning: SegmentationDataset could not be deserialized because of missing full_data/masks, *.png.\n",
      "The dataset is deserialized in order to allow loading trained models from a checkpoint.\n",
      "But it cannot be used for further training and will throw an error.\n",
      "  warnings.warn(msg)\n",
      "c:\\Users\\sj1205\\AppData\\Local\\miniconda3\\Lib\\site-packages\\torch_em\\data\\segmentation_dataset.py:261: UserWarning: SegmentationDataset could not be deserialized because of missing full_data/images_uint8, *.png.\n",
      "The dataset is deserialized in order to allow loading trained models from a checkpoint.\n",
      "But it cannot be used for further training and will throw an error.\n",
      "  warnings.warn(msg)\n"
     ]
    },
    {
     "name": "stdout",
     "output_type": "stream",
     "text": [
      "Starting analysis on  06052025_images\\3K_dox_lipidtox_farred_LA1200_01.czi\n",
      "Starting analysis on  62425_images\\3K_dox_lipidtox_farred_LA1200_01.czi\n"
     ]
    },
    {
     "name": "stderr",
     "output_type": "stream",
     "text": [
      "Compute Image Embeddings 2D:   0%|          | 0/1 [00:00<?, ?it/s]"
     ]
    },
    {
     "name": "stdout",
     "output_type": "stream",
     "text": [
      "Starting analysis on  061725_images\\3K_dox_lipidtox_farred_LA1200_01.czi\n"
     ]
    },
    {
     "name": "stderr",
     "output_type": "stream",
     "text": [
      "\n",
      "Compute Image Embeddings 2D: 100%|██████████| 1/1 [00:40<00:00, 40.53s/it]\n",
      "Compute Image Embeddings 2D: 100%|██████████| 1/1 [00:40<00:00, 40.59s/it]<?, ?it/s]\n",
      "\n",
      "Compute Image Embeddings 2D: 100%|██████████| 1/1 [00:41<00:00, 41.88s/it]\n",
      "\n",
      "Initialize instance segmentation with decoder: 100%|██████████| 1/1 [00:05<00:00,  5.02s/it]\n",
      "Initialize instance segmentation with decoder: 100%|██████████| 1/1 [00:05<00:00,  5.44s/it]\n",
      "\n",
      "Initialize instance segmentation with decoder: 100%|██████████| 1/1 [00:04<00:00,  4.72s/it]\n"
     ]
    },
    {
     "name": "stdout",
     "output_type": "stream",
     "text": [
      "Starting analysis on  061725_images\\3K_dox_lipidtox_farred_LA1200_02.czi\n"
     ]
    },
    {
     "name": "stderr",
     "output_type": "stream",
     "text": [
      "Compute Image Embeddings 2D:   0%|          | 0/1 [00:00<?, ?it/s]"
     ]
    },
    {
     "name": "stdout",
     "output_type": "stream",
     "text": [
      "Starting analysis on  06052025_images\\3K_dox_lipidtox_farred_LA1200_02.czi\n"
     ]
    },
    {
     "name": "stderr",
     "output_type": "stream",
     "text": []
    },
    {
     "name": "stdout",
     "output_type": "stream",
     "text": [
      "Starting analysis on  62425_images\\3K_dox_lipidtox_farred_LA1200_02.czi\n"
     ]
    },
    {
     "name": "stderr",
     "output_type": "stream",
     "text": [
      "\n",
      "Compute Image Embeddings 2D: 100%|██████████| 1/1 [00:13<00:00, 13.62s/it]\n",
      "Compute Image Embeddings 2D: 100%|██████████| 1/1 [00:16<00:00, 16.40s/it]<?, ?it/s]\n",
      "\n",
      "Compute Image Embeddings 2D: 100%|██████████| 1/1 [00:16<00:00, 16.67s/it]\n",
      "\n",
      "Initialize instance segmentation with decoder: 100%|██████████| 1/1 [00:07<00:00,  7.79s/it]\n",
      "Initialize instance segmentation with decoder: 100%|██████████| 1/1 [00:05<00:00,  5.70s/it]\n",
      "\n",
      "Initialize instance segmentation with decoder: 100%|██████████| 1/1 [00:03<00:00,  3.82s/it]\n"
     ]
    },
    {
     "name": "stdout",
     "output_type": "stream",
     "text": [
      "Starting analysis on  06052025_images\\3K_dox_lipidtox_farred_LA1200_03.czi\n"
     ]
    },
    {
     "name": "stderr",
     "output_type": "stream",
     "text": [
      "Compute Image Embeddings 2D:   0%|          | 0/1 [00:00<?, ?it/s]"
     ]
    },
    {
     "name": "stdout",
     "output_type": "stream",
     "text": [
      "Starting analysis on  061725_images\\3K_dox_lipidtox_farred_LA1200_03.czi\n"
     ]
    },
    {
     "name": "stderr",
     "output_type": "stream",
     "text": [
      "Compute Image Embeddings 2D: 100%|██████████| 1/1 [00:03<00:00,  3.97s/it]\n",
      "Compute Image Embeddings 2D: 100%|██████████| 1/1 [00:06<00:00,  6.00s/it]<?, ?it/s]\n",
      "Initialize instance segmentation with decoder: 100%|██████████| 1/1 [00:03<00:00,  3.78s/it]\n"
     ]
    },
    {
     "name": "stdout",
     "output_type": "stream",
     "text": [
      "Starting analysis on  62425_images\\3K_dox_lipidtox_farred_LA1200_03.czi\n"
     ]
    },
    {
     "name": "stderr",
     "output_type": "stream",
     "text": [
      "Initialize instance segmentation with decoder: 100%|██████████| 1/1 [00:03<00:00,  3.08s/it]\n",
      "Compute Image Embeddings 2D: 100%|██████████| 1/1 [00:05<00:00,  5.66s/it]\n",
      "Initialize instance segmentation with decoder: 100%|██████████| 1/1 [00:02<00:00,  2.59s/it]\n"
     ]
    },
    {
     "name": "stdout",
     "output_type": "stream",
     "text": [
      "Starting analysis on  06052025_images\\3K_dox_lipidtox_farred_LA1200_04.czi\n"
     ]
    },
    {
     "name": "stderr",
     "output_type": "stream",
     "text": [
      "Compute Image Embeddings 2D: 100%|██████████| 1/1 [00:06<00:00,  6.64s/it]\n",
      "Initialize instance segmentation with decoder:   0%|          | 0/1 [00:00<?, ?it/s]"
     ]
    },
    {
     "name": "stdout",
     "output_type": "stream",
     "text": [
      "Starting analysis on  061725_images\\3K_dox_lipidtox_farred_LA1200_04.czi\n"
     ]
    },
    {
     "name": "stderr",
     "output_type": "stream",
     "text": [
      "Initialize instance segmentation with decoder: 100%|██████████| 1/1 [00:05<00:00,  5.59s/it]\n",
      "Compute Image Embeddings 2D: 100%|██████████| 1/1 [00:08<00:00,  8.52s/it]\n",
      "Initialize instance segmentation with decoder: 100%|██████████| 1/1 [00:04<00:00,  4.93s/it]\n"
     ]
    },
    {
     "name": "stdout",
     "output_type": "stream",
     "text": [
      "Starting analysis on  62425_images\\3K_dox_lipidtox_farred_LA1200_04.czi\n"
     ]
    },
    {
     "name": "stderr",
     "output_type": "stream",
     "text": [
      "Compute Image Embeddings 2D: 100%|██████████| 1/1 [00:08<00:00,  8.11s/it]\n",
      "Initialize instance segmentation with decoder:   0%|          | 0/1 [00:00<?, ?it/s]"
     ]
    },
    {
     "name": "stdout",
     "output_type": "stream",
     "text": [
      "Starting analysis on  06052025_images\\3K_dox_lipidtox_farred_LA1200_05.czi\n"
     ]
    },
    {
     "name": "stderr",
     "output_type": "stream",
     "text": [
      "Initialize instance segmentation with decoder: 100%|██████████| 1/1 [00:07<00:00,  7.33s/it]\n"
     ]
    },
    {
     "name": "stdout",
     "output_type": "stream",
     "text": [
      "Starting analysis on  061725_images\\3K_dox_lipidtox_farred_LA1200_05.czi\n"
     ]
    },
    {
     "name": "stderr",
     "output_type": "stream",
     "text": [
      "Compute Image Embeddings 2D: 100%|██████████| 1/1 [00:10<00:00, 10.60s/it]\n",
      "Compute Image Embeddings 2D: 100%|██████████| 1/1 [00:11<00:00, 11.76s/it]\n",
      "Initialize instance segmentation with decoder: 100%|██████████| 1/1 [00:08<00:00,  8.83s/it]\n",
      "Initialize instance segmentation with decoder: 100%|██████████| 1/1 [00:04<00:00,  4.59s/it]\n"
     ]
    },
    {
     "name": "stdout",
     "output_type": "stream",
     "text": [
      "Starting analysis on  06052025_images\\3K_dox_lipidtox_farred_LA1200_06.czi\n"
     ]
    },
    {
     "name": "stderr",
     "output_type": "stream",
     "text": [
      "Compute Image Embeddings 2D:   0%|          | 0/1 [00:00<?, ?it/s]"
     ]
    },
    {
     "name": "stdout",
     "output_type": "stream",
     "text": [
      "Starting analysis on  62425_images\\3K_dox_lipidtox_farred_LA1200_05.czi\n"
     ]
    },
    {
     "name": "stderr",
     "output_type": "stream",
     "text": [
      "Compute Image Embeddings 2D: 100%|██████████| 1/1 [00:09<00:00,  9.65s/it]\n",
      "Compute Image Embeddings 2D: 100%|██████████| 1/1 [00:10<00:00, 10.91s/it]<?, ?it/s]\n",
      "Initialize instance segmentation with decoder: 100%|██████████| 1/1 [00:07<00:00,  7.57s/it]\n"
     ]
    },
    {
     "name": "stdout",
     "output_type": "stream",
     "text": [
      "Starting analysis on  061725_images\\3K_dox_lipidtox_farred_LA1200_06.czi\n"
     ]
    },
    {
     "name": "stderr",
     "output_type": "stream",
     "text": [
      "Initialize instance segmentation with decoder: 100%|██████████| 1/1 [00:06<00:00,  6.49s/it]\n",
      "Compute Image Embeddings 2D: 100%|██████████| 1/1 [00:08<00:00,  8.28s/it]\n",
      "Initialize instance segmentation with decoder: 100%|██████████| 1/1 [00:05<00:00,  5.03s/it]\n"
     ]
    },
    {
     "name": "stdout",
     "output_type": "stream",
     "text": [
      "Starting analysis on  06052025_images\\3K_dox_lipidtox_farred_LA1200_07.czi\n"
     ]
    },
    {
     "name": "stderr",
     "output_type": "stream",
     "text": [
      "Compute Image Embeddings 2D:   0%|          | 0/1 [00:00<?, ?it/s]"
     ]
    },
    {
     "name": "stdout",
     "output_type": "stream",
     "text": [
      "Starting analysis on  62425_images\\3K_dox_lipidtox_farred_LA1200_06.czi\n"
     ]
    },
    {
     "name": "stderr",
     "output_type": "stream",
     "text": [
      "Compute Image Embeddings 2D: 100%|██████████| 1/1 [00:03<00:00,  3.85s/it]\n",
      "Initialize instance segmentation with decoder: 100%|██████████| 1/1 [00:03<00:00,  3.31s/it]\n",
      "Compute Image Embeddings 2D: 100%|██████████| 1/1 [00:05<00:00,  5.89s/it]\n",
      "Initialize instance segmentation with decoder:   0%|          | 0/1 [00:00<?, ?it/s]"
     ]
    },
    {
     "name": "stdout",
     "output_type": "stream",
     "text": [
      "Starting analysis on  061725_images\\3K_dox_lipidtox_farred_LA1200_07.czi\n"
     ]
    },
    {
     "name": "stderr",
     "output_type": "stream",
     "text": [
      "Initialize instance segmentation with decoder: 100%|██████████| 1/1 [00:02<00:00,  2.38s/it]\n",
      "Compute Image Embeddings 2D: 100%|██████████| 1/1 [00:04<00:00,  4.21s/it]\n",
      "Initialize instance segmentation with decoder:   0%|          | 0/1 [00:00<?, ?it/s]"
     ]
    },
    {
     "name": "stdout",
     "output_type": "stream",
     "text": [
      "Starting analysis on  06052025_images\\3K_dox_lipidtox_farred_LA1200_08.czi\n"
     ]
    },
    {
     "name": "stderr",
     "output_type": "stream",
     "text": [
      "Initialize instance segmentation with decoder: 100%|██████████| 1/1 [00:02<00:00,  2.83s/it]\n",
      "Compute Image Embeddings 2D: 100%|██████████| 1/1 [00:04<00:00,  4.92s/it]\n",
      "Initialize instance segmentation with decoder:   0%|          | 0/1 [00:00<?, ?it/s]"
     ]
    },
    {
     "name": "stdout",
     "output_type": "stream",
     "text": [
      "Starting analysis on  62425_images\\3K_dox_lipidtox_farred_LA1200_07.czi\n"
     ]
    },
    {
     "name": "stderr",
     "output_type": "stream",
     "text": [
      "Initialize instance segmentation with decoder: 100%|██████████| 1/1 [00:02<00:00,  2.46s/it]\n",
      "Compute Image Embeddings 2D: 100%|██████████| 1/1 [00:03<00:00,  3.88s/it]\n",
      "Initialize instance segmentation with decoder:   0%|          | 0/1 [00:00<?, ?it/s]"
     ]
    },
    {
     "name": "stdout",
     "output_type": "stream",
     "text": [
      "Starting analysis on  061725_images\\3K_dox_lipidtox_farred_LA1200_08.czi\n"
     ]
    },
    {
     "name": "stderr",
     "output_type": "stream",
     "text": []
    },
    {
     "name": "stdout",
     "output_type": "stream",
     "text": [
      "Starting analysis on  06052025_images\\3K_dox_lipidtox_farred_LA150_01.czi\n"
     ]
    },
    {
     "name": "stderr",
     "output_type": "stream",
     "text": [
      "\n",
      "Initialize instance segmentation with decoder: 100%|██████████| 1/1 [00:03<00:00,  3.29s/it]\n",
      "Compute Image Embeddings 2D: 100%|██████████| 1/1 [00:06<00:00,  6.20s/it]\n",
      "Initialize instance segmentation with decoder:   0%|          | 0/1 [00:00<?, ?it/s]\n",
      "Compute Image Embeddings 2D: 100%|██████████| 1/1 [00:06<00:00,  6.84s/it]\n",
      "Initialize instance segmentation with decoder: 100%|██████████| 1/1 [00:03<00:00,  3.30s/it]\n",
      "Initialize instance segmentation with decoder: 100%|██████████| 1/1 [00:02<00:00,  2.70s/it]\n"
     ]
    },
    {
     "name": "stdout",
     "output_type": "stream",
     "text": [
      "Starting analysis on  06052025_images\\3K_dox_lipidtox_farred_LA150_02.czi\n"
     ]
    },
    {
     "name": "stderr",
     "output_type": "stream",
     "text": [
      "Compute Image Embeddings 2D:   0%|          | 0/1 [00:00<?, ?it/s]"
     ]
    },
    {
     "name": "stdout",
     "output_type": "stream",
     "text": [
      "Starting analysis on  62425_images\\3K_dox_lipidtox_farred_LA1200_08.czi\n"
     ]
    },
    {
     "name": "stderr",
     "output_type": "stream",
     "text": []
    },
    {
     "name": "stdout",
     "output_type": "stream",
     "text": [
      "Starting analysis on  061725_images\\3K_dox_lipidtox_farred_LA150_01.czi\n"
     ]
    },
    {
     "name": "stderr",
     "output_type": "stream",
     "text": [
      "\n",
      "Compute Image Embeddings 2D: 100%|██████████| 1/1 [00:09<00:00,  9.79s/it]\n",
      "Compute Image Embeddings 2D: 100%|██████████| 1/1 [00:14<00:00, 14.70s/it]<?, ?it/s]\n",
      "Initialize instance segmentation with decoder: 100%|██████████| 1/1 [00:09<00:00,  9.02s/it]\n",
      "Initialize instance segmentation with decoder: 100%|██████████| 1/1 [00:08<00:00,  8.06s/it]\n",
      "\n",
      "Compute Image Embeddings 2D: 100%|██████████| 1/1 [00:17<00:00, 17.39s/it]\n",
      "Initialize instance segmentation with decoder: 100%|██████████| 1/1 [00:05<00:00,  5.07s/it]\n"
     ]
    },
    {
     "name": "stdout",
     "output_type": "stream",
     "text": [
      "Starting analysis on  06052025_images\\3K_dox_lipidtox_farred_LA150_03.czi\n"
     ]
    },
    {
     "name": "stderr",
     "output_type": "stream",
     "text": [
      "Compute Image Embeddings 2D: 100%|██████████| 1/1 [00:07<00:00,  7.73s/it]\n",
      "Initialize instance segmentation with decoder: 100%|██████████| 1/1 [00:05<00:00,  5.02s/it]\n"
     ]
    },
    {
     "name": "stdout",
     "output_type": "stream",
     "text": [
      "Starting analysis on  62425_images\\3K_dox_lipidtox_farred_LA150_01.czi\n"
     ]
    },
    {
     "name": "stderr",
     "output_type": "stream",
     "text": [
      "Compute Image Embeddings 2D:   0%|          | 0/1 [00:00<?, ?it/s]"
     ]
    },
    {
     "name": "stdout",
     "output_type": "stream",
     "text": [
      "Starting analysis on  06052025_images\\3K_dox_lipidtox_farred_LA150_04.czi\n"
     ]
    },
    {
     "name": "stderr",
     "output_type": "stream",
     "text": [
      "Compute Image Embeddings 2D: 100%|██████████| 1/1 [00:06<00:00,  6.97s/it]\n",
      "Initialize instance segmentation with decoder:   0%|          | 0/1 [00:00<?, ?it/s]"
     ]
    },
    {
     "name": "stdout",
     "output_type": "stream",
     "text": [
      "Starting analysis on  061725_images\\3K_dox_lipidtox_farred_LA150_02.czi\n"
     ]
    },
    {
     "name": "stderr",
     "output_type": "stream",
     "text": [
      "\n",
      "Initialize instance segmentation with decoder: 100%|██████████| 1/1 [00:08<00:00,  8.01s/it]\n",
      "Compute Image Embeddings 2D: 100%|██████████| 1/1 [00:11<00:00, 11.44s/it]\n",
      "Initialize instance segmentation with decoder:   0%|          | 0/1 [00:00<?, ?it/s]\n",
      "Compute Image Embeddings 2D: 100%|██████████| 1/1 [00:10<00:00, 10.02s/it]\n",
      "Initialize instance segmentation with decoder: 100%|██████████| 1/1 [00:03<00:00,  3.45s/it]\n",
      "Initialize instance segmentation with decoder: 100%|██████████| 1/1 [00:03<00:00,  3.48s/it]\n"
     ]
    },
    {
     "name": "stdout",
     "output_type": "stream",
     "text": [
      "Starting analysis on  06052025_images\\3K_dox_lipidtox_farred_LA150_05.czi\n"
     ]
    },
    {
     "name": "stderr",
     "output_type": "stream",
     "text": [
      "Compute Image Embeddings 2D: 100%|██████████| 1/1 [00:03<00:00,  3.63s/it]\n",
      "Initialize instance segmentation with decoder:   0%|          | 0/1 [00:00<?, ?it/s]"
     ]
    },
    {
     "name": "stdout",
     "output_type": "stream",
     "text": [
      "Starting analysis on  061725_images\\3K_dox_lipidtox_farred_LA150_03.czi\n"
     ]
    },
    {
     "name": "stderr",
     "output_type": "stream",
     "text": [
      "Initialize instance segmentation with decoder: 100%|██████████| 1/1 [00:02<00:00,  2.79s/it]\n"
     ]
    },
    {
     "name": "stdout",
     "output_type": "stream",
     "text": [
      "Starting analysis on  62425_images\\3K_dox_lipidtox_farred_LA150_02.czi\n"
     ]
    },
    {
     "name": "stderr",
     "output_type": "stream",
     "text": [
      "Compute Image Embeddings 2D: 100%|██████████| 1/1 [00:04<00:00,  4.98s/it]\n"
     ]
    },
    {
     "name": "stdout",
     "output_type": "stream",
     "text": [
      "Starting analysis on  06052025_images\\3K_dox_lipidtox_farred_LA150_06.czi\n"
     ]
    },
    {
     "name": "stderr",
     "output_type": "stream",
     "text": [
      "\n",
      "Initialize instance segmentation with decoder: 100%|██████████| 1/1 [00:03<00:00,  3.65s/it]\n",
      "Compute Image Embeddings 2D: 100%|██████████| 1/1 [00:05<00:00,  5.88s/it]\n",
      "Initialize instance segmentation with decoder: 100%|██████████| 1/1 [00:03<00:00,  3.43s/it]\n",
      "\n",
      "Compute Image Embeddings 2D: 100%|██████████| 1/1 [00:06<00:00,  6.59s/it]\n",
      "Initialize instance segmentation with decoder: 100%|██████████| 1/1 [00:02<00:00,  2.52s/it]\n"
     ]
    },
    {
     "name": "stdout",
     "output_type": "stream",
     "text": [
      "Starting analysis on  061725_images\\3K_dox_lipidtox_farred_LA150_04.czi\n"
     ]
    },
    {
     "name": "stderr",
     "output_type": "stream",
     "text": [
      "Compute Image Embeddings 2D:   0%|          | 0/1 [00:00<?, ?it/s]"
     ]
    },
    {
     "name": "stdout",
     "output_type": "stream",
     "text": [
      "Starting analysis on  06052025_images\\3K_dox_lipidtox_farred_LA150_07.czi\n"
     ]
    },
    {
     "name": "stderr",
     "output_type": "stream",
     "text": [
      "Compute Image Embeddings 2D: 100%|██████████| 1/1 [00:04<00:00,  4.95s/it]\n",
      "Compute Image Embeddings 2D: 100%|██████████| 1/1 [00:05<00:00,  5.11s/it]<?, ?it/s]\n"
     ]
    },
    {
     "name": "stdout",
     "output_type": "stream",
     "text": [
      "Starting analysis on  62425_images\\3K_dox_lipidtox_farred_LA150_03.czi\n"
     ]
    },
    {
     "name": "stderr",
     "output_type": "stream",
     "text": [
      "\n",
      "Initialize instance segmentation with decoder: 100%|██████████| 1/1 [00:04<00:00,  4.01s/it]\n",
      "Initialize instance segmentation with decoder: 100%|██████████| 1/1 [00:03<00:00,  3.31s/it]\n",
      "\n",
      "Compute Image Embeddings 2D: 100%|██████████| 1/1 [00:05<00:00,  5.17s/it]\n",
      "Initialize instance segmentation with decoder: 100%|██████████| 1/1 [00:02<00:00,  2.72s/it]\n"
     ]
    },
    {
     "name": "stdout",
     "output_type": "stream",
     "text": [
      "Starting analysis on  06052025_images\\3K_dox_lipidtox_farred_LA150_08.czi\n"
     ]
    },
    {
     "name": "stderr",
     "output_type": "stream",
     "text": [
      "Compute Image Embeddings 2D:   0%|          | 0/1 [00:00<?, ?it/s]"
     ]
    },
    {
     "name": "stdout",
     "output_type": "stream",
     "text": [
      "Starting analysis on  061725_images\\3K_dox_lipidtox_farred_LA150_05.czi\n"
     ]
    },
    {
     "name": "stderr",
     "output_type": "stream",
     "text": [
      "Compute Image Embeddings 2D: 100%|██████████| 1/1 [00:04<00:00,  4.87s/it]\n",
      "Compute Image Embeddings 2D: 100%|██████████| 1/1 [00:05<00:00,  5.79s/it]<?, ?it/s]\n",
      "Initialize instance segmentation with decoder: 100%|██████████| 1/1 [00:03<00:00,  3.29s/it]\n",
      "Initialize instance segmentation with decoder: 100%|██████████| 1/1 [00:02<00:00,  2.49s/it]\n"
     ]
    },
    {
     "name": "stdout",
     "output_type": "stream",
     "text": [
      "Starting analysis on  62425_images\\3K_dox_lipidtox_farred_LA150_04.czi\n"
     ]
    },
    {
     "name": "stderr",
     "output_type": "stream",
     "text": [
      "Compute Image Embeddings 2D:   0%|          | 0/1 [00:00<?, ?it/s]"
     ]
    },
    {
     "name": "stdout",
     "output_type": "stream",
     "text": [
      "Starting analysis on  06052025_images\\3K_dox_lipidtox_farred_LA18.25_01.czi\n"
     ]
    },
    {
     "name": "stderr",
     "output_type": "stream",
     "text": []
    },
    {
     "name": "stdout",
     "output_type": "stream",
     "text": [
      "Starting analysis on  061725_images\\3K_dox_lipidtox_farred_LA150_06.czi\n"
     ]
    },
    {
     "name": "stderr",
     "output_type": "stream",
     "text": [
      "\n",
      "Compute Image Embeddings 2D: 100%|██████████| 1/1 [00:05<00:00,  5.01s/it]\n",
      "Initialize instance segmentation with decoder: 100%|██████████| 1/1 [00:03<00:00,  3.85s/it]\n",
      "Compute Image Embeddings 2D: 100%|██████████| 1/1 [00:07<00:00,  7.38s/it]\n",
      "Initialize instance segmentation with decoder:   0%|          | 0/1 [00:00<?, ?it/s]\n",
      "Compute Image Embeddings 2D: 100%|██████████| 1/1 [00:07<00:00,  7.36s/it]\n",
      "Initialize instance segmentation with decoder: 100%|██████████| 1/1 [00:03<00:00,  3.69s/it]\n",
      "Initialize instance segmentation with decoder: 100%|██████████| 1/1 [00:03<00:00,  3.17s/it]\n"
     ]
    },
    {
     "name": "stdout",
     "output_type": "stream",
     "text": [
      "Starting analysis on  06052025_images\\3K_dox_lipidtox_farred_LA18.25_02.czi\n"
     ]
    },
    {
     "name": "stderr",
     "output_type": "stream",
     "text": [
      "Compute Image Embeddings 2D: 100%|██████████| 1/1 [00:03<00:00,  3.82s/it]\n",
      "Initialize instance segmentation with decoder:   0%|          | 0/1 [00:00<?, ?it/s]"
     ]
    },
    {
     "name": "stdout",
     "output_type": "stream",
     "text": [
      "Starting analysis on  061725_images\\3K_dox_lipidtox_farred_LA150_07.czi\n"
     ]
    },
    {
     "name": "stderr",
     "output_type": "stream",
     "text": [
      "Initialize instance segmentation with decoder: 100%|██████████| 1/1 [00:02<00:00,  2.62s/it]\n",
      "Compute Image Embeddings 2D: 100%|██████████| 1/1 [00:04<00:00,  4.41s/it]\n",
      "Initialize instance segmentation with decoder:   0%|          | 0/1 [00:00<?, ?it/s]"
     ]
    },
    {
     "name": "stdout",
     "output_type": "stream",
     "text": [
      "Starting analysis on  62425_images\\3K_dox_lipidtox_farred_LA150_05.czi\n"
     ]
    },
    {
     "name": "stderr",
     "output_type": "stream",
     "text": []
    },
    {
     "name": "stdout",
     "output_type": "stream",
     "text": [
      "Starting analysis on  06052025_images\\3K_dox_lipidtox_farred_LA18.25_03.czi\n"
     ]
    },
    {
     "name": "stderr",
     "output_type": "stream",
     "text": [
      "\n",
      "Initialize instance segmentation with decoder: 100%|██████████| 1/1 [00:02<00:00,  2.80s/it]\n",
      "Compute Image Embeddings 2D: 100%|██████████| 1/1 [00:05<00:00,  5.02s/it]\n",
      "Initialize instance segmentation with decoder:   0%|          | 0/1 [00:00<?, ?it/s]\n",
      "Compute Image Embeddings 2D: 100%|██████████| 1/1 [00:07<00:00,  7.00s/it]\n",
      "Initialize instance segmentation with decoder: 100%|██████████| 1/1 [00:03<00:00,  3.17s/it]\n",
      "Initialize instance segmentation with decoder: 100%|██████████| 1/1 [00:02<00:00,  2.62s/it]\n"
     ]
    },
    {
     "name": "stdout",
     "output_type": "stream",
     "text": [
      "Starting analysis on  061725_images\\3K_dox_lipidtox_farred_LA150_08.czi\n"
     ]
    },
    {
     "name": "stderr",
     "output_type": "stream",
     "text": [
      "Compute Image Embeddings 2D:   0%|          | 0/1 [00:00<?, ?it/s]"
     ]
    },
    {
     "name": "stdout",
     "output_type": "stream",
     "text": [
      "Starting analysis on  06052025_images\\3K_dox_lipidtox_farred_LA18.25_04.czi\n"
     ]
    },
    {
     "name": "stderr",
     "output_type": "stream",
     "text": [
      "Compute Image Embeddings 2D: 100%|██████████| 1/1 [00:05<00:00,  5.22s/it]\n",
      "Compute Image Embeddings 2D: 100%|██████████| 1/1 [00:04<00:00,  4.86s/it]<?, ?it/s]\n",
      "Initialize instance segmentation with decoder: 100%|██████████| 1/1 [00:03<00:00,  3.80s/it]\n",
      "Initialize instance segmentation with decoder: 100%|██████████| 1/1 [00:03<00:00,  3.54s/it]\n"
     ]
    },
    {
     "name": "stdout",
     "output_type": "stream",
     "text": [
      "Starting analysis on  06052025_images\\3K_dox_lipidtox_farred_LA18.25_05.czi\n"
     ]
    },
    {
     "name": "stderr",
     "output_type": "stream",
     "text": [
      "Compute Image Embeddings 2D:   0%|          | 0/1 [00:00<?, ?it/s]"
     ]
    },
    {
     "name": "stdout",
     "output_type": "stream",
     "text": [
      "Starting analysis on  62425_images\\3K_dox_lipidtox_farred_LA150_06.czi\n"
     ]
    },
    {
     "name": "stderr",
     "output_type": "stream",
     "text": [
      "Compute Image Embeddings 2D: 100%|██████████| 1/1 [00:04<00:00,  4.79s/it]\n",
      "Initialize instance segmentation with decoder: 100%|██████████| 1/1 [00:02<00:00,  2.96s/it]\n",
      "Compute Image Embeddings 2D: 100%|██████████| 1/1 [00:06<00:00,  6.23s/it]\n",
      "Initialize instance segmentation with decoder: 100%|██████████| 1/1 [00:02<00:00,  2.31s/it]\n"
     ]
    },
    {
     "name": "stdout",
     "output_type": "stream",
     "text": [
      "Starting analysis on  06052025_images\\3K_dox_lipidtox_farred_LA18.25_06.czi\n"
     ]
    },
    {
     "name": "stderr",
     "output_type": "stream",
     "text": [
      "Compute Image Embeddings 2D:   0%|          | 0/1 [00:00<?, ?it/s]"
     ]
    },
    {
     "name": "stdout",
     "output_type": "stream",
     "text": [
      "Starting analysis on  061725_images\\3K_dox_lipidtox_farred_LA18.25_01.czi\n"
     ]
    },
    {
     "name": "stderr",
     "output_type": "stream",
     "text": [
      "Compute Image Embeddings 2D: 100%|██████████| 1/1 [00:03<00:00,  3.86s/it]\n",
      "Initialize instance segmentation with decoder: 100%|██████████| 1/1 [00:03<00:00,  3.20s/it]\n",
      "Compute Image Embeddings 2D: 100%|██████████| 1/1 [00:05<00:00,  5.01s/it]\n",
      "Initialize instance segmentation with decoder:   0%|          | 0/1 [00:00<?, ?it/s]"
     ]
    },
    {
     "name": "stdout",
     "output_type": "stream",
     "text": [
      "Starting analysis on  62425_images\\3K_dox_lipidtox_farred_LA150_07.czi\n"
     ]
    },
    {
     "name": "stderr",
     "output_type": "stream",
     "text": [
      "Initialize instance segmentation with decoder: 100%|██████████| 1/1 [00:02<00:00,  2.97s/it]\n"
     ]
    },
    {
     "name": "stdout",
     "output_type": "stream",
     "text": [
      "Starting analysis on  06052025_images\\3K_dox_lipidtox_farred_LA18.25_07.czi\n"
     ]
    },
    {
     "name": "stderr",
     "output_type": "stream",
     "text": [
      "Compute Image Embeddings 2D: 100%|██████████| 1/1 [00:04<00:00,  4.33s/it]\n",
      "Initialize instance segmentation with decoder: 100%|██████████| 1/1 [00:02<00:00,  2.86s/it]\n",
      "Compute Image Embeddings 2D: 100%|██████████| 1/1 [00:05<00:00,  5.52s/it]\n",
      "Initialize instance segmentation with decoder: 100%|██████████| 1/1 [00:02<00:00,  2.41s/it]\n"
     ]
    },
    {
     "name": "stdout",
     "output_type": "stream",
     "text": [
      "Starting analysis on  62425_images\\3K_dox_lipidtox_farred_LA150_08.czi\n"
     ]
    },
    {
     "name": "stderr",
     "output_type": "stream",
     "text": [
      "Compute Image Embeddings 2D:   0%|          | 0/1 [00:00<?, ?it/s]"
     ]
    },
    {
     "name": "stdout",
     "output_type": "stream",
     "text": [
      "Starting analysis on  06052025_images\\3K_dox_lipidtox_farred_LA18.25_08.czi\n"
     ]
    },
    {
     "name": "stderr",
     "output_type": "stream",
     "text": [
      "Compute Image Embeddings 2D: 100%|██████████| 1/1 [00:04<00:00,  4.01s/it]\n",
      "Initialize instance segmentation with decoder: 100%|██████████| 1/1 [00:03<00:00,  3.07s/it]\n",
      "Compute Image Embeddings 2D: 100%|██████████| 1/1 [00:05<00:00,  5.25s/it]\n",
      "Initialize instance segmentation with decoder: 100%|██████████| 1/1 [00:02<00:00,  2.45s/it]\n"
     ]
    },
    {
     "name": "stdout",
     "output_type": "stream",
     "text": [
      "Starting analysis on  061725_images\\3K_dox_lipidtox_farred_LA18.25_02.czi\n"
     ]
    },
    {
     "name": "stderr",
     "output_type": "stream",
     "text": [
      "Compute Image Embeddings 2D:   0%|          | 0/1 [00:00<?, ?it/s]"
     ]
    },
    {
     "name": "stdout",
     "output_type": "stream",
     "text": [
      "Starting analysis on  06052025_images\\3K_dox_lipidtox_farred_LA300_01.czi\n"
     ]
    },
    {
     "name": "stderr",
     "output_type": "stream",
     "text": [
      "Compute Image Embeddings 2D: 100%|██████████| 1/1 [00:03<00:00,  3.88s/it]\n",
      "Initialize instance segmentation with decoder: 100%|██████████| 1/1 [00:03<00:00,  3.20s/it]\n",
      "Compute Image Embeddings 2D: 100%|██████████| 1/1 [00:05<00:00,  5.38s/it]\n",
      "Initialize instance segmentation with decoder: 100%|██████████| 1/1 [00:02<00:00,  2.48s/it]\n"
     ]
    },
    {
     "name": "stdout",
     "output_type": "stream",
     "text": [
      "Starting analysis on  62425_images\\3K_dox_lipidtox_farred_LA18.25_01.czi\n"
     ]
    },
    {
     "name": "stderr",
     "output_type": "stream",
     "text": [
      "Compute Image Embeddings 2D:   0%|          | 0/1 [00:00<?, ?it/s]"
     ]
    },
    {
     "name": "stdout",
     "output_type": "stream",
     "text": [
      "Starting analysis on  06052025_images\\3K_dox_lipidtox_farred_LA300_02.czi\n"
     ]
    },
    {
     "name": "stderr",
     "output_type": "stream",
     "text": [
      "Compute Image Embeddings 2D: 100%|██████████| 1/1 [00:04<00:00,  4.04s/it]\n",
      "Initialize instance segmentation with decoder: 100%|██████████| 1/1 [00:02<00:00,  2.98s/it]\n",
      "Compute Image Embeddings 2D: 100%|██████████| 1/1 [00:05<00:00,  5.77s/it]\n",
      "Initialize instance segmentation with decoder: 100%|██████████| 1/1 [00:02<00:00,  2.54s/it]\n"
     ]
    },
    {
     "name": "stdout",
     "output_type": "stream",
     "text": [
      "Starting analysis on  061725_images\\3K_dox_lipidtox_farred_LA18.25_03.czi\n"
     ]
    },
    {
     "name": "stderr",
     "output_type": "stream",
     "text": [
      "Compute Image Embeddings 2D:   0%|          | 0/1 [00:00<?, ?it/s]"
     ]
    },
    {
     "name": "stdout",
     "output_type": "stream",
     "text": [
      "Starting analysis on  06052025_images\\3K_dox_lipidtox_farred_LA300_03.czi\n"
     ]
    },
    {
     "name": "stderr",
     "output_type": "stream",
     "text": [
      "Compute Image Embeddings 2D: 100%|██████████| 1/1 [00:04<00:00,  4.77s/it]\n",
      "Compute Image Embeddings 2D: 100%|██████████| 1/1 [00:04<00:00,  4.97s/it]<?, ?it/s]\n",
      "Initialize instance segmentation with decoder: 100%|██████████| 1/1 [00:03<00:00,  3.65s/it]\n",
      "Initialize instance segmentation with decoder: 100%|██████████| 1/1 [00:03<00:00,  3.42s/it]\n"
     ]
    },
    {
     "name": "stdout",
     "output_type": "stream",
     "text": [
      "Starting analysis on  62425_images\\3K_dox_lipidtox_farred_LA18.25_02.czi\n"
     ]
    },
    {
     "name": "stderr",
     "output_type": "stream",
     "text": [
      "Compute Image Embeddings 2D:   0%|          | 0/1 [00:00<?, ?it/s]"
     ]
    },
    {
     "name": "stdout",
     "output_type": "stream",
     "text": [
      "Starting analysis on  061725_images\\3K_dox_lipidtox_farred_LA18.25_04.czi\n"
     ]
    },
    {
     "name": "stderr",
     "output_type": "stream",
     "text": []
    },
    {
     "name": "stdout",
     "output_type": "stream",
     "text": [
      "Starting analysis on  06052025_images\\3K_dox_lipidtox_farred_LA300_04.czi\n"
     ]
    },
    {
     "name": "stderr",
     "output_type": "stream",
     "text": [
      "\n",
      "Compute Image Embeddings 2D: 100%|██████████| 1/1 [00:04<00:00,  4.84s/it]\n",
      "Initialize instance segmentation with decoder: 100%|██████████| 1/1 [00:03<00:00,  3.94s/it]\n",
      "\n",
      "Compute Image Embeddings 2D: 100%|██████████| 1/1 [00:07<00:00,  7.20s/it]\n",
      "Compute Image Embeddings 2D: 100%|██████████| 1/1 [00:09<00:00,  9.37s/it]<?, ?it/s]\n",
      "Initialize instance segmentation with decoder: 100%|██████████| 1/1 [00:03<00:00,  3.63s/it]\n",
      "Initialize instance segmentation with decoder: 100%|██████████| 1/1 [00:03<00:00,  3.33s/it]\n"
     ]
    },
    {
     "name": "stdout",
     "output_type": "stream",
     "text": [
      "Starting analysis on  06052025_images\\3K_dox_lipidtox_farred_LA300_05.czi\n"
     ]
    },
    {
     "name": "stderr",
     "output_type": "stream",
     "text": [
      "Compute Image Embeddings 2D:   0%|          | 0/1 [00:00<?, ?it/s]"
     ]
    },
    {
     "name": "stdout",
     "output_type": "stream",
     "text": [
      "Starting analysis on  62425_images\\3K_dox_lipidtox_farred_LA18.25_03.czi\n"
     ]
    },
    {
     "name": "stderr",
     "output_type": "stream",
     "text": [
      "Compute Image Embeddings 2D: 100%|██████████| 1/1 [00:04<00:00,  4.87s/it]\n",
      "Compute Image Embeddings 2D: 100%|██████████| 1/1 [00:05<00:00,  5.70s/it]<?, ?it/s]\n",
      "Initialize instance segmentation with decoder: 100%|██████████| 1/1 [00:03<00:00,  3.26s/it]\n",
      "Initialize instance segmentation with decoder: 100%|██████████| 1/1 [00:02<00:00,  2.67s/it]\n"
     ]
    },
    {
     "name": "stdout",
     "output_type": "stream",
     "text": [
      "Starting analysis on  06052025_images\\3K_dox_lipidtox_farred_LA300_06.czi\n"
     ]
    },
    {
     "name": "stderr",
     "output_type": "stream",
     "text": [
      "Compute Image Embeddings 2D: 100%|██████████| 1/1 [00:04<00:00,  4.04s/it]\n",
      "Initialize instance segmentation with decoder:   0%|          | 0/1 [00:00<?, ?it/s]"
     ]
    },
    {
     "name": "stdout",
     "output_type": "stream",
     "text": [
      "Starting analysis on  061725_images\\3K_dox_lipidtox_farred_LA18.25_05.czi\n"
     ]
    },
    {
     "name": "stderr",
     "output_type": "stream",
     "text": [
      "Initialize instance segmentation with decoder: 100%|██████████| 1/1 [00:02<00:00,  2.45s/it]\n"
     ]
    },
    {
     "name": "stdout",
     "output_type": "stream",
     "text": [
      "Starting analysis on  06052025_images\\3K_dox_lipidtox_farred_LA300_07.czi\n"
     ]
    },
    {
     "name": "stderr",
     "output_type": "stream",
     "text": [
      "Compute Image Embeddings 2D: 100%|██████████| 1/1 [00:03<00:00,  3.84s/it]\n",
      "Initialize instance segmentation with decoder: 100%|██████████| 1/1 [00:03<00:00,  3.18s/it]\n",
      "Compute Image Embeddings 2D: 100%|██████████| 1/1 [00:05<00:00,  5.77s/it]\n",
      "Initialize instance segmentation with decoder:   0%|          | 0/1 [00:00<?, ?it/s]"
     ]
    },
    {
     "name": "stdout",
     "output_type": "stream",
     "text": [
      "Starting analysis on  62425_images\\3K_dox_lipidtox_farred_LA18.25_04.czi\n"
     ]
    },
    {
     "name": "stderr",
     "output_type": "stream",
     "text": [
      "Initialize instance segmentation with decoder: 100%|██████████| 1/1 [00:04<00:00,  4.88s/it]\n",
      "Compute Image Embeddings 2D: 100%|██████████| 1/1 [00:07<00:00,  7.20s/it]\n",
      "Initialize instance segmentation with decoder: 100%|██████████| 1/1 [00:04<00:00,  4.66s/it]\n"
     ]
    },
    {
     "name": "stdout",
     "output_type": "stream",
     "text": [
      "Starting analysis on  06052025_images\\3K_dox_lipidtox_farred_LA300_08.czi\n"
     ]
    },
    {
     "name": "stderr",
     "output_type": "stream",
     "text": [
      "Compute Image Embeddings 2D: 100%|██████████| 1/1 [00:06<00:00,  6.87s/it]\n",
      "Initialize instance segmentation with decoder: 100%|██████████| 1/1 [00:04<00:00,  4.78s/it]\n"
     ]
    },
    {
     "name": "stdout",
     "output_type": "stream",
     "text": [
      "Starting analysis on  061725_images\\3K_dox_lipidtox_farred_LA18.25_06.czi\n"
     ]
    },
    {
     "name": "stderr",
     "output_type": "stream",
     "text": [
      "Compute Image Embeddings 2D: 100%|██████████| 1/1 [00:06<00:00,  6.31s/it]\n",
      "Initialize instance segmentation with decoder:   0%|          | 0/1 [00:00<?, ?it/s]"
     ]
    },
    {
     "name": "stdout",
     "output_type": "stream",
     "text": [
      "Starting analysis on  06052025_images\\3K_dox_lipidtox_farred_LA37.5_01.czi\n"
     ]
    },
    {
     "name": "stderr",
     "output_type": "stream",
     "text": [
      "Initialize instance segmentation with decoder: 100%|██████████| 1/1 [00:04<00:00,  4.56s/it]\n",
      "Compute Image Embeddings 2D: 100%|██████████| 1/1 [00:06<00:00,  6.97s/it]\n",
      "Initialize instance segmentation with decoder:   0%|          | 0/1 [00:00<?, ?it/s]"
     ]
    },
    {
     "name": "stdout",
     "output_type": "stream",
     "text": [
      "Starting analysis on  62425_images\\3K_dox_lipidtox_farred_LA18.25_05.czi\n"
     ]
    },
    {
     "name": "stderr",
     "output_type": "stream",
     "text": [
      "Initialize instance segmentation with decoder: 100%|██████████| 1/1 [00:06<00:00,  6.61s/it]\n",
      "Compute Image Embeddings 2D: 100%|██████████| 1/1 [00:09<00:00,  9.52s/it]\n",
      "Initialize instance segmentation with decoder:   0%|          | 0/1 [00:00<?, ?it/s]"
     ]
    },
    {
     "name": "stdout",
     "output_type": "stream",
     "text": [
      "Starting analysis on  061725_images\\3K_dox_lipidtox_farred_LA18.25_07.czi\n"
     ]
    },
    {
     "name": "stderr",
     "output_type": "stream",
     "text": [
      "Initialize instance segmentation with decoder: 100%|██████████| 1/1 [00:04<00:00,  4.75s/it]\n"
     ]
    },
    {
     "name": "stdout",
     "output_type": "stream",
     "text": [
      "Starting analysis on  06052025_images\\3K_dox_lipidtox_farred_LA37.5_02.czi\n"
     ]
    },
    {
     "name": "stderr",
     "output_type": "stream",
     "text": [
      "Compute Image Embeddings 2D: 100%|██████████| 1/1 [00:09<00:00,  9.12s/it]\n",
      "Initialize instance segmentation with decoder: 100%|██████████| 1/1 [00:03<00:00,  3.17s/it]\n",
      "Compute Image Embeddings 2D: 100%|██████████| 1/1 [00:08<00:00,  8.67s/it]\n",
      "Initialize instance segmentation with decoder: 100%|██████████| 1/1 [00:02<00:00,  2.51s/it]\n"
     ]
    },
    {
     "name": "stdout",
     "output_type": "stream",
     "text": [
      "Starting analysis on  06052025_images\\3K_dox_lipidtox_farred_LA37.5_03.czi\n"
     ]
    },
    {
     "name": "stderr",
     "output_type": "stream",
     "text": [
      "Compute Image Embeddings 2D:   0%|          | 0/1 [00:00<?, ?it/s]"
     ]
    },
    {
     "name": "stdout",
     "output_type": "stream",
     "text": [
      "Starting analysis on  061725_images\\3K_dox_lipidtox_farred_LA18.25_08.czi\n"
     ]
    },
    {
     "name": "stderr",
     "output_type": "stream",
     "text": [
      "Compute Image Embeddings 2D: 100%|██████████| 1/1 [00:03<00:00,  3.31s/it]\n",
      "Initialize instance segmentation with decoder: 100%|██████████| 1/1 [00:03<00:00,  3.48s/it]\n",
      "Compute Image Embeddings 2D: 100%|██████████| 1/1 [00:05<00:00,  5.18s/it]\n",
      "Initialize instance segmentation with decoder:   0%|          | 0/1 [00:00<?, ?it/s]"
     ]
    },
    {
     "name": "stdout",
     "output_type": "stream",
     "text": [
      "Starting analysis on  62425_images\\3K_dox_lipidtox_farred_LA18.25_06.czi\n"
     ]
    },
    {
     "name": "stderr",
     "output_type": "stream",
     "text": []
    },
    {
     "name": "stdout",
     "output_type": "stream",
     "text": [
      "Starting analysis on  06052025_images\\3K_dox_lipidtox_farred_LA37.5_04.czi\n"
     ]
    },
    {
     "name": "stderr",
     "output_type": "stream",
     "text": [
      "\n",
      "Initialize instance segmentation with decoder: 100%|██████████| 1/1 [00:02<00:00,  2.89s/it]\n",
      "Compute Image Embeddings 2D: 100%|██████████| 1/1 [00:05<00:00,  5.61s/it]\n",
      "Initialize instance segmentation with decoder:   0%|          | 0/1 [00:00<?, ?it/s]\n",
      "Compute Image Embeddings 2D: 100%|██████████| 1/1 [00:06<00:00,  6.36s/it]\n",
      "Initialize instance segmentation with decoder: 100%|██████████| 1/1 [00:02<00:00,  2.90s/it]\n",
      "Initialize instance segmentation with decoder: 100%|██████████| 1/1 [00:02<00:00,  2.87s/it]\n"
     ]
    },
    {
     "name": "stdout",
     "output_type": "stream",
     "text": [
      "Starting analysis on  061725_images\\3K_dox_lipidtox_farred_LA300_01.czi\n"
     ]
    },
    {
     "name": "stderr",
     "output_type": "stream",
     "text": [
      "Compute Image Embeddings 2D:   0%|          | 0/1 [00:00<?, ?it/s]"
     ]
    },
    {
     "name": "stdout",
     "output_type": "stream",
     "text": [
      "Starting analysis on  06052025_images\\3K_dox_lipidtox_farred_LA37.5_05.czi\n"
     ]
    },
    {
     "name": "stderr",
     "output_type": "stream",
     "text": [
      "Compute Image Embeddings 2D: 100%|██████████| 1/1 [00:04<00:00,  4.41s/it]\n",
      "Initialize instance segmentation with decoder: 100%|██████████| 1/1 [00:03<00:00,  3.24s/it]\n",
      "Compute Image Embeddings 2D: 100%|██████████| 1/1 [00:05<00:00,  5.84s/it]\n",
      "Initialize instance segmentation with decoder: 100%|██████████| 1/1 [00:02<00:00,  2.46s/it]\n"
     ]
    },
    {
     "name": "stdout",
     "output_type": "stream",
     "text": [
      "Starting analysis on  62425_images\\3K_dox_lipidtox_farred_LA18.25_07.czi\n"
     ]
    },
    {
     "name": "stderr",
     "output_type": "stream",
     "text": [
      "Compute Image Embeddings 2D:   0%|          | 0/1 [00:00<?, ?it/s]"
     ]
    },
    {
     "name": "stdout",
     "output_type": "stream",
     "text": [
      "Starting analysis on  06052025_images\\3K_dox_lipidtox_farred_LA37.5_06.czi\n"
     ]
    },
    {
     "name": "stderr",
     "output_type": "stream",
     "text": [
      "Compute Image Embeddings 2D: 100%|██████████| 1/1 [00:04<00:00,  4.33s/it]\n",
      "Initialize instance segmentation with decoder:   0%|          | 0/1 [00:00<?, ?it/s]"
     ]
    },
    {
     "name": "stdout",
     "output_type": "stream",
     "text": [
      "Starting analysis on  061725_images\\3K_dox_lipidtox_farred_LA300_02.czi\n"
     ]
    },
    {
     "name": "stderr",
     "output_type": "stream",
     "text": [
      "\n",
      "Compute Image Embeddings 2D: 100%|██████████| 1/1 [00:05<00:00,  5.83s/it]\n",
      "Initialize instance segmentation with decoder: 100%|██████████| 1/1 [00:04<00:00,  4.41s/it]\n",
      "Initialize instance segmentation with decoder: 100%|██████████| 1/1 [00:04<00:00,  4.26s/it]\n",
      "\n",
      "Compute Image Embeddings 2D: 100%|██████████| 1/1 [00:06<00:00,  6.05s/it]\n",
      "Initialize instance segmentation with decoder: 100%|██████████| 1/1 [00:02<00:00,  2.55s/it]\n"
     ]
    },
    {
     "name": "stdout",
     "output_type": "stream",
     "text": [
      "Starting analysis on  06052025_images\\3K_dox_lipidtox_farred_LA37.5_07.czi\n"
     ]
    },
    {
     "name": "stderr",
     "output_type": "stream",
     "text": [
      "Compute Image Embeddings 2D: 100%|██████████| 1/1 [00:07<00:00,  7.59s/it]\n",
      "Initialize instance segmentation with decoder: 100%|██████████| 1/1 [00:05<00:00,  5.11s/it]\n"
     ]
    },
    {
     "name": "stdout",
     "output_type": "stream",
     "text": [
      "Starting analysis on  061725_images\\3K_dox_lipidtox_farred_LA300_03.czi\n"
     ]
    },
    {
     "name": "stderr",
     "output_type": "stream",
     "text": [
      "Compute Image Embeddings 2D:   0%|          | 0/1 [00:00<?, ?it/s]"
     ]
    },
    {
     "name": "stdout",
     "output_type": "stream",
     "text": [
      "Starting analysis on  06052025_images\\3K_dox_lipidtox_farred_LA37.5_08.czi\n"
     ]
    },
    {
     "name": "stderr",
     "output_type": "stream",
     "text": [
      "Compute Image Embeddings 2D: 100%|██████████| 1/1 [00:08<00:00,  8.06s/it]\n",
      "Initialize instance segmentation with decoder:   0%|          | 0/1 [00:00<?, ?it/s]"
     ]
    },
    {
     "name": "stdout",
     "output_type": "stream",
     "text": [
      "Starting analysis on  62425_images\\3K_dox_lipidtox_farred_LA18.25_08.czi\n"
     ]
    },
    {
     "name": "stderr",
     "output_type": "stream",
     "text": [
      "\n",
      "Initialize instance segmentation with decoder: 100%|██████████| 1/1 [00:09<00:00,  9.47s/it]\n",
      "Compute Image Embeddings 2D: 100%|██████████| 1/1 [00:18<00:00, 18.36s/it]\n",
      "Initialize instance segmentation with decoder:   0%|          | 0/1 [00:00<?, ?it/s]\n",
      "Compute Image Embeddings 2D: 100%|██████████| 1/1 [00:16<00:00, 16.54s/it]\n",
      "Initialize instance segmentation with decoder: 100%|██████████| 1/1 [00:07<00:00,  7.92s/it]\n",
      "Initialize instance segmentation with decoder: 100%|██████████| 1/1 [00:06<00:00,  6.06s/it]\n"
     ]
    },
    {
     "name": "stdout",
     "output_type": "stream",
     "text": [
      "Starting analysis on  06052025_images\\3K_dox_lipidtox_farred_LA600_01.czi\n"
     ]
    },
    {
     "name": "stderr",
     "output_type": "stream",
     "text": [
      "Compute Image Embeddings 2D: 100%|██████████| 1/1 [00:08<00:00,  8.38s/it]\n",
      "Initialize instance segmentation with decoder:   0%|          | 0/1 [00:00<?, ?it/s]"
     ]
    },
    {
     "name": "stdout",
     "output_type": "stream",
     "text": [
      "Starting analysis on  061725_images\\3K_dox_lipidtox_farred_LA300_04.czi\n"
     ]
    },
    {
     "name": "stderr",
     "output_type": "stream",
     "text": [
      "Initialize instance segmentation with decoder: 100%|██████████| 1/1 [00:05<00:00,  5.65s/it]\n",
      "Compute Image Embeddings 2D: 100%|██████████| 1/1 [00:10<00:00, 10.46s/it]\n",
      "Initialize instance segmentation with decoder: 100%|██████████| 1/1 [00:05<00:00,  5.70s/it]\n"
     ]
    },
    {
     "name": "stdout",
     "output_type": "stream",
     "text": [
      "Starting analysis on  62425_images\\3K_dox_lipidtox_farred_LA300_01.czi\n"
     ]
    },
    {
     "name": "stderr",
     "output_type": "stream",
     "text": [
      "Compute Image Embeddings 2D:   0%|          | 0/1 [00:00<?, ?it/s]"
     ]
    },
    {
     "name": "stdout",
     "output_type": "stream",
     "text": [
      "Starting analysis on  06052025_images\\3K_dox_lipidtox_farred_LA600_02.czi\n"
     ]
    },
    {
     "name": "stderr",
     "output_type": "stream",
     "text": [
      "Compute Image Embeddings 2D: 100%|██████████| 1/1 [00:08<00:00,  8.45s/it]\n",
      "Initialize instance segmentation with decoder: 100%|██████████| 1/1 [00:07<00:00,  7.16s/it]\n",
      "Compute Image Embeddings 2D: 100%|██████████| 1/1 [00:12<00:00, 12.30s/it]\n",
      "Initialize instance segmentation with decoder: 100%|██████████| 1/1 [00:05<00:00,  5.38s/it]\n"
     ]
    },
    {
     "name": "stdout",
     "output_type": "stream",
     "text": [
      "Starting analysis on  061725_images\\3K_dox_lipidtox_farred_LA300_05.czi\n"
     ]
    },
    {
     "name": "stderr",
     "output_type": "stream",
     "text": [
      "Compute Image Embeddings 2D:   0%|          | 0/1 [00:00<?, ?it/s]"
     ]
    },
    {
     "name": "stdout",
     "output_type": "stream",
     "text": [
      "Starting analysis on  06052025_images\\3K_dox_lipidtox_farred_LA600_03.czi\n"
     ]
    },
    {
     "name": "stderr",
     "output_type": "stream",
     "text": [
      "Compute Image Embeddings 2D: 100%|██████████| 1/1 [00:08<00:00,  8.69s/it]\n",
      "Compute Image Embeddings 2D: 100%|██████████| 1/1 [00:11<00:00, 11.59s/it]<?, ?it/s]\n"
     ]
    },
    {
     "name": "stdout",
     "output_type": "stream",
     "text": [
      "Starting analysis on  62425_images\\3K_dox_lipidtox_farred_LA300_02.czi\n"
     ]
    },
    {
     "name": "stderr",
     "output_type": "stream",
     "text": [
      "\n",
      "Initialize instance segmentation with decoder: 100%|██████████| 1/1 [00:09<00:00,  9.02s/it]\n",
      "Initialize instance segmentation with decoder: 100%|██████████| 1/1 [00:08<00:00,  8.43s/it]\n",
      "\n",
      "Compute Image Embeddings 2D: 100%|██████████| 1/1 [00:11<00:00, 11.66s/it]\n",
      "Initialize instance segmentation with decoder: 100%|██████████| 1/1 [00:04<00:00,  4.96s/it]\n"
     ]
    },
    {
     "name": "stdout",
     "output_type": "stream",
     "text": [
      "Starting analysis on  061725_images\\3K_dox_lipidtox_farred_LA300_06.czi\n"
     ]
    },
    {
     "name": "stderr",
     "output_type": "stream",
     "text": [
      "Compute Image Embeddings 2D:   0%|          | 0/1 [00:00<?, ?it/s]"
     ]
    },
    {
     "name": "stdout",
     "output_type": "stream",
     "text": [
      "Starting analysis on  06052025_images\\3K_dox_lipidtox_farred_LA600_04.czi\n"
     ]
    },
    {
     "name": "stderr",
     "output_type": "stream",
     "text": [
      "Compute Image Embeddings 2D: 100%|██████████| 1/1 [00:08<00:00,  8.03s/it]\n",
      "Initialize instance segmentation with decoder: 100%|██████████| 1/1 [00:07<00:00,  7.68s/it]\n"
     ]
    },
    {
     "name": "stdout",
     "output_type": "stream",
     "text": [
      "Starting analysis on  62425_images\\3K_dox_lipidtox_farred_LA300_03.czi\n"
     ]
    },
    {
     "name": "stderr",
     "output_type": "stream",
     "text": [
      "Compute Image Embeddings 2D: 100%|██████████| 1/1 [00:11<00:00, 11.29s/it]\n",
      "Initialize instance segmentation with decoder: 100%|██████████| 1/1 [00:06<00:00,  6.89s/it]\n",
      "Compute Image Embeddings 2D: 100%|██████████| 1/1 [00:11<00:00, 11.49s/it]\n",
      "Initialize instance segmentation with decoder: 100%|██████████| 1/1 [00:05<00:00,  5.21s/it]\n"
     ]
    },
    {
     "name": "stdout",
     "output_type": "stream",
     "text": [
      "Starting analysis on  061725_images\\3K_dox_lipidtox_farred_LA300_07.czi\n"
     ]
    },
    {
     "name": "stderr",
     "output_type": "stream",
     "text": [
      "Compute Image Embeddings 2D:   0%|          | 0/1 [00:00<?, ?it/s]"
     ]
    },
    {
     "name": "stdout",
     "output_type": "stream",
     "text": [
      "Starting analysis on  06052025_images\\3K_dox_lipidtox_farred_LA600_05.czi\n"
     ]
    },
    {
     "name": "stderr",
     "output_type": "stream",
     "text": [
      "Compute Image Embeddings 2D: 100%|██████████| 1/1 [00:08<00:00,  8.12s/it]\n",
      "Compute Image Embeddings 2D: 100%|██████████| 1/1 [00:13<00:00, 13.82s/it]<?, ?it/s]\n",
      "Initialize instance segmentation with decoder: 100%|██████████| 1/1 [00:08<00:00,  8.79s/it]\n",
      "Initialize instance segmentation with decoder: 100%|██████████| 1/1 [00:04<00:00,  4.56s/it]\n"
     ]
    },
    {
     "name": "stdout",
     "output_type": "stream",
     "text": [
      "Starting analysis on  62425_images\\3K_dox_lipidtox_farred_LA300_04.czi\n"
     ]
    },
    {
     "name": "stderr",
     "output_type": "stream",
     "text": [
      "Compute Image Embeddings 2D:   0%|          | 0/1 [00:00<?, ?it/s]"
     ]
    },
    {
     "name": "stdout",
     "output_type": "stream",
     "text": [
      "Starting analysis on  061725_images\\3K_dox_lipidtox_farred_LA300_08.czi\n"
     ]
    },
    {
     "name": "stderr",
     "output_type": "stream",
     "text": [
      "Compute Image Embeddings 2D: 100%|██████████| 1/1 [00:09<00:00,  9.39s/it]\n",
      "Compute Image Embeddings 2D: 100%|██████████| 1/1 [00:10<00:00, 10.32s/it]<?, ?it/s]\n",
      "Initialize instance segmentation with decoder: 100%|██████████| 1/1 [00:08<00:00,  8.52s/it]\n"
     ]
    },
    {
     "name": "stdout",
     "output_type": "stream",
     "text": [
      "Starting analysis on  06052025_images\\3K_dox_lipidtox_farred_LA600_06.czi\n"
     ]
    },
    {
     "name": "stderr",
     "output_type": "stream",
     "text": [
      "Initialize instance segmentation with decoder: 100%|██████████| 1/1 [00:06<00:00,  6.70s/it]\n",
      "Compute Image Embeddings 2D: 100%|██████████| 1/1 [00:08<00:00,  8.67s/it]\n",
      "Initialize instance segmentation with decoder: 100%|██████████| 1/1 [00:04<00:00,  4.87s/it]\n"
     ]
    },
    {
     "name": "stdout",
     "output_type": "stream",
     "text": [
      "Starting analysis on  061725_images\\3K_dox_lipidtox_farred_LA37.5_01.czi\n"
     ]
    },
    {
     "name": "stderr",
     "output_type": "stream",
     "text": [
      "Compute Image Embeddings 2D: 100%|██████████| 1/1 [00:06<00:00,  6.93s/it]\n",
      "Initialize instance segmentation with decoder:   0%|          | 0/1 [00:00<?, ?it/s]"
     ]
    },
    {
     "name": "stdout",
     "output_type": "stream",
     "text": [
      "Starting analysis on  06052025_images\\3K_dox_lipidtox_farred_LA600_07.czi\n"
     ]
    },
    {
     "name": "stderr",
     "output_type": "stream",
     "text": []
    },
    {
     "name": "stdout",
     "output_type": "stream",
     "text": [
      "Starting analysis on  62425_images\\3K_dox_lipidtox_farred_LA300_05.czi\n"
     ]
    },
    {
     "name": "stderr",
     "output_type": "stream",
     "text": [
      "\n",
      "Initialize instance segmentation with decoder: 100%|██████████| 1/1 [00:09<00:00,  9.52s/it]\n",
      "Compute Image Embeddings 2D: 100%|██████████| 1/1 [00:11<00:00, 11.78s/it]\n",
      "Initialize instance segmentation with decoder: 100%|██████████| 1/1 [00:06<00:00,  6.83s/it]\n",
      "Compute Image Embeddings 2D: 100%|██████████| 1/1 [00:14<00:00, 14.70s/it]\n",
      "Initialize instance segmentation with decoder: 100%|██████████| 1/1 [00:06<00:00,  6.84s/it]\n",
      "Initialize instance segmentation with decoder: 100%|██████████| 1/1 [00:04<00:00,  4.93s/it]\n"
     ]
    },
    {
     "name": "stdout",
     "output_type": "stream",
     "text": [
      "Starting analysis on  06052025_images\\3K_dox_lipidtox_farred_LA600_08.czi\n"
     ]
    },
    {
     "name": "stderr",
     "output_type": "stream",
     "text": [
      "Compute Image Embeddings 2D:   0%|          | 0/1 [00:00<?, ?it/s]"
     ]
    },
    {
     "name": "stdout",
     "output_type": "stream",
     "text": [
      "Starting analysis on  061725_images\\3K_dox_lipidtox_farred_LA37.5_02.czi\n"
     ]
    },
    {
     "name": "stderr",
     "output_type": "stream",
     "text": [
      "Compute Image Embeddings 2D: 100%|██████████| 1/1 [00:08<00:00,  8.05s/it]\n",
      "Initialize instance segmentation with decoder: 100%|██████████| 1/1 [00:06<00:00,  6.91s/it]\n",
      "Compute Image Embeddings 2D: 100%|██████████| 1/1 [00:12<00:00, 12.04s/it]\n",
      "Initialize instance segmentation with decoder: 100%|██████████| 1/1 [00:04<00:00,  4.96s/it]\n"
     ]
    },
    {
     "name": "stdout",
     "output_type": "stream",
     "text": [
      "Starting analysis on  06052025_images\\3K_dox_lipidtox_farred_LA75_01.czi\n"
     ]
    },
    {
     "name": "stderr",
     "output_type": "stream",
     "text": [
      "Compute Image Embeddings 2D:   0%|          | 0/1 [00:00<?, ?it/s]"
     ]
    },
    {
     "name": "stdout",
     "output_type": "stream",
     "text": [
      "Starting analysis on  62425_images\\3K_dox_lipidtox_farred_LA300_06.czi\n"
     ]
    },
    {
     "name": "stderr",
     "output_type": "stream",
     "text": [
      "Compute Image Embeddings 2D: 100%|██████████| 1/1 [00:09<00:00,  9.63s/it]\n",
      "Compute Image Embeddings 2D: 100%|██████████| 1/1 [00:12<00:00, 12.96s/it]<?, ?it/s]\n",
      "Initialize instance segmentation with decoder: 100%|██████████| 1/1 [00:07<00:00,  7.14s/it]\n",
      "Initialize instance segmentation with decoder: 100%|██████████| 1/1 [00:06<00:00,  6.57s/it]\n"
     ]
    },
    {
     "name": "stdout",
     "output_type": "stream",
     "text": [
      "Starting analysis on  061725_images\\3K_dox_lipidtox_farred_LA37.5_03.czi\n"
     ]
    },
    {
     "name": "stderr",
     "output_type": "stream",
     "text": [
      "Compute Image Embeddings 2D:   0%|          | 0/1 [00:00<?, ?it/s]"
     ]
    },
    {
     "name": "stdout",
     "output_type": "stream",
     "text": [
      "Starting analysis on  06052025_images\\3K_dox_lipidtox_farred_LA75_02.czi\n"
     ]
    },
    {
     "name": "stderr",
     "output_type": "stream",
     "text": [
      "Compute Image Embeddings 2D: 100%|██████████| 1/1 [00:11<00:00, 11.04s/it]\n",
      "Compute Image Embeddings 2D: 100%|██████████| 1/1 [00:10<00:00, 10.15s/it]<?, ?it/s]\n",
      "Initialize instance segmentation with decoder: 100%|██████████| 1/1 [00:07<00:00,  7.32s/it]\n",
      "Initialize instance segmentation with decoder: 100%|██████████| 1/1 [00:09<00:00,  9.26s/it]\n"
     ]
    },
    {
     "name": "stdout",
     "output_type": "stream",
     "text": [
      "Starting analysis on  62425_images\\3K_dox_lipidtox_farred_LA300_07.czi\n"
     ]
    },
    {
     "name": "stderr",
     "output_type": "stream",
     "text": [
      "Compute Image Embeddings 2D: 100%|██████████| 1/1 [00:07<00:00,  7.68s/it]\n",
      "Initialize instance segmentation with decoder:   0%|          | 0/1 [00:00<?, ?it/s]"
     ]
    },
    {
     "name": "stdout",
     "output_type": "stream",
     "text": [
      "Starting analysis on  06052025_images\\3K_dox_lipidtox_farred_LA75_03.czi\n"
     ]
    },
    {
     "name": "stderr",
     "output_type": "stream",
     "text": [
      "Initialize instance segmentation with decoder: 100%|██████████| 1/1 [00:07<00:00,  7.37s/it]\n",
      "Compute Image Embeddings 2D: 100%|██████████| 1/1 [00:10<00:00, 10.05s/it]\n",
      "Initialize instance segmentation with decoder: 100%|██████████| 1/1 [00:05<00:00,  5.16s/it]\n"
     ]
    },
    {
     "name": "stdout",
     "output_type": "stream",
     "text": [
      "Starting analysis on  061725_images\\3K_dox_lipidtox_farred_LA37.5_04.czi\n"
     ]
    },
    {
     "name": "stderr",
     "output_type": "stream",
     "text": [
      "Compute Image Embeddings 2D:   0%|          | 0/1 [00:00<?, ?it/s]"
     ]
    },
    {
     "name": "stdout",
     "output_type": "stream",
     "text": [
      "Starting analysis on  06052025_images\\3K_dox_lipidtox_farred_LA75_04.czi\n"
     ]
    },
    {
     "name": "stderr",
     "output_type": "stream",
     "text": []
    },
    {
     "name": "stdout",
     "output_type": "stream",
     "text": [
      "Starting analysis on  62425_images\\3K_dox_lipidtox_farred_LA300_08.czi\n"
     ]
    },
    {
     "name": "stderr",
     "output_type": "stream",
     "text": [
      "\n",
      "Compute Image Embeddings 2D: 100%|██████████| 1/1 [00:10<00:00, 10.37s/it]\n",
      "Compute Image Embeddings 2D: 100%|██████████| 1/1 [00:13<00:00, 13.73s/it]<?, ?it/s]\n",
      "Initialize instance segmentation with decoder: 100%|██████████| 1/1 [00:08<00:00,  8.92s/it]\n",
      "\n",
      "Compute Image Embeddings 2D: 100%|██████████| 1/1 [00:14<00:00, 14.69s/it]\n",
      "Initialize instance segmentation with decoder: 100%|██████████| 1/1 [00:08<00:00,  8.38s/it]\n",
      "Initialize instance segmentation with decoder: 100%|██████████| 1/1 [00:04<00:00,  4.79s/it]\n"
     ]
    },
    {
     "name": "stdout",
     "output_type": "stream",
     "text": [
      "Starting analysis on  06052025_images\\3K_dox_lipidtox_farred_LA75_05.czi\n"
     ]
    },
    {
     "name": "stderr",
     "output_type": "stream",
     "text": [
      "Compute Image Embeddings 2D: 100%|██████████| 1/1 [00:07<00:00,  7.65s/it]\n",
      "Initialize instance segmentation with decoder: 100%|██████████| 1/1 [00:04<00:00,  4.82s/it]\n"
     ]
    },
    {
     "name": "stdout",
     "output_type": "stream",
     "text": [
      "Starting analysis on  62425_images\\3K_dox_lipidtox_farred_LA600_01.czi\n"
     ]
    },
    {
     "name": "stderr",
     "output_type": "stream",
     "text": [
      "Compute Image Embeddings 2D:   0%|          | 0/1 [00:00<?, ?it/s]"
     ]
    },
    {
     "name": "stdout",
     "output_type": "stream",
     "text": [
      "Starting analysis on  061725_images\\3K_dox_lipidtox_farred_LA37.5_05.czi\n"
     ]
    },
    {
     "name": "stderr",
     "output_type": "stream",
     "text": []
    },
    {
     "name": "stdout",
     "output_type": "stream",
     "text": [
      "Starting analysis on  06052025_images\\3K_dox_lipidtox_farred_LA75_06.czi\n"
     ]
    },
    {
     "name": "stderr",
     "output_type": "stream",
     "text": [
      "\n",
      "Compute Image Embeddings 2D: 100%|██████████| 1/1 [00:09<00:00,  9.89s/it]\n",
      "Compute Image Embeddings 2D: 100%|██████████| 1/1 [00:15<00:00, 15.18s/it]<?, ?it/s]\n",
      "Initialize instance segmentation with decoder: 100%|██████████| 1/1 [00:08<00:00,  8.16s/it]\n",
      "\n",
      "Compute Image Embeddings 2D: 100%|██████████| 1/1 [00:16<00:00, 16.70s/it]\n",
      "Initialize instance segmentation with decoder: 100%|██████████| 1/1 [00:07<00:00,  7.32s/it]\n",
      "Initialize instance segmentation with decoder: 100%|██████████| 1/1 [00:05<00:00,  5.35s/it]\n"
     ]
    },
    {
     "name": "stdout",
     "output_type": "stream",
     "text": [
      "Starting analysis on  06052025_images\\3K_dox_lipidtox_farred_LA75_07.czi\n"
     ]
    },
    {
     "name": "stderr",
     "output_type": "stream",
     "text": [
      "Compute Image Embeddings 2D: 100%|██████████| 1/1 [00:07<00:00,  7.55s/it]\n",
      "Initialize instance segmentation with decoder: 100%|██████████| 1/1 [00:05<00:00,  5.47s/it]\n"
     ]
    },
    {
     "name": "stdout",
     "output_type": "stream",
     "text": [
      "Starting analysis on  62425_images\\3K_dox_lipidtox_farred_LA600_02.czi\n"
     ]
    },
    {
     "name": "stderr",
     "output_type": "stream",
     "text": [
      "Compute Image Embeddings 2D:   0%|          | 0/1 [00:00<?, ?it/s]"
     ]
    },
    {
     "name": "stdout",
     "output_type": "stream",
     "text": [
      "Starting analysis on  061725_images\\3K_dox_lipidtox_farred_LA37.5_06.czi\n"
     ]
    },
    {
     "name": "stderr",
     "output_type": "stream",
     "text": []
    },
    {
     "name": "stdout",
     "output_type": "stream",
     "text": [
      "Starting analysis on  06052025_images\\3K_dox_lipidtox_farred_LA75_08.czi\n"
     ]
    },
    {
     "name": "stderr",
     "output_type": "stream",
     "text": [
      "\n",
      "Compute Image Embeddings 2D: 100%|██████████| 1/1 [00:09<00:00,  9.88s/it]\n",
      "Compute Image Embeddings 2D: 100%|██████████| 1/1 [00:13<00:00, 13.64s/it]<?, ?it/s]\n",
      "Initialize instance segmentation with decoder: 100%|██████████| 1/1 [00:09<00:00,  9.19s/it]\n",
      "\n",
      "Compute Image Embeddings 2D: 100%|██████████| 1/1 [00:14<00:00, 14.75s/it]\n",
      "Initialize instance segmentation with decoder: 100%|██████████| 1/1 [00:10<00:00, 10.81s/it]\n",
      "Initialize instance segmentation with decoder: 100%|██████████| 1/1 [00:05<00:00,  5.57s/it]\n"
     ]
    },
    {
     "name": "stdout",
     "output_type": "stream",
     "text": [
      "Starting analysis on  06052025_images\\3K_dox_lipidtox_farred_LA_UT_01.czi\n"
     ]
    },
    {
     "name": "stderr",
     "output_type": "stream",
     "text": [
      "Compute Image Embeddings 2D:   0%|          | 0/1 [00:00<?, ?it/s]"
     ]
    },
    {
     "name": "stdout",
     "output_type": "stream",
     "text": [
      "Starting analysis on  061725_images\\3K_dox_lipidtox_farred_LA37.5_07.czi\n"
     ]
    },
    {
     "name": "stderr",
     "output_type": "stream",
     "text": [
      "Compute Image Embeddings 2D: 100%|██████████| 1/1 [00:07<00:00,  7.60s/it]\n",
      "Initialize instance segmentation with decoder: 100%|██████████| 1/1 [00:06<00:00,  6.56s/it]\n",
      "Compute Image Embeddings 2D: 100%|██████████| 1/1 [00:11<00:00, 11.71s/it]\n",
      "Initialize instance segmentation with decoder: 100%|██████████| 1/1 [00:04<00:00,  4.80s/it]\n"
     ]
    },
    {
     "name": "stdout",
     "output_type": "stream",
     "text": [
      "Starting analysis on  62425_images\\3K_dox_lipidtox_farred_LA600_03.czi\n"
     ]
    },
    {
     "name": "stderr",
     "output_type": "stream",
     "text": [
      "Compute Image Embeddings 2D: 100%|██████████| 1/1 [00:07<00:00,  7.46s/it]\n",
      "Initialize instance segmentation with decoder:   0%|          | 0/1 [00:00<?, ?it/s]"
     ]
    },
    {
     "name": "stdout",
     "output_type": "stream",
     "text": [
      "Starting analysis on  06052025_images\\3K_dox_lipidtox_farred_LA_UT_02.czi\n"
     ]
    },
    {
     "name": "stderr",
     "output_type": "stream",
     "text": [
      "Initialize instance segmentation with decoder: 100%|██████████| 1/1 [00:06<00:00,  6.03s/it]\n",
      "Compute Image Embeddings 2D: 100%|██████████| 1/1 [00:09<00:00,  9.24s/it]\n",
      "Initialize instance segmentation with decoder: 100%|██████████| 1/1 [00:04<00:00,  4.99s/it]\n"
     ]
    },
    {
     "name": "stdout",
     "output_type": "stream",
     "text": [
      "Starting analysis on  061725_images\\3K_dox_lipidtox_farred_LA37.5_08.czi\n"
     ]
    },
    {
     "name": "stderr",
     "output_type": "stream",
     "text": [
      "Compute Image Embeddings 2D:   0%|          | 0/1 [00:00<?, ?it/s]"
     ]
    },
    {
     "name": "stdout",
     "output_type": "stream",
     "text": [
      "Starting analysis on  06052025_images\\3K_dox_lipidtox_farred_LA_UT_03.czi\n"
     ]
    },
    {
     "name": "stderr",
     "output_type": "stream",
     "text": [
      "Compute Image Embeddings 2D: 100%|██████████| 1/1 [00:09<00:00,  9.81s/it]\n",
      "Compute Image Embeddings 2D: 100%|██████████| 1/1 [00:11<00:00, 11.83s/it]<?, ?it/s]\n"
     ]
    },
    {
     "name": "stdout",
     "output_type": "stream",
     "text": [
      "Starting analysis on  62425_images\\3K_dox_lipidtox_farred_LA600_04.czi\n"
     ]
    },
    {
     "name": "stderr",
     "output_type": "stream",
     "text": [
      "\n",
      "Initialize instance segmentation with decoder: 100%|██████████| 1/1 [00:08<00:00,  8.59s/it]\n",
      "Initialize instance segmentation with decoder: 100%|██████████| 1/1 [00:09<00:00,  9.68s/it]\n",
      "\n",
      "Compute Image Embeddings 2D: 100%|██████████| 1/1 [00:10<00:00, 10.39s/it]\n",
      "Initialize instance segmentation with decoder: 100%|██████████| 1/1 [00:04<00:00,  4.59s/it]\n"
     ]
    },
    {
     "name": "stdout",
     "output_type": "stream",
     "text": [
      "Starting analysis on  06052025_images\\3K_dox_lipidtox_farred_LA_UT_04.czi\n"
     ]
    },
    {
     "name": "stderr",
     "output_type": "stream",
     "text": [
      "Compute Image Embeddings 2D:   0%|          | 0/1 [00:00<?, ?it/s]"
     ]
    },
    {
     "name": "stdout",
     "output_type": "stream",
     "text": [
      "Starting analysis on  061725_images\\3K_dox_lipidtox_farred_LA600_01.czi\n"
     ]
    },
    {
     "name": "stderr",
     "output_type": "stream",
     "text": [
      "Compute Image Embeddings 2D: 100%|██████████| 1/1 [00:08<00:00,  8.84s/it]\n",
      "Compute Image Embeddings 2D: 100%|██████████| 1/1 [00:11<00:00, 11.43s/it]<?, ?it/s]\n",
      "Initialize instance segmentation with decoder: 100%|██████████| 1/1 [00:08<00:00,  8.32s/it]\n",
      "Initialize instance segmentation with decoder: 100%|██████████| 1/1 [00:06<00:00,  6.74s/it]\n"
     ]
    },
    {
     "name": "stdout",
     "output_type": "stream",
     "text": [
      "Starting analysis on  62425_images\\3K_dox_lipidtox_farred_LA600_05.czi\n"
     ]
    },
    {
     "name": "stderr",
     "output_type": "stream",
     "text": [
      "Compute Image Embeddings 2D:   0%|          | 0/1 [00:00<?, ?it/s]"
     ]
    },
    {
     "name": "stdout",
     "output_type": "stream",
     "text": [
      "Starting analysis on  06052025_images\\3K_dox_lipidtox_farred_LA_UT_05.czi\n"
     ]
    },
    {
     "name": "stderr",
     "output_type": "stream",
     "text": [
      "Compute Image Embeddings 2D: 100%|██████████| 1/1 [00:11<00:00, 11.38s/it]\n",
      "Compute Image Embeddings 2D: 100%|██████████| 1/1 [00:12<00:00, 12.09s/it]<?, ?it/s]\n",
      "Initialize instance segmentation with decoder: 100%|██████████| 1/1 [00:07<00:00,  7.60s/it]\n",
      "Initialize instance segmentation with decoder: 100%|██████████| 1/1 [00:06<00:00,  6.44s/it]\n"
     ]
    },
    {
     "name": "stdout",
     "output_type": "stream",
     "text": [
      "Starting analysis on  061725_images\\3K_dox_lipidtox_farred_LA600_02.czi\n"
     ]
    },
    {
     "name": "stderr",
     "output_type": "stream",
     "text": [
      "Compute Image Embeddings 2D: 100%|██████████| 1/1 [00:07<00:00,  7.22s/it]\n",
      "Initialize instance segmentation with decoder:   0%|          | 0/1 [00:00<?, ?it/s]"
     ]
    },
    {
     "name": "stdout",
     "output_type": "stream",
     "text": [
      "Starting analysis on  06052025_images\\3K_dox_lipidtox_farred_LA_UT_06.czi\n"
     ]
    },
    {
     "name": "stderr",
     "output_type": "stream",
     "text": [
      "Initialize instance segmentation with decoder: 100%|██████████| 1/1 [00:06<00:00,  6.15s/it]\n",
      "Compute Image Embeddings 2D: 100%|██████████| 1/1 [00:09<00:00,  9.32s/it]\n",
      "Initialize instance segmentation with decoder:   0%|          | 0/1 [00:00<?, ?it/s]"
     ]
    },
    {
     "name": "stdout",
     "output_type": "stream",
     "text": [
      "Starting analysis on  62425_images\\3K_dox_lipidtox_farred_LA600_06.czi\n"
     ]
    },
    {
     "name": "stderr",
     "output_type": "stream",
     "text": [
      "Initialize instance segmentation with decoder: 100%|██████████| 1/1 [00:04<00:00,  4.88s/it]\n",
      "Compute Image Embeddings 2D: 100%|██████████| 1/1 [00:08<00:00,  8.06s/it]\n",
      "Initialize instance segmentation with decoder: 100%|██████████| 1/1 [00:04<00:00,  4.83s/it]\n"
     ]
    },
    {
     "name": "stdout",
     "output_type": "stream",
     "text": [
      "Starting analysis on  061725_images\\3K_dox_lipidtox_farred_LA600_03.czi\n"
     ]
    },
    {
     "name": "stderr",
     "output_type": "stream",
     "text": [
      "Compute Image Embeddings 2D:   0%|          | 0/1 [00:00<?, ?it/s]"
     ]
    },
    {
     "name": "stdout",
     "output_type": "stream",
     "text": [
      "Starting analysis on  06052025_images\\3K_dox_lipidtox_farred_LA_UT_08.czi\n"
     ]
    },
    {
     "name": "stderr",
     "output_type": "stream",
     "text": [
      "Compute Image Embeddings 2D: 100%|██████████| 1/1 [00:07<00:00,  7.38s/it]\n",
      "Initialize instance segmentation with decoder: 100%|██████████| 1/1 [00:08<00:00,  8.24s/it]\n",
      "Compute Image Embeddings 2D: 100%|██████████| 1/1 [00:11<00:00, 12.00s/it]\n",
      "Initialize instance segmentation with decoder: 100%|██████████| 1/1 [00:04<00:00,  4.99s/it]\n"
     ]
    },
    {
     "name": "stdout",
     "output_type": "stream",
     "text": [
      "Starting analysis on  061725_images\\3K_dox_lipidtox_farred_LA600_04.czi\n"
     ]
    },
    {
     "name": "stderr",
     "output_type": "stream",
     "text": [
      "Compute Image Embeddings 2D:   0%|          | 0/1 [00:00<?, ?it/s]"
     ]
    },
    {
     "name": "stdout",
     "output_type": "stream",
     "text": [
      "Starting analysis on  06052025_images\\3K_dox_lipidtox_farred_LA_UT_09.czi\n"
     ]
    },
    {
     "name": "stderr",
     "output_type": "stream",
     "text": []
    },
    {
     "name": "stdout",
     "output_type": "stream",
     "text": [
      "Starting analysis on  62425_images\\3K_dox_lipidtox_farred_LA600_07.czi\n"
     ]
    },
    {
     "name": "stderr",
     "output_type": "stream",
     "text": [
      "\n",
      "Compute Image Embeddings 2D: 100%|██████████| 1/1 [00:11<00:00, 11.25s/it]\n",
      "Compute Image Embeddings 2D: 100%|██████████| 1/1 [00:15<00:00, 15.88s/it]<?, ?it/s]\n",
      "Initialize instance segmentation with decoder: 100%|██████████| 1/1 [00:11<00:00, 11.24s/it]\n",
      "\n",
      "Compute Image Embeddings 2D: 100%|██████████| 1/1 [00:18<00:00, 18.67s/it]\n",
      "Initialize instance segmentation with decoder: 100%|██████████| 1/1 [00:09<00:00,  9.24s/it]\n",
      "Initialize instance segmentation with decoder: 100%|██████████| 1/1 [00:06<00:00,  6.46s/it]\n"
     ]
    },
    {
     "name": "stdout",
     "output_type": "stream",
     "text": [
      "Starting analysis on  06052025_images\\3K_dox_lipidtox_farred_LA_UT_11.czi\n"
     ]
    },
    {
     "name": "stderr",
     "output_type": "stream",
     "text": [
      "Compute Image Embeddings 2D: 100%|██████████| 1/1 [00:08<00:00,  8.55s/it]\n",
      "Initialize instance segmentation with decoder:   0%|          | 0/1 [00:00<?, ?it/s]"
     ]
    },
    {
     "name": "stdout",
     "output_type": "stream",
     "text": [
      "Starting analysis on  061725_images\\3K_dox_lipidtox_farred_LA600_05.czi\n"
     ]
    },
    {
     "name": "stderr",
     "output_type": "stream",
     "text": [
      "Initialize instance segmentation with decoder: 100%|██████████| 1/1 [00:05<00:00,  5.57s/it]\n",
      "Compute Image Embeddings 2D: 100%|██████████| 1/1 [00:08<00:00,  8.68s/it]\n",
      "Initialize instance segmentation with decoder:   0%|          | 0/1 [00:00<?, ?it/s]"
     ]
    },
    {
     "name": "stdout",
     "output_type": "stream",
     "text": [
      "Starting analysis on  06052025_images\\3K_dox_lipidtox_farred_LA_UT_12.czi\n"
     ]
    },
    {
     "name": "stderr",
     "output_type": "stream",
     "text": [
      "Initialize instance segmentation with decoder: 100%|██████████| 1/1 [00:07<00:00,  7.85s/it]\n",
      "Compute Image Embeddings 2D: 100%|██████████| 1/1 [00:09<00:00,  9.85s/it]\n",
      "Initialize instance segmentation with decoder:   0%|          | 0/1 [00:00<?, ?it/s]"
     ]
    },
    {
     "name": "stdout",
     "output_type": "stream",
     "text": [
      "Starting analysis on  62425_images\\3K_dox_lipidtox_farred_LA600_08.czi\n"
     ]
    },
    {
     "name": "stderr",
     "output_type": "stream",
     "text": [
      "Initialize instance segmentation with decoder: 100%|██████████| 1/1 [00:06<00:00,  6.20s/it]\n",
      "Compute Image Embeddings 2D: 100%|██████████| 1/1 [00:09<00:00,  9.94s/it]\n",
      "Initialize instance segmentation with decoder:   0%|          | 0/1 [00:00<?, ?it/s]"
     ]
    },
    {
     "name": "stdout",
     "output_type": "stream",
     "text": [
      "Starting analysis on  06052025_images\\3K_dox_lipidtox_farred_OA1200_01.czi\n"
     ]
    },
    {
     "name": "stderr",
     "output_type": "stream",
     "text": [
      "Initialize instance segmentation with decoder: 100%|██████████| 1/1 [00:04<00:00,  4.72s/it]\n"
     ]
    },
    {
     "name": "stdout",
     "output_type": "stream",
     "text": [
      "Starting analysis on  061725_images\\3K_dox_lipidtox_farred_LA600_06.czi\n"
     ]
    },
    {
     "name": "stderr",
     "output_type": "stream",
     "text": [
      "Compute Image Embeddings 2D: 100%|██████████| 1/1 [00:08<00:00,  8.96s/it]\n",
      "Initialize instance segmentation with decoder: 100%|██████████| 1/1 [00:07<00:00,  7.17s/it]\n",
      "Compute Image Embeddings 2D: 100%|██████████| 1/1 [00:11<00:00, 11.98s/it]\n",
      "Initialize instance segmentation with decoder: 100%|██████████| 1/1 [00:05<00:00,  5.05s/it]\n"
     ]
    },
    {
     "name": "stdout",
     "output_type": "stream",
     "text": [
      "Starting analysis on  06052025_images\\3K_dox_lipidtox_farred_OA1200_02.czi\n"
     ]
    },
    {
     "name": "stderr",
     "output_type": "stream",
     "text": [
      "Compute Image Embeddings 2D:   0%|          | 0/1 [00:00<?, ?it/s]"
     ]
    },
    {
     "name": "stdout",
     "output_type": "stream",
     "text": [
      "Starting analysis on  62425_images\\3K_dox_lipidtox_farred_LA_37.5_01.czi\n"
     ]
    },
    {
     "name": "stderr",
     "output_type": "stream",
     "text": [
      "Compute Image Embeddings 2D: 100%|██████████| 1/1 [00:08<00:00,  8.81s/it]\n",
      "Initialize instance segmentation with decoder:   0%|          | 0/1 [00:00<?, ?it/s]"
     ]
    },
    {
     "name": "stdout",
     "output_type": "stream",
     "text": [
      "Starting analysis on  061725_images\\3K_dox_lipidtox_farred_LA600_07.czi\n"
     ]
    },
    {
     "name": "stderr",
     "output_type": "stream",
     "text": [
      "\n",
      "Compute Image Embeddings 2D: 100%|██████████| 1/1 [00:14<00:00, 14.10s/it]\n",
      "Initialize instance segmentation with decoder: 100%|██████████| 1/1 [00:08<00:00,  8.06s/it]\n",
      "Initialize instance segmentation with decoder: 100%|██████████| 1/1 [00:06<00:00,  6.17s/it]\n",
      "\n",
      "Compute Image Embeddings 2D: 100%|██████████| 1/1 [00:13<00:00, 13.12s/it]\n",
      "Initialize instance segmentation with decoder: 100%|██████████| 1/1 [00:05<00:00,  5.03s/it]\n"
     ]
    },
    {
     "name": "stdout",
     "output_type": "stream",
     "text": [
      "Starting analysis on  06052025_images\\3K_dox_lipidtox_farred_OA1200_03.czi\n"
     ]
    },
    {
     "name": "stderr",
     "output_type": "stream",
     "text": [
      "Compute Image Embeddings 2D: 100%|██████████| 1/1 [00:07<00:00,  7.62s/it]\n",
      "Initialize instance segmentation with decoder: 100%|██████████| 1/1 [00:05<00:00,  5.05s/it]\n"
     ]
    },
    {
     "name": "stdout",
     "output_type": "stream",
     "text": [
      "Starting analysis on  62425_images\\3K_dox_lipidtox_farred_LA_37.5_02.czi\n"
     ]
    },
    {
     "name": "stderr",
     "output_type": "stream",
     "text": [
      "Compute Image Embeddings 2D: 100%|██████████| 1/1 [00:06<00:00,  6.76s/it]\n",
      "Initialize instance segmentation with decoder:   0%|          | 0/1 [00:00<?, ?it/s]"
     ]
    },
    {
     "name": "stdout",
     "output_type": "stream",
     "text": [
      "Starting analysis on  06052025_images\\3K_dox_lipidtox_farred_OA1200_04.czi\n"
     ]
    },
    {
     "name": "stderr",
     "output_type": "stream",
     "text": [
      "Initialize instance segmentation with decoder: 100%|██████████| 1/1 [00:05<00:00,  5.26s/it]\n"
     ]
    },
    {
     "name": "stdout",
     "output_type": "stream",
     "text": [
      "Starting analysis on  061725_images\\3K_dox_lipidtox_farred_LA600_08.czi\n"
     ]
    },
    {
     "name": "stderr",
     "output_type": "stream",
     "text": [
      "Compute Image Embeddings 2D: 100%|██████████| 1/1 [00:09<00:00,  9.54s/it]\n",
      "Compute Image Embeddings 2D: 100%|██████████| 1/1 [00:11<00:00, 11.04s/it]\n",
      "Initialize instance segmentation with decoder: 100%|██████████| 1/1 [00:08<00:00,  8.95s/it]\n",
      "Initialize instance segmentation with decoder: 100%|██████████| 1/1 [00:04<00:00,  4.96s/it]\n"
     ]
    },
    {
     "name": "stdout",
     "output_type": "stream",
     "text": [
      "Starting analysis on  62425_images\\3K_dox_lipidtox_farred_LA_37.5_03.czi\n"
     ]
    },
    {
     "name": "stderr",
     "output_type": "stream",
     "text": [
      "Compute Image Embeddings 2D: 100%|██████████| 1/1 [00:07<00:00,  7.00s/it]\n",
      "Initialize instance segmentation with decoder:   0%|          | 0/1 [00:00<?, ?it/s]"
     ]
    },
    {
     "name": "stdout",
     "output_type": "stream",
     "text": [
      "Starting analysis on  06052025_images\\3K_dox_lipidtox_farred_OA1200_05.czi\n"
     ]
    },
    {
     "name": "stderr",
     "output_type": "stream",
     "text": [
      "Initialize instance segmentation with decoder: 100%|██████████| 1/1 [00:06<00:00,  6.29s/it]\n"
     ]
    },
    {
     "name": "stdout",
     "output_type": "stream",
     "text": [
      "Starting analysis on  061725_images\\3K_dox_lipidtox_farred_LA75_01.czi\n"
     ]
    },
    {
     "name": "stderr",
     "output_type": "stream",
     "text": [
      "Compute Image Embeddings 2D: 100%|██████████| 1/1 [00:12<00:00, 12.00s/it]\n",
      "Initialize instance segmentation with decoder: 100%|██████████| 1/1 [00:06<00:00,  6.94s/it]\n",
      "Compute Image Embeddings 2D: 100%|██████████| 1/1 [00:14<00:00, 14.55s/it]\n",
      "Initialize instance segmentation with decoder: 100%|██████████| 1/1 [00:05<00:00,  5.06s/it]\n"
     ]
    },
    {
     "name": "stdout",
     "output_type": "stream",
     "text": [
      "Starting analysis on  62425_images\\3K_dox_lipidtox_farred_LA_37.5_04.czi\n"
     ]
    },
    {
     "name": "stderr",
     "output_type": "stream",
     "text": [
      "Compute Image Embeddings 2D:   0%|          | 0/1 [00:00<?, ?it/s]"
     ]
    },
    {
     "name": "stdout",
     "output_type": "stream",
     "text": [
      "Starting analysis on  06052025_images\\3K_dox_lipidtox_farred_OA1200_06.czi\n"
     ]
    },
    {
     "name": "stderr",
     "output_type": "stream",
     "text": [
      "Compute Image Embeddings 2D: 100%|██████████| 1/1 [00:10<00:00, 10.14s/it]\n",
      "Compute Image Embeddings 2D: 100%|██████████| 1/1 [00:12<00:00, 12.07s/it]<?, ?it/s]\n",
      "Initialize instance segmentation with decoder: 100%|██████████| 1/1 [00:09<00:00,  9.37s/it]\n",
      "Initialize instance segmentation with decoder: 100%|██████████| 1/1 [00:06<00:00,  6.45s/it]\n"
     ]
    },
    {
     "name": "stdout",
     "output_type": "stream",
     "text": [
      "Starting analysis on  061725_images\\3K_dox_lipidtox_farred_LA75_02.czi\n"
     ]
    },
    {
     "name": "stderr",
     "output_type": "stream",
     "text": [
      "Compute Image Embeddings 2D: 100%|██████████| 1/1 [00:07<00:00,  7.74s/it]\n",
      "Initialize instance segmentation with decoder:   0%|          | 0/1 [00:00<?, ?it/s]"
     ]
    },
    {
     "name": "stdout",
     "output_type": "stream",
     "text": [
      "Starting analysis on  06052025_images\\3K_dox_lipidtox_farred_OA1200_07.czi\n"
     ]
    },
    {
     "name": "stderr",
     "output_type": "stream",
     "text": [
      "Initialize instance segmentation with decoder: 100%|██████████| 1/1 [00:06<00:00,  6.81s/it]\n",
      "Compute Image Embeddings 2D: 100%|██████████| 1/1 [00:09<00:00,  9.66s/it]\n",
      "Initialize instance segmentation with decoder: 100%|██████████| 1/1 [00:04<00:00,  4.69s/it]\n"
     ]
    },
    {
     "name": "stdout",
     "output_type": "stream",
     "text": [
      "Starting analysis on  62425_images\\3K_dox_lipidtox_farred_LA_37.5_05.czi\n"
     ]
    },
    {
     "name": "stderr",
     "output_type": "stream",
     "text": [
      "Compute Image Embeddings 2D: 100%|██████████| 1/1 [00:07<00:00,  7.70s/it]\n",
      "Initialize instance segmentation with decoder:   0%|          | 0/1 [00:00<?, ?it/s]"
     ]
    },
    {
     "name": "stdout",
     "output_type": "stream",
     "text": [
      "Starting analysis on  061725_images\\3K_dox_lipidtox_farred_LA75_03.czi\n"
     ]
    },
    {
     "name": "stderr",
     "output_type": "stream",
     "text": [
      "Initialize instance segmentation with decoder: 100%|██████████| 1/1 [00:07<00:00,  7.80s/it]\n",
      "Compute Image Embeddings 2D: 100%|██████████| 1/1 [00:09<00:00,  9.65s/it]\n",
      "Initialize instance segmentation with decoder: 100%|██████████| 1/1 [00:05<00:00,  5.27s/it]\n"
     ]
    },
    {
     "name": "stdout",
     "output_type": "stream",
     "text": [
      "Starting analysis on  06052025_images\\3K_dox_lipidtox_farred_OA1200_08.czi\n"
     ]
    },
    {
     "name": "stderr",
     "output_type": "stream",
     "text": [
      "Compute Image Embeddings 2D: 100%|██████████| 1/1 [00:07<00:00,  7.35s/it]\n",
      "Initialize instance segmentation with decoder: 100%|██████████| 1/1 [00:04<00:00,  4.78s/it]\n"
     ]
    },
    {
     "name": "stdout",
     "output_type": "stream",
     "text": [
      "Starting analysis on  62425_images\\3K_dox_lipidtox_farred_LA_37.5_06.czi\n"
     ]
    },
    {
     "name": "stderr",
     "output_type": "stream",
     "text": [
      "Compute Image Embeddings 2D: 100%|██████████| 1/1 [00:07<00:00,  7.05s/it]\n",
      "Initialize instance segmentation with decoder:   0%|          | 0/1 [00:00<?, ?it/s]"
     ]
    },
    {
     "name": "stdout",
     "output_type": "stream",
     "text": [
      "Starting analysis on  06052025_images\\3K_dox_lipidtox_farred_OA150_01.czi\n"
     ]
    },
    {
     "name": "stderr",
     "output_type": "stream",
     "text": []
    },
    {
     "name": "stdout",
     "output_type": "stream",
     "text": [
      "Starting analysis on  061725_images\\3K_dox_lipidtox_farred_LA75_04.czi\n"
     ]
    },
    {
     "name": "stderr",
     "output_type": "stream",
     "text": [
      "\n",
      "Initialize instance segmentation with decoder: 100%|██████████| 1/1 [00:07<00:00,  7.55s/it]\n",
      "Compute Image Embeddings 2D: 100%|██████████| 1/1 [00:12<00:00, 12.53s/it]\n",
      "Initialize instance segmentation with decoder:   0%|          | 0/1 [00:00<?, ?it/s]\n",
      "Compute Image Embeddings 2D: 100%|██████████| 1/1 [00:11<00:00, 11.37s/it]\n",
      "Initialize instance segmentation with decoder: 100%|██████████| 1/1 [00:09<00:00,  9.37s/it]\n",
      "Initialize instance segmentation with decoder: 100%|██████████| 1/1 [00:07<00:00,  7.41s/it]\n"
     ]
    },
    {
     "name": "stdout",
     "output_type": "stream",
     "text": [
      "Starting analysis on  06052025_images\\3K_dox_lipidtox_farred_OA150_02.czi\n"
     ]
    },
    {
     "name": "stderr",
     "output_type": "stream",
     "text": [
      "Compute Image Embeddings 2D:   0%|          | 0/1 [00:00<?, ?it/s]"
     ]
    },
    {
     "name": "stdout",
     "output_type": "stream",
     "text": [
      "Starting analysis on  62425_images\\3K_dox_lipidtox_farred_LA_37.5_07.czi\n"
     ]
    },
    {
     "name": "stderr",
     "output_type": "stream",
     "text": [
      "Compute Image Embeddings 2D: 100%|██████████| 1/1 [00:07<00:00,  7.35s/it]\n",
      "Initialize instance segmentation with decoder: 100%|██████████| 1/1 [00:08<00:00,  8.14s/it]\n",
      "Compute Image Embeddings 2D: 100%|██████████| 1/1 [00:09<00:00,  9.91s/it]\n",
      "Initialize instance segmentation with decoder:   0%|          | 0/1 [00:00<?, ?it/s]"
     ]
    },
    {
     "name": "stdout",
     "output_type": "stream",
     "text": [
      "Starting analysis on  061725_images\\3K_dox_lipidtox_farred_LA75_05.czi\n"
     ]
    },
    {
     "name": "stderr",
     "output_type": "stream",
     "text": []
    },
    {
     "name": "stdout",
     "output_type": "stream",
     "text": [
      "Starting analysis on  06052025_images\\3K_dox_lipidtox_farred_OA150_03.czi\n"
     ]
    },
    {
     "name": "stderr",
     "output_type": "stream",
     "text": [
      "\n",
      "Initialize instance segmentation with decoder: 100%|██████████| 1/1 [00:06<00:00,  6.40s/it]\n",
      "Compute Image Embeddings 2D: 100%|██████████| 1/1 [00:11<00:00, 11.85s/it]\n",
      "Initialize instance segmentation with decoder:   0%|          | 0/1 [00:00<?, ?it/s]\n",
      "Compute Image Embeddings 2D: 100%|██████████| 1/1 [00:11<00:00, 11.23s/it]\n",
      "Initialize instance segmentation with decoder: 100%|██████████| 1/1 [00:09<00:00,  9.35s/it]\n",
      "Initialize instance segmentation with decoder: 100%|██████████| 1/1 [00:06<00:00,  6.59s/it]\n"
     ]
    },
    {
     "name": "stdout",
     "output_type": "stream",
     "text": [
      "Starting analysis on  06052025_images\\3K_dox_lipidtox_farred_OA150_04.czi\n"
     ]
    },
    {
     "name": "stderr",
     "output_type": "stream",
     "text": [
      "Compute Image Embeddings 2D: 100%|██████████| 1/1 [00:06<00:00,  6.60s/it]\n",
      "Initialize instance segmentation with decoder:   0%|          | 0/1 [00:00<?, ?it/s]"
     ]
    },
    {
     "name": "stdout",
     "output_type": "stream",
     "text": [
      "Starting analysis on  061725_images\\3K_dox_lipidtox_farred_LA75_06.czi\n"
     ]
    },
    {
     "name": "stderr",
     "output_type": "stream",
     "text": [
      "Initialize instance segmentation with decoder: 100%|██████████| 1/1 [00:05<00:00,  5.38s/it]\n"
     ]
    },
    {
     "name": "stdout",
     "output_type": "stream",
     "text": [
      "Starting analysis on  06052025_images\\3K_dox_lipidtox_farred_OA150_05.czi\n"
     ]
    },
    {
     "name": "stderr",
     "output_type": "stream",
     "text": [
      "Compute Image Embeddings 2D:   0%|          | 0/1 [00:00<?, ?it/s]"
     ]
    },
    {
     "name": "stdout",
     "output_type": "stream",
     "text": [
      "Starting analysis on  62425_images\\3K_dox_lipidtox_farred_LA_37.5_08.czi\n"
     ]
    },
    {
     "name": "stderr",
     "output_type": "stream",
     "text": [
      "\n",
      "Compute Image Embeddings 2D: 100%|██████████| 1/1 [00:08<00:00,  8.79s/it]\n",
      "Initialize instance segmentation with decoder: 100%|██████████| 1/1 [00:08<00:00,  8.64s/it]\n",
      "Compute Image Embeddings 2D: 100%|██████████| 1/1 [00:15<00:00, 15.26s/it]\n",
      "Initialize instance segmentation with decoder:   0%|          | 0/1 [00:00<?, ?it/s]\n",
      "Compute Image Embeddings 2D: 100%|██████████| 1/1 [00:16<00:00, 16.08s/it]\n",
      "Initialize instance segmentation with decoder: 100%|██████████| 1/1 [00:06<00:00,  6.85s/it]\n",
      "Initialize instance segmentation with decoder: 100%|██████████| 1/1 [00:07<00:00,  7.43s/it]\n"
     ]
    },
    {
     "name": "stdout",
     "output_type": "stream",
     "text": [
      "Starting analysis on  06052025_images\\3K_dox_lipidtox_farred_OA150_06.czi\n"
     ]
    },
    {
     "name": "stderr",
     "output_type": "stream",
     "text": [
      "Compute Image Embeddings 2D: 100%|██████████| 1/1 [00:06<00:00,  6.54s/it]\n",
      "Initialize instance segmentation with decoder: 100%|██████████| 1/1 [00:04<00:00,  4.62s/it]\n"
     ]
    },
    {
     "name": "stdout",
     "output_type": "stream",
     "text": [
      "Starting analysis on  061725_images\\3K_dox_lipidtox_farred_LA75_07.czi\n"
     ]
    },
    {
     "name": "stderr",
     "output_type": "stream",
     "text": [
      "Compute Image Embeddings 2D:   0%|          | 0/1 [00:00<?, ?it/s]"
     ]
    },
    {
     "name": "stdout",
     "output_type": "stream",
     "text": [
      "Starting analysis on  62425_images\\3K_dox_lipidtox_farred_LA_75_01.czi\n"
     ]
    },
    {
     "name": "stderr",
     "output_type": "stream",
     "text": []
    },
    {
     "name": "stdout",
     "output_type": "stream",
     "text": [
      "Starting analysis on  06052025_images\\3K_dox_lipidtox_farred_OA150_07.czi\n"
     ]
    },
    {
     "name": "stderr",
     "output_type": "stream",
     "text": [
      "\n",
      "Compute Image Embeddings 2D: 100%|██████████| 1/1 [00:10<00:00, 10.87s/it]\n",
      "Compute Image Embeddings 2D: 100%|██████████| 1/1 [00:12<00:00, 12.47s/it]<?, ?it/s]\n",
      "Initialize instance segmentation with decoder: 100%|██████████| 1/1 [00:09<00:00,  9.73s/it]\n",
      "Initialize instance segmentation with decoder: 100%|██████████| 1/1 [00:09<00:00,  9.05s/it]\n",
      "\n",
      "Compute Image Embeddings 2D: 100%|██████████| 1/1 [00:17<00:00, 17.27s/it]\n",
      "Initialize instance segmentation with decoder: 100%|██████████| 1/1 [00:04<00:00,  4.81s/it]\n"
     ]
    },
    {
     "name": "stdout",
     "output_type": "stream",
     "text": [
      "Starting analysis on  06052025_images\\3K_dox_lipidtox_farred_OA150_08.czi\n"
     ]
    },
    {
     "name": "stderr",
     "output_type": "stream",
     "text": [
      "Compute Image Embeddings 2D: 100%|██████████| 1/1 [00:06<00:00,  6.82s/it]\n",
      "Initialize instance segmentation with decoder: 100%|██████████| 1/1 [00:04<00:00,  4.84s/it]\n"
     ]
    },
    {
     "name": "stdout",
     "output_type": "stream",
     "text": [
      "Starting analysis on  62425_images\\3K_dox_lipidtox_farred_LA_75_02.czi\n"
     ]
    },
    {
     "name": "stderr",
     "output_type": "stream",
     "text": [
      "Compute Image Embeddings 2D:   0%|          | 0/1 [00:00<?, ?it/s]"
     ]
    },
    {
     "name": "stdout",
     "output_type": "stream",
     "text": [
      "Starting analysis on  061725_images\\3K_dox_lipidtox_farred_LA75_08.czi\n"
     ]
    },
    {
     "name": "stderr",
     "output_type": "stream",
     "text": []
    },
    {
     "name": "stdout",
     "output_type": "stream",
     "text": [
      "Starting analysis on  06052025_images\\3K_dox_lipidtox_farred_OA300_01.czi\n"
     ]
    },
    {
     "name": "stderr",
     "output_type": "stream",
     "text": [
      "\n",
      "Compute Image Embeddings 2D: 100%|██████████| 1/1 [00:07<00:00,  7.20s/it]\n",
      "Initialize instance segmentation with decoder: 100%|██████████| 1/1 [00:09<00:00,  9.34s/it]\n",
      "Compute Image Embeddings 2D: 100%|██████████| 1/1 [00:13<00:00, 13.34s/it]\n",
      "Initialize instance segmentation with decoder:   0%|          | 0/1 [00:00<?, ?it/s]\n",
      "Compute Image Embeddings 2D: 100%|██████████| 1/1 [00:16<00:00, 16.99s/it]\n",
      "Initialize instance segmentation with decoder: 100%|██████████| 1/1 [00:07<00:00,  7.74s/it]\n",
      "Initialize instance segmentation with decoder: 100%|██████████| 1/1 [00:06<00:00,  6.24s/it]\n"
     ]
    },
    {
     "name": "stdout",
     "output_type": "stream",
     "text": [
      "Starting analysis on  06052025_images\\3K_dox_lipidtox_farred_OA300_02.czi\n"
     ]
    },
    {
     "name": "stderr",
     "output_type": "stream",
     "text": [
      "Compute Image Embeddings 2D: 100%|██████████| 1/1 [00:07<00:00,  7.03s/it]\n",
      "Initialize instance segmentation with decoder: 100%|██████████| 1/1 [00:05<00:00,  5.01s/it]\n"
     ]
    },
    {
     "name": "stdout",
     "output_type": "stream",
     "text": [
      "Starting analysis on  62425_images\\3K_dox_lipidtox_farred_LA_75_03.czi\n"
     ]
    },
    {
     "name": "stderr",
     "output_type": "stream",
     "text": [
      "Compute Image Embeddings 2D: 100%|██████████| 1/1 [00:06<00:00,  6.89s/it]\n",
      "Initialize instance segmentation with decoder:   0%|          | 0/1 [00:00<?, ?it/s]"
     ]
    },
    {
     "name": "stdout",
     "output_type": "stream",
     "text": [
      "Starting analysis on  061725_images\\3K_dox_lipidtox_farred_LA_UT_01.czi\n"
     ]
    },
    {
     "name": "stderr",
     "output_type": "stream",
     "text": []
    },
    {
     "name": "stdout",
     "output_type": "stream",
     "text": [
      "Starting analysis on  06052025_images\\3K_dox_lipidtox_farred_OA300_03.czi\n"
     ]
    },
    {
     "name": "stderr",
     "output_type": "stream",
     "text": [
      "\n",
      "Initialize instance segmentation with decoder: 100%|██████████| 1/1 [00:06<00:00,  6.81s/it]\n",
      "Compute Image Embeddings 2D: 100%|██████████| 1/1 [00:12<00:00, 12.93s/it]\n",
      "Initialize instance segmentation with decoder:   0%|          | 0/1 [00:00<?, ?it/s]\n",
      "Compute Image Embeddings 2D: 100%|██████████| 1/1 [00:12<00:00, 12.15s/it]\n",
      "Initialize instance segmentation with decoder: 100%|██████████| 1/1 [00:04<00:00,  4.92s/it]\n",
      "Initialize instance segmentation with decoder: 100%|██████████| 1/1 [00:03<00:00,  3.35s/it]\n"
     ]
    },
    {
     "name": "stdout",
     "output_type": "stream",
     "text": [
      "Starting analysis on  06052025_images\\3K_dox_lipidtox_farred_OA300_04.czi\n"
     ]
    },
    {
     "name": "stderr",
     "output_type": "stream",
     "text": [
      "Compute Image Embeddings 2D:   0%|          | 0/1 [00:00<?, ?it/s]"
     ]
    },
    {
     "name": "stdout",
     "output_type": "stream",
     "text": [
      "Starting analysis on  62425_images\\3K_dox_lipidtox_farred_LA_75_04.czi\n"
     ]
    },
    {
     "name": "stderr",
     "output_type": "stream",
     "text": [
      "Compute Image Embeddings 2D: 100%|██████████| 1/1 [00:10<00:00, 10.53s/it]\n",
      "Compute Image Embeddings 2D: 100%|██████████| 1/1 [00:09<00:00,  9.63s/it]<?, ?it/s]\n",
      "Initialize instance segmentation with decoder: 100%|██████████| 1/1 [00:07<00:00,  7.68s/it]\n",
      "Initialize instance segmentation with decoder: 100%|██████████| 1/1 [00:08<00:00,  8.06s/it]\n"
     ]
    },
    {
     "name": "stdout",
     "output_type": "stream",
     "text": [
      "Starting analysis on  06052025_images\\3K_dox_lipidtox_farred_OA300_05.czi\n"
     ]
    },
    {
     "name": "stderr",
     "output_type": "stream",
     "text": [
      "Compute Image Embeddings 2D:   0%|          | 0/1 [00:00<?, ?it/s]"
     ]
    },
    {
     "name": "stdout",
     "output_type": "stream",
     "text": [
      "Starting analysis on  061725_images\\3K_dox_lipidtox_farred_LA_UT_02.czi\n"
     ]
    },
    {
     "name": "stderr",
     "output_type": "stream",
     "text": [
      "Compute Image Embeddings 2D: 100%|██████████| 1/1 [00:07<00:00,  7.87s/it]\n",
      "Compute Image Embeddings 2D: 100%|██████████| 1/1 [00:12<00:00, 12.32s/it]<?, ?it/s]\n",
      "Initialize instance segmentation with decoder: 100%|██████████| 1/1 [00:07<00:00,  7.87s/it]\n",
      "Initialize instance segmentation with decoder: 100%|██████████| 1/1 [00:05<00:00,  5.05s/it]\n"
     ]
    },
    {
     "name": "stdout",
     "output_type": "stream",
     "text": [
      "Starting analysis on  62425_images\\3K_dox_lipidtox_farred_LA_75_05.czi\n"
     ]
    },
    {
     "name": "stderr",
     "output_type": "stream",
     "text": [
      "Compute Image Embeddings 2D: 100%|██████████| 1/1 [00:06<00:00,  6.74s/it]\n",
      "Initialize instance segmentation with decoder: 100%|██████████| 1/1 [00:04<00:00,  4.84s/it]\n"
     ]
    },
    {
     "name": "stdout",
     "output_type": "stream",
     "text": [
      "Starting analysis on  06052025_images\\3K_dox_lipidtox_farred_OA300_06.czi\n"
     ]
    },
    {
     "name": "stderr",
     "output_type": "stream",
     "text": [
      "Compute Image Embeddings 2D: 100%|██████████| 1/1 [00:06<00:00,  6.72s/it]\n",
      "Initialize instance segmentation with decoder: 100%|██████████| 1/1 [00:04<00:00,  4.48s/it]\n"
     ]
    },
    {
     "name": "stdout",
     "output_type": "stream",
     "text": [
      "Starting analysis on  061725_images\\3K_dox_lipidtox_farred_LA_UT_03.czi\n"
     ]
    },
    {
     "name": "stderr",
     "output_type": "stream",
     "text": [
      "Compute Image Embeddings 2D:   0%|          | 0/1 [00:00<?, ?it/s]"
     ]
    },
    {
     "name": "stdout",
     "output_type": "stream",
     "text": [
      "Starting analysis on  62425_images\\3K_dox_lipidtox_farred_LA_75_06.czi\n"
     ]
    },
    {
     "name": "stderr",
     "output_type": "stream",
     "text": []
    },
    {
     "name": "stdout",
     "output_type": "stream",
     "text": [
      "Starting analysis on  06052025_images\\3K_dox_lipidtox_farred_OA300_07.czi\n"
     ]
    },
    {
     "name": "stderr",
     "output_type": "stream",
     "text": [
      "\n",
      "Compute Image Embeddings 2D: 100%|██████████| 1/1 [00:08<00:00,  8.42s/it]\n",
      "Compute Image Embeddings 2D: 100%|██████████| 1/1 [00:11<00:00, 11.34s/it]<?, ?it/s]\n",
      "Initialize instance segmentation with decoder: 100%|██████████| 1/1 [00:09<00:00,  9.21s/it]\n",
      "\n",
      "Compute Image Embeddings 2D: 100%|██████████| 1/1 [00:14<00:00, 14.20s/it]\n",
      "Initialize instance segmentation with decoder: 100%|██████████| 1/1 [00:09<00:00,  9.28s/it]\n",
      "Initialize instance segmentation with decoder: 100%|██████████| 1/1 [00:04<00:00,  4.88s/it]\n"
     ]
    },
    {
     "name": "stdout",
     "output_type": "stream",
     "text": [
      "Starting analysis on  06052025_images\\3K_dox_lipidtox_farred_OA300_08.czi\n"
     ]
    },
    {
     "name": "stderr",
     "output_type": "stream",
     "text": [
      "Compute Image Embeddings 2D:   0%|          | 0/1 [00:00<?, ?it/s]"
     ]
    },
    {
     "name": "stdout",
     "output_type": "stream",
     "text": [
      "Starting analysis on  061725_images\\3K_dox_lipidtox_farred_LA_UT_04.czi\n"
     ]
    },
    {
     "name": "stderr",
     "output_type": "stream",
     "text": [
      "Compute Image Embeddings 2D: 100%|██████████| 1/1 [00:06<00:00,  6.63s/it]\n",
      "Initialize instance segmentation with decoder: 100%|██████████| 1/1 [00:06<00:00,  6.68s/it]\n",
      "Compute Image Embeddings 2D: 100%|██████████| 1/1 [00:10<00:00, 10.23s/it]\n",
      "Initialize instance segmentation with decoder:   0%|          | 0/1 [00:00<?, ?it/s]"
     ]
    },
    {
     "name": "stdout",
     "output_type": "stream",
     "text": [
      "Starting analysis on  06052025_images\\3K_dox_lipidtox_farred_OA600_01.czi\n"
     ]
    },
    {
     "name": "stderr",
     "output_type": "stream",
     "text": [
      "Initialize instance segmentation with decoder: 100%|██████████| 1/1 [00:04<00:00,  4.92s/it]\n"
     ]
    },
    {
     "name": "stdout",
     "output_type": "stream",
     "text": [
      "Starting analysis on  62425_images\\3K_dox_lipidtox_farred_LA_75_07.czi\n"
     ]
    },
    {
     "name": "stderr",
     "output_type": "stream",
     "text": [
      "Compute Image Embeddings 2D: 100%|██████████| 1/1 [00:08<00:00,  8.00s/it]\n",
      "Initialize instance segmentation with decoder: 100%|██████████| 1/1 [00:06<00:00,  6.27s/it]\n",
      "Compute Image Embeddings 2D: 100%|██████████| 1/1 [00:11<00:00, 11.80s/it]\n",
      "Initialize instance segmentation with decoder: 100%|██████████| 1/1 [00:04<00:00,  4.47s/it]\n"
     ]
    },
    {
     "name": "stdout",
     "output_type": "stream",
     "text": [
      "Starting analysis on  06052025_images\\3K_dox_lipidtox_farred_OA600_02.czi\n"
     ]
    },
    {
     "name": "stderr",
     "output_type": "stream",
     "text": [
      "Compute Image Embeddings 2D:   0%|          | 0/1 [00:00<?, ?it/s]"
     ]
    },
    {
     "name": "stdout",
     "output_type": "stream",
     "text": [
      "Starting analysis on  061725_images\\3K_dox_lipidtox_farred_LA_UT_05.czi\n"
     ]
    },
    {
     "name": "stderr",
     "output_type": "stream",
     "text": [
      "Compute Image Embeddings 2D: 100%|██████████| 1/1 [00:06<00:00,  6.82s/it]\n",
      "Initialize instance segmentation with decoder: 100%|██████████| 1/1 [00:06<00:00,  6.44s/it]\n",
      "Compute Image Embeddings 2D: 100%|██████████| 1/1 [00:11<00:00, 11.03s/it]\n",
      "Initialize instance segmentation with decoder: 100%|██████████| 1/1 [00:04<00:00,  4.57s/it]\n"
     ]
    },
    {
     "name": "stdout",
     "output_type": "stream",
     "text": [
      "Starting analysis on  06052025_images\\3K_dox_lipidtox_farred_OA600_03.czi\n"
     ]
    },
    {
     "name": "stderr",
     "output_type": "stream",
     "text": [
      "Compute Image Embeddings 2D:   0%|          | 0/1 [00:00<?, ?it/s]"
     ]
    },
    {
     "name": "stdout",
     "output_type": "stream",
     "text": [
      "Starting analysis on  62425_images\\3K_dox_lipidtox_farred_LA_75_08.czi\n"
     ]
    },
    {
     "name": "stderr",
     "output_type": "stream",
     "text": [
      "Compute Image Embeddings 2D: 100%|██████████| 1/1 [00:09<00:00,  9.96s/it]\n",
      "Compute Image Embeddings 2D: 100%|██████████| 1/1 [00:10<00:00, 10.92s/it]<?, ?it/s]\n",
      "Initialize instance segmentation with decoder: 100%|██████████| 1/1 [00:06<00:00,  6.97s/it]\n",
      "Initialize instance segmentation with decoder: 100%|██████████| 1/1 [00:08<00:00,  8.73s/it]\n"
     ]
    },
    {
     "name": "stdout",
     "output_type": "stream",
     "text": [
      "Starting analysis on  06052025_images\\3K_dox_lipidtox_farred_OA600_04.czi\n"
     ]
    },
    {
     "name": "stderr",
     "output_type": "stream",
     "text": [
      "Compute Image Embeddings 2D: 100%|██████████| 1/1 [00:05<00:00,  5.62s/it]\n",
      "Initialize instance segmentation with decoder:   0%|          | 0/1 [00:00<?, ?it/s]"
     ]
    },
    {
     "name": "stdout",
     "output_type": "stream",
     "text": [
      "Starting analysis on  62425_images\\3K_dox_lipidtox_farred_LA_75_09.czi\n"
     ]
    },
    {
     "name": "stderr",
     "output_type": "stream",
     "text": [
      "Initialize instance segmentation with decoder: 100%|██████████| 1/1 [00:06<00:00,  6.04s/it]\n"
     ]
    },
    {
     "name": "stdout",
     "output_type": "stream",
     "text": [
      "Starting analysis on  061725_images\\3K_dox_lipidtox_farred_LA_UT_06.czi\n"
     ]
    },
    {
     "name": "stderr",
     "output_type": "stream",
     "text": [
      "Compute Image Embeddings 2D: 100%|██████████| 1/1 [00:11<00:00, 11.43s/it]\n",
      "Compute Image Embeddings 2D: 100%|██████████| 1/1 [00:10<00:00, 10.98s/it]\n",
      "Initialize instance segmentation with decoder: 100%|██████████| 1/1 [00:06<00:00,  6.26s/it]\n",
      "Initialize instance segmentation with decoder: 100%|██████████| 1/1 [00:04<00:00,  4.84s/it]\n"
     ]
    },
    {
     "name": "stdout",
     "output_type": "stream",
     "text": [
      "Starting analysis on  06052025_images\\3K_dox_lipidtox_farred_OA600_05.czi\n"
     ]
    },
    {
     "name": "stderr",
     "output_type": "stream",
     "text": [
      "Compute Image Embeddings 2D: 100%|██████████| 1/1 [00:06<00:00,  6.81s/it]\n",
      "Initialize instance segmentation with decoder: 100%|██████████| 1/1 [00:04<00:00,  4.56s/it]\n"
     ]
    },
    {
     "name": "stdout",
     "output_type": "stream",
     "text": [
      "Starting analysis on  62425_images\\3K_dox_lipidtox_farred_LA_UT_01.czi\n"
     ]
    },
    {
     "name": "stderr",
     "output_type": "stream",
     "text": [
      "Compute Image Embeddings 2D:   0%|          | 0/1 [00:00<?, ?it/s]"
     ]
    },
    {
     "name": "stdout",
     "output_type": "stream",
     "text": [
      "Starting analysis on  06052025_images\\3K_dox_lipidtox_farred_OA600_06.czi\n"
     ]
    },
    {
     "name": "stderr",
     "output_type": "stream",
     "text": [
      "Compute Image Embeddings 2D: 100%|██████████| 1/1 [00:06<00:00,  6.87s/it]\n",
      "Initialize instance segmentation with decoder: 100%|██████████| 1/1 [00:06<00:00,  6.27s/it]\n",
      "Compute Image Embeddings 2D: 100%|██████████| 1/1 [00:11<00:00, 11.90s/it]\n",
      "Initialize instance segmentation with decoder:   0%|          | 0/1 [00:00<?, ?it/s]"
     ]
    },
    {
     "name": "stdout",
     "output_type": "stream",
     "text": [
      "Starting analysis on  061725_images\\3K_dox_lipidtox_farred_LA_UT_07.czi\n"
     ]
    },
    {
     "name": "stderr",
     "output_type": "stream",
     "text": [
      "Initialize instance segmentation with decoder: 100%|██████████| 1/1 [00:04<00:00,  4.52s/it]\n",
      "Compute Image Embeddings 2D: 100%|██████████| 1/1 [00:07<00:00,  7.63s/it]\n",
      "Initialize instance segmentation with decoder: 100%|██████████| 1/1 [00:04<00:00,  4.59s/it]\n"
     ]
    },
    {
     "name": "stdout",
     "output_type": "stream",
     "text": [
      "Starting analysis on  06052025_images\\3K_dox_lipidtox_farred_OA600_07.czi\n"
     ]
    },
    {
     "name": "stderr",
     "output_type": "stream",
     "text": [
      "Compute Image Embeddings 2D:   0%|          | 0/1 [00:00<?, ?it/s]"
     ]
    },
    {
     "name": "stdout",
     "output_type": "stream",
     "text": [
      "Starting analysis on  62425_images\\3K_dox_lipidtox_farred_LA_UT_02.czi\n"
     ]
    },
    {
     "name": "stderr",
     "output_type": "stream",
     "text": [
      "Compute Image Embeddings 2D: 100%|██████████| 1/1 [00:07<00:00,  7.88s/it]\n",
      "Initialize instance segmentation with decoder: 100%|██████████| 1/1 [00:07<00:00,  7.36s/it]\n",
      "Compute Image Embeddings 2D: 100%|██████████| 1/1 [00:11<00:00, 11.68s/it]\n",
      "Initialize instance segmentation with decoder: 100%|██████████| 1/1 [00:04<00:00,  4.67s/it]\n"
     ]
    },
    {
     "name": "stdout",
     "output_type": "stream",
     "text": [
      "Starting analysis on  06052025_images\\3K_dox_lipidtox_farred_OA600_08.czi\n"
     ]
    },
    {
     "name": "stderr",
     "output_type": "stream",
     "text": [
      "Compute Image Embeddings 2D: 100%|██████████| 1/1 [00:07<00:00,  7.09s/it]\n",
      "Initialize instance segmentation with decoder:   0%|          | 0/1 [00:00<?, ?it/s]"
     ]
    },
    {
     "name": "stdout",
     "output_type": "stream",
     "text": [
      "Starting analysis on  061725_images\\3K_dox_lipidtox_farred_LA_UT_08.czi\n"
     ]
    },
    {
     "name": "stderr",
     "output_type": "stream",
     "text": [
      "Initialize instance segmentation with decoder: 100%|██████████| 1/1 [00:04<00:00,  4.68s/it]\n",
      "Compute Image Embeddings 2D: 100%|██████████| 1/1 [00:06<00:00,  6.85s/it]\n",
      "Initialize instance segmentation with decoder:   0%|          | 0/1 [00:00<?, ?it/s]"
     ]
    },
    {
     "name": "stdout",
     "output_type": "stream",
     "text": [
      "Starting analysis on  06052025_images\\3K_dox_lipidtox_farred_OA_18.25_01.czi\n"
     ]
    },
    {
     "name": "stderr",
     "output_type": "stream",
     "text": [
      "Initialize instance segmentation with decoder: 100%|██████████| 1/1 [00:05<00:00,  5.50s/it]\n"
     ]
    },
    {
     "name": "stdout",
     "output_type": "stream",
     "text": [
      "Starting analysis on  62425_images\\3K_dox_lipidtox_farred_LA_UT_03.czi\n"
     ]
    },
    {
     "name": "stderr",
     "output_type": "stream",
     "text": [
      "Compute Image Embeddings 2D: 100%|██████████| 1/1 [00:11<00:00, 11.78s/it]\n",
      "Compute Image Embeddings 2D: 100%|██████████| 1/1 [00:10<00:00, 10.19s/it]\n",
      "Initialize instance segmentation with decoder: 100%|██████████| 1/1 [00:07<00:00,  7.68s/it]\n",
      "Initialize instance segmentation with decoder: 100%|██████████| 1/1 [00:06<00:00,  6.70s/it]\n"
     ]
    },
    {
     "name": "stdout",
     "output_type": "stream",
     "text": [
      "Starting analysis on  06052025_images\\3K_dox_lipidtox_farred_OA_18.25_02.czi\n"
     ]
    },
    {
     "name": "stderr",
     "output_type": "stream",
     "text": [
      "Compute Image Embeddings 2D: 100%|██████████| 1/1 [00:06<00:00,  6.53s/it]\n",
      "Initialize instance segmentation with decoder: 100%|██████████| 1/1 [00:04<00:00,  4.59s/it]\n"
     ]
    },
    {
     "name": "stdout",
     "output_type": "stream",
     "text": [
      "Starting analysis on  061725_images\\3K_dox_lipidtox_farred_OA1200_01.czi\n"
     ]
    },
    {
     "name": "stderr",
     "output_type": "stream",
     "text": [
      "Compute Image Embeddings 2D: 100%|██████████| 1/1 [00:06<00:00,  6.79s/it]\n",
      "Initialize instance segmentation with decoder:   0%|          | 0/1 [00:00<?, ?it/s]"
     ]
    },
    {
     "name": "stdout",
     "output_type": "stream",
     "text": [
      "Starting analysis on  06052025_images\\3K_dox_lipidtox_farred_OA_18.25_03.czi\n"
     ]
    },
    {
     "name": "stderr",
     "output_type": "stream",
     "text": []
    },
    {
     "name": "stdout",
     "output_type": "stream",
     "text": [
      "Starting analysis on  62425_images\\3K_dox_lipidtox_farred_LA_UT_04.czi\n"
     ]
    },
    {
     "name": "stderr",
     "output_type": "stream",
     "text": [
      "\n",
      "Initialize instance segmentation with decoder: 100%|██████████| 1/1 [00:07<00:00,  7.81s/it]\n",
      "Compute Image Embeddings 2D: 100%|██████████| 1/1 [00:11<00:00, 11.14s/it]\n",
      "Initialize instance segmentation with decoder:   0%|          | 0/1 [00:00<?, ?it/s]\n",
      "Compute Image Embeddings 2D: 100%|██████████| 1/1 [00:12<00:00, 12.55s/it]\n",
      "Initialize instance segmentation with decoder: 100%|██████████| 1/1 [00:08<00:00,  8.06s/it]\n",
      "Initialize instance segmentation with decoder: 100%|██████████| 1/1 [00:06<00:00,  6.38s/it]\n"
     ]
    },
    {
     "name": "stdout",
     "output_type": "stream",
     "text": [
      "Starting analysis on  061725_images\\3K_dox_lipidtox_farred_OA1200_02.czi\n"
     ]
    },
    {
     "name": "stderr",
     "output_type": "stream",
     "text": [
      "Compute Image Embeddings 2D:   0%|          | 0/1 [00:00<?, ?it/s]"
     ]
    },
    {
     "name": "stdout",
     "output_type": "stream",
     "text": [
      "Starting analysis on  06052025_images\\3K_dox_lipidtox_farred_OA_18.25_04.czi\n"
     ]
    },
    {
     "name": "stderr",
     "output_type": "stream",
     "text": [
      "Compute Image Embeddings 2D: 100%|██████████| 1/1 [00:11<00:00, 11.30s/it]\n",
      "Compute Image Embeddings 2D: 100%|██████████| 1/1 [00:10<00:00, 10.92s/it]<?, ?it/s]\n",
      "Initialize instance segmentation with decoder: 100%|██████████| 1/1 [00:08<00:00,  8.16s/it]\n",
      "Initialize instance segmentation with decoder: 100%|██████████| 1/1 [00:07<00:00,  7.34s/it]\n"
     ]
    },
    {
     "name": "stdout",
     "output_type": "stream",
     "text": [
      "Starting analysis on  62425_images\\3K_dox_lipidtox_farred_LA_UT_05.czi\n"
     ]
    },
    {
     "name": "stderr",
     "output_type": "stream",
     "text": [
      "Compute Image Embeddings 2D: 100%|██████████| 1/1 [00:06<00:00,  6.92s/it]\n",
      "Initialize instance segmentation with decoder:   0%|          | 0/1 [00:00<?, ?it/s]"
     ]
    },
    {
     "name": "stdout",
     "output_type": "stream",
     "text": [
      "Starting analysis on  06052025_images\\3K_dox_lipidtox_farred_OA_18.25_05.czi\n"
     ]
    },
    {
     "name": "stderr",
     "output_type": "stream",
     "text": [
      "Initialize instance segmentation with decoder: 100%|██████████| 1/1 [00:06<00:00,  6.65s/it]\n",
      "Compute Image Embeddings 2D: 100%|██████████| 1/1 [00:09<00:00,  9.55s/it]\n",
      "Initialize instance segmentation with decoder:   0%|          | 0/1 [00:00<?, ?it/s]"
     ]
    },
    {
     "name": "stdout",
     "output_type": "stream",
     "text": [
      "Starting analysis on  061725_images\\3K_dox_lipidtox_farred_OA1200_03.czi\n"
     ]
    },
    {
     "name": "stderr",
     "output_type": "stream",
     "text": [
      "Initialize instance segmentation with decoder: 100%|██████████| 1/1 [00:05<00:00,  5.90s/it]\n"
     ]
    },
    {
     "name": "stdout",
     "output_type": "stream",
     "text": [
      "Starting analysis on  62425_images\\3K_dox_lipidtox_farred_LA_UT_06.czi\n"
     ]
    },
    {
     "name": "stderr",
     "output_type": "stream",
     "text": [
      "Compute Image Embeddings 2D: 100%|██████████| 1/1 [00:07<00:00,  7.43s/it]\n"
     ]
    },
    {
     "name": "stdout",
     "output_type": "stream",
     "text": [
      "Starting analysis on  06052025_images\\3K_dox_lipidtox_farred_OA_18.25_06.czi\n"
     ]
    },
    {
     "name": "stderr",
     "output_type": "stream",
     "text": [
      "\n",
      "Initialize instance segmentation with decoder: 100%|██████████| 1/1 [00:06<00:00,  6.11s/it]\n",
      "Compute Image Embeddings 2D: 100%|██████████| 1/1 [00:11<00:00, 11.73s/it]\n",
      "Initialize instance segmentation with decoder:   0%|          | 0/1 [00:00<?, ?it/s]\n",
      "Compute Image Embeddings 2D: 100%|██████████| 1/1 [00:12<00:00, 12.30s/it]\n",
      "Initialize instance segmentation with decoder: 100%|██████████| 1/1 [00:06<00:00,  6.61s/it]\n",
      "Initialize instance segmentation with decoder: 100%|██████████| 1/1 [00:04<00:00,  4.85s/it]\n"
     ]
    },
    {
     "name": "stdout",
     "output_type": "stream",
     "text": [
      "Starting analysis on  061725_images\\3K_dox_lipidtox_farred_OA1200_04.czi\n"
     ]
    },
    {
     "name": "stderr",
     "output_type": "stream",
     "text": [
      "Compute Image Embeddings 2D:   0%|          | 0/1 [00:00<?, ?it/s]"
     ]
    },
    {
     "name": "stdout",
     "output_type": "stream",
     "text": [
      "Starting analysis on  06052025_images\\3K_dox_lipidtox_farred_OA_18.25_07.czi\n"
     ]
    },
    {
     "name": "stderr",
     "output_type": "stream",
     "text": [
      "Compute Image Embeddings 2D: 100%|██████████| 1/1 [00:08<00:00,  8.37s/it]\n",
      "Initialize instance segmentation with decoder:   0%|          | 0/1 [00:00<?, ?it/s]"
     ]
    },
    {
     "name": "stdout",
     "output_type": "stream",
     "text": [
      "Starting analysis on  62425_images\\3K_dox_lipidtox_farred_LA_UT_07.czi\n"
     ]
    },
    {
     "name": "stderr",
     "output_type": "stream",
     "text": [
      "\n",
      "Compute Image Embeddings 2D: 100%|██████████| 1/1 [00:10<00:00, 10.99s/it]\n",
      "Initialize instance segmentation with decoder: 100%|██████████| 1/1 [00:08<00:00,  8.11s/it]\n",
      "Initialize instance segmentation with decoder: 100%|██████████| 1/1 [00:08<00:00,  8.42s/it]\n",
      "\n",
      "Compute Image Embeddings 2D: 100%|██████████| 1/1 [00:12<00:00, 12.07s/it]\n",
      "Initialize instance segmentation with decoder: 100%|██████████| 1/1 [00:04<00:00,  4.42s/it]\n"
     ]
    },
    {
     "name": "stdout",
     "output_type": "stream",
     "text": [
      "Starting analysis on  06052025_images\\3K_dox_lipidtox_farred_OA_18.25_08.czi\n"
     ]
    },
    {
     "name": "stderr",
     "output_type": "stream",
     "text": [
      "Compute Image Embeddings 2D:   0%|          | 0/1 [00:00<?, ?it/s]"
     ]
    },
    {
     "name": "stdout",
     "output_type": "stream",
     "text": [
      "Starting analysis on  061725_images\\3K_dox_lipidtox_farred_OA1200_05.czi\n"
     ]
    },
    {
     "name": "stderr",
     "output_type": "stream",
     "text": [
      "Compute Image Embeddings 2D: 100%|██████████| 1/1 [00:07<00:00,  7.73s/it]\n",
      "Initialize instance segmentation with decoder: 100%|██████████| 1/1 [00:06<00:00,  6.17s/it]\n",
      "Compute Image Embeddings 2D: 100%|██████████| 1/1 [00:11<00:00, 11.16s/it]\n",
      "Initialize instance segmentation with decoder: 100%|██████████| 1/1 [00:04<00:00,  4.44s/it]\n"
     ]
    },
    {
     "name": "stdout",
     "output_type": "stream",
     "text": [
      "Starting analysis on  62425_images\\3K_dox_lipidtox_farred_LA_UT_08.czi\n"
     ]
    },
    {
     "name": "stderr",
     "output_type": "stream",
     "text": [
      "Compute Image Embeddings 2D:   0%|          | 0/1 [00:00<?, ?it/s]"
     ]
    },
    {
     "name": "stdout",
     "output_type": "stream",
     "text": [
      "Starting analysis on  06052025_images\\3K_dox_lipidtox_farred_OA_37.5_01.czi\n"
     ]
    },
    {
     "name": "stderr",
     "output_type": "stream",
     "text": [
      "Compute Image Embeddings 2D: 100%|██████████| 1/1 [00:07<00:00,  7.97s/it]\n",
      "Initialize instance segmentation with decoder: 100%|██████████| 1/1 [00:07<00:00,  7.47s/it]\n",
      "Compute Image Embeddings 2D: 100%|██████████| 1/1 [00:10<00:00, 10.70s/it]\n",
      "Initialize instance segmentation with decoder: 100%|██████████| 1/1 [00:05<00:00,  5.03s/it]\n"
     ]
    },
    {
     "name": "stdout",
     "output_type": "stream",
     "text": [
      "Starting analysis on  061725_images\\3K_dox_lipidtox_farred_OA1200_06.czi\n"
     ]
    },
    {
     "name": "stderr",
     "output_type": "stream",
     "text": [
      "Compute Image Embeddings 2D: 100%|██████████| 1/1 [00:07<00:00,  7.07s/it]\n",
      "Initialize instance segmentation with decoder:   0%|          | 0/1 [00:00<?, ?it/s]"
     ]
    },
    {
     "name": "stdout",
     "output_type": "stream",
     "text": [
      "Starting analysis on  06052025_images\\3K_dox_lipidtox_farred_OA_37.5_02.czi\n"
     ]
    },
    {
     "name": "stderr",
     "output_type": "stream",
     "text": [
      "Initialize instance segmentation with decoder: 100%|██████████| 1/1 [00:04<00:00,  4.91s/it]\n",
      "Compute Image Embeddings 2D: 100%|██████████| 1/1 [00:07<00:00,  7.94s/it]\n",
      "Initialize instance segmentation with decoder: 100%|██████████| 1/1 [00:04<00:00,  4.47s/it]\n"
     ]
    },
    {
     "name": "stdout",
     "output_type": "stream",
     "text": [
      "Starting analysis on  62425_images\\3K_dox_lipidtox_farred_OA1200_01.czi\n"
     ]
    },
    {
     "name": "stderr",
     "output_type": "stream",
     "text": [
      "Compute Image Embeddings 2D:   0%|          | 0/1 [00:00<?, ?it/s]"
     ]
    },
    {
     "name": "stdout",
     "output_type": "stream",
     "text": [
      "Starting analysis on  061725_images\\3K_dox_lipidtox_farred_OA1200_07.czi\n"
     ]
    },
    {
     "name": "stderr",
     "output_type": "stream",
     "text": []
    },
    {
     "name": "stdout",
     "output_type": "stream",
     "text": [
      "Starting analysis on  06052025_images\\3K_dox_lipidtox_farred_OA_37.5_03.czi\n"
     ]
    },
    {
     "name": "stderr",
     "output_type": "stream",
     "text": [
      "\n",
      "Compute Image Embeddings 2D: 100%|██████████| 1/1 [00:09<00:00,  9.53s/it]\n",
      "Initialize instance segmentation with decoder:   0%|          | 0/1 [00:00<?, ?it/s]\n",
      "Compute Image Embeddings 2D: 100%|██████████| 1/1 [00:12<00:00, 12.30s/it]\n",
      "\n",
      "Initialize instance segmentation with decoder: 100%|██████████| 1/1 [00:10<00:00, 10.14s/it]\n",
      "Compute Image Embeddings 2D: 100%|██████████| 1/1 [00:19<00:00, 19.18s/it]\n",
      "Initialize instance segmentation with decoder:   0%|          | 0/1 [00:00<?, ?it/s]\n",
      "Initialize instance segmentation with decoder: 100%|██████████| 1/1 [00:07<00:00,  7.89s/it]\n",
      "Initialize instance segmentation with decoder: 100%|██████████| 1/1 [00:04<00:00,  4.80s/it]\n"
     ]
    },
    {
     "name": "stdout",
     "output_type": "stream",
     "text": [
      "Starting analysis on  06052025_images\\3K_dox_lipidtox_farred_OA_37.5_04.czi\n"
     ]
    },
    {
     "name": "stderr",
     "output_type": "stream",
     "text": [
      "Compute Image Embeddings 2D: 100%|██████████| 1/1 [00:06<00:00,  6.38s/it]\n",
      "Initialize instance segmentation with decoder:   0%|          | 0/1 [00:00<?, ?it/s]"
     ]
    },
    {
     "name": "stdout",
     "output_type": "stream",
     "text": [
      "Starting analysis on  62425_images\\3K_dox_lipidtox_farred_OA1200_02.czi\n"
     ]
    },
    {
     "name": "stderr",
     "output_type": "stream",
     "text": [
      "Initialize instance segmentation with decoder: 100%|██████████| 1/1 [00:05<00:00,  5.06s/it]\n"
     ]
    },
    {
     "name": "stdout",
     "output_type": "stream",
     "text": [
      "Starting analysis on  061725_images\\3K_dox_lipidtox_farred_OA1200_08.czi\n"
     ]
    },
    {
     "name": "stderr",
     "output_type": "stream",
     "text": [
      "Compute Image Embeddings 2D:   0%|          | 0/1 [00:00<?, ?it/s]"
     ]
    },
    {
     "name": "stdout",
     "output_type": "stream",
     "text": [
      "Starting analysis on  06052025_images\\3K_dox_lipidtox_farred_OA_37.5_05.czi\n"
     ]
    },
    {
     "name": "stderr",
     "output_type": "stream",
     "text": [
      "\n",
      "Compute Image Embeddings 2D: 100%|██████████| 1/1 [00:09<00:00,  9.39s/it]\n",
      "Initialize instance segmentation with decoder: 100%|██████████| 1/1 [00:09<00:00,  9.81s/it]\n",
      "Compute Image Embeddings 2D: 100%|██████████| 1/1 [00:14<00:00, 14.48s/it]\n",
      "Initialize instance segmentation with decoder:   0%|          | 0/1 [00:00<?, ?it/s]\n",
      "Compute Image Embeddings 2D: 100%|██████████| 1/1 [00:14<00:00, 14.69s/it]\n",
      "Initialize instance segmentation with decoder: 100%|██████████| 1/1 [00:06<00:00,  6.86s/it]\n",
      "Initialize instance segmentation with decoder: 100%|██████████| 1/1 [00:08<00:00,  8.45s/it]\n"
     ]
    },
    {
     "name": "stdout",
     "output_type": "stream",
     "text": [
      "Starting analysis on  62425_images\\3K_dox_lipidtox_farred_OA1200_03.czi\n"
     ]
    },
    {
     "name": "stderr",
     "output_type": "stream",
     "text": [
      "Compute Image Embeddings 2D:   0%|          | 0/1 [00:00<?, ?it/s]"
     ]
    },
    {
     "name": "stdout",
     "output_type": "stream",
     "text": [
      "Starting analysis on  061725_images\\3K_dox_lipidtox_farred_OA150_01.czi\n"
     ]
    },
    {
     "name": "stderr",
     "output_type": "stream",
     "text": []
    },
    {
     "name": "stdout",
     "output_type": "stream",
     "text": [
      "Starting analysis on  06052025_images\\3K_dox_lipidtox_farred_OA_37.5_06.czi\n"
     ]
    },
    {
     "name": "stderr",
     "output_type": "stream",
     "text": [
      "\n",
      "Compute Image Embeddings 2D: 100%|██████████| 1/1 [00:11<00:00, 11.73s/it]\n",
      "Compute Image Embeddings 2D: 100%|██████████| 1/1 [00:11<00:00, 11.94s/it]\n",
      "Initialize instance segmentation with decoder:   0%|          | 0/1 [00:00<?, ?it/s]\n",
      "Compute Image Embeddings 2D: 100%|██████████| 1/1 [00:17<00:00, 17.03s/it]\n",
      "\n",
      "Initialize instance segmentation with decoder: 100%|██████████| 1/1 [00:10<00:00, 10.14s/it]\n",
      "Initialize instance segmentation with decoder: 100%|██████████| 1/1 [00:10<00:00, 10.65s/it]\n",
      "\n",
      "Initialize instance segmentation with decoder: 100%|██████████| 1/1 [00:06<00:00,  6.39s/it]\n"
     ]
    },
    {
     "name": "stdout",
     "output_type": "stream",
     "text": [
      "Starting analysis on  06052025_images\\3K_dox_lipidtox_farred_OA_37.5_07.czi\n"
     ]
    },
    {
     "name": "stderr",
     "output_type": "stream",
     "text": [
      "Compute Image Embeddings 2D:   0%|          | 0/1 [00:00<?, ?it/s]"
     ]
    },
    {
     "name": "stdout",
     "output_type": "stream",
     "text": [
      "Starting analysis on  62425_images\\3K_dox_lipidtox_farred_OA1200_04.czi\n"
     ]
    },
    {
     "name": "stderr",
     "output_type": "stream",
     "text": [
      "Compute Image Embeddings 2D: 100%|██████████| 1/1 [00:09<00:00,  9.38s/it]\n",
      "Compute Image Embeddings 2D: 100%|██████████| 1/1 [00:09<00:00,  9.89s/it]<?, ?it/s]\n"
     ]
    },
    {
     "name": "stdout",
     "output_type": "stream",
     "text": [
      "Starting analysis on  061725_images\\3K_dox_lipidtox_farred_OA150_02.czi\n"
     ]
    },
    {
     "name": "stderr",
     "output_type": "stream",
     "text": [
      "\n",
      "Initialize instance segmentation with decoder: 100%|██████████| 1/1 [00:09<00:00,  9.61s/it]\n",
      "Initialize instance segmentation with decoder: 100%|██████████| 1/1 [00:10<00:00, 10.84s/it]\n",
      "\n",
      "Compute Image Embeddings 2D: 100%|██████████| 1/1 [00:10<00:00, 10.53s/it]\n",
      "Initialize instance segmentation with decoder: 100%|██████████| 1/1 [00:04<00:00,  4.88s/it]\n"
     ]
    },
    {
     "name": "stdout",
     "output_type": "stream",
     "text": [
      "Starting analysis on  06052025_images\\3K_dox_lipidtox_farred_OA_37.5_08.czi\n"
     ]
    },
    {
     "name": "stderr",
     "output_type": "stream",
     "text": [
      "Compute Image Embeddings 2D: 100%|██████████| 1/1 [00:06<00:00,  6.68s/it]\n",
      "Initialize instance segmentation with decoder: 100%|██████████| 1/1 [00:04<00:00,  4.41s/it]\n"
     ]
    },
    {
     "name": "stdout",
     "output_type": "stream",
     "text": [
      "Starting analysis on  62425_images\\3K_dox_lipidtox_farred_OA1200_05.czi\n"
     ]
    },
    {
     "name": "stderr",
     "output_type": "stream",
     "text": [
      "Compute Image Embeddings 2D: 100%|██████████| 1/1 [00:06<00:00,  6.62s/it]\n",
      "Initialize instance segmentation with decoder:   0%|          | 0/1 [00:00<?, ?it/s]"
     ]
    },
    {
     "name": "stdout",
     "output_type": "stream",
     "text": [
      "Starting analysis on  06052025_images\\3K_dox_lipidtox_farred_OA_75_01.czi\n"
     ]
    },
    {
     "name": "stderr",
     "output_type": "stream",
     "text": []
    },
    {
     "name": "stdout",
     "output_type": "stream",
     "text": [
      "Starting analysis on  061725_images\\3K_dox_lipidtox_farred_OA150_03.czi\n"
     ]
    },
    {
     "name": "stderr",
     "output_type": "stream",
     "text": [
      "\n",
      "Initialize instance segmentation with decoder: 100%|██████████| 1/1 [00:06<00:00,  6.06s/it]\n",
      "Compute Image Embeddings 2D: 100%|██████████| 1/1 [00:09<00:00,  9.51s/it]\n",
      "Initialize instance segmentation with decoder: 100%|██████████| 1/1 [00:06<00:00,  6.18s/it]\n",
      "\n",
      "Compute Image Embeddings 2D: 100%|██████████| 1/1 [00:13<00:00, 13.06s/it]\n",
      "Initialize instance segmentation with decoder: 100%|██████████| 1/1 [00:04<00:00,  4.39s/it]\n"
     ]
    },
    {
     "name": "stdout",
     "output_type": "stream",
     "text": [
      "Starting analysis on  06052025_images\\3K_dox_lipidtox_farred_OA_75_02.czi\n"
     ]
    },
    {
     "name": "stderr",
     "output_type": "stream",
     "text": [
      "Compute Image Embeddings 2D:   0%|          | 0/1 [00:00<?, ?it/s]"
     ]
    },
    {
     "name": "stdout",
     "output_type": "stream",
     "text": [
      "Starting analysis on  62425_images\\3K_dox_lipidtox_farred_OA1200_06.czi\n"
     ]
    },
    {
     "name": "stderr",
     "output_type": "stream",
     "text": [
      "Compute Image Embeddings 2D: 100%|██████████| 1/1 [00:08<00:00,  8.24s/it]\n",
      "Compute Image Embeddings 2D: 100%|██████████| 1/1 [00:08<00:00,  8.40s/it]<?, ?it/s]\n",
      "Initialize instance segmentation with decoder: 100%|██████████| 1/1 [00:03<00:00,  3.06s/it]\n",
      "Initialize instance segmentation with decoder: 100%|██████████| 1/1 [00:02<00:00,  2.78s/it]\n"
     ]
    },
    {
     "name": "stdout",
     "output_type": "stream",
     "text": [
      "Starting analysis on  061725_images\\3K_dox_lipidtox_farred_OA150_04.czi\n"
     ]
    },
    {
     "name": "stderr",
     "output_type": "stream",
     "text": [
      "Compute Image Embeddings 2D:   0%|          | 0/1 [00:00<?, ?it/s]"
     ]
    },
    {
     "name": "stdout",
     "output_type": "stream",
     "text": [
      "Starting analysis on  06052025_images\\3K_dox_lipidtox_farred_OA_75_03.czi\n"
     ]
    },
    {
     "name": "stderr",
     "output_type": "stream",
     "text": [
      "Compute Image Embeddings 2D: 100%|██████████| 1/1 [00:04<00:00,  4.74s/it]\n",
      "Compute Image Embeddings 2D: 100%|██████████| 1/1 [00:05<00:00,  5.67s/it]\n",
      "Initialize instance segmentation with decoder:   0%|          | 0/1 [00:00<?, ?it/s]"
     ]
    },
    {
     "name": "stdout",
     "output_type": "stream",
     "text": [
      "Starting analysis on  62425_images\\3K_dox_lipidtox_farred_OA1200_07.czi\n"
     ]
    },
    {
     "name": "stderr",
     "output_type": "stream",
     "text": [
      "\n",
      "Initialize instance segmentation with decoder: 100%|██████████| 1/1 [00:03<00:00,  3.77s/it]\n",
      "Initialize instance segmentation with decoder: 100%|██████████| 1/1 [00:04<00:00,  4.07s/it]\n",
      "\n",
      "Compute Image Embeddings 2D: 100%|██████████| 1/1 [00:06<00:00,  6.13s/it]\n",
      "Initialize instance segmentation with decoder:   0%|          | 0/1 [00:00<?, ?it/s]"
     ]
    },
    {
     "name": "stdout",
     "output_type": "stream",
     "text": [
      "Starting analysis on  06052025_images\\3K_dox_lipidtox_farred_OA_75_04.czi\n"
     ]
    },
    {
     "name": "stderr",
     "output_type": "stream",
     "text": [
      "Initialize instance segmentation with decoder: 100%|██████████| 1/1 [00:02<00:00,  2.67s/it]\n",
      "Compute Image Embeddings 2D: 100%|██████████| 1/1 [00:04<00:00,  4.85s/it]\n",
      "Initialize instance segmentation with decoder: 100%|██████████| 1/1 [00:02<00:00,  2.54s/it]\n"
     ]
    },
    {
     "name": "stdout",
     "output_type": "stream",
     "text": [
      "Starting analysis on  061725_images\\3K_dox_lipidtox_farred_OA150_05.czi\n"
     ]
    },
    {
     "name": "stderr",
     "output_type": "stream",
     "text": [
      "Compute Image Embeddings 2D:   0%|          | 0/1 [00:00<?, ?it/s]"
     ]
    },
    {
     "name": "stdout",
     "output_type": "stream",
     "text": [
      "Starting analysis on  62425_images\\3K_dox_lipidtox_farred_OA1200_08.czi\n"
     ]
    },
    {
     "name": "stderr",
     "output_type": "stream",
     "text": []
    },
    {
     "name": "stdout",
     "output_type": "stream",
     "text": [
      "Starting analysis on  06052025_images\\3K_dox_lipidtox_farred_OA_75_05.czi\n"
     ]
    },
    {
     "name": "stderr",
     "output_type": "stream",
     "text": [
      "\n",
      "Compute Image Embeddings 2D: 100%|██████████| 1/1 [00:04<00:00,  4.59s/it]\n",
      "Compute Image Embeddings 2D: 100%|██████████| 1/1 [00:06<00:00,  6.58s/it]<?, ?it/s]\n",
      "Initialize instance segmentation with decoder: 100%|██████████| 1/1 [00:04<00:00,  4.37s/it]\n",
      "Initialize instance segmentation with decoder: 100%|██████████| 1/1 [00:03<00:00,  3.15s/it]\n",
      "\n",
      "Compute Image Embeddings 2D: 100%|██████████| 1/1 [00:07<00:00,  7.79s/it]\n",
      "Initialize instance segmentation with decoder: 100%|██████████| 1/1 [00:02<00:00,  2.38s/it]\n"
     ]
    },
    {
     "name": "stdout",
     "output_type": "stream",
     "text": [
      "Starting analysis on  06052025_images\\3K_dox_lipidtox_farred_OA_75_07.czi\n"
     ]
    },
    {
     "name": "stderr",
     "output_type": "stream",
     "text": [
      "Compute Image Embeddings 2D:   0%|          | 0/1 [00:00<?, ?it/s]"
     ]
    },
    {
     "name": "stdout",
     "output_type": "stream",
     "text": [
      "Starting analysis on  061725_images\\3K_dox_lipidtox_farred_OA150_06.czi\n"
     ]
    },
    {
     "name": "stderr",
     "output_type": "stream",
     "text": [
      "Compute Image Embeddings 2D: 100%|██████████| 1/1 [00:04<00:00,  4.57s/it]\n",
      "Initialize instance segmentation with decoder:   0%|          | 0/1 [00:00<?, ?it/s]"
     ]
    },
    {
     "name": "stdout",
     "output_type": "stream",
     "text": [
      "Starting analysis on  62425_images\\3K_dox_lipidtox_farred_OA150_01.czi\n"
     ]
    },
    {
     "name": "stderr",
     "output_type": "stream",
     "text": [
      "\n",
      "Compute Image Embeddings 2D: 100%|██████████| 1/1 [00:04<00:00,  4.69s/it]\n",
      "Initialize instance segmentation with decoder: 100%|██████████| 1/1 [00:03<00:00,  3.78s/it]\n",
      "Initialize instance segmentation with decoder: 100%|██████████| 1/1 [00:03<00:00,  3.73s/it]\n",
      "\n",
      "Compute Image Embeddings 2D: 100%|██████████| 1/1 [00:06<00:00,  6.07s/it]\n",
      "Initialize instance segmentation with decoder:   0%|          | 0/1 [00:00<?, ?it/s]"
     ]
    },
    {
     "name": "stdout",
     "output_type": "stream",
     "text": [
      "Starting analysis on  06052025_images\\3K_dox_lipidtox_farred_OA_75_08.czi\n"
     ]
    },
    {
     "name": "stderr",
     "output_type": "stream",
     "text": [
      "Initialize instance segmentation with decoder: 100%|██████████| 1/1 [00:03<00:00,  3.02s/it]\n",
      "Compute Image Embeddings 2D: 100%|██████████| 1/1 [00:04<00:00,  4.80s/it]\n",
      "Initialize instance segmentation with decoder: 100%|██████████| 1/1 [00:02<00:00,  2.46s/it]\n"
     ]
    },
    {
     "name": "stdout",
     "output_type": "stream",
     "text": [
      "Starting analysis on  061725_images\\3K_dox_lipidtox_farred_OA150_07.czi\n"
     ]
    },
    {
     "name": "stderr",
     "output_type": "stream",
     "text": [
      "Compute Image Embeddings 2D:   0%|          | 0/1 [00:00<?, ?it/s]"
     ]
    },
    {
     "name": "stdout",
     "output_type": "stream",
     "text": [
      "Starting analysis on  06052025_images\\3K_dox_lipidtox_farred_OA_UT_01.czi\n"
     ]
    },
    {
     "name": "stderr",
     "output_type": "stream",
     "text": []
    },
    {
     "name": "stdout",
     "output_type": "stream",
     "text": [
      "Starting analysis on  62425_images\\3K_dox_lipidtox_farred_OA150_02.czi\n"
     ]
    },
    {
     "name": "stderr",
     "output_type": "stream",
     "text": [
      "\n",
      "Compute Image Embeddings 2D: 100%|██████████| 1/1 [00:04<00:00,  4.97s/it]\n",
      "Initialize instance segmentation with decoder: 100%|██████████| 1/1 [00:03<00:00,  3.84s/it]\n",
      "Compute Image Embeddings 2D: 100%|██████████| 1/1 [00:07<00:00,  7.47s/it]\n",
      "Initialize instance segmentation with decoder:   0%|          | 0/1 [00:00<?, ?it/s]\n",
      "Compute Image Embeddings 2D: 100%|██████████| 1/1 [00:07<00:00,  7.20s/it]\n",
      "Initialize instance segmentation with decoder: 100%|██████████| 1/1 [00:03<00:00,  3.80s/it]\n",
      "Initialize instance segmentation with decoder: 100%|██████████| 1/1 [00:03<00:00,  3.70s/it]\n"
     ]
    },
    {
     "name": "stdout",
     "output_type": "stream",
     "text": [
      "Starting analysis on  06052025_images\\3K_dox_lipidtox_farred_OA_UT_02.czi\n"
     ]
    },
    {
     "name": "stderr",
     "output_type": "stream",
     "text": [
      "Compute Image Embeddings 2D: 100%|██████████| 1/1 [00:03<00:00,  3.99s/it]\n",
      "Initialize instance segmentation with decoder:   0%|          | 0/1 [00:00<?, ?it/s]"
     ]
    },
    {
     "name": "stdout",
     "output_type": "stream",
     "text": [
      "Starting analysis on  061725_images\\3K_dox_lipidtox_farred_OA150_08.czi\n"
     ]
    },
    {
     "name": "stderr",
     "output_type": "stream",
     "text": [
      "Initialize instance segmentation with decoder: 100%|██████████| 1/1 [00:02<00:00,  2.46s/it]\n",
      "Compute Image Embeddings 2D: 100%|██████████| 1/1 [00:04<00:00,  4.03s/it]\n",
      "Initialize instance segmentation with decoder:   0%|          | 0/1 [00:00<?, ?it/s]"
     ]
    },
    {
     "name": "stdout",
     "output_type": "stream",
     "text": [
      "Starting analysis on  06052025_images\\3K_dox_lipidtox_farred_OA_UT_03.czi\n"
     ]
    },
    {
     "name": "stderr",
     "output_type": "stream",
     "text": []
    },
    {
     "name": "stdout",
     "output_type": "stream",
     "text": [
      "Starting analysis on  62425_images\\3K_dox_lipidtox_farred_OA150_03.czi\n"
     ]
    },
    {
     "name": "stderr",
     "output_type": "stream",
     "text": [
      "\n",
      "Initialize instance segmentation with decoder: 100%|██████████| 1/1 [00:04<00:00,  4.02s/it]\n",
      "Compute Image Embeddings 2D: 100%|██████████| 1/1 [00:05<00:00,  5.85s/it]\n",
      "Initialize instance segmentation with decoder:   0%|          | 0/1 [00:00<?, ?it/s]\n",
      "Compute Image Embeddings 2D: 100%|██████████| 1/1 [00:05<00:00,  5.66s/it]\n",
      "Initialize instance segmentation with decoder: 100%|██████████| 1/1 [00:03<00:00,  3.33s/it]\n",
      "Initialize instance segmentation with decoder: 100%|██████████| 1/1 [00:03<00:00,  3.15s/it]\n"
     ]
    },
    {
     "name": "stdout",
     "output_type": "stream",
     "text": [
      "Starting analysis on  06052025_images\\3K_dox_lipidtox_farred_OA_UT_04.czi\n"
     ]
    },
    {
     "name": "stderr",
     "output_type": "stream",
     "text": [
      "Compute Image Embeddings 2D: 100%|██████████| 1/1 [00:04<00:00,  4.12s/it]\n",
      "Initialize instance segmentation with decoder:   0%|          | 0/1 [00:00<?, ?it/s]"
     ]
    },
    {
     "name": "stdout",
     "output_type": "stream",
     "text": [
      "Starting analysis on  061725_images\\3K_dox_lipidtox_farred_OA18.25_01.czi\n"
     ]
    },
    {
     "name": "stderr",
     "output_type": "stream",
     "text": [
      "Initialize instance segmentation with decoder: 100%|██████████| 1/1 [00:03<00:00,  3.78s/it]\n",
      "Compute Image Embeddings 2D: 100%|██████████| 1/1 [00:04<00:00,  4.89s/it]\n",
      "Initialize instance segmentation with decoder: 100%|██████████| 1/1 [00:02<00:00,  2.32s/it]\n"
     ]
    },
    {
     "name": "stdout",
     "output_type": "stream",
     "text": [
      "Starting analysis on  06052025_images\\3K_dox_lipidtox_farred_OA_UT_05.czi\n"
     ]
    },
    {
     "name": "stderr",
     "output_type": "stream",
     "text": [
      "Compute Image Embeddings 2D: 100%|██████████| 1/1 [00:03<00:00,  3.99s/it]\n",
      "Initialize instance segmentation with decoder:   0%|          | 0/1 [00:00<?, ?it/s]"
     ]
    },
    {
     "name": "stdout",
     "output_type": "stream",
     "text": [
      "Starting analysis on  62425_images\\3K_dox_lipidtox_farred_OA150_04.czi\n"
     ]
    },
    {
     "name": "stderr",
     "output_type": "stream",
     "text": [
      "Initialize instance segmentation with decoder: 100%|██████████| 1/1 [00:03<00:00,  3.33s/it]\n",
      "Compute Image Embeddings 2D: 100%|██████████| 1/1 [00:05<00:00,  5.10s/it]\n",
      "Initialize instance segmentation with decoder: 100%|██████████| 1/1 [00:02<00:00,  2.35s/it]\n"
     ]
    },
    {
     "name": "stdout",
     "output_type": "stream",
     "text": [
      "Starting analysis on  06052025_images\\3K_dox_lipidtox_farred_OA_UT_06.czi\n"
     ]
    },
    {
     "name": "stderr",
     "output_type": "stream",
     "text": [
      "Compute Image Embeddings 2D: 100%|██████████| 1/1 [00:04<00:00,  4.05s/it]\n",
      "Initialize instance segmentation with decoder:   0%|          | 0/1 [00:00<?, ?it/s]"
     ]
    },
    {
     "name": "stdout",
     "output_type": "stream",
     "text": [
      "Starting analysis on  061725_images\\3K_dox_lipidtox_farred_OA18.25_02.czi\n"
     ]
    },
    {
     "name": "stderr",
     "output_type": "stream",
     "text": [
      "Initialize instance segmentation with decoder: 100%|██████████| 1/1 [00:02<00:00,  2.72s/it]\n",
      "Compute Image Embeddings 2D: 100%|██████████| 1/1 [00:04<00:00,  4.77s/it]\n",
      "Initialize instance segmentation with decoder:   0%|          | 0/1 [00:00<?, ?it/s]"
     ]
    },
    {
     "name": "stdout",
     "output_type": "stream",
     "text": [
      "Starting analysis on  06052025_images\\3K_dox_lipidtox_farred_OA_UT_07.czi\n"
     ]
    },
    {
     "name": "stderr",
     "output_type": "stream",
     "text": [
      "Initialize instance segmentation with decoder: 100%|██████████| 1/1 [00:02<00:00,  2.53s/it]\n",
      "Compute Image Embeddings 2D: 100%|██████████| 1/1 [00:04<00:00,  4.13s/it]\n",
      "Initialize instance segmentation with decoder: 100%|██████████| 1/1 [00:02<00:00,  2.48s/it]\n"
     ]
    },
    {
     "name": "stdout",
     "output_type": "stream",
     "text": [
      "Starting analysis on  62425_images\\3K_dox_lipidtox_farred_OA150_05.czi\n"
     ]
    },
    {
     "name": "stderr",
     "output_type": "stream",
     "text": [
      "Compute Image Embeddings 2D: 100%|██████████| 1/1 [00:03<00:00,  4.00s/it]\n",
      "Initialize instance segmentation with decoder:   0%|          | 0/1 [00:00<?, ?it/s]"
     ]
    },
    {
     "name": "stdout",
     "output_type": "stream",
     "text": [
      "Starting analysis on  06052025_images\\3K_dox_lipidtox_farred_OA_UT_08.czi\n"
     ]
    },
    {
     "name": "stderr",
     "output_type": "stream",
     "text": [
      "Initialize instance segmentation with decoder: 100%|██████████| 1/1 [00:02<00:00,  2.56s/it]\n",
      "Compute Image Embeddings 2D: 100%|██████████| 1/1 [00:04<00:00,  4.53s/it]\n",
      "Initialize instance segmentation with decoder: 100%|██████████| 1/1 [00:02<00:00,  2.50s/it]\n"
     ]
    },
    {
     "name": "stdout",
     "output_type": "stream",
     "text": [
      "Starting analysis on  061725_images\\3K_dox_lipidtox_farred_OA18.25_03.czi\n"
     ]
    },
    {
     "name": "stderr",
     "output_type": "stream",
     "text": [
      "Compute Image Embeddings 2D:   0%|          | 0/1 [00:00<?, ?it/s]"
     ]
    },
    {
     "name": "stdout",
     "output_type": "stream",
     "text": [
      "✓ Finished 06052025_images → c:\\Users\\sj1205\\Documents\\code\\Kara-Lab\\synuclein_inclusion_biogenesis_2024\\image_analysis\\linoleic_acid\\06052025_MFI_SUMMARY.xlsx\n"
     ]
    },
    {
     "name": "stderr",
     "output_type": "stream",
     "text": [
      "Compute Image Embeddings 2D: 100%|██████████| 1/1 [00:04<00:00,  4.10s/it]\n",
      "Initialize instance segmentation with decoder: 100%|██████████| 1/1 [00:02<00:00,  2.36s/it]\n"
     ]
    },
    {
     "name": "stdout",
     "output_type": "stream",
     "text": [
      "Starting analysis on  62425_images\\3K_dox_lipidtox_farred_OA150_06.czi\n"
     ]
    },
    {
     "name": "stderr",
     "output_type": "stream",
     "text": [
      "Compute Image Embeddings 2D: 100%|██████████| 1/1 [00:03<00:00,  3.85s/it]\n",
      "Initialize instance segmentation with decoder: 100%|██████████| 1/1 [00:02<00:00,  2.23s/it]\n"
     ]
    },
    {
     "name": "stdout",
     "output_type": "stream",
     "text": [
      "Starting analysis on  061725_images\\3K_dox_lipidtox_farred_OA18.25_04.czi\n"
     ]
    },
    {
     "name": "stderr",
     "output_type": "stream",
     "text": [
      "Compute Image Embeddings 2D: 100%|██████████| 1/1 [00:04<00:00,  4.01s/it]\n",
      "Initialize instance segmentation with decoder: 100%|██████████| 1/1 [00:02<00:00,  2.37s/it]\n"
     ]
    },
    {
     "name": "stdout",
     "output_type": "stream",
     "text": [
      "Starting analysis on  62425_images\\3K_dox_lipidtox_farred_OA150_07.czi\n"
     ]
    },
    {
     "name": "stderr",
     "output_type": "stream",
     "text": [
      "Compute Image Embeddings 2D: 100%|██████████| 1/1 [00:03<00:00,  3.62s/it]\n",
      "Initialize instance segmentation with decoder: 100%|██████████| 1/1 [00:02<00:00,  2.25s/it]\n"
     ]
    },
    {
     "name": "stdout",
     "output_type": "stream",
     "text": [
      "Starting analysis on  061725_images\\3K_dox_lipidtox_farred_OA18.25_05.czi\n"
     ]
    },
    {
     "name": "stderr",
     "output_type": "stream",
     "text": [
      "Compute Image Embeddings 2D:   0%|          | 0/1 [00:00<?, ?it/s]"
     ]
    },
    {
     "name": "stdout",
     "output_type": "stream",
     "text": [
      "Starting analysis on  62425_images\\3K_dox_lipidtox_farred_OA150_08.czi\n"
     ]
    },
    {
     "name": "stderr",
     "output_type": "stream",
     "text": [
      "Compute Image Embeddings 2D: 100%|██████████| 1/1 [00:03<00:00,  3.39s/it]\n",
      "Initialize instance segmentation with decoder: 100%|██████████| 1/1 [00:03<00:00,  3.26s/it]\n",
      "Compute Image Embeddings 2D: 100%|██████████| 1/1 [00:04<00:00,  4.57s/it]\n",
      "Initialize instance segmentation with decoder: 100%|██████████| 1/1 [00:02<00:00,  2.34s/it]\n"
     ]
    },
    {
     "name": "stdout",
     "output_type": "stream",
     "text": [
      "Starting analysis on  061725_images\\3K_dox_lipidtox_farred_OA18.25_06.czi\n"
     ]
    },
    {
     "name": "stderr",
     "output_type": "stream",
     "text": [
      "Compute Image Embeddings 2D: 100%|██████████| 1/1 [00:03<00:00,  3.52s/it]\n",
      "Initialize instance segmentation with decoder: 100%|██████████| 1/1 [00:02<00:00,  2.29s/it]\n"
     ]
    },
    {
     "name": "stdout",
     "output_type": "stream",
     "text": [
      "Starting analysis on  62425_images\\3K_dox_lipidtox_farred_OA18.75_02.czi\n"
     ]
    },
    {
     "name": "stderr",
     "output_type": "stream",
     "text": [
      "Compute Image Embeddings 2D: 100%|██████████| 1/1 [00:04<00:00,  4.06s/it]\n",
      "Initialize instance segmentation with decoder: 100%|██████████| 1/1 [00:02<00:00,  2.44s/it]\n"
     ]
    },
    {
     "name": "stdout",
     "output_type": "stream",
     "text": [
      "Starting analysis on  061725_images\\3K_dox_lipidtox_farred_OA18.25_07.czi\n"
     ]
    },
    {
     "name": "stderr",
     "output_type": "stream",
     "text": [
      "Compute Image Embeddings 2D: 100%|██████████| 1/1 [00:03<00:00,  3.42s/it]\n",
      "Initialize instance segmentation with decoder:   0%|          | 0/1 [00:00<?, ?it/s]"
     ]
    },
    {
     "name": "stdout",
     "output_type": "stream",
     "text": [
      "Starting analysis on  62425_images\\3K_dox_lipidtox_farred_OA18.75_03.czi\n"
     ]
    },
    {
     "name": "stderr",
     "output_type": "stream",
     "text": [
      "Initialize instance segmentation with decoder: 100%|██████████| 1/1 [00:02<00:00,  2.51s/it]\n",
      "Compute Image Embeddings 2D: 100%|██████████| 1/1 [00:04<00:00,  4.75s/it]\n",
      "Initialize instance segmentation with decoder: 100%|██████████| 1/1 [00:02<00:00,  2.40s/it]\n"
     ]
    },
    {
     "name": "stdout",
     "output_type": "stream",
     "text": [
      "Starting analysis on  061725_images\\3K_dox_lipidtox_farred_OA18.25_08.czi\n"
     ]
    },
    {
     "name": "stderr",
     "output_type": "stream",
     "text": [
      "Compute Image Embeddings 2D: 100%|██████████| 1/1 [00:03<00:00,  3.49s/it]\n",
      "Initialize instance segmentation with decoder:   0%|          | 0/1 [00:00<?, ?it/s]"
     ]
    },
    {
     "name": "stdout",
     "output_type": "stream",
     "text": [
      "Starting analysis on  62425_images\\3K_dox_lipidtox_farred_OA18.75_04.czi\n"
     ]
    },
    {
     "name": "stderr",
     "output_type": "stream",
     "text": [
      "Initialize instance segmentation with decoder: 100%|██████████| 1/1 [00:02<00:00,  2.54s/it]\n",
      "Compute Image Embeddings 2D: 100%|██████████| 1/1 [00:04<00:00,  4.97s/it]\n",
      "Initialize instance segmentation with decoder: 100%|██████████| 1/1 [00:02<00:00,  2.44s/it]\n"
     ]
    },
    {
     "name": "stdout",
     "output_type": "stream",
     "text": [
      "Starting analysis on  061725_images\\3K_dox_lipidtox_farred_OA300_01.czi\n"
     ]
    },
    {
     "name": "stderr",
     "output_type": "stream",
     "text": [
      "Compute Image Embeddings 2D: 100%|██████████| 1/1 [00:03<00:00,  3.48s/it]\n",
      "Initialize instance segmentation with decoder:   0%|          | 0/1 [00:00<?, ?it/s]"
     ]
    },
    {
     "name": "stdout",
     "output_type": "stream",
     "text": [
      "Starting analysis on  62425_images\\3K_dox_lipidtox_farred_OA18.75_05.czi\n"
     ]
    },
    {
     "name": "stderr",
     "output_type": "stream",
     "text": [
      "Initialize instance segmentation with decoder: 100%|██████████| 1/1 [00:02<00:00,  2.80s/it]\n",
      "Compute Image Embeddings 2D: 100%|██████████| 1/1 [00:04<00:00,  4.37s/it]\n",
      "Initialize instance segmentation with decoder: 100%|██████████| 1/1 [00:02<00:00,  2.30s/it]\n"
     ]
    },
    {
     "name": "stdout",
     "output_type": "stream",
     "text": [
      "Starting analysis on  061725_images\\3K_dox_lipidtox_farred_OA300_02.czi\n"
     ]
    },
    {
     "name": "stderr",
     "output_type": "stream",
     "text": [
      "Compute Image Embeddings 2D: 100%|██████████| 1/1 [00:03<00:00,  3.62s/it]\n",
      "Initialize instance segmentation with decoder:   0%|          | 0/1 [00:00<?, ?it/s]"
     ]
    },
    {
     "name": "stdout",
     "output_type": "stream",
     "text": [
      "Starting analysis on  62425_images\\3K_dox_lipidtox_farred_OA18.75_06.czi\n"
     ]
    },
    {
     "name": "stderr",
     "output_type": "stream",
     "text": [
      "Initialize instance segmentation with decoder: 100%|██████████| 1/1 [00:02<00:00,  2.98s/it]\n",
      "Compute Image Embeddings 2D: 100%|██████████| 1/1 [00:04<00:00,  4.95s/it]\n",
      "Initialize instance segmentation with decoder: 100%|██████████| 1/1 [00:02<00:00,  2.29s/it]\n"
     ]
    },
    {
     "name": "stdout",
     "output_type": "stream",
     "text": [
      "Starting analysis on  061725_images\\3K_dox_lipidtox_farred_OA300_03.czi\n"
     ]
    },
    {
     "name": "stderr",
     "output_type": "stream",
     "text": [
      "Compute Image Embeddings 2D: 100%|██████████| 1/1 [00:03<00:00,  3.49s/it]\n",
      "Initialize instance segmentation with decoder:   0%|          | 0/1 [00:00<?, ?it/s]"
     ]
    },
    {
     "name": "stdout",
     "output_type": "stream",
     "text": [
      "Starting analysis on  62425_images\\3K_dox_lipidtox_farred_OA18.75_07.czi\n"
     ]
    },
    {
     "name": "stderr",
     "output_type": "stream",
     "text": [
      "Initialize instance segmentation with decoder: 100%|██████████| 1/1 [00:02<00:00,  2.42s/it]\n",
      "Compute Image Embeddings 2D: 100%|██████████| 1/1 [00:03<00:00,  3.90s/it]\n",
      "Initialize instance segmentation with decoder: 100%|██████████| 1/1 [00:02<00:00,  2.24s/it]\n"
     ]
    },
    {
     "name": "stdout",
     "output_type": "stream",
     "text": [
      "Starting analysis on  061725_images\\3K_dox_lipidtox_farred_OA300_04.czi\n"
     ]
    },
    {
     "name": "stderr",
     "output_type": "stream",
     "text": [
      "Compute Image Embeddings 2D: 100%|██████████| 1/1 [00:03<00:00,  4.00s/it]\n",
      "Initialize instance segmentation with decoder: 100%|██████████| 1/1 [00:02<00:00,  2.29s/it]\n"
     ]
    },
    {
     "name": "stdout",
     "output_type": "stream",
     "text": [
      "Starting analysis on  62425_images\\3K_dox_lipidtox_farred_OA18.75_08.czi\n"
     ]
    },
    {
     "name": "stderr",
     "output_type": "stream",
     "text": [
      "Compute Image Embeddings 2D:   0%|          | 0/1 [00:00<?, ?it/s]"
     ]
    },
    {
     "name": "stdout",
     "output_type": "stream",
     "text": [
      "Starting analysis on  061725_images\\3K_dox_lipidtox_farred_OA300_05.czi\n"
     ]
    },
    {
     "name": "stderr",
     "output_type": "stream",
     "text": [
      "Compute Image Embeddings 2D: 100%|██████████| 1/1 [00:04<00:00,  4.03s/it]\n",
      "Initialize instance segmentation with decoder: 100%|██████████| 1/1 [00:02<00:00,  2.92s/it]\n",
      "Compute Image Embeddings 2D: 100%|██████████| 1/1 [00:05<00:00,  5.12s/it]\n",
      "Initialize instance segmentation with decoder: 100%|██████████| 1/1 [00:02<00:00,  2.35s/it]\n"
     ]
    },
    {
     "name": "stdout",
     "output_type": "stream",
     "text": [
      "Starting analysis on  62425_images\\3K_dox_lipidtox_farred_OA300_01.czi\n"
     ]
    },
    {
     "name": "stderr",
     "output_type": "stream",
     "text": [
      "Compute Image Embeddings 2D: 100%|██████████| 1/1 [00:03<00:00,  3.83s/it]\n",
      "Initialize instance segmentation with decoder: 100%|██████████| 1/1 [00:02<00:00,  2.29s/it]\n"
     ]
    },
    {
     "name": "stdout",
     "output_type": "stream",
     "text": [
      "Starting analysis on  061725_images\\3K_dox_lipidtox_farred_OA300_06.czi\n"
     ]
    },
    {
     "name": "stderr",
     "output_type": "stream",
     "text": [
      "Compute Image Embeddings 2D: 100%|██████████| 1/1 [00:03<00:00,  3.44s/it]\n",
      "Initialize instance segmentation with decoder:   0%|          | 0/1 [00:00<?, ?it/s]"
     ]
    },
    {
     "name": "stdout",
     "output_type": "stream",
     "text": [
      "Starting analysis on  62425_images\\3K_dox_lipidtox_farred_OA300_02.czi\n"
     ]
    },
    {
     "name": "stderr",
     "output_type": "stream",
     "text": [
      "Initialize instance segmentation with decoder: 100%|██████████| 1/1 [00:02<00:00,  2.72s/it]\n",
      "Compute Image Embeddings 2D: 100%|██████████| 1/1 [00:04<00:00,  4.59s/it]\n",
      "Initialize instance segmentation with decoder: 100%|██████████| 1/1 [00:02<00:00,  2.38s/it]\n"
     ]
    },
    {
     "name": "stdout",
     "output_type": "stream",
     "text": [
      "Starting analysis on  62425_images\\3K_dox_lipidtox_farred_OA300_03.czi\n"
     ]
    },
    {
     "name": "stderr",
     "output_type": "stream",
     "text": [
      "Compute Image Embeddings 2D:   0%|          | 0/1 [00:00<?, ?it/s]"
     ]
    },
    {
     "name": "stdout",
     "output_type": "stream",
     "text": [
      "Starting analysis on  061725_images\\3K_dox_lipidtox_farred_OA300_07.czi\n"
     ]
    },
    {
     "name": "stderr",
     "output_type": "stream",
     "text": [
      "Compute Image Embeddings 2D: 100%|██████████| 1/1 [00:04<00:00,  4.41s/it]\n",
      "Compute Image Embeddings 2D: 100%|██████████| 1/1 [00:04<00:00,  4.88s/it]<?, ?it/s]\n",
      "Initialize instance segmentation with decoder: 100%|██████████| 1/1 [00:03<00:00,  3.34s/it]\n",
      "Initialize instance segmentation with decoder: 100%|██████████| 1/1 [00:02<00:00,  2.85s/it]\n"
     ]
    },
    {
     "name": "stdout",
     "output_type": "stream",
     "text": [
      "Starting analysis on  62425_images\\3K_dox_lipidtox_farred_OA300_04.czi\n"
     ]
    },
    {
     "name": "stderr",
     "output_type": "stream",
     "text": [
      "Compute Image Embeddings 2D: 100%|██████████| 1/1 [00:03<00:00,  3.53s/it]\n",
      "Initialize instance segmentation with decoder:   0%|          | 0/1 [00:00<?, ?it/s]"
     ]
    },
    {
     "name": "stdout",
     "output_type": "stream",
     "text": [
      "Starting analysis on  061725_images\\3K_dox_lipidtox_farred_OA300_08.czi\n"
     ]
    },
    {
     "name": "stderr",
     "output_type": "stream",
     "text": [
      "Initialize instance segmentation with decoder: 100%|██████████| 1/1 [00:02<00:00,  2.53s/it]\n",
      "Compute Image Embeddings 2D: 100%|██████████| 1/1 [00:04<00:00,  4.55s/it]\n",
      "Initialize instance segmentation with decoder: 100%|██████████| 1/1 [00:02<00:00,  2.22s/it]\n"
     ]
    },
    {
     "name": "stdout",
     "output_type": "stream",
     "text": [
      "Starting analysis on  62425_images\\3K_dox_lipidtox_farred_OA300_05.czi\n"
     ]
    },
    {
     "name": "stderr",
     "output_type": "stream",
     "text": [
      "Compute Image Embeddings 2D: 100%|██████████| 1/1 [00:03<00:00,  3.72s/it]\n",
      "Initialize instance segmentation with decoder:   0%|          | 0/1 [00:00<?, ?it/s]"
     ]
    },
    {
     "name": "stdout",
     "output_type": "stream",
     "text": [
      "Starting analysis on  061725_images\\3K_dox_lipidtox_farred_OA37.5_01.czi\n"
     ]
    },
    {
     "name": "stderr",
     "output_type": "stream",
     "text": [
      "Initialize instance segmentation with decoder: 100%|██████████| 1/1 [00:02<00:00,  2.57s/it]\n",
      "Compute Image Embeddings 2D: 100%|██████████| 1/1 [00:04<00:00,  4.74s/it]\n",
      "Initialize instance segmentation with decoder: 100%|██████████| 1/1 [00:02<00:00,  2.39s/it]\n"
     ]
    },
    {
     "name": "stdout",
     "output_type": "stream",
     "text": [
      "Starting analysis on  62425_images\\3K_dox_lipidtox_farred_OA300_06.czi\n"
     ]
    },
    {
     "name": "stderr",
     "output_type": "stream",
     "text": [
      "Compute Image Embeddings 2D: 100%|██████████| 1/1 [00:03<00:00,  3.50s/it]\n",
      "Initialize instance segmentation with decoder:   0%|          | 0/1 [00:00<?, ?it/s]"
     ]
    },
    {
     "name": "stdout",
     "output_type": "stream",
     "text": [
      "Starting analysis on  061725_images\\3K_dox_lipidtox_farred_OA37.5_02.czi\n"
     ]
    },
    {
     "name": "stderr",
     "output_type": "stream",
     "text": [
      "Initialize instance segmentation with decoder: 100%|██████████| 1/1 [00:02<00:00,  2.26s/it]\n",
      "Compute Image Embeddings 2D: 100%|██████████| 1/1 [00:04<00:00,  4.41s/it]\n",
      "Initialize instance segmentation with decoder: 100%|██████████| 1/1 [00:02<00:00,  2.27s/it]\n"
     ]
    },
    {
     "name": "stdout",
     "output_type": "stream",
     "text": [
      "Starting analysis on  62425_images\\3K_dox_lipidtox_farred_OA300_07.czi\n"
     ]
    },
    {
     "name": "stderr",
     "output_type": "stream",
     "text": [
      "Compute Image Embeddings 2D: 100%|██████████| 1/1 [00:03<00:00,  3.97s/it]\n",
      "Initialize instance segmentation with decoder: 100%|██████████| 1/1 [00:02<00:00,  2.30s/it]\n"
     ]
    },
    {
     "name": "stdout",
     "output_type": "stream",
     "text": [
      "Starting analysis on  061725_images\\3K_dox_lipidtox_farred_OA37.5_03.czi\n"
     ]
    },
    {
     "name": "stderr",
     "output_type": "stream",
     "text": [
      "Compute Image Embeddings 2D: 100%|██████████| 1/1 [00:03<00:00,  3.43s/it]\n",
      "Initialize instance segmentation with decoder:   0%|          | 0/1 [00:00<?, ?it/s]"
     ]
    },
    {
     "name": "stdout",
     "output_type": "stream",
     "text": [
      "Starting analysis on  62425_images\\3K_dox_lipidtox_farred_OA300_08.czi\n"
     ]
    },
    {
     "name": "stderr",
     "output_type": "stream",
     "text": [
      "Initialize instance segmentation with decoder: 100%|██████████| 1/1 [00:02<00:00,  2.59s/it]\n",
      "Compute Image Embeddings 2D: 100%|██████████| 1/1 [00:04<00:00,  4.65s/it]\n",
      "Initialize instance segmentation with decoder: 100%|██████████| 1/1 [00:02<00:00,  2.42s/it]\n"
     ]
    },
    {
     "name": "stdout",
     "output_type": "stream",
     "text": [
      "Starting analysis on  62425_images\\3K_dox_lipidtox_farred_OA600_01.czi\n"
     ]
    },
    {
     "name": "stderr",
     "output_type": "stream",
     "text": [
      "Compute Image Embeddings 2D:   0%|          | 0/1 [00:00<?, ?it/s]"
     ]
    },
    {
     "name": "stdout",
     "output_type": "stream",
     "text": [
      "Starting analysis on  061725_images\\3K_dox_lipidtox_farred_OA37.5_04.czi\n"
     ]
    },
    {
     "name": "stderr",
     "output_type": "stream",
     "text": [
      "Compute Image Embeddings 2D: 100%|██████████| 1/1 [00:03<00:00,  3.39s/it]\n",
      "Initialize instance segmentation with decoder: 100%|██████████| 1/1 [00:03<00:00,  3.11s/it]\n",
      "Compute Image Embeddings 2D: 100%|██████████| 1/1 [00:05<00:00,  5.23s/it]\n",
      "Initialize instance segmentation with decoder: 100%|██████████| 1/1 [00:02<00:00,  2.36s/it]\n"
     ]
    },
    {
     "name": "stdout",
     "output_type": "stream",
     "text": [
      "Starting analysis on  62425_images\\3K_dox_lipidtox_farred_OA600_02.czi\n"
     ]
    },
    {
     "name": "stderr",
     "output_type": "stream",
     "text": [
      "Compute Image Embeddings 2D: 100%|██████████| 1/1 [00:03<00:00,  3.45s/it]\n",
      "Initialize instance segmentation with decoder:   0%|          | 0/1 [00:00<?, ?it/s]"
     ]
    },
    {
     "name": "stdout",
     "output_type": "stream",
     "text": [
      "Starting analysis on  061725_images\\3K_dox_lipidtox_farred_OA37.5_05.czi\n"
     ]
    },
    {
     "name": "stderr",
     "output_type": "stream",
     "text": [
      "Initialize instance segmentation with decoder: 100%|██████████| 1/1 [00:03<00:00,  3.19s/it]\n",
      "Compute Image Embeddings 2D: 100%|██████████| 1/1 [00:04<00:00,  4.69s/it]\n",
      "Initialize instance segmentation with decoder: 100%|██████████| 1/1 [00:02<00:00,  2.24s/it]\n"
     ]
    },
    {
     "name": "stdout",
     "output_type": "stream",
     "text": [
      "Starting analysis on  62425_images\\3K_dox_lipidtox_farred_OA600_03.czi\n"
     ]
    },
    {
     "name": "stderr",
     "output_type": "stream",
     "text": [
      "Compute Image Embeddings 2D: 100%|██████████| 1/1 [00:03<00:00,  3.95s/it]\n",
      "Initialize instance segmentation with decoder: 100%|██████████| 1/1 [00:02<00:00,  2.27s/it]\n"
     ]
    },
    {
     "name": "stdout",
     "output_type": "stream",
     "text": [
      "Starting analysis on  061725_images\\3K_dox_lipidtox_farred_OA37.5_06.czi\n"
     ]
    },
    {
     "name": "stderr",
     "output_type": "stream",
     "text": [
      "Compute Image Embeddings 2D: 100%|██████████| 1/1 [00:03<00:00,  3.77s/it]\n",
      "Initialize instance segmentation with decoder: 100%|██████████| 1/1 [00:02<00:00,  2.23s/it]\n"
     ]
    },
    {
     "name": "stdout",
     "output_type": "stream",
     "text": [
      "Starting analysis on  62425_images\\3K_dox_lipidtox_farred_OA600_04.czi\n"
     ]
    },
    {
     "name": "stderr",
     "output_type": "stream",
     "text": [
      "Compute Image Embeddings 2D: 100%|██████████| 1/1 [00:03<00:00,  3.96s/it]\n",
      "Initialize instance segmentation with decoder: 100%|██████████| 1/1 [00:02<00:00,  2.30s/it]\n"
     ]
    },
    {
     "name": "stdout",
     "output_type": "stream",
     "text": [
      "Starting analysis on  061725_images\\3K_dox_lipidtox_farred_OA37.5_07.czi\n"
     ]
    },
    {
     "name": "stderr",
     "output_type": "stream",
     "text": [
      "Compute Image Embeddings 2D:   0%|          | 0/1 [00:00<?, ?it/s]"
     ]
    },
    {
     "name": "stdout",
     "output_type": "stream",
     "text": [
      "Starting analysis on  62425_images\\3K_dox_lipidtox_farred_OA600_05.czi\n"
     ]
    },
    {
     "name": "stderr",
     "output_type": "stream",
     "text": [
      "Compute Image Embeddings 2D: 100%|██████████| 1/1 [00:04<00:00,  4.24s/it]\n",
      "Compute Image Embeddings 2D: 100%|██████████| 1/1 [00:04<00:00,  4.52s/it]<?, ?it/s]\n",
      "Initialize instance segmentation with decoder: 100%|██████████| 1/1 [00:03<00:00,  3.43s/it]\n",
      "Initialize instance segmentation with decoder: 100%|██████████| 1/1 [00:03<00:00,  3.38s/it]\n"
     ]
    },
    {
     "name": "stdout",
     "output_type": "stream",
     "text": [
      "Starting analysis on  62425_images\\3K_dox_lipidtox_farred_OA600_06.czi\n"
     ]
    },
    {
     "name": "stderr",
     "output_type": "stream",
     "text": [
      "Compute Image Embeddings 2D:   0%|          | 0/1 [00:00<?, ?it/s]"
     ]
    },
    {
     "name": "stdout",
     "output_type": "stream",
     "text": [
      "Starting analysis on  061725_images\\3K_dox_lipidtox_farred_OA37.5_08.czi\n"
     ]
    },
    {
     "name": "stderr",
     "output_type": "stream",
     "text": [
      "Compute Image Embeddings 2D: 100%|██████████| 1/1 [00:03<00:00,  3.77s/it]\n",
      "Initialize instance segmentation with decoder: 100%|██████████| 1/1 [00:02<00:00,  2.89s/it]\n",
      "Compute Image Embeddings 2D: 100%|██████████| 1/1 [00:05<00:00,  5.73s/it]\n",
      "Initialize instance segmentation with decoder: 100%|██████████| 1/1 [00:02<00:00,  2.44s/it]\n"
     ]
    },
    {
     "name": "stdout",
     "output_type": "stream",
     "text": [
      "Starting analysis on  62425_images\\3K_dox_lipidtox_farred_OA600_07.czi\n"
     ]
    },
    {
     "name": "stderr",
     "output_type": "stream",
     "text": [
      "Compute Image Embeddings 2D: 100%|██████████| 1/1 [00:03<00:00,  3.71s/it]\n",
      "Initialize instance segmentation with decoder: 100%|██████████| 1/1 [00:02<00:00,  2.29s/it]\n"
     ]
    },
    {
     "name": "stdout",
     "output_type": "stream",
     "text": [
      "Starting analysis on  061725_images\\3K_dox_lipidtox_farred_OA600_01.czi\n"
     ]
    },
    {
     "name": "stderr",
     "output_type": "stream",
     "text": [
      "Compute Image Embeddings 2D: 100%|██████████| 1/1 [00:03<00:00,  3.50s/it]\n",
      "Initialize instance segmentation with decoder:   0%|          | 0/1 [00:00<?, ?it/s]"
     ]
    },
    {
     "name": "stdout",
     "output_type": "stream",
     "text": [
      "Starting analysis on  62425_images\\3K_dox_lipidtox_farred_OA600_08.czi\n"
     ]
    },
    {
     "name": "stderr",
     "output_type": "stream",
     "text": [
      "Initialize instance segmentation with decoder: 100%|██████████| 1/1 [00:03<00:00,  3.09s/it]\n",
      "Compute Image Embeddings 2D: 100%|██████████| 1/1 [00:04<00:00,  4.58s/it]\n",
      "Initialize instance segmentation with decoder: 100%|██████████| 1/1 [00:02<00:00,  2.40s/it]\n"
     ]
    },
    {
     "name": "stdout",
     "output_type": "stream",
     "text": [
      "Starting analysis on  061725_images\\3K_dox_lipidtox_farred_OA600_02.czi\n"
     ]
    },
    {
     "name": "stderr",
     "output_type": "stream",
     "text": [
      "Compute Image Embeddings 2D: 100%|██████████| 1/1 [00:04<00:00,  4.10s/it]\n",
      "Initialize instance segmentation with decoder:   0%|          | 0/1 [00:00<?, ?it/s]"
     ]
    },
    {
     "name": "stdout",
     "output_type": "stream",
     "text": [
      "Starting analysis on  62425_images\\3K_dox_lipidtox_farred_OA_18.75_01.czi\n"
     ]
    },
    {
     "name": "stderr",
     "output_type": "stream",
     "text": [
      "Initialize instance segmentation with decoder: 100%|██████████| 1/1 [00:07<00:00,  7.17s/it]\n",
      "Compute Image Embeddings 2D: 100%|██████████| 1/1 [00:08<00:00,  8.85s/it]\n",
      "Initialize instance segmentation with decoder: 100%|██████████| 1/1 [00:04<00:00,  4.61s/it]\n"
     ]
    },
    {
     "name": "stdout",
     "output_type": "stream",
     "text": [
      "Starting analysis on  061725_images\\3K_dox_lipidtox_farred_OA600_03.czi\n"
     ]
    },
    {
     "name": "stderr",
     "output_type": "stream",
     "text": [
      "Compute Image Embeddings 2D: 100%|██████████| 1/1 [00:06<00:00,  6.63s/it]\n",
      "Initialize instance segmentation with decoder: 100%|██████████| 1/1 [00:04<00:00,  4.47s/it]\n"
     ]
    },
    {
     "name": "stdout",
     "output_type": "stream",
     "text": [
      "Starting analysis on  62425_images\\3K_dox_lipidtox_farred_OA_37.5_01.czi\n"
     ]
    },
    {
     "name": "stderr",
     "output_type": "stream",
     "text": [
      "Compute Image Embeddings 2D: 100%|██████████| 1/1 [00:06<00:00,  6.04s/it]\n",
      "Initialize instance segmentation with decoder:   0%|          | 0/1 [00:00<?, ?it/s]"
     ]
    },
    {
     "name": "stdout",
     "output_type": "stream",
     "text": [
      "Starting analysis on  061725_images\\3K_dox_lipidtox_farred_OA600_04.czi\n"
     ]
    },
    {
     "name": "stderr",
     "output_type": "stream",
     "text": [
      "Initialize instance segmentation with decoder: 100%|██████████| 1/1 [00:04<00:00,  4.66s/it]\n",
      "Compute Image Embeddings 2D: 100%|██████████| 1/1 [00:07<00:00,  7.41s/it]\n",
      "Initialize instance segmentation with decoder:   0%|          | 0/1 [00:00<?, ?it/s]"
     ]
    },
    {
     "name": "stdout",
     "output_type": "stream",
     "text": [
      "Starting analysis on  62425_images\\3K_dox_lipidtox_farred_OA_37.5_02.czi\n"
     ]
    },
    {
     "name": "stderr",
     "output_type": "stream",
     "text": [
      "Initialize instance segmentation with decoder: 100%|██████████| 1/1 [00:05<00:00,  5.95s/it]\n",
      "Compute Image Embeddings 2D: 100%|██████████| 1/1 [00:08<00:00,  8.53s/it]\n",
      "Initialize instance segmentation with decoder: 100%|██████████| 1/1 [00:04<00:00,  4.48s/it]\n"
     ]
    },
    {
     "name": "stdout",
     "output_type": "stream",
     "text": [
      "Starting analysis on  061725_images\\3K_dox_lipidtox_farred_OA600_05.czi\n"
     ]
    },
    {
     "name": "stderr",
     "output_type": "stream",
     "text": [
      "Compute Image Embeddings 2D: 100%|██████████| 1/1 [00:06<00:00,  6.88s/it]\n",
      "Initialize instance segmentation with decoder: 100%|██████████| 1/1 [00:04<00:00,  4.81s/it]\n"
     ]
    },
    {
     "name": "stdout",
     "output_type": "stream",
     "text": [
      "Starting analysis on  62425_images\\3K_dox_lipidtox_farred_OA_37.5_03.czi\n"
     ]
    },
    {
     "name": "stderr",
     "output_type": "stream",
     "text": [
      "Compute Image Embeddings 2D: 100%|██████████| 1/1 [00:05<00:00,  5.94s/it]\n",
      "Initialize instance segmentation with decoder: 100%|██████████| 1/1 [00:04<00:00,  4.42s/it]\n"
     ]
    },
    {
     "name": "stdout",
     "output_type": "stream",
     "text": [
      "Starting analysis on  061725_images\\3K_dox_lipidtox_farred_OA600_06.czi\n"
     ]
    },
    {
     "name": "stderr",
     "output_type": "stream",
     "text": [
      "Compute Image Embeddings 2D: 100%|██████████| 1/1 [00:07<00:00,  7.12s/it]\n",
      "Initialize instance segmentation with decoder: 100%|██████████| 1/1 [00:04<00:00,  4.75s/it]\n"
     ]
    },
    {
     "name": "stdout",
     "output_type": "stream",
     "text": [
      "Starting analysis on  62425_images\\3K_dox_lipidtox_farred_OA_37.5_04.czi\n"
     ]
    },
    {
     "name": "stderr",
     "output_type": "stream",
     "text": [
      "Compute Image Embeddings 2D: 100%|██████████| 1/1 [00:06<00:00,  6.16s/it]\n",
      "Initialize instance segmentation with decoder:   0%|          | 0/1 [00:00<?, ?it/s]"
     ]
    },
    {
     "name": "stdout",
     "output_type": "stream",
     "text": [
      "Starting analysis on  061725_images\\3K_dox_lipidtox_farred_OA600_07.czi\n"
     ]
    },
    {
     "name": "stderr",
     "output_type": "stream",
     "text": [
      "Initialize instance segmentation with decoder: 100%|██████████| 1/1 [00:04<00:00,  4.73s/it]\n",
      "Compute Image Embeddings 2D: 100%|██████████| 1/1 [00:08<00:00,  8.42s/it]\n",
      "Initialize instance segmentation with decoder: 100%|██████████| 1/1 [00:04<00:00,  4.76s/it]\n"
     ]
    },
    {
     "name": "stdout",
     "output_type": "stream",
     "text": [
      "Starting analysis on  62425_images\\3K_dox_lipidtox_farred_OA_37.5_05.czi\n"
     ]
    },
    {
     "name": "stderr",
     "output_type": "stream",
     "text": [
      "Compute Image Embeddings 2D:   0%|          | 0/1 [00:00<?, ?it/s]"
     ]
    },
    {
     "name": "stdout",
     "output_type": "stream",
     "text": [
      "Starting analysis on  061725_images\\3K_dox_lipidtox_farred_OA600_08.czi\n"
     ]
    },
    {
     "name": "stderr",
     "output_type": "stream",
     "text": [
      "Compute Image Embeddings 2D: 100%|██████████| 1/1 [00:09<00:00,  9.13s/it]\n",
      "Compute Image Embeddings 2D: 100%|██████████| 1/1 [00:09<00:00,  9.71s/it]<?, ?it/s]\n",
      "Initialize instance segmentation with decoder: 100%|██████████| 1/1 [00:07<00:00,  7.78s/it]\n",
      "Initialize instance segmentation with decoder: 100%|██████████| 1/1 [00:07<00:00,  7.37s/it]\n"
     ]
    },
    {
     "name": "stdout",
     "output_type": "stream",
     "text": [
      "Starting analysis on  62425_images\\3K_dox_lipidtox_farred_OA_37.5_06.czi\n"
     ]
    },
    {
     "name": "stderr",
     "output_type": "stream",
     "text": [
      "Compute Image Embeddings 2D: 100%|██████████| 1/1 [00:05<00:00,  5.93s/it]\n",
      "Initialize instance segmentation with decoder: 100%|██████████| 1/1 [00:04<00:00,  4.46s/it]\n"
     ]
    },
    {
     "name": "stdout",
     "output_type": "stream",
     "text": [
      "Starting analysis on  061725_images\\3K_dox_lipidtox_farred_OA75_01.czi\n"
     ]
    },
    {
     "name": "stderr",
     "output_type": "stream",
     "text": [
      "Compute Image Embeddings 2D: 100%|██████████| 1/1 [00:07<00:00,  7.09s/it]\n",
      "Initialize instance segmentation with decoder: 100%|██████████| 1/1 [00:04<00:00,  4.73s/it]\n"
     ]
    },
    {
     "name": "stdout",
     "output_type": "stream",
     "text": [
      "Starting analysis on  62425_images\\3K_dox_lipidtox_farred_OA_37.5_07.czi\n"
     ]
    },
    {
     "name": "stderr",
     "output_type": "stream",
     "text": [
      "Compute Image Embeddings 2D: 100%|██████████| 1/1 [00:05<00:00,  5.71s/it]\n",
      "Initialize instance segmentation with decoder: 100%|██████████| 1/1 [00:04<00:00,  4.45s/it]\n"
     ]
    },
    {
     "name": "stdout",
     "output_type": "stream",
     "text": [
      "Starting analysis on  061725_images\\3K_dox_lipidtox_farred_OA75_02.czi\n"
     ]
    },
    {
     "name": "stderr",
     "output_type": "stream",
     "text": [
      "Compute Image Embeddings 2D: 100%|██████████| 1/1 [00:06<00:00,  6.90s/it]\n",
      "Initialize instance segmentation with decoder: 100%|██████████| 1/1 [00:04<00:00,  4.67s/it]\n"
     ]
    },
    {
     "name": "stdout",
     "output_type": "stream",
     "text": [
      "Starting analysis on  62425_images\\3K_dox_lipidtox_farred_OA_37.5_08.czi\n"
     ]
    },
    {
     "name": "stderr",
     "output_type": "stream",
     "text": [
      "Compute Image Embeddings 2D: 100%|██████████| 1/1 [00:08<00:00,  8.34s/it]\n",
      "Initialize instance segmentation with decoder:   0%|          | 0/1 [00:00<?, ?it/s]"
     ]
    },
    {
     "name": "stdout",
     "output_type": "stream",
     "text": [
      "Starting analysis on  061725_images\\3K_dox_lipidtox_farred_OA75_03.czi\n"
     ]
    },
    {
     "name": "stderr",
     "output_type": "stream",
     "text": [
      "Initialize instance segmentation with decoder: 100%|██████████| 1/1 [00:05<00:00,  5.20s/it]\n",
      "Compute Image Embeddings 2D: 100%|██████████| 1/1 [00:08<00:00,  8.31s/it]\n",
      "Initialize instance segmentation with decoder: 100%|██████████| 1/1 [00:05<00:00,  5.42s/it]\n"
     ]
    },
    {
     "name": "stdout",
     "output_type": "stream",
     "text": [
      "Starting analysis on  62425_images\\3K_dox_lipidtox_farred_OA_75_01.czi\n"
     ]
    },
    {
     "name": "stderr",
     "output_type": "stream",
     "text": [
      "Compute Image Embeddings 2D: 100%|██████████| 1/1 [00:07<00:00,  7.63s/it]\n",
      "Initialize instance segmentation with decoder: 100%|██████████| 1/1 [00:05<00:00,  5.06s/it]\n"
     ]
    },
    {
     "name": "stdout",
     "output_type": "stream",
     "text": [
      "Starting analysis on  061725_images\\3K_dox_lipidtox_farred_OA75_04.czi\n"
     ]
    },
    {
     "name": "stderr",
     "output_type": "stream",
     "text": [
      "Compute Image Embeddings 2D: 100%|██████████| 1/1 [00:06<00:00,  6.62s/it]\n",
      "Initialize instance segmentation with decoder: 100%|██████████| 1/1 [00:04<00:00,  4.38s/it]\n"
     ]
    },
    {
     "name": "stdout",
     "output_type": "stream",
     "text": [
      "Starting analysis on  62425_images\\3K_dox_lipidtox_farred_OA_75_02.czi\n"
     ]
    },
    {
     "name": "stderr",
     "output_type": "stream",
     "text": [
      "Compute Image Embeddings 2D: 100%|██████████| 1/1 [00:06<00:00,  6.65s/it]\n",
      "Initialize instance segmentation with decoder: 100%|██████████| 1/1 [00:04<00:00,  4.65s/it]\n"
     ]
    },
    {
     "name": "stdout",
     "output_type": "stream",
     "text": [
      "Starting analysis on  061725_images\\3K_dox_lipidtox_farred_OA75_05.czi\n"
     ]
    },
    {
     "name": "stderr",
     "output_type": "stream",
     "text": [
      "Compute Image Embeddings 2D: 100%|██████████| 1/1 [00:05<00:00,  5.80s/it]\n",
      "Initialize instance segmentation with decoder: 100%|██████████| 1/1 [00:04<00:00,  4.36s/it]\n"
     ]
    },
    {
     "name": "stdout",
     "output_type": "stream",
     "text": [
      "Starting analysis on  62425_images\\3K_dox_lipidtox_farred_OA_75_03.czi\n"
     ]
    },
    {
     "name": "stderr",
     "output_type": "stream",
     "text": [
      "Compute Image Embeddings 2D: 100%|██████████| 1/1 [00:06<00:00,  6.87s/it]\n",
      "Initialize instance segmentation with decoder: 100%|██████████| 1/1 [00:04<00:00,  4.64s/it]\n"
     ]
    },
    {
     "name": "stdout",
     "output_type": "stream",
     "text": [
      "Starting analysis on  061725_images\\3K_dox_lipidtox_farred_OA75_06.czi\n"
     ]
    },
    {
     "name": "stderr",
     "output_type": "stream",
     "text": [
      "Compute Image Embeddings 2D: 100%|██████████| 1/1 [00:05<00:00,  5.81s/it]\n",
      "Initialize instance segmentation with decoder:   0%|          | 0/1 [00:00<?, ?it/s]"
     ]
    },
    {
     "name": "stdout",
     "output_type": "stream",
     "text": [
      "Starting analysis on  62425_images\\3K_dox_lipidtox_farred_OA_75_04.czi\n"
     ]
    },
    {
     "name": "stderr",
     "output_type": "stream",
     "text": [
      "Initialize instance segmentation with decoder: 100%|██████████| 1/1 [00:07<00:00,  7.26s/it]\n",
      "Compute Image Embeddings 2D: 100%|██████████| 1/1 [00:08<00:00,  8.43s/it]\n",
      "Initialize instance segmentation with decoder: 100%|██████████| 1/1 [00:04<00:00,  4.84s/it]\n"
     ]
    },
    {
     "name": "stdout",
     "output_type": "stream",
     "text": [
      "Starting analysis on  061725_images\\3K_dox_lipidtox_farred_OA75_07.czi\n"
     ]
    },
    {
     "name": "stderr",
     "output_type": "stream",
     "text": [
      "Compute Image Embeddings 2D:   0%|          | 0/1 [00:00<?, ?it/s]"
     ]
    },
    {
     "name": "stdout",
     "output_type": "stream",
     "text": [
      "Starting analysis on  62425_images\\3K_dox_lipidtox_farred_OA_75_05.czi\n"
     ]
    },
    {
     "name": "stderr",
     "output_type": "stream",
     "text": [
      "Compute Image Embeddings 2D: 100%|██████████| 1/1 [00:05<00:00,  5.83s/it]\n",
      "Initialize instance segmentation with decoder: 100%|██████████| 1/1 [00:07<00:00,  7.35s/it]\n",
      "Compute Image Embeddings 2D: 100%|██████████| 1/1 [00:09<00:00,  9.99s/it]\n",
      "Initialize instance segmentation with decoder: 100%|██████████| 1/1 [00:04<00:00,  4.87s/it]\n"
     ]
    },
    {
     "name": "stdout",
     "output_type": "stream",
     "text": [
      "Starting analysis on  061725_images\\3K_dox_lipidtox_farred_OA75_08.czi\n"
     ]
    },
    {
     "name": "stderr",
     "output_type": "stream",
     "text": [
      "Compute Image Embeddings 2D: 100%|██████████| 1/1 [00:04<00:00,  4.83s/it]\n",
      "Initialize instance segmentation with decoder: 100%|██████████| 1/1 [00:02<00:00,  2.35s/it]\n"
     ]
    },
    {
     "name": "stdout",
     "output_type": "stream",
     "text": [
      "Starting analysis on  62425_images\\3K_dox_lipidtox_farred_OA_75_06.czi\n"
     ]
    },
    {
     "name": "stderr",
     "output_type": "stream",
     "text": [
      "Compute Image Embeddings 2D: 100%|██████████| 1/1 [00:04<00:00,  4.22s/it]\n",
      "Initialize instance segmentation with decoder: 100%|██████████| 1/1 [00:02<00:00,  2.72s/it]\n"
     ]
    },
    {
     "name": "stdout",
     "output_type": "stream",
     "text": [
      "Starting analysis on  061725_images\\3K_dox_lipidtox_farred_OA_UT_01.czi\n"
     ]
    },
    {
     "name": "stderr",
     "output_type": "stream",
     "text": [
      "Compute Image Embeddings 2D: 100%|██████████| 1/1 [00:03<00:00,  3.64s/it]\n",
      "Initialize instance segmentation with decoder: 100%|██████████| 1/1 [00:02<00:00,  2.30s/it]\n"
     ]
    },
    {
     "name": "stdout",
     "output_type": "stream",
     "text": [
      "Starting analysis on  62425_images\\3K_dox_lipidtox_farred_OA_75_07.czi\n"
     ]
    },
    {
     "name": "stderr",
     "output_type": "stream",
     "text": [
      "Compute Image Embeddings 2D: 100%|██████████| 1/1 [00:04<00:00,  4.08s/it]\n",
      "Initialize instance segmentation with decoder: 100%|██████████| 1/1 [00:02<00:00,  2.44s/it]\n"
     ]
    },
    {
     "name": "stdout",
     "output_type": "stream",
     "text": [
      "Starting analysis on  061725_images\\3K_dox_lipidtox_farred_OA_UT_02.czi\n"
     ]
    },
    {
     "name": "stderr",
     "output_type": "stream",
     "text": [
      "Compute Image Embeddings 2D: 100%|██████████| 1/1 [00:03<00:00,  3.57s/it]\n",
      "Initialize instance segmentation with decoder: 100%|██████████| 1/1 [00:02<00:00,  2.28s/it]\n"
     ]
    },
    {
     "name": "stdout",
     "output_type": "stream",
     "text": [
      "Starting analysis on  62425_images\\3K_dox_lipidtox_farred_OA_75_08.czi\n"
     ]
    },
    {
     "name": "stderr",
     "output_type": "stream",
     "text": [
      "Compute Image Embeddings 2D: 100%|██████████| 1/1 [00:03<00:00,  4.00s/it]\n",
      "Initialize instance segmentation with decoder: 100%|██████████| 1/1 [00:02<00:00,  2.36s/it]\n"
     ]
    },
    {
     "name": "stdout",
     "output_type": "stream",
     "text": [
      "Starting analysis on  061725_images\\3K_dox_lipidtox_farred_OA_UT_03.czi\n"
     ]
    },
    {
     "name": "stderr",
     "output_type": "stream",
     "text": [
      "Compute Image Embeddings 2D: 100%|██████████| 1/1 [00:03<00:00,  3.85s/it]\n",
      "Initialize instance segmentation with decoder: 100%|██████████| 1/1 [00:02<00:00,  2.27s/it]\n"
     ]
    },
    {
     "name": "stdout",
     "output_type": "stream",
     "text": [
      "Starting analysis on  62425_images\\3K_dox_lipidtox_farred_UT_01.czi\n"
     ]
    },
    {
     "name": "stderr",
     "output_type": "stream",
     "text": [
      "Compute Image Embeddings 2D: 100%|██████████| 1/1 [00:03<00:00,  3.75s/it]\n",
      "Initialize instance segmentation with decoder: 100%|██████████| 1/1 [00:02<00:00,  2.28s/it]\n"
     ]
    },
    {
     "name": "stdout",
     "output_type": "stream",
     "text": [
      "Starting analysis on  061725_images\\3K_dox_lipidtox_farred_OA_UT_04.czi\n"
     ]
    },
    {
     "name": "stderr",
     "output_type": "stream",
     "text": [
      "Compute Image Embeddings 2D: 100%|██████████| 1/1 [00:04<00:00,  4.01s/it]\n",
      "Initialize instance segmentation with decoder: 100%|██████████| 1/1 [00:02<00:00,  2.37s/it]\n"
     ]
    },
    {
     "name": "stdout",
     "output_type": "stream",
     "text": [
      "Starting analysis on  62425_images\\3K_dox_lipidtox_farred_UT_02.czi\n"
     ]
    },
    {
     "name": "stderr",
     "output_type": "stream",
     "text": [
      "Compute Image Embeddings 2D: 100%|██████████| 1/1 [00:03<00:00,  3.54s/it]\n",
      "Initialize instance segmentation with decoder: 100%|██████████| 1/1 [00:02<00:00,  2.26s/it]\n"
     ]
    },
    {
     "name": "stdout",
     "output_type": "stream",
     "text": [
      "Starting analysis on  061725_images\\3K_dox_lipidtox_farred_OA_UT_05.czi\n"
     ]
    },
    {
     "name": "stderr",
     "output_type": "stream",
     "text": [
      "Compute Image Embeddings 2D: 100%|██████████| 1/1 [00:03<00:00,  3.98s/it]\n",
      "Initialize instance segmentation with decoder: 100%|██████████| 1/1 [00:02<00:00,  2.45s/it]\n"
     ]
    },
    {
     "name": "stdout",
     "output_type": "stream",
     "text": [
      "Starting analysis on  62425_images\\3K_dox_lipidtox_farred_UT_03.czi\n"
     ]
    },
    {
     "name": "stderr",
     "output_type": "stream",
     "text": [
      "Compute Image Embeddings 2D:   0%|          | 0/1 [00:00<?, ?it/s]"
     ]
    },
    {
     "name": "stdout",
     "output_type": "stream",
     "text": [
      "Starting analysis on  061725_images\\3K_dox_lipidtox_farred_OA_UT_06.czi\n"
     ]
    },
    {
     "name": "stderr",
     "output_type": "stream",
     "text": [
      "Compute Image Embeddings 2D: 100%|██████████| 1/1 [00:05<00:00,  5.28s/it]\n",
      "Compute Image Embeddings 2D: 100%|██████████| 1/1 [00:05<00:00,  5.25s/it]<?, ?it/s]\n",
      "Initialize instance segmentation with decoder: 100%|██████████| 1/1 [00:03<00:00,  3.20s/it]\n",
      "Initialize instance segmentation with decoder: 100%|██████████| 1/1 [00:03<00:00,  3.27s/it]\n"
     ]
    },
    {
     "name": "stdout",
     "output_type": "stream",
     "text": [
      "Starting analysis on  62425_images\\3K_dox_lipidtox_farred_UT_04.czi\n"
     ]
    },
    {
     "name": "stderr",
     "output_type": "stream",
     "text": [
      "Compute Image Embeddings 2D:   0%|          | 0/1 [00:00<?, ?it/s]"
     ]
    },
    {
     "name": "stdout",
     "output_type": "stream",
     "text": [
      "Starting analysis on  061725_images\\3K_dox_lipidtox_farred_OA_UT_07.czi\n"
     ]
    },
    {
     "name": "stderr",
     "output_type": "stream",
     "text": [
      "Compute Image Embeddings 2D: 100%|██████████| 1/1 [00:04<00:00,  4.59s/it]\n",
      "Compute Image Embeddings 2D: 100%|██████████| 1/1 [00:05<00:00,  5.33s/it]<?, ?it/s]\n",
      "Initialize instance segmentation with decoder: 100%|██████████| 1/1 [00:03<00:00,  3.56s/it]\n",
      "Initialize instance segmentation with decoder: 100%|██████████| 1/1 [00:03<00:00,  3.03s/it]\n"
     ]
    },
    {
     "name": "stdout",
     "output_type": "stream",
     "text": [
      "Starting analysis on  62425_images\\3K_dox_lipidtox_farred_UT_05.czi\n"
     ]
    },
    {
     "name": "stderr",
     "output_type": "stream",
     "text": [
      "Compute Image Embeddings 2D:   0%|          | 0/1 [00:00<?, ?it/s]"
     ]
    },
    {
     "name": "stdout",
     "output_type": "stream",
     "text": [
      "Starting analysis on  061725_images\\3K_dox_lipidtox_farred_OA_UT_08.czi\n"
     ]
    },
    {
     "name": "stderr",
     "output_type": "stream",
     "text": [
      "Compute Image Embeddings 2D: 100%|██████████| 1/1 [00:03<00:00,  3.51s/it]\n",
      "Initialize instance segmentation with decoder: 100%|██████████| 1/1 [00:03<00:00,  3.23s/it]\n",
      "Compute Image Embeddings 2D: 100%|██████████| 1/1 [00:04<00:00,  4.78s/it]\n",
      "Initialize instance segmentation with decoder: 100%|██████████| 1/1 [00:02<00:00,  2.40s/it]\n"
     ]
    },
    {
     "name": "stdout",
     "output_type": "stream",
     "text": [
      "Starting analysis on  62425_images\\3K_dox_lipidtox_farred_UT_06.czi\n"
     ]
    },
    {
     "name": "stderr",
     "output_type": "stream",
     "text": [
      "Compute Image Embeddings 2D: 100%|██████████| 1/1 [00:03<00:00,  3.50s/it]\n",
      "Initialize instance segmentation with decoder: 100%|██████████| 1/1 [00:02<00:00,  2.20s/it]"
     ]
    },
    {
     "name": "stdout",
     "output_type": "stream",
     "text": [
      "✓ Finished 061725_images → c:\\Users\\sj1205\\Documents\\code\\Kara-Lab\\synuclein_inclusion_biogenesis_2024\\image_analysis\\linoleic_acid\\061725_MFI_SUMMARY.xlsx\n"
     ]
    },
    {
     "name": "stderr",
     "output_type": "stream",
     "text": [
      "\n"
     ]
    },
    {
     "name": "stdout",
     "output_type": "stream",
     "text": [
      "Starting analysis on  62425_images\\3K_dox_lipidtox_farred_UT_07.czi\n"
     ]
    },
    {
     "name": "stderr",
     "output_type": "stream",
     "text": [
      "Compute Image Embeddings 2D: 100%|██████████| 1/1 [00:03<00:00,  3.21s/it]\n",
      "Initialize instance segmentation with decoder: 100%|██████████| 1/1 [00:02<00:00,  2.16s/it]\n"
     ]
    },
    {
     "name": "stdout",
     "output_type": "stream",
     "text": [
      "Starting analysis on  62425_images\\3K_dox_lipidtox_farred_UT_08.czi\n"
     ]
    },
    {
     "name": "stderr",
     "output_type": "stream",
     "text": [
      "Compute Image Embeddings 2D: 100%|██████████| 1/1 [00:03<00:00,  3.28s/it]\n",
      "Initialize instance segmentation with decoder: 100%|██████████| 1/1 [00:02<00:00,  2.19s/it]\n"
     ]
    },
    {
     "name": "stdout",
     "output_type": "stream",
     "text": [
      "✓ Finished 62425_images → c:\\Users\\sj1205\\Documents\\code\\Kara-Lab\\synuclein_inclusion_biogenesis_2024\\image_analysis\\linoleic_acid\\62425_MFI_SUMMARY.xlsx\n"
     ]
    }
   ],
   "source": [
    "def process_folder(image_folder):\n",
    "    print(f\"→ Starting {image_folder}\")\n",
    "    images_to_analyze = extract_image_paths(image_folder)\n",
    "    predictor, segmenter = get_predictor_and_segmenter(\n",
    "        model_type=MODEL_TYPE,\n",
    "        checkpoint=CHECKPOINT,\n",
    "        device=DEVICE,\n",
    "        is_tiled=False,\n",
    "    )\n",
    "\n",
    "    df_cell_summary_list = []\n",
    "    for path in images_to_analyze:\n",
    "        image = read_image(path)\n",
    "        image_squeezed = np.squeeze(image) \n",
    "        red, green = extract_channels(image_squeezed)\n",
    "        df_cell_summary = analysis(red, green, path, predictor, segmenter)\n",
    "        df_cell_summary_list.append(df_cell_summary)\n",
    "\n",
    "    combined_cell_summary_df = pd.concat(df_cell_summary_list, ignore_index=True)\n",
    "\n",
    "    # strip “_images” so you get “061725_MFI_SUMMARY.xlsx”\n",
    "    base = os.path.basename(image_folder.rstrip(\"/\\\\\"))\n",
    "    folder_id = base[:-7] if base.endswith(\"_images\") else base\n",
    "    output_summary_path = os.path.join(os.getcwd(), f\"{folder_id}_MFI_SUMMARY.xlsx\")\n",
    "\n",
    "    combined_cell_summary_df.to_excel(output_summary_path, index=False)\n",
    "    print(f\"✓ Finished {image_folder} → {output_summary_path}\")\n",
    "    return output_summary_path\n",
    "\n",
    "\n",
    "\n",
    "def main():\n",
    "    folders = [\n",
    "        '061725_images',\n",
    "        '62425_images',\n",
    "        '06052025_images'\n",
    "    ]\n",
    "\n",
    "    max_workers = len(folders)\n",
    "    with ThreadPoolExecutor(max_workers=max_workers) as executor:\n",
    "        futures = {executor.submit(process_folder, f): f for f in folders}\n",
    "        for fut in as_completed(futures):\n",
    "            folder = futures[fut]\n",
    "            try:\n",
    "                fut.result()\n",
    "            except Exception as e:\n",
    "                print(f\"✗ Error processing {folder}: {e}\")\n",
    "\n",
    "if __name__ == \"__main__\":\n",
    "    main()"
   ]
  }
 ],
 "metadata": {
  "kernelspec": {
   "display_name": "base",
   "language": "python",
   "name": "python3"
  },
  "language_info": {
   "codemirror_mode": {
    "name": "ipython",
    "version": 3
   },
   "file_extension": ".py",
   "mimetype": "text/x-python",
   "name": "python",
   "nbconvert_exporter": "python",
   "pygments_lexer": "ipython3",
   "version": "3.13.2"
  }
 },
 "nbformat": 4,
 "nbformat_minor": 5
}
